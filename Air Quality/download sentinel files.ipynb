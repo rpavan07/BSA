{
 "cells": [
  {
   "cell_type": "code",
   "execution_count": 1,
   "metadata": {},
   "outputs": [
    {
     "name": "stdout",
     "output_type": "stream",
     "text": [
      "Collecting sentinelsat\n",
      "  Downloading sentinelsat-1.1.1-py3-none-any.whl (48 kB)\n",
      "Collecting geomet\n",
      "  Downloading geomet-0.3.0-py3-none-any.whl (28 kB)\n",
      "Collecting geojson>=2\n",
      "  Downloading geojson-2.5.0-py2.py3-none-any.whl (14 kB)\n",
      "Requirement already satisfied: click>=7.1 in c:\\users\\hp\\anaconda3\\lib\\site-packages (from sentinelsat) (7.1.2)\n",
      "Collecting tqdm>=4.58\n",
      "  Downloading tqdm-4.62.3-py2.py3-none-any.whl (76 kB)\n",
      "Requirement already satisfied: requests in c:\\users\\hp\\anaconda3\\lib\\site-packages (from sentinelsat) (2.24.0)\n",
      "Collecting html2text\n",
      "  Downloading html2text-2020.1.16-py3-none-any.whl (32 kB)\n",
      "Requirement already satisfied: six in c:\\users\\hp\\anaconda3\\lib\\site-packages (from geomet->sentinelsat) (1.15.0)\n",
      "Requirement already satisfied: colorama; platform_system == \"Windows\" in c:\\users\\hp\\anaconda3\\lib\\site-packages (from tqdm>=4.58->sentinelsat) (0.4.3)\n",
      "Requirement already satisfied: chardet<4,>=3.0.2 in c:\\users\\hp\\anaconda3\\lib\\site-packages (from requests->sentinelsat) (3.0.4)\n",
      "Requirement already satisfied: idna<3,>=2.5 in c:\\users\\hp\\anaconda3\\lib\\site-packages (from requests->sentinelsat) (2.10)\n",
      "Requirement already satisfied: urllib3!=1.25.0,!=1.25.1,<1.26,>=1.21.1 in c:\\users\\hp\\anaconda3\\lib\\site-packages (from requests->sentinelsat) (1.25.9)\n",
      "Requirement already satisfied: certifi>=2017.4.17 in c:\\users\\hp\\anaconda3\\lib\\site-packages (from requests->sentinelsat) (2020.6.20)\n",
      "Installing collected packages: geomet, geojson, tqdm, html2text, sentinelsat\n",
      "  Attempting uninstall: tqdm\n",
      "    Found existing installation: tqdm 4.47.0\n",
      "    Uninstalling tqdm-4.47.0:\n",
      "      Successfully uninstalled tqdm-4.47.0\n",
      "Successfully installed geojson-2.5.0 geomet-0.3.0 html2text-2020.1.16 sentinelsat-1.1.1 tqdm-4.62.3\n",
      "Note: you may need to restart the kernel to use updated packages.\n"
     ]
    }
   ],
   "source": [
    "pip install sentinelsat"
   ]
  },
  {
   "cell_type": "code",
   "execution_count": 1,
   "metadata": {},
   "outputs": [],
   "source": [
    "from sentinelsat import SentinelAPI, geojson_to_wkt, read_geojson"
   ]
  },
  {
   "cell_type": "code",
   "execution_count": 2,
   "metadata": {},
   "outputs": [],
   "source": [
    "user = 's5pguest' \n",
    "password = 's5pguest'\n",
    "area = r'F:/BSA/air quality/map.geojson'"
   ]
  },
  {
   "cell_type": "code",
   "execution_count": 3,
   "metadata": {},
   "outputs": [],
   "source": [
    "api = SentinelAPI(user, password, 'https://s5phub.copernicus.eu/dhus')\n",
    "footprint = geojson_to_wkt(read_geojson(area))"
   ]
  },
  {
   "cell_type": "code",
   "execution_count": 4,
   "metadata": {},
   "outputs": [],
   "source": [
    "products_2019 = api.query(footprint, date = ('20190301', '20190401'),\n",
    "                     producttype = 'L2__CO____' )\n",
    "\n",
    "products_2020 = api.query(footprint, date = ('20200301', '20200401'),\n",
    "                     producttype = 'L2__CO____' )"
   ]
  },
  {
   "cell_type": "code",
   "execution_count": 5,
   "metadata": {},
   "outputs": [
    {
     "data": {
      "application/vnd.jupyter.widget-view+json": {
       "model_id": "88954c4e0914469ab2e1d13a7334bc63",
       "version_major": 2,
       "version_minor": 0
      },
      "text/plain": [
       "Fetching archival status:  12%|#2        | 5/40 [00:02<00:15,  2.30product/s]"
      ]
     },
     "metadata": {},
     "output_type": "display_data"
    },
    {
     "data": {
      "application/vnd.jupyter.widget-view+json": {
       "model_id": "4a3d85770f6c40a4aedd6a73cb83753f",
       "version_major": 2,
       "version_minor": 0
      },
      "text/plain": [
       "Downloading products:   0%|          | 0/40 [00:00<?, ?product/s]"
      ]
     },
     "metadata": {},
     "output_type": "display_data"
    },
    {
     "data": {
      "application/vnd.jupyter.widget-view+json": {
       "model_id": "39de9102c0b242179b94589598454bb6",
       "version_major": 2,
       "version_minor": 0
      },
      "text/plain": [
       "Downloading S5P_OFFL_L2__CO_____20200322T072658_20200322T090828_12640_01_010302_20200323T211319.nc:   0%|     …"
      ]
     },
     "metadata": {},
     "output_type": "display_data"
    },
    {
     "name": "stderr",
     "output_type": "stream",
     "text": [
      "There was an error downloading S5P_OFFL_L2__CO_____20200331T061814_20200331T075944_12767_01_010302_20200401T200023\n",
      "Traceback (most recent call last):\n",
      "  File \"C:\\Users\\hp\\anaconda3\\lib\\site-packages\\sentinelsat\\sentinel.py\", line 1017, in _check_scihub_response\n",
      "    response.raise_for_status()\n",
      "  File \"C:\\Users\\hp\\anaconda3\\lib\\site-packages\\requests\\models.py\", line 941, in raise_for_status\n",
      "    raise HTTPError(http_error_msg, response=self)\n",
      "requests.exceptions.HTTPError: 429 Client Error: Too Many Requests for url: https://s5phub.copernicus.eu/dhus/odata/v1/Products('470b210a-a07c-498c-8205-23ac2109c430')/$value\n",
      "\n",
      "During handling of the above exception, another exception occurred:\n",
      "\n",
      "Traceback (most recent call last):\n",
      "  File \"C:\\Users\\hp\\anaconda3\\lib\\site-packages\\sentinelsat\\download.py\", line 700, in _download_online_retry\n",
      "    return self.download(uuid, directory, stop_event=stop_event)\n",
      "  File \"C:\\Users\\hp\\anaconda3\\lib\\site-packages\\sentinelsat\\download.py\", line 136, in download\n",
      "    filename = self.api._get_filename(product_info)\n",
      "  File \"C:\\Users\\hp\\anaconda3\\lib\\site-packages\\sentinelsat\\sentinel.py\", line 596, in _get_filename\n",
      "    self._check_scihub_response(req, test_json=False)\n",
      "  File \"C:\\Users\\hp\\anaconda3\\lib\\site-packages\\sentinelsat\\sentinel.py\", line 1065, in _check_scihub_response\n",
      "    raise SentinelAPIError(msg, response)\n",
      "sentinelsat.exceptions.SentinelAPIError: HTTP status 429 Too Many Requests: \n",
      "There was an error downloading S5P_OFFL_L2__CO_____20200320T080447_20200320T094618_12612_01_010302_20200321T215201\n",
      "Traceback (most recent call last):\n",
      "  File \"C:\\Users\\hp\\anaconda3\\lib\\site-packages\\sentinelsat\\sentinel.py\", line 1017, in _check_scihub_response\n",
      "    response.raise_for_status()\n",
      "  File \"C:\\Users\\hp\\anaconda3\\lib\\site-packages\\requests\\models.py\", line 941, in raise_for_status\n",
      "    raise HTTPError(http_error_msg, response=self)\n",
      "requests.exceptions.HTTPError: 429 Client Error: Too Many Requests for url: https://s5phub.copernicus.eu/dhus/odata/v1/Products('b68f7570-b98f-4bca-8a92-6c538d78dc25')/$value\n",
      "\n",
      "During handling of the above exception, another exception occurred:\n",
      "\n",
      "Traceback (most recent call last):\n",
      "  File \"C:\\Users\\hp\\anaconda3\\lib\\site-packages\\sentinelsat\\download.py\", line 700, in _download_online_retry\n",
      "    return self.download(uuid, directory, stop_event=stop_event)\n",
      "  File \"C:\\Users\\hp\\anaconda3\\lib\\site-packages\\sentinelsat\\download.py\", line 136, in download\n",
      "    filename = self.api._get_filename(product_info)\n",
      "  File \"C:\\Users\\hp\\anaconda3\\lib\\site-packages\\sentinelsat\\sentinel.py\", line 596, in _get_filename\n",
      "    self._check_scihub_response(req, test_json=False)\n",
      "  File \"C:\\Users\\hp\\anaconda3\\lib\\site-packages\\sentinelsat\\sentinel.py\", line 1065, in _check_scihub_response\n",
      "    raise SentinelAPIError(msg, response)\n",
      "sentinelsat.exceptions.SentinelAPIError: HTTP status 429 Too Many Requests: \n"
     ]
    },
    {
     "data": {
      "application/vnd.jupyter.widget-view+json": {
       "model_id": "1f6b471c65004c7698da965dca116dd3",
       "version_major": 2,
       "version_minor": 0
      },
      "text/plain": [
       "Downloading S5P_OFFL_L2__CO_____20200326T075249_20200326T093419_12697_01_010302_20200327T213609.nc:   0%|     …"
      ]
     },
     "metadata": {},
     "output_type": "display_data"
    },
    {
     "name": "stderr",
     "output_type": "stream",
     "text": [
      "There was an error downloading S5P_OFFL_L2__CO_____20200326T075249_20200326T093419_12697_01_010302_20200327T213609\n",
      "Traceback (most recent call last):\n",
      "  File \"C:\\Users\\hp\\anaconda3\\lib\\site-packages\\sentinelsat\\sentinel.py\", line 1017, in _check_scihub_response\n",
      "    response.raise_for_status()\n",
      "  File \"C:\\Users\\hp\\anaconda3\\lib\\site-packages\\requests\\models.py\", line 941, in raise_for_status\n",
      "    raise HTTPError(http_error_msg, response=self)\n",
      "requests.exceptions.HTTPError: 429 Client Error: Too Many Requests for url: https://s5phub.copernicus.eu/dhus/odata/v1/Products('c02f83f5-86d3-467e-9fe6-6e548705c5d6')/$value\n",
      "\n",
      "During handling of the above exception, another exception occurred:\n",
      "\n",
      "Traceback (most recent call last):\n",
      "  File \"C:\\Users\\hp\\anaconda3\\lib\\site-packages\\sentinelsat\\download.py\", line 700, in _download_online_retry\n",
      "    return self.download(uuid, directory, stop_event=stop_event)\n",
      "  File \"C:\\Users\\hp\\anaconda3\\lib\\site-packages\\sentinelsat\\download.py\", line 150, in download\n",
      "    self._download_common(product_info, path, stop_event)\n",
      "  File \"C:\\Users\\hp\\anaconda3\\lib\\site-packages\\sentinelsat\\download.py\", line 218, in _download_common\n",
      "    product_info[\"downloaded_bytes\"] = self._download(\n",
      "  File \"C:\\Users\\hp\\anaconda3\\lib\\site-packages\\sentinelsat\\download.py\", line 741, in _download\n",
      "    self.api._check_scihub_response(r, test_json=False)\n",
      "  File \"C:\\Users\\hp\\anaconda3\\lib\\site-packages\\sentinelsat\\sentinel.py\", line 1063, in _check_scihub_response\n",
      "    raise ServerError(msg, response)\n",
      "sentinelsat.exceptions.ServerError: HTTP status 429 Too Many Requests: \n",
      "# 429 Too Many Requests\n",
      "\n",
      "You have sent too many requests in a given amount of time.\n",
      "There was an error downloading S5P_OFFL_L2__CO_____20200331T061814_20200331T075944_12767_01_010302_20200401T200023\n",
      "Traceback (most recent call last):\n",
      "  File \"C:\\Users\\hp\\anaconda3\\lib\\site-packages\\sentinelsat\\sentinel.py\", line 1017, in _check_scihub_response\n",
      "    response.raise_for_status()\n",
      "  File \"C:\\Users\\hp\\anaconda3\\lib\\site-packages\\requests\\models.py\", line 941, in raise_for_status\n",
      "    raise HTTPError(http_error_msg, response=self)\n",
      "requests.exceptions.HTTPError: 429 Client Error: Too Many Requests for url: https://s5phub.copernicus.eu/dhus/odata/v1/Products('470b210a-a07c-498c-8205-23ac2109c430')/$value\n",
      "\n",
      "During handling of the above exception, another exception occurred:\n",
      "\n",
      "Traceback (most recent call last):\n",
      "  File \"C:\\Users\\hp\\anaconda3\\lib\\site-packages\\sentinelsat\\download.py\", line 700, in _download_online_retry\n",
      "    return self.download(uuid, directory, stop_event=stop_event)\n",
      "  File \"C:\\Users\\hp\\anaconda3\\lib\\site-packages\\sentinelsat\\download.py\", line 136, in download\n",
      "    filename = self.api._get_filename(product_info)\n",
      "  File \"C:\\Users\\hp\\anaconda3\\lib\\site-packages\\sentinelsat\\sentinel.py\", line 596, in _get_filename\n",
      "    self._check_scihub_response(req, test_json=False)\n",
      "  File \"C:\\Users\\hp\\anaconda3\\lib\\site-packages\\sentinelsat\\sentinel.py\", line 1065, in _check_scihub_response\n",
      "    raise SentinelAPIError(msg, response)\n",
      "sentinelsat.exceptions.SentinelAPIError: HTTP status 429 Too Many Requests: \n",
      "There was an error downloading S5P_OFFL_L2__CO_____20200320T080447_20200320T094618_12612_01_010302_20200321T215201\n",
      "Traceback (most recent call last):\n",
      "  File \"C:\\Users\\hp\\anaconda3\\lib\\site-packages\\sentinelsat\\sentinel.py\", line 1017, in _check_scihub_response\n",
      "    response.raise_for_status()\n",
      "  File \"C:\\Users\\hp\\anaconda3\\lib\\site-packages\\requests\\models.py\", line 941, in raise_for_status\n",
      "    raise HTTPError(http_error_msg, response=self)\n",
      "requests.exceptions.HTTPError: 429 Client Error: Too Many Requests for url: https://s5phub.copernicus.eu/dhus/odata/v1/Products('b68f7570-b98f-4bca-8a92-6c538d78dc25')/$value\n",
      "\n",
      "During handling of the above exception, another exception occurred:\n",
      "\n",
      "Traceback (most recent call last):\n",
      "  File \"C:\\Users\\hp\\anaconda3\\lib\\site-packages\\sentinelsat\\download.py\", line 700, in _download_online_retry\n",
      "    return self.download(uuid, directory, stop_event=stop_event)\n",
      "  File \"C:\\Users\\hp\\anaconda3\\lib\\site-packages\\sentinelsat\\download.py\", line 136, in download\n",
      "    filename = self.api._get_filename(product_info)\n",
      "  File \"C:\\Users\\hp\\anaconda3\\lib\\site-packages\\sentinelsat\\sentinel.py\", line 596, in _get_filename\n",
      "    self._check_scihub_response(req, test_json=False)\n",
      "  File \"C:\\Users\\hp\\anaconda3\\lib\\site-packages\\sentinelsat\\sentinel.py\", line 1065, in _check_scihub_response\n",
      "    raise SentinelAPIError(msg, response)\n",
      "sentinelsat.exceptions.SentinelAPIError: HTTP status 429 Too Many Requests: \n",
      "There was an error downloading S5P_OFFL_L2__CO_____20200326T075249_20200326T093419_12697_01_010302_20200327T213609\n",
      "Traceback (most recent call last):\n",
      "  File \"C:\\Users\\hp\\anaconda3\\lib\\site-packages\\sentinelsat\\sentinel.py\", line 1017, in _check_scihub_response\n",
      "    response.raise_for_status()\n",
      "  File \"C:\\Users\\hp\\anaconda3\\lib\\site-packages\\requests\\models.py\", line 941, in raise_for_status\n",
      "    raise HTTPError(http_error_msg, response=self)\n",
      "requests.exceptions.HTTPError: 429 Client Error: Too Many Requests for url: https://s5phub.copernicus.eu/dhus/odata/v1/Products('c02f83f5-86d3-467e-9fe6-6e548705c5d6')/$value\n",
      "\n",
      "During handling of the above exception, another exception occurred:\n",
      "\n",
      "Traceback (most recent call last):\n",
      "  File \"C:\\Users\\hp\\anaconda3\\lib\\site-packages\\sentinelsat\\download.py\", line 700, in _download_online_retry\n",
      "    return self.download(uuid, directory, stop_event=stop_event)\n",
      "  File \"C:\\Users\\hp\\anaconda3\\lib\\site-packages\\sentinelsat\\download.py\", line 136, in download\n",
      "    filename = self.api._get_filename(product_info)\n",
      "  File \"C:\\Users\\hp\\anaconda3\\lib\\site-packages\\sentinelsat\\sentinel.py\", line 596, in _get_filename\n",
      "    self._check_scihub_response(req, test_json=False)\n",
      "  File \"C:\\Users\\hp\\anaconda3\\lib\\site-packages\\sentinelsat\\sentinel.py\", line 1065, in _check_scihub_response\n",
      "    raise SentinelAPIError(msg, response)\n",
      "sentinelsat.exceptions.SentinelAPIError: HTTP status 429 Too Many Requests: \n"
     ]
    },
    {
     "data": {
      "application/vnd.jupyter.widget-view+json": {
       "model_id": "f35d8ababb454f5680ca22c5e2ce5341",
       "version_major": 2,
       "version_minor": 0
      },
      "text/plain": [
       "Downloading S5P_OFFL_L2__CO_____20200320T080447_20200320T094618_12612_01_010302_20200321T215201.nc:   0%|     …"
      ]
     },
     "metadata": {},
     "output_type": "display_data"
    },
    {
     "name": "stderr",
     "output_type": "stream",
     "text": [
      "There was an error downloading S5P_OFFL_L2__CO_____20200320T080447_20200320T094618_12612_01_010302_20200321T215201\n",
      "Traceback (most recent call last):\n",
      "  File \"C:\\Users\\hp\\anaconda3\\lib\\site-packages\\sentinelsat\\sentinel.py\", line 1017, in _check_scihub_response\n",
      "    response.raise_for_status()\n",
      "  File \"C:\\Users\\hp\\anaconda3\\lib\\site-packages\\requests\\models.py\", line 941, in raise_for_status\n",
      "    raise HTTPError(http_error_msg, response=self)\n",
      "requests.exceptions.HTTPError: 429 Client Error: Too Many Requests for url: https://s5phub.copernicus.eu/dhus/odata/v1/Products('b68f7570-b98f-4bca-8a92-6c538d78dc25')/$value\n",
      "\n",
      "During handling of the above exception, another exception occurred:\n",
      "\n",
      "Traceback (most recent call last):\n",
      "  File \"C:\\Users\\hp\\anaconda3\\lib\\site-packages\\sentinelsat\\download.py\", line 700, in _download_online_retry\n",
      "    return self.download(uuid, directory, stop_event=stop_event)\n",
      "  File \"C:\\Users\\hp\\anaconda3\\lib\\site-packages\\sentinelsat\\download.py\", line 150, in download\n",
      "    self._download_common(product_info, path, stop_event)\n",
      "  File \"C:\\Users\\hp\\anaconda3\\lib\\site-packages\\sentinelsat\\download.py\", line 218, in _download_common\n",
      "    product_info[\"downloaded_bytes\"] = self._download(\n",
      "  File \"C:\\Users\\hp\\anaconda3\\lib\\site-packages\\sentinelsat\\download.py\", line 741, in _download\n",
      "    self.api._check_scihub_response(r, test_json=False)\n",
      "  File \"C:\\Users\\hp\\anaconda3\\lib\\site-packages\\sentinelsat\\sentinel.py\", line 1063, in _check_scihub_response\n",
      "    raise ServerError(msg, response)\n",
      "sentinelsat.exceptions.ServerError: HTTP status 429 Too Many Requests: \n",
      "# 429 Too Many Requests\n",
      "\n",
      "You have sent too many requests in a given amount of time.\n"
     ]
    },
    {
     "data": {
      "application/vnd.jupyter.widget-view+json": {
       "model_id": "0823e604c6ff4809a460e67f7e70d425",
       "version_major": 2,
       "version_minor": 0
      },
      "text/plain": [
       "Downloading S5P_OFFL_L2__CO_____20200326T075249_20200326T093419_12697_01_010302_20200327T213609.nc:   0%|     …"
      ]
     },
     "metadata": {},
     "output_type": "display_data"
    },
    {
     "data": {
      "application/vnd.jupyter.widget-view+json": {
       "model_id": "420df67a51db4788b9b6be5436ba5d04",
       "version_major": 2,
       "version_minor": 0
      },
      "text/plain": [
       "Downloading S5P_OFFL_L2__CO_____20200331T061814_20200331T075944_12767_01_010302_20200401T200023.nc:   0%|     …"
      ]
     },
     "metadata": {},
     "output_type": "display_data"
    },
    {
     "name": "stderr",
     "output_type": "stream",
     "text": [
      "There was an error downloading S5P_OFFL_L2__CO_____20200331T061814_20200331T075944_12767_01_010302_20200401T200023\n",
      "Traceback (most recent call last):\n",
      "  File \"C:\\Users\\hp\\anaconda3\\lib\\site-packages\\sentinelsat\\sentinel.py\", line 1017, in _check_scihub_response\n",
      "    response.raise_for_status()\n",
      "  File \"C:\\Users\\hp\\anaconda3\\lib\\site-packages\\requests\\models.py\", line 941, in raise_for_status\n",
      "    raise HTTPError(http_error_msg, response=self)\n",
      "requests.exceptions.HTTPError: 429 Client Error: Too Many Requests for url: https://s5phub.copernicus.eu/dhus/odata/v1/Products('470b210a-a07c-498c-8205-23ac2109c430')/$value\n",
      "\n",
      "During handling of the above exception, another exception occurred:\n",
      "\n",
      "Traceback (most recent call last):\n",
      "  File \"C:\\Users\\hp\\anaconda3\\lib\\site-packages\\sentinelsat\\download.py\", line 700, in _download_online_retry\n",
      "    return self.download(uuid, directory, stop_event=stop_event)\n",
      "  File \"C:\\Users\\hp\\anaconda3\\lib\\site-packages\\sentinelsat\\download.py\", line 150, in download\n",
      "    self._download_common(product_info, path, stop_event)\n",
      "  File \"C:\\Users\\hp\\anaconda3\\lib\\site-packages\\sentinelsat\\download.py\", line 218, in _download_common\n",
      "    product_info[\"downloaded_bytes\"] = self._download(\n",
      "  File \"C:\\Users\\hp\\anaconda3\\lib\\site-packages\\sentinelsat\\download.py\", line 741, in _download\n",
      "    self.api._check_scihub_response(r, test_json=False)\n",
      "  File \"C:\\Users\\hp\\anaconda3\\lib\\site-packages\\sentinelsat\\sentinel.py\", line 1063, in _check_scihub_response\n",
      "    raise ServerError(msg, response)\n",
      "sentinelsat.exceptions.ServerError: HTTP status 429 Too Many Requests: \n",
      "# 429 Too Many Requests\n",
      "\n",
      "You have sent too many requests in a given amount of time.\n"
     ]
    },
    {
     "data": {
      "application/vnd.jupyter.widget-view+json": {
       "model_id": "c18c857bbabb409b86c8a1c338301547",
       "version_major": 2,
       "version_minor": 0
      },
      "text/plain": [
       "Downloading S5P_OFFL_L2__CO_____20200320T080447_20200320T094618_12612_01_010302_20200321T215201.nc:   0%|     …"
      ]
     },
     "metadata": {},
     "output_type": "display_data"
    },
    {
     "data": {
      "application/vnd.jupyter.widget-view+json": {
       "model_id": "5d5f604a9ae54273b6e0a24e18bf7221",
       "version_major": 2,
       "version_minor": 0
      },
      "text/plain": [
       "Downloading S5P_OFFL_L2__CO_____20200331T061814_20200331T075944_12767_01_010302_20200401T200023.nc:   0%|     …"
      ]
     },
     "metadata": {},
     "output_type": "display_data"
    },
    {
     "data": {
      "application/vnd.jupyter.widget-view+json": {
       "model_id": "",
       "version_major": 2,
       "version_minor": 0
      },
      "text/plain": [
       "MD5 checksumming:   0%|          | 0.00/21.0M [00:00<?, ?B/s]"
      ]
     },
     "metadata": {},
     "output_type": "display_data"
    },
    {
     "name": "stderr",
     "output_type": "stream",
     "text": [
      "Invalid checksum. The downloaded file for 'S5P_OFFL_L2__CO_____20200322T072658_20200322T090828_12640_01_010302_20200323T211319' is corrupted.\n"
     ]
    },
    {
     "data": {
      "application/vnd.jupyter.widget-view+json": {
       "model_id": "b891a6ece8e24f379373a45bbdd858d8",
       "version_major": 2,
       "version_minor": 0
      },
      "text/plain": [
       "Downloading S5P_OFFL_L2__CO_____20200322T072658_20200322T090828_12640_01_010302_20200323T211319.nc:   0%|     …"
      ]
     },
     "metadata": {},
     "output_type": "display_data"
    },
    {
     "data": {
      "application/vnd.jupyter.widget-view+json": {
       "model_id": "",
       "version_major": 2,
       "version_minor": 0
      },
      "text/plain": [
       "MD5 checksumming:   0%|          | 0.00/22.3M [00:00<?, ?B/s]"
      ]
     },
     "metadata": {},
     "output_type": "display_data"
    },
    {
     "name": "stderr",
     "output_type": "stream",
     "text": [
      "Invalid checksum. The downloaded file for 'S5P_OFFL_L2__CO_____20200331T061814_20200331T075944_12767_01_010302_20200401T200023' is corrupted.\n"
     ]
    },
    {
     "data": {
      "application/vnd.jupyter.widget-view+json": {
       "model_id": "dc3ab9736dc6472a948ace9175dde69d",
       "version_major": 2,
       "version_minor": 0
      },
      "text/plain": [
       "Downloading S5P_OFFL_L2__CO_____20200331T061814_20200331T075944_12767_01_010302_20200401T200023.nc:   0%|     …"
      ]
     },
     "metadata": {},
     "output_type": "display_data"
    },
    {
     "data": {
      "application/vnd.jupyter.widget-view+json": {
       "model_id": "",
       "version_major": 2,
       "version_minor": 0
      },
      "text/plain": [
       "MD5 checksumming:   0%|          | 0.00/67.4M [00:00<?, ?B/s]"
      ]
     },
     "metadata": {},
     "output_type": "display_data"
    },
    {
     "name": "stderr",
     "output_type": "stream",
     "text": [
      "Invalid checksum. The downloaded file for 'S5P_OFFL_L2__CO_____20200326T075249_20200326T093419_12697_01_010302_20200327T213609' is corrupted.\n",
      "There was an error downloading S5P_OFFL_L2__CO_____20200326T075249_20200326T093419_12697_01_010302_20200327T213609\n",
      "Traceback (most recent call last):\n",
      "  File \"C:\\Users\\hp\\anaconda3\\lib\\site-packages\\sentinelsat\\sentinel.py\", line 1017, in _check_scihub_response\n",
      "    response.raise_for_status()\n",
      "  File \"C:\\Users\\hp\\anaconda3\\lib\\site-packages\\requests\\models.py\", line 941, in raise_for_status\n",
      "    raise HTTPError(http_error_msg, response=self)\n",
      "requests.exceptions.HTTPError: 429 Client Error: Too Many Requests for url: https://s5phub.copernicus.eu/dhus/odata/v1/Products('c02f83f5-86d3-467e-9fe6-6e548705c5d6')/$value\n",
      "\n",
      "During handling of the above exception, another exception occurred:\n",
      "\n",
      "Traceback (most recent call last):\n",
      "  File \"C:\\Users\\hp\\anaconda3\\lib\\site-packages\\sentinelsat\\download.py\", line 700, in _download_online_retry\n",
      "    return self.download(uuid, directory, stop_event=stop_event)\n",
      "  File \"C:\\Users\\hp\\anaconda3\\lib\\site-packages\\sentinelsat\\download.py\", line 136, in download\n",
      "    filename = self.api._get_filename(product_info)\n",
      "  File \"C:\\Users\\hp\\anaconda3\\lib\\site-packages\\sentinelsat\\sentinel.py\", line 596, in _get_filename\n",
      "    self._check_scihub_response(req, test_json=False)\n",
      "  File \"C:\\Users\\hp\\anaconda3\\lib\\site-packages\\sentinelsat\\sentinel.py\", line 1065, in _check_scihub_response\n",
      "    raise SentinelAPIError(msg, response)\n",
      "sentinelsat.exceptions.SentinelAPIError: HTTP status 429 Too Many Requests: \n"
     ]
    },
    {
     "data": {
      "application/vnd.jupyter.widget-view+json": {
       "model_id": "3104318dcea543d1bc764560871c7552",
       "version_major": 2,
       "version_minor": 0
      },
      "text/plain": [
       "Downloading S5P_OFFL_L2__CO_____20200326T075249_20200326T093419_12697_01_010302_20200327T213609.nc:   0%|     …"
      ]
     },
     "metadata": {},
     "output_type": "display_data"
    },
    {
     "data": {
      "application/vnd.jupyter.widget-view+json": {
       "model_id": "",
       "version_major": 2,
       "version_minor": 0
      },
      "text/plain": [
       "MD5 checksumming:   0%|          | 0.00/19.4M [00:00<?, ?B/s]"
      ]
     },
     "metadata": {},
     "output_type": "display_data"
    },
    {
     "name": "stderr",
     "output_type": "stream",
     "text": [
      "Invalid checksum. The downloaded file for 'S5P_OFFL_L2__CO_____20200331T061814_20200331T075944_12767_01_010302_20200401T200023' is corrupted.\n"
     ]
    },
    {
     "data": {
      "application/vnd.jupyter.widget-view+json": {
       "model_id": "c4f67f438c4a401394aaf1614a59d4fc",
       "version_major": 2,
       "version_minor": 0
      },
      "text/plain": [
       "Downloading S5P_OFFL_L2__CO_____20200331T061814_20200331T075944_12767_01_010302_20200401T200023.nc:   0%|     …"
      ]
     },
     "metadata": {},
     "output_type": "display_data"
    },
    {
     "data": {
      "application/vnd.jupyter.widget-view+json": {
       "model_id": "",
       "version_major": 2,
       "version_minor": 0
      },
      "text/plain": [
       "MD5 checksumming:   0%|          | 0.00/29.0M [00:00<?, ?B/s]"
      ]
     },
     "metadata": {},
     "output_type": "display_data"
    },
    {
     "name": "stderr",
     "output_type": "stream",
     "text": [
      "Invalid checksum. The downloaded file for 'S5P_OFFL_L2__CO_____20200320T080447_20200320T094618_12612_01_010302_20200321T215201' is corrupted.\n"
     ]
    },
    {
     "data": {
      "application/vnd.jupyter.widget-view+json": {
       "model_id": "",
       "version_major": 2,
       "version_minor": 0
      },
      "text/plain": [
       "MD5 checksumming:   0%|          | 0.00/128M [00:00<?, ?B/s]"
      ]
     },
     "metadata": {},
     "output_type": "display_data"
    },
    {
     "name": "stderr",
     "output_type": "stream",
     "text": [
      "Invalid checksum. The downloaded file for 'S5P_OFFL_L2__CO_____20200322T072658_20200322T090828_12640_01_010302_20200323T211319' is corrupted.\n"
     ]
    },
    {
     "data": {
      "application/vnd.jupyter.widget-view+json": {
       "model_id": "8268a831a5c74d789a23ca0d694dff4c",
       "version_major": 2,
       "version_minor": 0
      },
      "text/plain": [
       "Downloading S5P_OFFL_L2__CO_____20200322T072658_20200322T090828_12640_01_010302_20200323T211319.nc:   0%|     …"
      ]
     },
     "metadata": {},
     "output_type": "display_data"
    },
    {
     "name": "stderr",
     "output_type": "stream",
     "text": [
      "There was an error downloading S5P_OFFL_L2__CO_____20200322T072658_20200322T090828_12640_01_010302_20200323T211319\n",
      "Traceback (most recent call last):\n",
      "  File \"C:\\Users\\hp\\anaconda3\\lib\\site-packages\\sentinelsat\\sentinel.py\", line 1017, in _check_scihub_response\n",
      "    response.raise_for_status()\n",
      "  File \"C:\\Users\\hp\\anaconda3\\lib\\site-packages\\requests\\models.py\", line 941, in raise_for_status\n",
      "    raise HTTPError(http_error_msg, response=self)\n",
      "requests.exceptions.HTTPError: 429 Client Error: Too Many Requests for url: https://s5phub.copernicus.eu/dhus/odata/v1/Products('3210863b-b072-46ea-afa7-14134a7777d0')/$value\n",
      "\n",
      "During handling of the above exception, another exception occurred:\n",
      "\n",
      "Traceback (most recent call last):\n",
      "  File \"C:\\Users\\hp\\anaconda3\\lib\\site-packages\\sentinelsat\\download.py\", line 700, in _download_online_retry\n",
      "    return self.download(uuid, directory, stop_event=stop_event)\n",
      "  File \"C:\\Users\\hp\\anaconda3\\lib\\site-packages\\sentinelsat\\download.py\", line 150, in download\n",
      "    self._download_common(product_info, path, stop_event)\n",
      "  File \"C:\\Users\\hp\\anaconda3\\lib\\site-packages\\sentinelsat\\download.py\", line 218, in _download_common\n",
      "    product_info[\"downloaded_bytes\"] = self._download(\n",
      "  File \"C:\\Users\\hp\\anaconda3\\lib\\site-packages\\sentinelsat\\download.py\", line 741, in _download\n",
      "    self.api._check_scihub_response(r, test_json=False)\n",
      "  File \"C:\\Users\\hp\\anaconda3\\lib\\site-packages\\sentinelsat\\sentinel.py\", line 1063, in _check_scihub_response\n",
      "    raise ServerError(msg, response)\n",
      "sentinelsat.exceptions.ServerError: HTTP status 429 Too Many Requests: \n",
      "# 429 Too Many Requests\n",
      "\n",
      "You have sent too many requests in a given amount of time.\n"
     ]
    },
    {
     "data": {
      "application/vnd.jupyter.widget-view+json": {
       "model_id": "b7d605ab5ed1434381715285a7255894",
       "version_major": 2,
       "version_minor": 0
      },
      "text/plain": [
       "Downloading S5P_OFFL_L2__CO_____20200320T080447_20200320T094618_12612_01_010302_20200321T215201.nc:   0%|     …"
      ]
     },
     "metadata": {},
     "output_type": "display_data"
    },
    {
     "data": {
      "application/vnd.jupyter.widget-view+json": {
       "model_id": "",
       "version_major": 2,
       "version_minor": 0
      },
      "text/plain": [
       "MD5 checksumming:   0%|          | 0.00/33.6M [00:00<?, ?B/s]"
      ]
     },
     "metadata": {},
     "output_type": "display_data"
    },
    {
     "name": "stderr",
     "output_type": "stream",
     "text": [
      "Invalid checksum. The downloaded file for 'S5P_OFFL_L2__CO_____20200331T061814_20200331T075944_12767_01_010302_20200401T200023' is corrupted.\n"
     ]
    },
    {
     "data": {
      "application/vnd.jupyter.widget-view+json": {
       "model_id": "",
       "version_major": 2,
       "version_minor": 0
      },
      "text/plain": [
       "MD5 checksumming:   0%|          | 0.00/33.5M [00:00<?, ?B/s]"
      ]
     },
     "metadata": {},
     "output_type": "display_data"
    },
    {
     "name": "stderr",
     "output_type": "stream",
     "text": [
      "Invalid checksum. The downloaded file for 'S5P_OFFL_L2__CO_____20200326T075249_20200326T093419_12697_01_010302_20200327T213609' is corrupted.\n"
     ]
    },
    {
     "data": {
      "application/vnd.jupyter.widget-view+json": {
       "model_id": "ebab8b8aa00f4d449c120d7f7ae3ef61",
       "version_major": 2,
       "version_minor": 0
      },
      "text/plain": [
       "Downloading S5P_OFFL_L2__CO_____20200322T072658_20200322T090828_12640_01_010302_20200323T211319.nc:   0%|     …"
      ]
     },
     "metadata": {},
     "output_type": "display_data"
    },
    {
     "data": {
      "application/vnd.jupyter.widget-view+json": {
       "model_id": "5503c07cdb194f8f972f32294be47b61",
       "version_major": 2,
       "version_minor": 0
      },
      "text/plain": [
       "Downloading S5P_OFFL_L2__CO_____20200331T061814_20200331T075944_12767_01_010302_20200401T200023.nc:   0%|     …"
      ]
     },
     "metadata": {},
     "output_type": "display_data"
    },
    {
     "data": {
      "application/vnd.jupyter.widget-view+json": {
       "model_id": "2a52ac6a57924fedba0960784c39aa00",
       "version_major": 2,
       "version_minor": 0
      },
      "text/plain": [
       "Downloading S5P_OFFL_L2__CO_____20200326T075249_20200326T093419_12697_01_010302_20200327T213609.nc:   0%|     …"
      ]
     },
     "metadata": {},
     "output_type": "display_data"
    },
    {
     "data": {
      "application/vnd.jupyter.widget-view+json": {
       "model_id": "",
       "version_major": 2,
       "version_minor": 0
      },
      "text/plain": [
       "MD5 checksumming:   0%|          | 0.00/170M [00:00<?, ?B/s]"
      ]
     },
     "metadata": {},
     "output_type": "display_data"
    },
    {
     "data": {
      "application/vnd.jupyter.widget-view+json": {
       "model_id": "9b8212fd893a47938b63b5df82ab4aaf",
       "version_major": 2,
       "version_minor": 0
      },
      "text/plain": [
       "Downloading S5P_OFFL_L2__CO_____20200316T073856_20200316T092026_12555_01_010302_20200319T092845.nc:   0%|     …"
      ]
     },
     "metadata": {},
     "output_type": "display_data"
    },
    {
     "data": {
      "application/vnd.jupyter.widget-view+json": {
       "model_id": "",
       "version_major": 2,
       "version_minor": 0
      },
      "text/plain": [
       "MD5 checksumming:   0%|          | 0.00/171M [00:00<?, ?B/s]"
      ]
     },
     "metadata": {},
     "output_type": "display_data"
    },
    {
     "data": {
      "application/vnd.jupyter.widget-view+json": {
       "model_id": "ac526cc6a16742b09cebc40f38d62fbc",
       "version_major": 2,
       "version_minor": 0
      },
      "text/plain": [
       "Downloading S5P_OFFL_L2__CO_____20200309T062819_20200309T080949_12455_01_010302_20200312T132340.nc:   0%|     …"
      ]
     },
     "metadata": {},
     "output_type": "display_data"
    },
    {
     "data": {
      "application/vnd.jupyter.widget-view+json": {
       "model_id": "",
       "version_major": 2,
       "version_minor": 0
      },
      "text/plain": [
       "MD5 checksumming:   0%|          | 0.00/168M [00:00<?, ?B/s]"
      ]
     },
     "metadata": {},
     "output_type": "display_data"
    },
    {
     "data": {
      "application/vnd.jupyter.widget-view+json": {
       "model_id": "1f642e3c81bd4fc7ae765644c4fc1520",
       "version_major": 2,
       "version_minor": 0
      },
      "text/plain": [
       "Downloading S5P_OFFL_L2__CO_____20200315T061620_20200315T075751_12540_01_010302_20200318T080318.nc:   0%|     …"
      ]
     },
     "metadata": {},
     "output_type": "display_data"
    },
    {
     "data": {
      "application/vnd.jupyter.widget-view+json": {
       "model_id": "",
       "version_major": 2,
       "version_minor": 0
      },
      "text/plain": [
       "MD5 checksumming:   0%|          | 0.00/170M [00:00<?, ?B/s]"
      ]
     },
     "metadata": {},
     "output_type": "display_data"
    },
    {
     "data": {
      "application/vnd.jupyter.widget-view+json": {
       "model_id": "3302490b76aa4b6f88ea5a0868d4ffaa",
       "version_major": 2,
       "version_minor": 0
      },
      "text/plain": [
       "Downloading S5P_OFFL_L2__CO_____20200320T062317_20200320T080447_12611_01_010302_20200321T201157.nc:   0%|     …"
      ]
     },
     "metadata": {},
     "output_type": "display_data"
    },
    {
     "data": {
      "application/vnd.jupyter.widget-view+json": {
       "model_id": "",
       "version_major": 2,
       "version_minor": 0
      },
      "text/plain": [
       "MD5 checksumming:   0%|          | 0.00/165M [00:00<?, ?B/s]"
      ]
     },
     "metadata": {},
     "output_type": "display_data"
    },
    {
     "name": "stderr",
     "output_type": "stream",
     "text": [
      "Invalid checksum. The downloaded file for 'S5P_OFFL_L2__CO_____20200320T080447_20200320T094618_12612_01_010302_20200321T215201' is corrupted.\n"
     ]
    },
    {
     "data": {
      "application/vnd.jupyter.widget-view+json": {
       "model_id": "7786aacb586f43c9ae4b098b7606c03d",
       "version_major": 2,
       "version_minor": 0
      },
      "text/plain": [
       "Downloading S5P_OFFL_L2__CO_____20200320T080447_20200320T094618_12612_01_010302_20200321T215201.nc:   0%|     …"
      ]
     },
     "metadata": {},
     "output_type": "display_data"
    },
    {
     "data": {
      "application/vnd.jupyter.widget-view+json": {
       "model_id": "",
       "version_major": 2,
       "version_minor": 0
      },
      "text/plain": [
       "MD5 checksumming:   0%|          | 0.00/173M [00:00<?, ?B/s]"
      ]
     },
     "metadata": {},
     "output_type": "display_data"
    },
    {
     "data": {
      "application/vnd.jupyter.widget-view+json": {
       "model_id": "093e7b4dcb2c46df9c56f459575fce6d",
       "version_major": 2,
       "version_minor": 0
      },
      "text/plain": [
       "Downloading S5P_OFFL_L2__CO_____20200318T070106_20200318T084237_12583_01_010302_20200320T070414.nc:   0%|     …"
      ]
     },
     "metadata": {},
     "output_type": "display_data"
    },
    {
     "data": {
      "application/vnd.jupyter.widget-view+json": {
       "model_id": "",
       "version_major": 2,
       "version_minor": 0
      },
      "text/plain": [
       "MD5 checksumming:   0%|          | 0.00/175M [00:00<?, ?B/s]"
      ]
     },
     "metadata": {},
     "output_type": "display_data"
    },
    {
     "data": {
      "application/vnd.jupyter.widget-view+json": {
       "model_id": "1e04f890fdf64cbcabd11d096ddea27d",
       "version_major": 2,
       "version_minor": 0
      },
      "text/plain": [
       "Downloading S5P_OFFL_L2__CO_____20200311T073200_20200311T091330_12484_01_010302_20200314T092027.nc:   0%|     …"
      ]
     },
     "metadata": {},
     "output_type": "display_data"
    },
    {
     "data": {
      "application/vnd.jupyter.widget-view+json": {
       "model_id": "",
       "version_major": 2,
       "version_minor": 0
      },
      "text/plain": [
       "MD5 checksumming:   0%|          | 0.00/170M [00:00<?, ?B/s]"
      ]
     },
     "metadata": {},
     "output_type": "display_data"
    },
    {
     "data": {
      "application/vnd.jupyter.widget-view+json": {
       "model_id": "d9191e2228f14895bca7ccf54a4666fb",
       "version_major": 2,
       "version_minor": 0
      },
      "text/plain": [
       "Downloading S5P_OFFL_L2__CO_____20200308T064714_20200308T082844_12441_01_010302_20200312T072722.nc:   0%|     …"
      ]
     },
     "metadata": {},
     "output_type": "display_data"
    },
    {
     "data": {
      "application/vnd.jupyter.widget-view+json": {
       "model_id": "",
       "version_major": 2,
       "version_minor": 0
      },
      "text/plain": [
       "MD5 checksumming:   0%|          | 0.00/165M [00:00<?, ?B/s]"
      ]
     },
     "metadata": {},
     "output_type": "display_data"
    },
    {
     "data": {
      "application/vnd.jupyter.widget-view+json": {
       "model_id": "3ce3d0c00d134175978c51cccf654905",
       "version_major": 2,
       "version_minor": 0
      },
      "text/plain": [
       "Downloading S5P_OFFL_L2__CO_____20200317T072001_20200317T090132_12569_01_010302_20200319T121215.nc:   0%|     …"
      ]
     },
     "metadata": {},
     "output_type": "display_data"
    },
    {
     "data": {
      "application/vnd.jupyter.widget-view+json": {
       "model_id": "",
       "version_major": 2,
       "version_minor": 0
      },
      "text/plain": [
       "MD5 checksumming:   0%|          | 0.00/95.4M [00:00<?, ?B/s]"
      ]
     },
     "metadata": {},
     "output_type": "display_data"
    },
    {
     "name": "stderr",
     "output_type": "stream",
     "text": [
      "Invalid checksum. The downloaded file for 'S5P_OFFL_L2__CO_____20200311T073200_20200311T091330_12484_01_010302_20200314T092027' is corrupted.\n"
     ]
    },
    {
     "data": {
      "application/vnd.jupyter.widget-view+json": {
       "model_id": "2fb067a234de4ec98fedadb324b8428d",
       "version_major": 2,
       "version_minor": 0
      },
      "text/plain": [
       "Downloading S5P_OFFL_L2__CO_____20200311T073200_20200311T091330_12484_01_010302_20200314T092027.nc:   0%|     …"
      ]
     },
     "metadata": {},
     "output_type": "display_data"
    },
    {
     "data": {
      "application/vnd.jupyter.widget-view+json": {
       "model_id": "",
       "version_major": 2,
       "version_minor": 0
      },
      "text/plain": [
       "MD5 checksumming:   0%|          | 0.00/29.4M [00:00<?, ?B/s]"
      ]
     },
     "metadata": {},
     "output_type": "display_data"
    },
    {
     "name": "stderr",
     "output_type": "stream",
     "text": [
      "Invalid checksum. The downloaded file for 'S5P_OFFL_L2__CO_____20200311T073200_20200311T091330_12484_01_010302_20200314T092027' is corrupted.\n"
     ]
    },
    {
     "data": {
      "application/vnd.jupyter.widget-view+json": {
       "model_id": "",
       "version_major": 2,
       "version_minor": 0
      },
      "text/plain": [
       "MD5 checksumming:   0%|          | 0.00/175M [00:00<?, ?B/s]"
      ]
     },
     "metadata": {},
     "output_type": "display_data"
    },
    {
     "data": {
      "application/vnd.jupyter.widget-view+json": {
       "model_id": "8fd1387179294422abb9830b837c327a",
       "version_major": 2,
       "version_minor": 0
      },
      "text/plain": [
       "Downloading S5P_OFFL_L2__CO_____20200330T063709_20200330T081839_12753_01_010302_20200331T201936.nc:   0%|     …"
      ]
     },
     "metadata": {},
     "output_type": "display_data"
    },
    {
     "name": "stderr",
     "output_type": "stream",
     "text": [
      "There was an error downloading S5P_OFFL_L2__CO_____20200311T073200_20200311T091330_12484_01_010302_20200314T092027\n",
      "Traceback (most recent call last):\n",
      "  File \"C:\\Users\\hp\\anaconda3\\lib\\site-packages\\sentinelsat\\sentinel.py\", line 1017, in _check_scihub_response\n",
      "    response.raise_for_status()\n",
      "  File \"C:\\Users\\hp\\anaconda3\\lib\\site-packages\\requests\\models.py\", line 941, in raise_for_status\n",
      "    raise HTTPError(http_error_msg, response=self)\n",
      "requests.exceptions.HTTPError: 429 Client Error: Too Many Requests for url: https://s5phub.copernicus.eu/dhus/odata/v1/Products('05a5da9a-5793-4247-b3b8-c16ca17fa12e')/$value\n",
      "\n",
      "During handling of the above exception, another exception occurred:\n",
      "\n",
      "Traceback (most recent call last):\n",
      "  File \"C:\\Users\\hp\\anaconda3\\lib\\site-packages\\sentinelsat\\download.py\", line 700, in _download_online_retry\n",
      "    return self.download(uuid, directory, stop_event=stop_event)\n",
      "  File \"C:\\Users\\hp\\anaconda3\\lib\\site-packages\\sentinelsat\\download.py\", line 136, in download\n",
      "    filename = self.api._get_filename(product_info)\n",
      "  File \"C:\\Users\\hp\\anaconda3\\lib\\site-packages\\sentinelsat\\sentinel.py\", line 596, in _get_filename\n",
      "    self._check_scihub_response(req, test_json=False)\n",
      "  File \"C:\\Users\\hp\\anaconda3\\lib\\site-packages\\sentinelsat\\sentinel.py\", line 1065, in _check_scihub_response\n",
      "    raise SentinelAPIError(msg, response)\n",
      "sentinelsat.exceptions.SentinelAPIError: HTTP status 429 Too Many Requests: \n",
      "There was an error downloading S5P_OFFL_L2__CO_____20200311T073200_20200311T091330_12484_01_010302_20200314T092027\n",
      "Traceback (most recent call last):\n",
      "  File \"C:\\Users\\hp\\anaconda3\\lib\\site-packages\\sentinelsat\\sentinel.py\", line 1017, in _check_scihub_response\n",
      "    response.raise_for_status()\n",
      "  File \"C:\\Users\\hp\\anaconda3\\lib\\site-packages\\requests\\models.py\", line 941, in raise_for_status\n",
      "    raise HTTPError(http_error_msg, response=self)\n",
      "requests.exceptions.HTTPError: 429 Client Error: Too Many Requests for url: https://s5phub.copernicus.eu/dhus/odata/v1/Products('05a5da9a-5793-4247-b3b8-c16ca17fa12e')/$value\n",
      "\n",
      "During handling of the above exception, another exception occurred:\n",
      "\n",
      "Traceback (most recent call last):\n",
      "  File \"C:\\Users\\hp\\anaconda3\\lib\\site-packages\\sentinelsat\\download.py\", line 700, in _download_online_retry\n",
      "    return self.download(uuid, directory, stop_event=stop_event)\n",
      "  File \"C:\\Users\\hp\\anaconda3\\lib\\site-packages\\sentinelsat\\download.py\", line 136, in download\n",
      "    filename = self.api._get_filename(product_info)\n",
      "  File \"C:\\Users\\hp\\anaconda3\\lib\\site-packages\\sentinelsat\\sentinel.py\", line 596, in _get_filename\n",
      "    self._check_scihub_response(req, test_json=False)\n",
      "  File \"C:\\Users\\hp\\anaconda3\\lib\\site-packages\\sentinelsat\\sentinel.py\", line 1065, in _check_scihub_response\n",
      "    raise SentinelAPIError(msg, response)\n",
      "sentinelsat.exceptions.SentinelAPIError: HTTP status 429 Too Many Requests: \n"
     ]
    },
    {
     "data": {
      "application/vnd.jupyter.widget-view+json": {
       "model_id": "",
       "version_major": 2,
       "version_minor": 0
      },
      "text/plain": [
       "MD5 checksumming:   0%|          | 0.00/171M [00:00<?, ?B/s]"
      ]
     },
     "metadata": {},
     "output_type": "display_data"
    },
    {
     "data": {
      "application/vnd.jupyter.widget-view+json": {
       "model_id": "4751e3bf4a34476d8d68e8ed24032114",
       "version_major": 2,
       "version_minor": 0
      },
      "text/plain": [
       "Downloading S5P_OFFL_L2__CO_____20200307T070609_20200307T084739_12427_01_010302_20200310T085721.nc:   0%|     …"
      ]
     },
     "metadata": {},
     "output_type": "display_data"
    },
    {
     "data": {
      "application/vnd.jupyter.widget-view+json": {
       "model_id": "",
       "version_major": 2,
       "version_minor": 0
      },
      "text/plain": [
       "MD5 checksumming:   0%|          | 0.00/149M [00:00<?, ?B/s]"
      ]
     },
     "metadata": {},
     "output_type": "display_data"
    },
    {
     "name": "stderr",
     "output_type": "stream",
     "text": [
      "Invalid checksum. The downloaded file for 'S5P_OFFL_L2__CO_____20200318T070106_20200318T084237_12583_01_010302_20200320T070414' is corrupted.\n"
     ]
    },
    {
     "data": {
      "application/vnd.jupyter.widget-view+json": {
       "model_id": "65ae8d64757c44729ef04c8fe3fff84e",
       "version_major": 2,
       "version_minor": 0
      },
      "text/plain": [
       "Downloading S5P_OFFL_L2__CO_____20200311T073200_20200311T091330_12484_01_010302_20200314T092027.nc:   0%|     …"
      ]
     },
     "metadata": {},
     "output_type": "display_data"
    },
    {
     "data": {
      "application/vnd.jupyter.widget-view+json": {
       "model_id": "c8f0716b8bde49d8abc2700242b7ed3e",
       "version_major": 2,
       "version_minor": 0
      },
      "text/plain": [
       "Downloading S5P_OFFL_L2__CO_____20200318T070106_20200318T084237_12583_01_010302_20200320T070414.nc:   0%|     …"
      ]
     },
     "metadata": {},
     "output_type": "display_data"
    },
    {
     "data": {
      "application/vnd.jupyter.widget-view+json": {
       "model_id": "",
       "version_major": 2,
       "version_minor": 0
      },
      "text/plain": [
       "MD5 checksumming:   0%|          | 0.00/23.8M [00:00<?, ?B/s]"
      ]
     },
     "metadata": {},
     "output_type": "display_data"
    },
    {
     "name": "stderr",
     "output_type": "stream",
     "text": [
      "Invalid checksum. The downloaded file for 'S5P_OFFL_L2__CO_____20200318T070106_20200318T084237_12583_01_010302_20200320T070414' is corrupted.\n"
     ]
    },
    {
     "data": {
      "application/vnd.jupyter.widget-view+json": {
       "model_id": "499a5d528b2142bb8eef7b4572cc8937",
       "version_major": 2,
       "version_minor": 0
      },
      "text/plain": [
       "Downloading S5P_OFFL_L2__CO_____20200318T070106_20200318T084237_12583_01_010302_20200320T070414.nc:   0%|     …"
      ]
     },
     "metadata": {},
     "output_type": "display_data"
    },
    {
     "data": {
      "application/vnd.jupyter.widget-view+json": {
       "model_id": "",
       "version_major": 2,
       "version_minor": 0
      },
      "text/plain": [
       "MD5 checksumming:   0%|          | 0.00/163M [00:00<?, ?B/s]"
      ]
     },
     "metadata": {},
     "output_type": "display_data"
    },
    {
     "name": "stderr",
     "output_type": "stream",
     "text": [
      "Invalid checksum. The downloaded file for 'S5P_OFFL_L2__CO_____20200330T063709_20200330T081839_12753_01_010302_20200331T201936' is corrupted.\n"
     ]
    },
    {
     "data": {
      "application/vnd.jupyter.widget-view+json": {
       "model_id": "36448ab2505e40cba01c58c7d52becf3",
       "version_major": 2,
       "version_minor": 0
      },
      "text/plain": [
       "Downloading S5P_OFFL_L2__CO_____20200330T063709_20200330T081839_12753_01_010302_20200331T201936.nc:   0%|     …"
      ]
     },
     "metadata": {},
     "output_type": "display_data"
    },
    {
     "data": {
      "application/vnd.jupyter.widget-view+json": {
       "model_id": "",
       "version_major": 2,
       "version_minor": 0
      },
      "text/plain": [
       "MD5 checksumming:   0%|          | 0.00/178M [00:00<?, ?B/s]"
      ]
     },
     "metadata": {},
     "output_type": "display_data"
    },
    {
     "data": {
      "application/vnd.jupyter.widget-view+json": {
       "model_id": "24d5e85236224828a1c61932eff91d56",
       "version_major": 2,
       "version_minor": 0
      },
      "text/plain": [
       "Downloading S5P_OFFL_L2__CO_____20200304T062123_20200304T080254_12384_01_010302_20200307T080503.nc:   0%|     …"
      ]
     },
     "metadata": {},
     "output_type": "display_data"
    },
    {
     "data": {
      "application/vnd.jupyter.widget-view+json": {
       "model_id": "",
       "version_major": 2,
       "version_minor": 0
      },
      "text/plain": [
       "MD5 checksumming:   0%|          | 0.00/141M [00:00<?, ?B/s]"
      ]
     },
     "metadata": {},
     "output_type": "display_data"
    },
    {
     "name": "stderr",
     "output_type": "stream",
     "text": [
      "Invalid checksum. The downloaded file for 'S5P_OFFL_L2__CO_____20200307T070609_20200307T084739_12427_01_010302_20200310T085721' is corrupted.\n",
      "There was an error downloading S5P_OFFL_L2__CO_____20200307T070609_20200307T084739_12427_01_010302_20200310T085721\n",
      "Traceback (most recent call last):\n",
      "  File \"C:\\Users\\hp\\anaconda3\\lib\\site-packages\\sentinelsat\\sentinel.py\", line 1017, in _check_scihub_response\n",
      "    response.raise_for_status()\n",
      "  File \"C:\\Users\\hp\\anaconda3\\lib\\site-packages\\requests\\models.py\", line 941, in raise_for_status\n",
      "    raise HTTPError(http_error_msg, response=self)\n",
      "requests.exceptions.HTTPError: 429 Client Error: Too Many Requests for url: https://s5phub.copernicus.eu/dhus/odata/v1/Products('baef23a2-4ae0-4fc7-90a5-a671257a2b46')/$value\n",
      "\n",
      "During handling of the above exception, another exception occurred:\n",
      "\n",
      "Traceback (most recent call last):\n",
      "  File \"C:\\Users\\hp\\anaconda3\\lib\\site-packages\\sentinelsat\\download.py\", line 700, in _download_online_retry\n",
      "    return self.download(uuid, directory, stop_event=stop_event)\n",
      "  File \"C:\\Users\\hp\\anaconda3\\lib\\site-packages\\sentinelsat\\download.py\", line 136, in download\n",
      "    filename = self.api._get_filename(product_info)\n",
      "  File \"C:\\Users\\hp\\anaconda3\\lib\\site-packages\\sentinelsat\\sentinel.py\", line 596, in _get_filename\n",
      "    self._check_scihub_response(req, test_json=False)\n",
      "  File \"C:\\Users\\hp\\anaconda3\\lib\\site-packages\\sentinelsat\\sentinel.py\", line 1065, in _check_scihub_response\n",
      "    raise SentinelAPIError(msg, response)\n",
      "sentinelsat.exceptions.SentinelAPIError: HTTP status 429 Too Many Requests: \n"
     ]
    },
    {
     "data": {
      "application/vnd.jupyter.widget-view+json": {
       "model_id": "b99ba1a6ff4e4942bb135df69dd449c7",
       "version_major": 2,
       "version_minor": 0
      },
      "text/plain": [
       "Downloading S5P_OFFL_L2__CO_____20200307T070609_20200307T084739_12427_01_010302_20200310T085721.nc:   0%|     …"
      ]
     },
     "metadata": {},
     "output_type": "display_data"
    },
    {
     "data": {
      "application/vnd.jupyter.widget-view+json": {
       "model_id": "",
       "version_major": 2,
       "version_minor": 0
      },
      "text/plain": [
       "MD5 checksumming:   0%|          | 0.00/166M [00:00<?, ?B/s]"
      ]
     },
     "metadata": {},
     "output_type": "display_data"
    },
    {
     "data": {
      "application/vnd.jupyter.widget-view+json": {
       "model_id": "74be042cd36443c1b81afb8a3505a0d5",
       "version_major": 2,
       "version_minor": 0
      },
      "text/plain": [
       "Downloading S5P_OFFL_L2__CO_____20200305T074359_20200305T092529_12399_01_010302_20200308T092548.nc:   0%|     …"
      ]
     },
     "metadata": {},
     "output_type": "display_data"
    },
    {
     "data": {
      "application/vnd.jupyter.widget-view+json": {
       "model_id": "",
       "version_major": 2,
       "version_minor": 0
      },
      "text/plain": [
       "MD5 checksumming:   0%|          | 0.00/170M [00:00<?, ?B/s]"
      ]
     },
     "metadata": {},
     "output_type": "display_data"
    },
    {
     "name": "stderr",
     "output_type": "stream",
     "text": [
      "There was an error downloading S5P_OFFL_L2__CO_____20200313T065410_20200313T083540_12512_01_010302_20200316T084156\n",
      "Traceback (most recent call last):\n",
      "  File \"C:\\Users\\hp\\anaconda3\\lib\\site-packages\\urllib3\\connectionpool.py\", line 670, in urlopen\n",
      "    httplib_response = self._make_request(\n",
      "  File \"C:\\Users\\hp\\anaconda3\\lib\\site-packages\\urllib3\\connectionpool.py\", line 426, in _make_request\n",
      "    six.raise_from(e, None)\n",
      "  File \"<string>\", line 3, in raise_from\n",
      "  File \"C:\\Users\\hp\\anaconda3\\lib\\site-packages\\urllib3\\connectionpool.py\", line 421, in _make_request\n",
      "    httplib_response = conn.getresponse()\n",
      "  File \"C:\\Users\\hp\\anaconda3\\lib\\http\\client.py\", line 1332, in getresponse\n",
      "    response.begin()\n",
      "  File \"C:\\Users\\hp\\anaconda3\\lib\\http\\client.py\", line 303, in begin\n",
      "    version, status, reason = self._read_status()\n",
      "  File \"C:\\Users\\hp\\anaconda3\\lib\\http\\client.py\", line 272, in _read_status\n",
      "    raise RemoteDisconnected(\"Remote end closed connection without\"\n",
      "http.client.RemoteDisconnected: Remote end closed connection without response\n",
      "\n",
      "During handling of the above exception, another exception occurred:\n",
      "\n",
      "Traceback (most recent call last):\n",
      "  File \"C:\\Users\\hp\\anaconda3\\lib\\site-packages\\requests\\adapters.py\", line 439, in send\n",
      "    resp = conn.urlopen(\n",
      "  File \"C:\\Users\\hp\\anaconda3\\lib\\site-packages\\urllib3\\connectionpool.py\", line 724, in urlopen\n",
      "    retries = retries.increment(\n",
      "  File \"C:\\Users\\hp\\anaconda3\\lib\\site-packages\\urllib3\\util\\retry.py\", line 403, in increment\n",
      "    raise six.reraise(type(error), error, _stacktrace)\n",
      "  File \"C:\\Users\\hp\\anaconda3\\lib\\site-packages\\urllib3\\packages\\six.py\", line 734, in reraise\n",
      "    raise value.with_traceback(tb)\n",
      "  File \"C:\\Users\\hp\\anaconda3\\lib\\site-packages\\urllib3\\connectionpool.py\", line 670, in urlopen\n",
      "    httplib_response = self._make_request(\n",
      "  File \"C:\\Users\\hp\\anaconda3\\lib\\site-packages\\urllib3\\connectionpool.py\", line 426, in _make_request\n",
      "    six.raise_from(e, None)\n",
      "  File \"<string>\", line 3, in raise_from\n",
      "  File \"C:\\Users\\hp\\anaconda3\\lib\\site-packages\\urllib3\\connectionpool.py\", line 421, in _make_request\n",
      "    httplib_response = conn.getresponse()\n",
      "  File \"C:\\Users\\hp\\anaconda3\\lib\\http\\client.py\", line 1332, in getresponse\n",
      "    response.begin()\n",
      "  File \"C:\\Users\\hp\\anaconda3\\lib\\http\\client.py\", line 303, in begin\n",
      "    version, status, reason = self._read_status()\n",
      "  File \"C:\\Users\\hp\\anaconda3\\lib\\http\\client.py\", line 272, in _read_status\n",
      "    raise RemoteDisconnected(\"Remote end closed connection without\"\n",
      "urllib3.exceptions.ProtocolError: ('Connection aborted.', RemoteDisconnected('Remote end closed connection without response'))\n",
      "\n",
      "During handling of the above exception, another exception occurred:\n",
      "\n",
      "Traceback (most recent call last):\n",
      "  File \"C:\\Users\\hp\\anaconda3\\lib\\site-packages\\sentinelsat\\download.py\", line 700, in _download_online_retry\n",
      "    return self.download(uuid, directory, stop_event=stop_event)\n",
      "  File \"C:\\Users\\hp\\anaconda3\\lib\\site-packages\\sentinelsat\\download.py\", line 135, in download\n",
      "    product_info = self.api.get_product_odata(id)\n",
      "  File \"C:\\Users\\hp\\anaconda3\\lib\\site-packages\\sentinelsat\\sentinel.py\", line 510, in get_product_odata\n",
      "    response = self.session.get(url)\n",
      "  File \"C:\\Users\\hp\\anaconda3\\lib\\site-packages\\requests\\sessions.py\", line 543, in get\n",
      "    return self.request('GET', url, **kwargs)\n",
      "  File \"C:\\Users\\hp\\anaconda3\\lib\\site-packages\\requests\\sessions.py\", line 530, in request\n",
      "    resp = self.send(prep, **send_kwargs)\n",
      "  File \"C:\\Users\\hp\\anaconda3\\lib\\site-packages\\requests\\sessions.py\", line 643, in send\n",
      "    r = adapter.send(request, **kwargs)\n",
      "  File \"C:\\Users\\hp\\anaconda3\\lib\\site-packages\\requests\\adapters.py\", line 498, in send\n",
      "    raise ConnectionError(err, request=request)\n",
      "requests.exceptions.ConnectionError: ('Connection aborted.', RemoteDisconnected('Remote end closed connection without response'))\n"
     ]
    },
    {
     "data": {
      "application/vnd.jupyter.widget-view+json": {
       "model_id": "",
       "version_major": 2,
       "version_minor": 0
      },
      "text/plain": [
       "MD5 checksumming:   0%|          | 0.00/168M [00:00<?, ?B/s]"
      ]
     },
     "metadata": {},
     "output_type": "display_data"
    },
    {
     "name": "stderr",
     "output_type": "stream",
     "text": [
      "Invalid checksum. The downloaded file for 'S5P_OFFL_L2__CO_____20200304T062123_20200304T080254_12384_01_010302_20200307T080503' is corrupted.\n"
     ]
    },
    {
     "data": {
      "application/vnd.jupyter.widget-view+json": {
       "model_id": "a5ba118dc41d4b999a48c0d75d92c690",
       "version_major": 2,
       "version_minor": 0
      },
      "text/plain": [
       "Downloading S5P_OFFL_L2__CO_____20200313T065410_20200313T083540_12512_01_010302_20200316T084156.nc:   0%|     …"
      ]
     },
     "metadata": {},
     "output_type": "display_data"
    },
    {
     "data": {
      "application/vnd.jupyter.widget-view+json": {
       "model_id": "",
       "version_major": 2,
       "version_minor": 0
      },
      "text/plain": [
       "MD5 checksumming:   0%|          | 0.00/54.8M [00:00<?, ?B/s]"
      ]
     },
     "metadata": {},
     "output_type": "display_data"
    },
    {
     "name": "stderr",
     "output_type": "stream",
     "text": [
      "Invalid checksum. The downloaded file for 'S5P_OFFL_L2__CO_____20200305T074359_20200305T092529_12399_01_010302_20200308T092548' is corrupted.\n",
      "There was an error downloading S5P_OFFL_L2__CO_____20200304T062123_20200304T080254_12384_01_010302_20200307T080503\n",
      "Traceback (most recent call last):\n",
      "  File \"C:\\Users\\hp\\anaconda3\\lib\\site-packages\\sentinelsat\\sentinel.py\", line 1017, in _check_scihub_response\n",
      "    response.raise_for_status()\n",
      "  File \"C:\\Users\\hp\\anaconda3\\lib\\site-packages\\requests\\models.py\", line 941, in raise_for_status\n",
      "    raise HTTPError(http_error_msg, response=self)\n",
      "requests.exceptions.HTTPError: 429 Client Error: Too Many Requests for url: https://s5phub.copernicus.eu/dhus/odata/v1/Products('e570ea60-b810-4df7-985d-b737b1e7812f')/$value\n",
      "\n",
      "During handling of the above exception, another exception occurred:\n",
      "\n",
      "Traceback (most recent call last):\n",
      "  File \"C:\\Users\\hp\\anaconda3\\lib\\site-packages\\sentinelsat\\download.py\", line 700, in _download_online_retry\n",
      "    return self.download(uuid, directory, stop_event=stop_event)\n",
      "  File \"C:\\Users\\hp\\anaconda3\\lib\\site-packages\\sentinelsat\\download.py\", line 136, in download\n",
      "    filename = self.api._get_filename(product_info)\n",
      "  File \"C:\\Users\\hp\\anaconda3\\lib\\site-packages\\sentinelsat\\sentinel.py\", line 596, in _get_filename\n",
      "    self._check_scihub_response(req, test_json=False)\n",
      "  File \"C:\\Users\\hp\\anaconda3\\lib\\site-packages\\sentinelsat\\sentinel.py\", line 1065, in _check_scihub_response\n",
      "    raise SentinelAPIError(msg, response)\n",
      "sentinelsat.exceptions.SentinelAPIError: HTTP status 429 Too Many Requests: \n",
      "There was an error downloading S5P_OFFL_L2__CO_____20200305T074359_20200305T092529_12399_01_010302_20200308T092548\n",
      "Traceback (most recent call last):\n",
      "  File \"C:\\Users\\hp\\anaconda3\\lib\\site-packages\\sentinelsat\\sentinel.py\", line 1017, in _check_scihub_response\n",
      "    response.raise_for_status()\n",
      "  File \"C:\\Users\\hp\\anaconda3\\lib\\site-packages\\requests\\models.py\", line 941, in raise_for_status\n",
      "    raise HTTPError(http_error_msg, response=self)\n",
      "requests.exceptions.HTTPError: 429 Client Error: Too Many Requests for url: https://s5phub.copernicus.eu/dhus/odata/v1/Products('8547fa5f-7baa-4ae2-9d87-8126273db118')/$value\n",
      "\n",
      "During handling of the above exception, another exception occurred:\n",
      "\n",
      "Traceback (most recent call last):\n",
      "  File \"C:\\Users\\hp\\anaconda3\\lib\\site-packages\\sentinelsat\\download.py\", line 700, in _download_online_retry\n",
      "    return self.download(uuid, directory, stop_event=stop_event)\n",
      "  File \"C:\\Users\\hp\\anaconda3\\lib\\site-packages\\sentinelsat\\download.py\", line 136, in download\n",
      "    filename = self.api._get_filename(product_info)\n",
      "  File \"C:\\Users\\hp\\anaconda3\\lib\\site-packages\\sentinelsat\\sentinel.py\", line 596, in _get_filename\n",
      "    self._check_scihub_response(req, test_json=False)\n",
      "  File \"C:\\Users\\hp\\anaconda3\\lib\\site-packages\\sentinelsat\\sentinel.py\", line 1065, in _check_scihub_response\n",
      "    raise SentinelAPIError(msg, response)\n",
      "sentinelsat.exceptions.SentinelAPIError: HTTP status 429 Too Many Requests: \n",
      "There was an error downloading S5P_OFFL_L2__CO_____20200304T062123_20200304T080254_12384_01_010302_20200307T080503\n",
      "Traceback (most recent call last):\n",
      "  File \"C:\\Users\\hp\\anaconda3\\lib\\site-packages\\sentinelsat\\sentinel.py\", line 1017, in _check_scihub_response\n",
      "    response.raise_for_status()\n",
      "  File \"C:\\Users\\hp\\anaconda3\\lib\\site-packages\\requests\\models.py\", line 941, in raise_for_status\n",
      "    raise HTTPError(http_error_msg, response=self)\n",
      "requests.exceptions.HTTPError: 429 Client Error: Too Many Requests for url: https://s5phub.copernicus.eu/dhus/odata/v1/Products('e570ea60-b810-4df7-985d-b737b1e7812f')/$value\n",
      "\n",
      "During handling of the above exception, another exception occurred:\n",
      "\n",
      "Traceback (most recent call last):\n",
      "  File \"C:\\Users\\hp\\anaconda3\\lib\\site-packages\\sentinelsat\\download.py\", line 700, in _download_online_retry\n",
      "    return self.download(uuid, directory, stop_event=stop_event)\n",
      "  File \"C:\\Users\\hp\\anaconda3\\lib\\site-packages\\sentinelsat\\download.py\", line 136, in download\n",
      "    filename = self.api._get_filename(product_info)\n",
      "  File \"C:\\Users\\hp\\anaconda3\\lib\\site-packages\\sentinelsat\\sentinel.py\", line 596, in _get_filename\n",
      "    self._check_scihub_response(req, test_json=False)\n",
      "  File \"C:\\Users\\hp\\anaconda3\\lib\\site-packages\\sentinelsat\\sentinel.py\", line 1065, in _check_scihub_response\n",
      "    raise SentinelAPIError(msg, response)\n",
      "sentinelsat.exceptions.SentinelAPIError: HTTP status 429 Too Many Requests: \n"
     ]
    },
    {
     "data": {
      "application/vnd.jupyter.widget-view+json": {
       "model_id": "",
       "version_major": 2,
       "version_minor": 0
      },
      "text/plain": [
       "MD5 checksumming:   0%|          | 0.00/161M [00:00<?, ?B/s]"
      ]
     },
     "metadata": {},
     "output_type": "display_data"
    },
    {
     "data": {
      "application/vnd.jupyter.widget-view+json": {
       "model_id": "acb01ed36d8d452b9f476d674fadd996",
       "version_major": 2,
       "version_minor": 0
      },
      "text/plain": [
       "Downloading S5P_OFFL_L2__CO_____20200304T080254_20200304T094424_12385_01_010302_20200307T094505.nc:   0%|     …"
      ]
     },
     "metadata": {},
     "output_type": "display_data"
    },
    {
     "name": "stderr",
     "output_type": "stream",
     "text": [
      "There was an error downloading S5P_OFFL_L2__CO_____20200305T074359_20200305T092529_12399_01_010302_20200308T092548\n",
      "Traceback (most recent call last):\n",
      "  File \"C:\\Users\\hp\\anaconda3\\lib\\site-packages\\sentinelsat\\sentinel.py\", line 1017, in _check_scihub_response\n",
      "    response.raise_for_status()\n",
      "  File \"C:\\Users\\hp\\anaconda3\\lib\\site-packages\\requests\\models.py\", line 941, in raise_for_status\n",
      "    raise HTTPError(http_error_msg, response=self)\n",
      "requests.exceptions.HTTPError: 429 Client Error: Too Many Requests for url: https://s5phub.copernicus.eu/dhus/odata/v1/Products('8547fa5f-7baa-4ae2-9d87-8126273db118')/$value\n",
      "\n",
      "During handling of the above exception, another exception occurred:\n",
      "\n",
      "Traceback (most recent call last):\n",
      "  File \"C:\\Users\\hp\\anaconda3\\lib\\site-packages\\sentinelsat\\download.py\", line 700, in _download_online_retry\n",
      "    return self.download(uuid, directory, stop_event=stop_event)\n",
      "  File \"C:\\Users\\hp\\anaconda3\\lib\\site-packages\\sentinelsat\\download.py\", line 136, in download\n",
      "    filename = self.api._get_filename(product_info)\n",
      "  File \"C:\\Users\\hp\\anaconda3\\lib\\site-packages\\sentinelsat\\sentinel.py\", line 596, in _get_filename\n",
      "    self._check_scihub_response(req, test_json=False)\n",
      "  File \"C:\\Users\\hp\\anaconda3\\lib\\site-packages\\sentinelsat\\sentinel.py\", line 1065, in _check_scihub_response\n",
      "    raise SentinelAPIError(msg, response)\n",
      "sentinelsat.exceptions.SentinelAPIError: HTTP status 429 Too Many Requests: \n",
      "There was an error downloading S5P_OFFL_L2__CO_____20200304T062123_20200304T080254_12384_01_010302_20200307T080503\n",
      "Traceback (most recent call last):\n",
      "  File \"C:\\Users\\hp\\anaconda3\\lib\\site-packages\\sentinelsat\\sentinel.py\", line 1017, in _check_scihub_response\n",
      "    response.raise_for_status()\n",
      "  File \"C:\\Users\\hp\\anaconda3\\lib\\site-packages\\requests\\models.py\", line 941, in raise_for_status\n",
      "    raise HTTPError(http_error_msg, response=self)\n",
      "requests.exceptions.HTTPError: 429 Client Error: Too Many Requests for url: https://s5phub.copernicus.eu/dhus/odata/v1/Products('e570ea60-b810-4df7-985d-b737b1e7812f')/$value\n",
      "\n",
      "During handling of the above exception, another exception occurred:\n",
      "\n",
      "Traceback (most recent call last):\n",
      "  File \"C:\\Users\\hp\\anaconda3\\lib\\site-packages\\sentinelsat\\download.py\", line 700, in _download_online_retry\n",
      "    return self.download(uuid, directory, stop_event=stop_event)\n",
      "  File \"C:\\Users\\hp\\anaconda3\\lib\\site-packages\\sentinelsat\\download.py\", line 136, in download\n",
      "    filename = self.api._get_filename(product_info)\n",
      "  File \"C:\\Users\\hp\\anaconda3\\lib\\site-packages\\sentinelsat\\sentinel.py\", line 596, in _get_filename\n",
      "    self._check_scihub_response(req, test_json=False)\n",
      "  File \"C:\\Users\\hp\\anaconda3\\lib\\site-packages\\sentinelsat\\sentinel.py\", line 1065, in _check_scihub_response\n",
      "    raise SentinelAPIError(msg, response)\n",
      "sentinelsat.exceptions.SentinelAPIError: HTTP status 429 Too Many Requests: \n"
     ]
    },
    {
     "data": {
      "application/vnd.jupyter.widget-view+json": {
       "model_id": "7a03c6d555cc446c86774e431aeacbd4",
       "version_major": 2,
       "version_minor": 0
      },
      "text/plain": [
       "Downloading S5P_OFFL_L2__CO_____20200305T074359_20200305T092529_12399_01_010302_20200308T092548.nc:   0%|     …"
      ]
     },
     "metadata": {},
     "output_type": "display_data"
    },
    {
     "data": {
      "application/vnd.jupyter.widget-view+json": {
       "model_id": "0a9f4b76e1e74b40890337c25de9b09d",
       "version_major": 2,
       "version_minor": 0
      },
      "text/plain": [
       "Downloading S5P_OFFL_L2__CO_____20200304T062123_20200304T080254_12384_01_010302_20200307T080503.nc:   0%|     …"
      ]
     },
     "metadata": {},
     "output_type": "display_data"
    },
    {
     "data": {
      "application/vnd.jupyter.widget-view+json": {
       "model_id": "",
       "version_major": 2,
       "version_minor": 0
      },
      "text/plain": [
       "MD5 checksumming:   0%|          | 0.00/171M [00:00<?, ?B/s]"
      ]
     },
     "metadata": {},
     "output_type": "display_data"
    },
    {
     "data": {
      "application/vnd.jupyter.widget-view+json": {
       "model_id": "d319db3ac74e4aba8829782af12ff256",
       "version_major": 2,
       "version_minor": 0
      },
      "text/plain": [
       "Downloading S5P_OFFL_L2__CO_____20200326T061118_20200326T075249_12696_01_010302_20200327T195606.nc:   0%|     …"
      ]
     },
     "metadata": {},
     "output_type": "display_data"
    },
    {
     "data": {
      "application/vnd.jupyter.widget-view+json": {
       "model_id": "",
       "version_major": 2,
       "version_minor": 0
      },
      "text/plain": [
       "MD5 checksumming:   0%|          | 0.00/37.2M [00:00<?, ?B/s]"
      ]
     },
     "metadata": {},
     "output_type": "display_data"
    },
    {
     "name": "stderr",
     "output_type": "stream",
     "text": [
      "Invalid checksum. The downloaded file for 'S5P_OFFL_L2__CO_____20200304T062123_20200304T080254_12384_01_010302_20200307T080503' is corrupted.\n",
      "There was an error downloading S5P_OFFL_L2__CO_____20200304T062123_20200304T080254_12384_01_010302_20200307T080503\n",
      "Traceback (most recent call last):\n",
      "  File \"C:\\Users\\hp\\anaconda3\\lib\\site-packages\\sentinelsat\\sentinel.py\", line 1017, in _check_scihub_response\n",
      "    response.raise_for_status()\n",
      "  File \"C:\\Users\\hp\\anaconda3\\lib\\site-packages\\requests\\models.py\", line 941, in raise_for_status\n",
      "    raise HTTPError(http_error_msg, response=self)\n",
      "requests.exceptions.HTTPError: 429 Client Error: Too Many Requests for url: https://s5phub.copernicus.eu/dhus/odata/v1/Products('e570ea60-b810-4df7-985d-b737b1e7812f')/$value\n",
      "\n",
      "During handling of the above exception, another exception occurred:\n",
      "\n",
      "Traceback (most recent call last):\n",
      "  File \"C:\\Users\\hp\\anaconda3\\lib\\site-packages\\sentinelsat\\download.py\", line 700, in _download_online_retry\n",
      "    return self.download(uuid, directory, stop_event=stop_event)\n",
      "  File \"C:\\Users\\hp\\anaconda3\\lib\\site-packages\\sentinelsat\\download.py\", line 136, in download\n",
      "    filename = self.api._get_filename(product_info)\n",
      "  File \"C:\\Users\\hp\\anaconda3\\lib\\site-packages\\sentinelsat\\sentinel.py\", line 596, in _get_filename\n",
      "    self._check_scihub_response(req, test_json=False)\n",
      "  File \"C:\\Users\\hp\\anaconda3\\lib\\site-packages\\sentinelsat\\sentinel.py\", line 1065, in _check_scihub_response\n",
      "    raise SentinelAPIError(msg, response)\n",
      "sentinelsat.exceptions.SentinelAPIError: HTTP status 429 Too Many Requests: \n"
     ]
    },
    {
     "data": {
      "application/vnd.jupyter.widget-view+json": {
       "model_id": "",
       "version_major": 2,
       "version_minor": 0
      },
      "text/plain": [
       "MD5 checksumming:   0%|          | 0.00/163M [00:00<?, ?B/s]"
      ]
     },
     "metadata": {},
     "output_type": "display_data"
    },
    {
     "data": {
      "application/vnd.jupyter.widget-view+json": {
       "model_id": "bc25c05a73b1430da3ab72c1d4625e88",
       "version_major": 2,
       "version_minor": 0
      },
      "text/plain": [
       "Downloading S5P_OFFL_L2__CO_____20200304T062123_20200304T080254_12384_01_010302_20200307T080503.nc:   0%|     …"
      ]
     },
     "metadata": {},
     "output_type": "display_data"
    },
    {
     "data": {
      "application/vnd.jupyter.widget-view+json": {
       "model_id": "6bec6dcbe6ec458da724009740715028",
       "version_major": 2,
       "version_minor": 0
      },
      "text/plain": [
       "Downloading S5P_OFFL_L2__CO_____20200316T055726_20200316T073856_12554_01_010302_20200319T074358.nc:   0%|     …"
      ]
     },
     "metadata": {},
     "output_type": "display_data"
    },
    {
     "data": {
      "application/vnd.jupyter.widget-view+json": {
       "model_id": "",
       "version_major": 2,
       "version_minor": 0
      },
      "text/plain": [
       "MD5 checksumming:   0%|          | 0.00/170M [00:00<?, ?B/s]"
      ]
     },
     "metadata": {},
     "output_type": "display_data"
    },
    {
     "data": {
      "application/vnd.jupyter.widget-view+json": {
       "model_id": "52fac7d7ac19429fa7a0e1fca4a7b3b3",
       "version_major": 2,
       "version_minor": 0
      },
      "text/plain": [
       "Downloading S5P_OFFL_L2__CO_____20200305T060228_20200305T074359_12398_01_010302_20200308T074546.nc:   0%|     …"
      ]
     },
     "metadata": {},
     "output_type": "display_data"
    },
    {
     "data": {
      "application/vnd.jupyter.widget-view+json": {
       "model_id": "",
       "version_major": 2,
       "version_minor": 0
      },
      "text/plain": [
       "MD5 checksumming:   0%|          | 0.00/174M [00:00<?, ?B/s]"
      ]
     },
     "metadata": {},
     "output_type": "display_data"
    },
    {
     "name": "stderr",
     "output_type": "stream",
     "text": [
      "Invalid checksum. The downloaded file for 'S5P_OFFL_L2__CO_____20200313T065410_20200313T083540_12512_01_010302_20200316T084156' is corrupted.\n"
     ]
    },
    {
     "data": {
      "application/vnd.jupyter.widget-view+json": {
       "model_id": "17cc4fd533d344c2b50e995189570904",
       "version_major": 2,
       "version_minor": 0
      },
      "text/plain": [
       "Downloading S5P_OFFL_L2__CO_____20200313T065410_20200313T083540_12512_01_010302_20200316T084156.nc:   0%|     …"
      ]
     },
     "metadata": {},
     "output_type": "display_data"
    },
    {
     "data": {
      "application/vnd.jupyter.widget-view+json": {
       "model_id": "",
       "version_major": 2,
       "version_minor": 0
      },
      "text/plain": [
       "MD5 checksumming:   0%|          | 0.00/177M [00:00<?, ?B/s]"
      ]
     },
     "metadata": {},
     "output_type": "display_data"
    },
    {
     "data": {
      "application/vnd.jupyter.widget-view+json": {
       "model_id": "278e244a30a34572b7be4336ec2d5b04",
       "version_major": 2,
       "version_minor": 0
      },
      "text/plain": [
       "Downloading S5P_OFFL_L2__CO_____20200315T075751_20200315T093921_12541_01_010302_20200318T094322.nc:   0%|     …"
      ]
     },
     "metadata": {},
     "output_type": "display_data"
    },
    {
     "data": {
      "application/vnd.jupyter.widget-view+json": {
       "model_id": "",
       "version_major": 2,
       "version_minor": 0
      },
      "text/plain": [
       "MD5 checksumming:   0%|          | 0.00/175M [00:00<?, ?B/s]"
      ]
     },
     "metadata": {},
     "output_type": "display_data"
    },
    {
     "data": {
      "application/vnd.jupyter.widget-view+json": {
       "model_id": "63b2441199df40bfac25897e3399b7c4",
       "version_major": 2,
       "version_minor": 0
      },
      "text/plain": [
       "Downloading S5P_OFFL_L2__CO_____20200310T075054_20200310T093225_12470_01_010302_20200313T094115.nc:   0%|     …"
      ]
     },
     "metadata": {},
     "output_type": "display_data"
    },
    {
     "data": {
      "application/vnd.jupyter.widget-view+json": {
       "model_id": "",
       "version_major": 2,
       "version_minor": 0
      },
      "text/plain": [
       "MD5 checksumming:   0%|          | 0.00/175M [00:00<?, ?B/s]"
      ]
     },
     "metadata": {},
     "output_type": "display_data"
    },
    {
     "data": {
      "application/vnd.jupyter.widget-view+json": {
       "model_id": "380af23c505847a9adbe6085a9eb8288",
       "version_major": 2,
       "version_minor": 0
      },
      "text/plain": [
       "Downloading S5P_OFFL_L2__CO_____20200321T060422_20200321T074552_12625_01_010302_20200322T195235.nc:   0%|     …"
      ]
     },
     "metadata": {},
     "output_type": "display_data"
    },
    {
     "data": {
      "application/vnd.jupyter.widget-view+json": {
       "model_id": "",
       "version_major": 2,
       "version_minor": 0
      },
      "text/plain": [
       "MD5 checksumming:   0%|          | 0.00/166M [00:00<?, ?B/s]"
      ]
     },
     "metadata": {},
     "output_type": "display_data"
    },
    {
     "data": {
      "application/vnd.jupyter.widget-view+json": {
       "model_id": "39c3e04445a44a52aad470452c33280a",
       "version_major": 2,
       "version_minor": 0
      },
      "text/plain": [
       "Downloading S5P_OFFL_L2__CO_____20200328T071459_20200328T085629_12725_01_010302_20200330T072939.nc:   0%|     …"
      ]
     },
     "metadata": {},
     "output_type": "display_data"
    },
    {
     "data": {
      "application/vnd.jupyter.widget-view+json": {
       "model_id": "",
       "version_major": 2,
       "version_minor": 0
      },
      "text/plain": [
       "MD5 checksumming:   0%|          | 0.00/174M [00:00<?, ?B/s]"
      ]
     },
     "metadata": {},
     "output_type": "display_data"
    },
    {
     "data": {
      "application/vnd.jupyter.widget-view+json": {
       "model_id": "fd20529f210e4bf697d4acf62a0b5f6b",
       "version_major": 2,
       "version_minor": 0
      },
      "text/plain": [
       "Downloading S5P_OFFL_L2__CO_____20200321T074552_20200321T092723_12626_01_010302_20200322T213239.nc:   0%|     …"
      ]
     },
     "metadata": {},
     "output_type": "display_data"
    },
    {
     "data": {
      "application/vnd.jupyter.widget-view+json": {
       "model_id": "",
       "version_major": 2,
       "version_minor": 0
      },
      "text/plain": [
       "MD5 checksumming:   0%|          | 0.00/172M [00:00<?, ?B/s]"
      ]
     },
     "metadata": {},
     "output_type": "display_data"
    },
    {
     "data": {
      "application/vnd.jupyter.widget-view+json": {
       "model_id": "55d97b0eaa0147c59f8d3e60d4611121",
       "version_major": 2,
       "version_minor": 0
      },
      "text/plain": [
       "Downloading S5P_OFFL_L2__CO_____20200324T064908_20200324T083038_12668_01_010302_20200325T203442.nc:   0%|     …"
      ]
     },
     "metadata": {},
     "output_type": "display_data"
    },
    {
     "data": {
      "application/vnd.jupyter.widget-view+json": {
       "model_id": "",
       "version_major": 2,
       "version_minor": 0
      },
      "text/plain": [
       "MD5 checksumming:   0%|          | 0.00/179M [00:00<?, ?B/s]"
      ]
     },
     "metadata": {},
     "output_type": "display_data"
    },
    {
     "data": {
      "application/vnd.jupyter.widget-view+json": {
       "model_id": "d62746f00edd4244b283e5495c16c71e",
       "version_major": 2,
       "version_minor": 0
      },
      "text/plain": [
       "Downloading S5P_OFFL_L2__CO_____20200306T072504_20200306T090634_12413_01_010302_20200309T091635.nc:   0%|     …"
      ]
     },
     "metadata": {},
     "output_type": "display_data"
    },
    {
     "data": {
      "application/vnd.jupyter.widget-view+json": {
       "model_id": "",
       "version_major": 2,
       "version_minor": 0
      },
      "text/plain": [
       "MD5 checksumming:   0%|          | 0.00/181M [00:00<?, ?B/s]"
      ]
     },
     "metadata": {},
     "output_type": "display_data"
    },
    {
     "data": {
      "application/vnd.jupyter.widget-view+json": {
       "model_id": "1d131248577549ad87fb85acd47eb993",
       "version_major": 2,
       "version_minor": 0
      },
      "text/plain": [
       "Downloading S5P_OFFL_L2__CO_____20200325T063013_20200325T081144_12682_01_010302_20200326T201525.nc:   0%|     …"
      ]
     },
     "metadata": {},
     "output_type": "display_data"
    },
    {
     "data": {
      "application/vnd.jupyter.widget-view+json": {
       "model_id": "",
       "version_major": 2,
       "version_minor": 0
      },
      "text/plain": [
       "MD5 checksumming:   0%|          | 0.00/161M [00:00<?, ?B/s]"
      ]
     },
     "metadata": {},
     "output_type": "display_data"
    },
    {
     "data": {
      "application/vnd.jupyter.widget-view+json": {
       "model_id": "de80c1991ba74d0793aa04dd47aefc1c",
       "version_major": 2,
       "version_minor": 0
      },
      "text/plain": [
       "Downloading S5P_OFFL_L2__CO_____20200303T064018_20200303T082149_12370_01_010302_20200306T082418.nc:   0%|     …"
      ]
     },
     "metadata": {},
     "output_type": "display_data"
    },
    {
     "data": {
      "application/vnd.jupyter.widget-view+json": {
       "model_id": "",
       "version_major": 2,
       "version_minor": 0
      },
      "text/plain": [
       "MD5 checksumming:   0%|          | 0.00/167M [00:00<?, ?B/s]"
      ]
     },
     "metadata": {},
     "output_type": "display_data"
    },
    {
     "data": {
      "application/vnd.jupyter.widget-view+json": {
       "model_id": "773e89dad2f14745bcd58dd0ce566b30",
       "version_major": 2,
       "version_minor": 0
      },
      "text/plain": [
       "Downloading S5P_OFFL_L2__CO_____20200302T065913_20200302T084044_12356_01_010302_20200305T084338.nc:   0%|     …"
      ]
     },
     "metadata": {},
     "output_type": "display_data"
    },
    {
     "data": {
      "application/vnd.jupyter.widget-view+json": {
       "model_id": "",
       "version_major": 2,
       "version_minor": 0
      },
      "text/plain": [
       "MD5 checksumming:   0%|          | 0.00/162M [00:00<?, ?B/s]"
      ]
     },
     "metadata": {},
     "output_type": "display_data"
    },
    {
     "data": {
      "application/vnd.jupyter.widget-view+json": {
       "model_id": "3caedd82b5a64f31a5e97f7dbdeabca5",
       "version_major": 2,
       "version_minor": 0
      },
      "text/plain": [
       "Downloading S5P_OFFL_L2__CO_____20200301T071808_20200301T085939_12342_01_010302_20200304T090256.nc:   0%|     …"
      ]
     },
     "metadata": {},
     "output_type": "display_data"
    },
    {
     "data": {
      "application/vnd.jupyter.widget-view+json": {
       "model_id": "",
       "version_major": 2,
       "version_minor": 0
      },
      "text/plain": [
       "MD5 checksumming:   0%|          | 0.00/169M [00:00<?, ?B/s]"
      ]
     },
     "metadata": {},
     "output_type": "display_data"
    },
    {
     "data": {
      "application/vnd.jupyter.widget-view+json": {
       "model_id": "0dee506e9e054b58b50c936bb7dcc209",
       "version_major": 2,
       "version_minor": 0
      },
      "text/plain": [
       "Downloading S5P_OFFL_L2__CO_____20200329T065604_20200329T083734_12739_01_010302_20200330T203852.nc:   0%|     …"
      ]
     },
     "metadata": {},
     "output_type": "display_data"
    },
    {
     "data": {
      "application/vnd.jupyter.widget-view+json": {
       "model_id": "",
       "version_major": 2,
       "version_minor": 0
      },
      "text/plain": [
       "MD5 checksumming:   0%|          | 0.00/172M [00:00<?, ?B/s]"
      ]
     },
     "metadata": {},
     "output_type": "display_data"
    },
    {
     "data": {
      "application/vnd.jupyter.widget-view+json": {
       "model_id": "af2969c70ac54074b252023f4e025ce9",
       "version_major": 2,
       "version_minor": 0
      },
      "text/plain": [
       "Downloading S5P_OFFL_L2__CO_____20200327T073354_20200327T091524_12711_01_010302_20200328T211656.nc:   0%|     …"
      ]
     },
     "metadata": {},
     "output_type": "display_data"
    },
    {
     "data": {
      "application/vnd.jupyter.widget-view+json": {
       "model_id": "",
       "version_major": 2,
       "version_minor": 0
      },
      "text/plain": [
       "MD5 checksumming:   0%|          | 0.00/174M [00:00<?, ?B/s]"
      ]
     },
     "metadata": {},
     "output_type": "display_data"
    },
    {
     "data": {
      "application/vnd.jupyter.widget-view+json": {
       "model_id": "a9394a5ba48d4e63b999e3af1d980c00",
       "version_major": 2,
       "version_minor": 0
      },
      "text/plain": [
       "Downloading S5P_OFFL_L2__CO_____20200323T070803_20200323T084933_12654_01_010302_20200324T205359.nc:   0%|     …"
      ]
     },
     "metadata": {},
     "output_type": "display_data"
    },
    {
     "data": {
      "application/vnd.jupyter.widget-view+json": {
       "model_id": "",
       "version_major": 2,
       "version_minor": 0
      },
      "text/plain": [
       "MD5 checksumming:   0%|          | 0.00/167M [00:00<?, ?B/s]"
      ]
     },
     "metadata": {},
     "output_type": "display_data"
    },
    {
     "data": {
      "application/vnd.jupyter.widget-view+json": {
       "model_id": "eda597e3e188438ab1eb531fb422e554",
       "version_major": 2,
       "version_minor": 0
      },
      "text/plain": [
       "Downloading S5P_OFFL_L2__CO_____20200312T071305_20200312T085435_12498_01_010302_20200315T090114.nc:   0%|     …"
      ]
     },
     "metadata": {},
     "output_type": "display_data"
    },
    {
     "data": {
      "application/vnd.jupyter.widget-view+json": {
       "model_id": "",
       "version_major": 2,
       "version_minor": 0
      },
      "text/plain": [
       "MD5 checksumming:   0%|          | 0.00/169M [00:00<?, ?B/s]"
      ]
     },
     "metadata": {},
     "output_type": "display_data"
    },
    {
     "data": {
      "application/vnd.jupyter.widget-view+json": {
       "model_id": "a544bc0871f14c14891e1e6d1f26c0b9",
       "version_major": 2,
       "version_minor": 0
      },
      "text/plain": [
       "Downloading S5P_OFFL_L2__CO_____20200319T064212_20200319T082342_12597_01_010302_20200321T085210.nc:   0%|     …"
      ]
     },
     "metadata": {},
     "output_type": "display_data"
    },
    {
     "data": {
      "application/vnd.jupyter.widget-view+json": {
       "model_id": "",
       "version_major": 2,
       "version_minor": 0
      },
      "text/plain": [
       "MD5 checksumming:   0%|          | 0.00/171M [00:00<?, ?B/s]"
      ]
     },
     "metadata": {},
     "output_type": "display_data"
    },
    {
     "data": {
      "application/vnd.jupyter.widget-view+json": {
       "model_id": "baeefcc14f7a4ba390b663ae5cafeb44",
       "version_major": 2,
       "version_minor": 0
      },
      "text/plain": [
       "Downloading S5P_OFFL_L2__CO_____20200314T063515_20200314T081646_12526_01_010302_20200317T082238.nc:   0%|     …"
      ]
     },
     "metadata": {},
     "output_type": "display_data"
    },
    {
     "data": {
      "application/vnd.jupyter.widget-view+json": {
       "model_id": "",
       "version_major": 2,
       "version_minor": 0
      },
      "text/plain": [
       "MD5 checksumming:   0%|          | 0.00/173M [00:00<?, ?B/s]"
      ]
     },
     "metadata": {},
     "output_type": "display_data"
    },
    {
     "data": {
      "application/vnd.jupyter.widget-view+json": {
       "model_id": "9d81f209f31c41a5abcffb8ac0978457",
       "version_major": 2,
       "version_minor": 0
      },
      "text/plain": [
       "Downloading S5P_OFFL_L2__CO_____20200310T060924_20200310T075054_12469_01_010302_20200313T075943.nc:   0%|     …"
      ]
     },
     "metadata": {},
     "output_type": "display_data"
    },
    {
     "data": {
      "application/vnd.jupyter.widget-view+json": {
       "model_id": "",
       "version_major": 2,
       "version_minor": 0
      },
      "text/plain": [
       "MD5 checksumming:   0%|          | 0.00/171M [00:00<?, ?B/s]"
      ]
     },
     "metadata": {},
     "output_type": "display_data"
    },
    {
     "data": {
      "application/vnd.jupyter.widget-view+json": {
       "model_id": "86ca635fb63b479e95c134242d33db08",
       "version_major": 2,
       "version_minor": 0
      },
      "text/plain": [
       "Downloading S5P_OFFL_L2__CO_____20200331T075944_20200331T094115_12768_01_010302_20200401T215027.nc:   0%|     …"
      ]
     },
     "metadata": {},
     "output_type": "display_data"
    },
    {
     "data": {
      "application/vnd.jupyter.widget-view+json": {
       "model_id": "",
       "version_major": 2,
       "version_minor": 0
      },
      "text/plain": [
       "MD5 checksumming:   0%|          | 0.00/97.6M [00:00<?, ?B/s]"
      ]
     },
     "metadata": {},
     "output_type": "display_data"
    },
    {
     "name": "stderr",
     "output_type": "stream",
     "text": [
      "Invalid checksum. The downloaded file for 'S5P_OFFL_L2__CO_____20200302T065913_20200302T084044_12356_01_010302_20200305T084338' is corrupted.\n"
     ]
    },
    {
     "data": {
      "application/vnd.jupyter.widget-view+json": {
       "model_id": "dfb79fe1eb314062b9a83a5aa561c6f3",
       "version_major": 2,
       "version_minor": 0
      },
      "text/plain": [
       "Downloading S5P_OFFL_L2__CO_____20200302T065913_20200302T084044_12356_01_010302_20200305T084338.nc:   0%|     …"
      ]
     },
     "metadata": {},
     "output_type": "display_data"
    },
    {
     "data": {
      "application/vnd.jupyter.widget-view+json": {
       "model_id": "",
       "version_major": 2,
       "version_minor": 0
      },
      "text/plain": [
       "MD5 checksumming:   0%|          | 0.00/173M [00:00<?, ?B/s]"
      ]
     },
     "metadata": {},
     "output_type": "display_data"
    },
    {
     "data": {
      "application/vnd.jupyter.widget-view+json": {
       "model_id": "",
       "version_major": 2,
       "version_minor": 0
      },
      "text/plain": [
       "MD5 checksumming:   0%|          | 0.00/179M [00:00<?, ?B/s]"
      ]
     },
     "metadata": {},
     "output_type": "display_data"
    },
    {
     "data": {
      "application/vnd.jupyter.widget-view+json": {
       "model_id": "",
       "version_major": 2,
       "version_minor": 0
      },
      "text/plain": [
       "MD5 checksumming:   0%|          | 0.00/161M [00:00<?, ?B/s]"
      ]
     },
     "metadata": {},
     "output_type": "display_data"
    },
    {
     "data": {
      "application/vnd.jupyter.widget-view+json": {
       "model_id": "",
       "version_major": 2,
       "version_minor": 0
      },
      "text/plain": [
       "MD5 checksumming:   0%|          | 0.00/178M [00:00<?, ?B/s]"
      ]
     },
     "metadata": {},
     "output_type": "display_data"
    },
    {
     "data": {
      "text/plain": [
       "ResultTuple(downloaded={'3210863b-b072-46ea-afa7-14134a7777d0': {'id': '3210863b-b072-46ea-afa7-14134a7777d0', 'title': 'S5P_OFFL_L2__CO_____20200322T072658_20200322T090828_12640_01_010302_20200323T211319', 'size': 169999173, 'md5': '805DACDD7BBBF52AF7F7295D5EF825E2', 'date': datetime.datetime(2020, 3, 22, 7, 48, 32), 'footprint': 'POLYGON((-57.370598 63.31143,-54.611954 64.20181,-51.67205 65.034164,-48.546303 65.80247,-45.233944 66.5005,-41.737637 67.12169,-38.066658 67.65993,-34.236183 68.10893,-30.26754 68.46315,-26.189035 68.71778,-22.034925 68.86961,-17.842707 68.91589,-13.653098 68.85608,-9.506454 68.691414,-5.440368 68.42391,-1.4879901 68.05766,2.3232114 67.5971,5.9723325 67.04815,9.445262 66.41701,12.734127 65.71024,15.836065 64.93376,18.7524 64.09395,21.488297 63.197067,24.051022 62.24841,26.449106 61.253036,28.692457 60.215637,30.791365 59.140644,32.75563 58.031563,34.59528 56.89192,36.319836 55.7247,37.93823 54.532745,39.459003 53.318356,40.88986 52.083687,42.2379 50.83061,43.509785 49.560913,44.711628 48.27592,45.848705 46.97724,46.92638 45.665962,47.94903 44.343132,48.920715 43.00967,49.845707 41.666668,50.726837 40.314552,51.567867 38.95449,52.371223 37.58678,53.139687 36.21201,53.87575 34.830956,54.581398 33.44381,55.25894 32.051228,55.909935 30.653458,56.53604 29.25097,57.1392 27.844158,57.72043 26.43328,58.28097 25.01839,58.822422 23.600122,59.345592 22.17855,59.851395 20.75385,60.341267 19.326466,60.815544 17.896345,61.275223 16.46386,61.721012 15.029021,62.153687 13.59214,62.57373 12.153279,62.98183 10.712662,63.378483 9.27041,63.76419 7.8266454,64.13958 6.3815823,64.50468 4.9351296,64.8603 3.4876418,65.20658 2.0391006,65.54382 0.58962166,65.872314 -0.8607136,66.192604 -2.3116682,66.50478 -3.763252,66.80897 -5.2153826,67.10551 -6.667948,67.39435 -8.120921,67.676315 -9.574053,67.95068 -11.027463,68.21828 -12.480909,68.47886 -13.934425,68.73252 -15.387947,68.97924 -16.841364,69.21944 -18.294579,69.452736 -19.747635,69.67949 -21.20032,69.89942 -22.652702,70.11262 -24.104671,70.31894 -25.556164,70.5183 -27.007177,70.71065 -28.457592,70.89574 -29.90741,71.073586 -31.356531,71.24393 -32.80493,71.40625 -34.252613,71.56052 -35.699463,71.70637 -37.145473,71.84333 -38.590588,71.971 -40.034763,72.088776 -41.477993,72.19603 -42.920174,72.292274 -44.36137,72.37638 -45.80137,72.44782 -47.24024,72.50556 -48.677925,72.548004 -50.114365,72.57377 -51.549465,72.58154 -52.98322,72.56915 -54.41557,72.534424 -55.84645,72.474976 -57.27564,72.38716 -58.703186,72.26776 -60.128857,72.11169 -61.552544,71.91416 -62.97409,71.668175 -64.393234,71.36549 -65.80973,70.99631 -67.22327,70.54765 -68.63337,70.00293 -70.03939,69.341965 -71.4407,68.53493 -72.83631,67.54618 -74.22478,66.32424 -75.6044,64.79668 -76.9724,62.86259 -78.32502,60.367237 -79.656364,57.082302 -80.95732,52.6426 -82.21275,46.475307 -83.39702,37.694107 -84.46468,25.121094 -85.334915,8.0311575 -85.881035,-11.890511 -85.9694,-30.352545 -85.57238,-44.507423 -84.80017,-54.486683 -83.791435,-61.45354 -82.642494,-66.42253 -81.40976,-70.06392 -80.1241,-72.80662 -78.803894,-73.041885 -78.670525,-74.65428 -78.83885,-87.36221 -79.74862,-100.23913 -80.06189,-107.617065 -79.996506,-115.29338 -79.72571,-119.87186 -79.44984,-124.86323 -79.03003,-127.98969 -78.69044,-131.56075 -78.21351,-133.90036 -77.83901,-136.68547 -77.314835,-138.583 -76.89912,-140.92473 -76.3057,-142.57578 -75.822685,-144.68042 -75.110565,-146.2126 -74.50873,-148.2312 -73.5804,-149.755 -72.75296,-151.85298 -71.38631,-153.5309 -70.05569,-156.05827 -67.5354,-157.03462 -66.3589,-157.03462 -66.3589,-160.46458 -67.005424,-164.07297 -67.57178,-167.84694 -68.05179,-171.76746 -68.43964,-175.80917 -68.73004,-179.93974 -68.919426,175.87715 -69.0048,171.68138 -68.98472,167.51323 -68.85984,163.41176 -68.63176,159.41196 -68.30352,155.54338 -67.880035,151.82916 -67.36649,148.28636 -66.76851,144.92487 -66.09273,141.7497 -65.34538,138.76044 -64.532814,135.95377 -63.66098,133.323 -62.735535,130.86005 -61.761734,128.55542 -60.744297,126.3991 -59.68771,124.38095 -58.59586,122.49134 -57.47218,120.71987 -56.319935,119.05799 -55.14189,117.49694 -53.940487,116.02827 -52.718174,114.645546 -51.476597,113.341194 -50.217678,112.10897 -48.943264,110.94343 -47.654205,109.83939 -46.35217,108.79201 -45.03815,107.79675 -43.71322,106.850075 -42.378166,105.948006 -41.03392,105.087685 -39.681046,104.26581 -38.3204,103.47961 -36.95254,102.72673 -35.577953,102.00506 -34.19713,101.31231 -32.810604,100.64674 -31.418661,100.0063 -30.021872,99.38981 -28.620401,98.795456 -27.214693,98.22195 -25.805021,97.66809 -24.391651,97.13307 -22.974804,96.61529 -21.554712,96.11424 -20.131672,95.6286 -18.705853,95.15791 -17.277409,94.7011 -15.84664,94.25764 -14.413592,93.826904 -12.978429,93.40839 -11.5414095,93.00106 -10.102632,92.6048 -8.662186,92.21923 -7.2201905,91.843575 -5.7768545,91.477356 -4.3322506,91.12062 -2.886501,90.77257 -1.4397075,90.433304 0.00801476,90.10215 1.4566673,89.77902 2.9059715,89.463684 4.356052,89.15579 5.8066454,88.85515 7.2577043,88.56154 8.709213,88.27495 10.161081,87.9951 11.613218,87.721794 13.065537,87.45518 14.517994,87.194824 15.970532,86.94077 17.42308,86.6931 18.875555,86.45164 20.327986,86.21629 21.78019,85.98717 23.23221,85.76432 24.683996,85.54773 26.135468,85.33734 27.586563,85.133316 29.037258,84.93602 30.487576,84.745094 31.937387,84.56116 33.386703,84.384254 34.835472,84.21454 36.28369,84.05231 37.73129,83.89818 39.178192,83.752205 40.624454,83.614975 42.070057,83.48683 43.514893,83.36869 44.95892,83.260895 46.402206,83.16488 47.844753,83.08094 49.28635,83.01035 50.7271,82.95422 52.166946,82.91427 53.60584,82.89231 55.043617,82.89001 56.480457,82.90965 57.916164,82.95474 59.350613,83.028366 60.7838,83.13446 62.215622,83.278206 63.645874,83.4658 65.07454,83.70494 66.50126,84.00574 67.92573,84.37986 69.347786,84.84355 70.766884,85.41746 72.18235,86.13016 73.59353,87.01977 74.99913,88.138885 76.39775,89.56572 77.786896,91.41371 79.16317,93.860176 80.521095,97.18887 81.85133,101.875534 83.13826,108.744255 84.35197,119.2148 85.433815,135.29683 86.26747,157.65851 86.661575,-178.63531 86.46573,-160.23141 85.76067,-148.0413 84.747635,-140.11519 83.57049,-134.78543 82.304016,-131.05197 80.9856,-128.33836 79.635,-126.30593 78.26318,-124.74813 76.87664,-123.533005 75.47954,-122.57079 74.07441,-122.48598 73.9337,-121.32606 73.92564,-113.06527 73.69062,-105.75301 73.21988,-101.7756 72.85848,-97.62682 72.402855,-95.077225 72.08403,-92.16667 71.685234,-90.23939 71.40127,-87.90062 71.03568,-86.26612 70.76649,-84.18554 70.407265,-82.66483 70.13275,-80.64451 69.75209,-79.10392 69.44928,-76.96696 69.01052,-75.26278 68.644035,-72.78178 68.081215,-70.696075 67.57729,-67.46633 66.729904,-64.542755 65.8768,-59.5154 64.1618,-57.370598 63.31143,-57.370598 63.31143,))', 'url': \"https://s5phub.copernicus.eu/dhus/odata/v1/Products('3210863b-b072-46ea-afa7-14134a7777d0')/$value\", 'Online': True, 'Creation Date': datetime.datetime(2020, 3, 24, 0, 40, 3, 520000), 'Ingestion Date': datetime.datetime(2020, 3, 24, 0, 35, 8, 599000), 'quicklook_url': \"https://s5phub.copernicus.eu/dhus/odata/v1/Products('3210863b-b072-46ea-afa7-14134a7777d0')/Products('Quicklook')/$value\", 'path': 'data\\\\L2\\\\S5P_OFFL_L2__CO_____20200322T072658_20200322T090828_12640_01_010302_20200323T211319.nc', 'downloaded_bytes': 169999173}, 'b68f7570-b98f-4bca-8a92-6c538d78dc25': {'id': 'b68f7570-b98f-4bca-8a92-6c538d78dc25', 'title': 'S5P_OFFL_L2__CO_____20200320T080447_20200320T094618_12612_01_010302_20200321T215201', 'size': 164544950, 'md5': '0FC3A4A867ACCC43819FF5F465ECA72C', 'date': datetime.datetime(2020, 3, 20, 8, 26, 21), 'footprint': 'POLYGON((-65.27837 63.845894,-62.413353 64.70279,-59.363453 65.49794,-56.12705 66.22553,-52.70499 66.87905,-49.10385 67.45194,-45.336113 67.93826,-41.42039 68.33178,-37.38282 68.62773,-33.25467 68.821785,-29.072855 68.911446,-24.876965 68.89504,-20.707577 68.77287,-16.603926 68.54694,-12.601008 68.2204,-8.729043 67.79768,-5.0113573 67.28413,-1.4647816 66.6859,1.9000866 66.008965,5.0782223 65.25986,8.070257 64.44542,10.879142 63.570946,13.511911 62.6429,15.976005 61.665863,18.281376 60.645027,20.437937 59.584766,22.455967 58.489067,24.345495 57.36157,26.115938 56.205242,27.77669 55.02305,29.336058 53.817318,30.802937 52.590714,32.183807 51.34485,33.486023 50.081654,34.715675 48.80271,35.87868 47.509468,36.979946 46.203087,38.024364 44.884747,39.016315 43.555424,39.9599 42.21611,40.858406 40.867573,41.71544 39.51067,42.53384 38.145912,43.316288 36.77392,44.065098 35.3953,44.783134 34.010612,45.471626 32.62004,46.1333 31.224348,46.769276 29.823679,47.381733 28.418583,47.97144 27.009134,48.540333 25.595854,49.08946 24.178951,49.619877 22.75863,50.132656 21.335154,50.628857 19.908792,51.109344 18.47971,51.574825 17.04807,52.026245 15.614122,52.464104 14.178049,52.88924 12.739901,53.302082 11.299967,53.703426 9.858365,54.09348 8.415179,54.472897 6.970508,54.842064 5.524612,55.201553 4.077522,55.55152 2.629296,55.892334 1.1801392,56.224445 -0.26982188,56.548004 -1.7206354,56.86346 -3.1719437,57.17093 -4.6238613,57.470387 -6.0763674,57.762493 -7.529155,58.04718 -8.982269,58.32456 -10.435608,58.59479 -11.889127,58.858097 -13.342682,59.114563 -14.796236,59.3641 -16.249722,59.60691 -17.703098,59.843052 -19.156221,60.072258 -20.609138,60.294994 -22.061672,60.51095 -23.513872,60.719913 -24.965548,60.92224 -26.416769,61.1174 -27.867466,61.305393 -29.317562,61.486153 -30.76703,61.659534 -32.21577,61.825157 -33.66372,61.9827 -35.11097,62.13193 -36.55737,62.272625 -38.002853,62.403774 -39.447437,62.525665 -40.891083,62.637306 -42.333744,62.738007 -43.775314,62.82728 -45.2158,62.904064 -46.65518,62.967247 -48.093403,63.015926 -49.530373,63.04859 -50.96606,63.064133 -52.400406,63.059692 -53.833344,63.034653 -55.264835,62.985268 -56.69468,62.90935 -58.122906,62.802967 -59.54938,62.66264 -60.973938,62.482567 -62.396385,62.25682 -63.816547,61.978603 -65.23417,61.637535 -66.648964,61.222862 -68.06046,60.718987 -69.46821,60.107895 -70.87157,59.364143 -72.26959,58.45481 -73.66121,57.33464 -75.04467,55.941063 -76.41773,54.186382 -77.777115,51.94169 -79.11795,49.010883 -80.4326,45.094906 -81.70884,39.718006 -82.92618,32.127846 -84.04838,21.24196 -85.01143,5.972366 -85.70676,-13.223764 -85.993126,-32.798317 -85.786156,-48.821545 -85.14889,-60.370712 -84.22188,-68.42157 -83.121445,-74.103226 -81.917915,-78.222115 -80.65109,-81.29216 -79.3435,-83.634476 -78.00816,-83.77033 -77.9185,-85.3021 -78.07885,-97.229095 -78.94636,-109.16381 -79.25453,-116.00131 -79.20329,-123.16185 -78.96028,-127.47152 -78.70725,-132.21507 -78.3176,-135.21509 -77.99964,-138.67294 -77.54998,-140.95831 -77.1948,-143.7013 -76.6951,-145.5851 -76.29696,-147.92789 -75.72625,-149.59239 -75.259895,-151.7306 -74.5698,-153.29953 -73.98453,-155.38347 -73.07873,-156.97003 -72.268814,-159.17395 -70.92702,-160.9528 -69.61687,-163.65741 -67.12841,-164.70932 -65.96453,-164.70932 -65.96453,-168.03603 -66.65343,-171.54582 -67.26538,-175.22899 -67.79454,-179.07005 -68.2347,176.9523 -68.580345,172.8672 -68.82683,168.70857 -68.97054,164.5149 -69.00975,160.3261 -68.94341,156.18259 -68.772865,152.12163 -68.5003,148.176 -68.12961,144.37274 -67.66578,140.73206 -67.11442,137.2682 -66.481415,133.98784 -65.77345,130.89474 -64.99654,127.98657 -64.15711,125.25787 -63.261112,122.701996 -62.313698,120.30999 -61.320118,118.07154 -60.284985,115.97748 -59.212326,114.01694 -58.1061,112.18042 -56.969498,110.4584 -55.80555,108.84195 -54.61685,107.32254 -53.40594,105.892426 -52.174873,104.54484 -50.92555,103.27289 -49.659645,102.07076 -48.378532,100.93314 -47.08364,99.854576 -45.7761,98.830505 -44.457184,97.8572 -43.127636,96.93031 -41.78846,96.04725 -40.4403,95.20404 -39.083923,94.39821 -37.719986,93.62708 -36.34909,92.88825 -34.97168,92.17944 -33.58824,91.49883 -32.199345,90.84448 -30.805208,90.21473 -29.406267,89.60813 -28.002924,89.02332 -26.595306,88.458595 -25.18401,87.913216 -23.769016,87.38587 -22.350693,86.87544 -20.929283,86.38132 -19.504965,85.90242 -18.077934,85.43795 -16.648418,84.987144 -15.216559,84.54939 -13.782577,84.12395 -12.346553,83.710464 -10.908662,83.3081 -9.469079,82.91649 -8.02798,82.53527 -6.585336,82.16375 -5.1414614,81.80184 -3.696275,81.44893 -2.2499602,81.10494 -0.8026803,80.76913 0.6454071,80.44157 2.0944464,80.12192 3.5441225,79.809845 4.9944363,79.50527 6.4453144,79.20766 7.896588,78.917114 9.34831,78.63359 10.800403,78.3567 12.252642,78.08622 13.705061,77.82233 15.157551,77.56489 16.61017,77.31355 18.06275,77.06861 19.51525,76.829956 20.967619,76.59728 22.419762,76.370895 23.871786,76.15073 25.323439,75.93676 26.774773,75.729294 28.225758,75.52809 29.676329,75.33359 31.126446,75.14571 32.576126,74.96475 34.025234,74.79099 35.473816,74.62437 36.92175,74.46561 38.369144,74.31502 39.815796,74.17268 41.261814,74.039444 42.707096,73.91572 44.151646,73.802124 45.59548,73.69969 47.038364,73.60835 48.48059,73.53021 49.921867,73.46569 51.36226,73.41657 52.80172,73.38407 54.240204,73.37065 55.677635,73.37743 57.114006,73.40811 58.549194,73.46484 59.983204,73.5525 61.415817,73.6742 62.84704,73.83642 64.27668,74.04574 65.704544,74.31087 67.13029,74.64167 68.55385,75.05297 69.974686,75.56258 71.39231,76.19368 72.80608,76.97827 74.21502,77.961266 75.61787,79.20505 77.01267,80.7999 78.39675,82.88485 79.76581,85.67669 81.11301,89.52998 82.4268,95.04864 83.68641,103.288704 84.85186,115.98452 85.8433,135.01169 86.50943,158.93779 86.64987,-179.17584 86.20569,-163.69235 85.3413,-153.63754 84.24272,-147.02129 83.0196,-142.49149 81.726814,-139.26228 80.39233,-136.88228 79.03129,-135.08046 77.65223,-133.68756 76.26058,-132.59361 74.8596,-132.5288 74.76603,-131.30658 74.762314,-122.59287 74.54768,-114.8884 74.079315,-110.71059 73.71302,-106.36718 73.2477,-103.7065 72.92062,-100.6778 72.51031,-98.6776 72.21751,-96.256226 71.83993,-94.56788 71.56153,-92.42345 71.18965,-90.85941 70.90522,-88.78593 70.51053,-87.20817 70.19638,-85.02448 69.741,-83.28707 69.36052,-80.76416 68.77621,-78.64929 68.25321,-75.38566 67.37455,-72.44368 66.4914,-67.41322 64.72114,-65.27837 63.845894,-65.27837 63.845894,))', 'url': \"https://s5phub.copernicus.eu/dhus/odata/v1/Products('b68f7570-b98f-4bca-8a92-6c538d78dc25')/$value\", 'Online': True, 'Creation Date': datetime.datetime(2020, 3, 22, 1, 10, 2, 810000), 'Ingestion Date': datetime.datetime(2020, 3, 22, 1, 5, 5, 862000), 'quicklook_url': \"https://s5phub.copernicus.eu/dhus/odata/v1/Products('b68f7570-b98f-4bca-8a92-6c538d78dc25')/Products('Quicklook')/$value\", 'path': 'data\\\\L2\\\\S5P_OFFL_L2__CO_____20200320T080447_20200320T094618_12612_01_010302_20200321T215201.nc', 'downloaded_bytes': 164544950}, '470b210a-a07c-498c-8205-23ac2109c430': {'id': '470b210a-a07c-498c-8205-23ac2109c430', 'title': 'S5P_OFFL_L2__CO_____20200331T061814_20200331T075944_12767_01_010302_20200401T200023', 'size': 170560205, 'md5': '71C5CB4F9D44CB7834E5590C28FA32A7', 'date': datetime.datetime(2020, 3, 31, 6, 39, 49), 'footprint': 'POLYGON((-46.16877 60.825756,-43.835785 61.839508,-41.342438 62.808674,-38.67916 63.72825,-35.83794 64.592766,-32.81304 65.39656,-29.600859 66.13336,-26.203476 66.797226,-22.625462 67.38121,-18.878443 67.87909,-14.981182 68.2854,-10.957884 68.59451,-6.8396444 68.80231,-2.6624942 68.905785,1.5338409 68.903465,5.709104 68.795364,9.823625 68.58318,13.84175 68.26957,17.732735 67.8592,21.471987 67.35735,25.04206 66.77,28.431318 66.103096,31.634518 65.36333,34.651146 64.5571,37.484005 63.690216,40.139328 62.768723,42.625454 61.79796,44.95136 60.782722,47.126953 59.727406,49.162632 58.63612,51.068623 57.51266,52.854267 56.359924,54.528934 55.18096,56.101418 53.97826,57.58002 52.75431,58.97192 51.51086,60.28404 50.24977,61.523033 48.972908,62.69439 47.68134,63.803577 46.37668,64.85535 45.05986,65.85413 43.732002,66.803604 42.39383,67.708015 41.046547,68.57018 39.6906,69.39355 38.326843,70.18044 36.95573,70.93368 35.577946,71.65557 34.193974,72.34806 32.804256,73.013016 31.409199,73.652405 30.009254,74.26774 28.604603,74.86053 27.195776,75.4319 25.782911,75.9838 24.36654,76.516464 22.946613,77.03144 21.523493,77.5299 20.097572,78.01238 18.668848,78.479744 17.237524,78.93287 15.803851,79.37257 14.368059,79.79929 12.930153,80.21375 11.490537,80.61631 10.04899,81.00804 8.606053,81.38886 7.1616154,81.75941 5.715859,82.12012 4.2688975,82.47128 2.820904,82.81321 1.371816,83.14664 -0.078013815,83.47127 -1.5286701,83.78773 -2.9799986,84.09611 -4.4318833,84.3968 -5.884235,84.689896 -7.3369803,84.97549 -8.790042,85.25384 -10.243354,85.52511 -11.696831,85.78951 -13.15031,86.04661 -14.603912,86.29731 -16.057302,86.540886 -17.510723,86.777985 -18.963854,87.00837 -20.416697,87.23208 -21.869217,87.44872 -23.321468,87.65878 -24.773214,87.86191 -26.22448,88.05803 -27.675203,88.24722 -29.125313,88.42914 -30.574797,88.60329 -32.02366,88.76996 -33.471725,88.92846 -34.91904,89.079285 -36.365433,89.22092 -37.811028,89.353615 -39.25573,89.476814 -40.69945,89.5898 -42.14216,89.69219 -43.58386,89.78299 -45.024494,89.86147 -46.46397,89.926476 -47.902317,89.97728 -49.33942,90.012024 -50.775227,90.02996 -52.2097,90.0287 -53.64279,90.00641 -55.07439,89.9603 -56.504456,89.88847 -57.932922,89.78648 -59.359577,89.65082 -60.784306,89.47587 -62.20706,89.25751 -63.627525,88.986626 -65.045395,88.654686 -66.46055,88.250626 -67.8725,87.76029 -69.280754,87.16515 -70.684715,86.44024 -72.083466,85.555504 -73.47596,84.46737 -74.86058,83.11487 -76.23519,81.41537 -77.5966,79.2456 -78.94029,76.42255 -80.25901,72.661804 -81.54132,67.516785 -82.76818,60.28123 -83.9062,49.906635 -84.89571,35.256313 -85.63512,16.44149 -85.98366,-3.3594093 -85.84247,-19.9837 -85.255,-32.093925 -84.35899,-40.540905 -83.27665,-46.48594 -82.08414,-46.815235 -82.00195,-48.8663 -82.2215,-66.79457 -83.418236,-87.050896 -83.75613,-98.5422 -83.572975,-109.67984 -83.090195,-115.76824 -82.65277,-121.88181 -82.033875,-125.42962 -81.56002,-129.22154 -80.92281,-131.55928 -80.44016,-134.19525 -79.7848,-135.90167 -79.278534,-137.90901 -78.5725,-139.25899 -78.00973,-140.9009 -77.19579,-142.03967 -76.5199,-143.466 -75.49434,-144.48665 -74.593895,-145.81451 -73.12737,-146.81635 -71.71741,-148.24142 -69.07808,-148.77147 -67.85551,-148.77147 -67.85551,-152.63184 -68.28312,-156.62494 -68.615585,-160.72125 -68.84844,-164.88605 -68.97833,-169.0807 -69.00322,-173.26476 -68.92287,-177.39871 -68.73857,178.55493 -68.45265,174.62744 -68.06935,170.84554 -67.59342,167.22833 -67.03078,163.78915 -66.38755,160.53448 -65.67009,157.4664 -64.884636,154.58244 -64.037575,151.87784 -63.13439,149.34468 -62.180588,146.97348 -61.181408,144.75533 -60.141117,142.67952 -59.06396,140.73619 -57.95349,138.91539 -56.813217,137.20787 -55.645897,135.6047 -54.454353,134.09755 -53.240723,132.67899 -52.007263,131.34155 -50.75571,130.0793 -49.487713,128.88617 -48.204796,127.75638 -46.908268,126.6853 -45.599285,125.668144 -44.278973,124.70106 -42.948143,123.780365 -41.60781,122.90247 -40.258614,122.06435 -38.90127,121.26334 -37.536457,120.49639 -36.16474,119.761665 -34.78656,119.05673 -33.402504,118.37966 -32.01283,117.72851 -30.618141,117.10187 -29.218666,116.498245 -27.814775,115.91591 -26.406828,115.35391 -24.99498,114.810715 -23.579649,114.28586 -22.160927,113.77751 -20.739199,113.28532 -19.314594,112.80825 -17.887276,112.34559 -16.457502,111.89659 -15.025416,111.46036 -13.591223,111.03674 -12.154971,110.6245 -10.716941,110.22382 -9.277163,109.83334 -7.835888,109.45349 -6.3931475,109.08342 -4.9490848,108.72257 -3.5038648,108.37078 -2.0574472,108.027725 -0.6101165,107.69307 0.8381256,107.36656 2.2871363,107.047806 3.7368538,106.736664 5.187226,106.43298 6.638124,106.13642 8.089454,105.8467 9.541177,105.563896 10.993178,105.28781 12.445404,105.0183 13.897878,104.75525 15.350391,104.4984 16.802906,104.24792 18.255447,104.00375 19.707918,103.765816 21.160238,103.53388 22.61235,103.30823 24.064245,103.08891 25.515867,102.875786 26.967154,102.669136 28.41805,102.46879 29.868591,102.27498 31.318611,102.08802 32.768158,101.907875 34.217213,101.73504 35.665676,101.569496 37.113556,101.411804 38.56082,101.262184 40.007404,101.121086 41.4533,100.989044 42.898483,100.86646 44.342976,100.754166 45.78664,100.65269 47.229492,100.56329 48.671505,100.486496 50.11273,100.42408 51.55295,100.376976 52.992275,100.34687 54.430622,100.3355 55.867973,100.34584 57.30415,100.379234 58.739254,100.44005 60.173058,100.53158 61.605537,100.65809 63.036552,100.826355 64.46592,101.04206 65.89354,101.315315 67.31905,101.655945 68.74227,102.07867 70.16278,102.60249 71.57992,103.25188 72.99311,104.05953 74.40135,105.07323 75.80329,106.35664 77.19689,108.00697 78.5793,110.17049 79.946014,113.07823 81.289604,117.109474 82.597755,122.91473 83.84779,131.62804 84.99616,145.07477 85.955284,164.97449 86.56284,-170.91002 86.6234,-149.7678 86.111465,-135.12196 85.20652,-125.62757 84.08657,-119.351425 82.851746,-115.02898 81.55213,-111.934135 80.213394,-109.64488 78.84943,-107.90551 77.46842,-106.55781 76.07535,-105.49737 74.67331,-104.6527 73.2644,-103.97547 71.85027,-103.42946 70.43182,-103.39744 70.33719,-102.44707 70.31386,-95.69419 70.00576,-89.68894 69.522865,-86.38953 69.175835,-82.91181 68.75116,-80.753 68.45951,-78.26622 68.099396,-76.60564 67.845566,-74.57492 67.5214,-73.14521 67.28431,-71.312416 66.969734,-69.96346 66.73053,-68.158844 66.400276,-66.77297 66.13857,-64.836365 65.76068,-63.279804 65.445915,-60.993725 64.96343,-59.052723 64.53166,-56.010143 63.804287,-53.21436 63.06849,-48.305172 61.574444,-46.16877 60.825756,-46.16877 60.825756,))', 'url': \"https://s5phub.copernicus.eu/dhus/odata/v1/Products('470b210a-a07c-498c-8205-23ac2109c430')/$value\", 'Online': True, 'Creation Date': datetime.datetime(2020, 4, 1, 23, 10, 4, 137000), 'Ingestion Date': datetime.datetime(2020, 4, 1, 23, 5, 22, 411000), 'quicklook_url': \"https://s5phub.copernicus.eu/dhus/odata/v1/Products('470b210a-a07c-498c-8205-23ac2109c430')/Products('Quicklook')/$value\", 'path': 'data\\\\L2\\\\S5P_OFFL_L2__CO_____20200331T061814_20200331T075944_12767_01_010302_20200401T200023.nc', 'downloaded_bytes': 170560205}, 'c02f83f5-86d3-467e-9fe6-6e548705c5d6': {'id': 'c02f83f5-86d3-467e-9fe6-6e548705c5d6', 'title': 'S5P_OFFL_L2__CO_____20200326T075249_20200326T093419_12697_01_010302_20200327T213609', 'size': 168313798, 'md5': 'C1FEBD7C70E3C97C5B4EBD99B0D606D6', 'date': datetime.datetime(2020, 3, 26, 8, 14, 23), 'footprint': 'POLYGON((-66.65978 62.22619,-64.10052 63.176315,-61.368088 64.07481,-58.4548 64.91589,-55.35639 65.69392,-52.071064 66.4027,-48.601337 67.03566,-44.955273 67.586365,-41.146725 68.04869,-37.196777 68.41714,-33.13242 68.68669,-28.986893 68.8536,-24.797588 68.915344,-20.60511 68.87113,-16.449799 68.72166,-12.369668 68.46907,-8.398875 68.116844,-4.5655913 67.66981,-0.8915933 67.133575,2.6077757 66.51394,5.923855 65.81769,9.052959 65.05086,11.996356 64.22017,14.758207 63.33111,17.345802 62.389706,19.767233 61.400715,22.032936 60.36941,24.15214 59.299515,26.13545 58.195255,27.992718 57.05986,29.733538 55.89646,31.367002 54.70792,32.90145 53.49657,34.345016 52.26474,35.704865 51.014313,36.987385 49.74681,38.199234 48.4641,39.34545 47.16726,40.4315 45.857704,41.461742 44.53637,42.44068 43.204403,43.372265 41.862713,44.259773 40.51197,45.106384 39.15288,45.915146 37.786224,46.68847 36.41244,47.42916 35.032238,48.139263 33.64595,48.820805 32.254135,49.475548 30.857033,50.10527 29.455261,50.71155 28.048975,51.29592 26.638573,51.85943 25.224314,52.403633 23.80652,52.92944 22.385448,53.43768 20.96114,53.92974 19.534012,54.40628 18.104301,54.868 16.672075,55.316017 15.23767,55.75035 13.800964,56.17235 12.362387,56.582027 10.921991,56.980488 9.480018,57.36783 8.036436,57.74448 6.5914097,58.111195 5.14524,58.46813 3.6977794,58.815777 2.2494273,59.154335 0.8000367,59.48406 -0.65013224,59.80566 -2.1010253,60.118874 -3.552561,60.424263 -5.00458,60.721947 -6.457104,61.012157 -7.9100337,61.294815 -9.363201,61.5703 -10.816608,61.8389 -12.270112,62.10036 -13.723637,62.355053 -15.177171,62.602844 -16.630606,62.844025 -18.083864,63.078403 -19.536942,63.306107 -20.989695,63.52695 -22.442165,63.741062 -23.89419,63.948364 -25.345774,64.14877 -26.796873,64.34242 -28.247303,64.528435 -29.697258,64.70722 -31.146545,64.87877 -32.59504,65.04236 -34.04275,65.19781 -35.48981,65.34497 -36.935898,65.4831 -38.38117,65.61229 -39.825504,65.7315 -41.26885,65.84026 -42.711258,65.93814 -44.152534,66.0243 -45.59274,66.09763 -47.03178,66.157196 -48.469685,66.20216 -49.90626,66.230286 -51.34162,66.24119 -52.775566,66.23145 -54.20815,66.20041 -55.639175,66.14465 -57.068634,66.06097 -58.496414,65.946526 -59.92235,65.7964 -61.346375,65.60517 -62.76824,65.36657 -64.18775,65.07311 -65.604675,64.71415 -67.018616,64.2784 -68.42922,63.749134 -69.835915,63.10596 -71.23794,62.32272 -72.63445,61.362583 -74.02407,60.179604 -75.405106,58.701954 -76.77502,56.83423 -78.130165,54.433094 -79.46508,51.28075 -80.77115,47.038082 -82.03451,41.16963 -83.23144,32.83788 -84.31998,20.885391 -85.22569,4.425199 -85.82792,-15.324835 -85.98832,-34.255825 -85.65709,-49.081432 -84.9302,-59.597622 -83.94856,-66.93069 -82.81575,-72.13981 -81.59264,-75.94301 -80.3134,-76.15902 -80.22671,-77.96158 -80.41502,-92.669716 -81.43298,-108.12047 -81.75736,-116.96141 -81.65195,-125.9695 -81.30552,-131.19617 -80.96941,-136.73785 -80.47243,-140.11644 -80.07897,-143.88185 -79.53585,-146.29245 -79.11553,-149.10207 -78.53452,-150.97803 -78.07878,-153.24927 -77.43468,-154.8206 -76.91513,-156.78639 -76.155594,-158.19029 -75.5187,-160.00357 -74.54358,-161.34439 -73.68042,-163.15099 -72.26406,-164.56429 -70.89328,-166.64674 -68.311745,-167.43906 -67.111275,-167.43906 -67.111275,-171.07774 -67.66268,-174.87927 -68.12662,-178.82335 -68.4972,177.11707 -68.7702,172.97458 -68.94077,168.78638 -69.007454,164.59305 -68.968704,160.43436 -68.82515,156.34868 -68.57911,152.3705 -68.23364,148.52824 -67.793564,144.8438 -67.26454,141.33292 -66.65222,138.00455 -65.96333,134.86275 -65.2039,131.90645 -64.380394,129.13165 -63.498665,126.5313 -62.56431,124.097626 -61.582317,121.82026 -60.55764,119.68912 -59.494617,117.69471 -58.39681,115.826775 -57.267864,114.075806 -56.11087,112.43207 -54.92858,110.88811 -53.723286,109.43547 -52.49737,108.067055 -51.252594,106.775894 -49.990894,105.55601 -48.71373,104.40184 -47.42232,103.307884 -46.118225,102.27015 -44.802097,101.28387 -43.4753,100.345375 -42.138565,99.45094 -40.792694,98.597534 -39.438496,97.78212 -38.07653,97.00199 -36.70745,96.25481 -35.33172,95.53839 -33.949875,94.85059 -32.56233,94.18955 -31.169546,93.55344 -29.771883,92.94103 -28.369638,92.35034 -26.963207,91.78051 -25.55285,91.23006 -24.138866,90.69803 -22.721403,90.18339 -21.300854,89.68488 -19.877234,89.20211 -18.4509,88.733795 -17.022118,88.2794 -15.590933,87.83828 -14.157453,87.40977 -12.721963,86.993095 -11.284614,86.58774 -9.84553,86.19345 -8.404783,85.80942 -6.962529,85.43551 -5.518919,85.07096 -4.0741334,84.715675 -2.6282105,84.3693 -1.181224,84.03145 0.2667352,83.70173 1.715477,83.379845 3.1649523,83.065735 4.615084,82.75918 6.0658097,82.45974 7.516968,82.16736 8.968591,81.881905 10.42048,81.6032 11.872694,81.331116 13.325076,81.06547 14.777557,80.80633 16.230148,80.553375 17.682674,80.30673 19.135212,80.0662 20.587578,79.83194 22.03979,79.604004 23.491776,79.38206 24.943514,79.16648 26.394934,78.957275 27.846039,78.754295 29.296682,78.5579 30.746899,78.36828 32.196682,78.18551 33.645905,78.00955 35.094646,77.84122 36.542717,77.68028 37.990158,77.527534 39.437023,77.382614 40.88324,77.24725 42.32868,77.12082 43.773457,77.00433 45.21743,76.89861 46.660667,76.80421 48.10303,76.72256 49.544518,76.654335 50.985107,76.60088 52.424786,76.563705 53.863556,76.54501 55.30123,76.546265 56.73785,76.570175 58.173405,76.61965 59.607685,76.69844 61.040703,76.810616 62.4723,76.961426 63.90234,77.157616 65.33065,77.406746 66.756996,77.71913 68.18119,78.10754 69.60283,78.58882 71.02136,79.184875 72.436195,79.92533 73.846535,80.85058 75.25111,82.01805 76.64835,83.508804 78.0356,85.44801 79.40913,88.02608 80.76301,91.55395 82.08716,96.55567 83.36385,103.94263 84.55981,115.26472 85.608246,132.5417 86.37922,155.71042 86.67339,178.83777 86.37296,-163.9534 85.59803,-152.68361 84.546936,-145.326 83.349434,-140.3442 82.071335,-136.82889 80.74584,-134.25888 79.390656,-132.32617 78.01567,-130.83907 76.62692,-129.67548 75.22809,-128.7532 73.82175,-128.01485 72.40956,-127.97113 72.31528,-126.91609 72.29969,-119.41276 72.02892,-112.75673 71.55286,-109.11781 71.19902,-105.30177 70.75918,-102.94451 70.45405,-100.24105 70.07459,-98.44316 69.80561,-96.25281 69.46053,-94.716255 69.20716,-92.75331 68.86986,-91.3135 68.61262,-89.39393 68.25653,-87.924934 67.973694,-85.87969 67.56439,-84.24224 67.22284,-81.84793 66.69859,-79.82519 66.22916,-76.674065 65.4388,-73.80069 64.64107,-68.8095 63.029404,-66.65978 62.22619,-66.65978 62.22619,))', 'url': \"https://s5phub.copernicus.eu/dhus/odata/v1/Products('c02f83f5-86d3-467e-9fe6-6e548705c5d6')/$value\", 'Online': True, 'Creation Date': datetime.datetime(2020, 3, 28, 11, 10, 4, 153000), 'Ingestion Date': datetime.datetime(2020, 3, 28, 11, 5, 9, 528000), 'quicklook_url': \"https://s5phub.copernicus.eu/dhus/odata/v1/Products('c02f83f5-86d3-467e-9fe6-6e548705c5d6')/Products('Quicklook')/$value\", 'path': 'data\\\\L2\\\\S5P_OFFL_L2__CO_____20200326T075249_20200326T093419_12697_01_010302_20200327T213609.nc', 'downloaded_bytes': 168313798}, '8d2ac8d7-9734-400d-b92f-caf37286d468': {'id': '8d2ac8d7-9734-400d-b92f-caf37286d468', 'title': 'S5P_OFFL_L2__CO_____20200316T073856_20200316T092026_12555_01_010302_20200319T092845', 'size': 169659389, 'md5': '407D40D8A8B4CA0CC2B5C1BD5940932F', 'date': datetime.datetime(2020, 3, 16, 8, 0, 30), 'footprint': 'POLYGON((-55.574783 64.83969,-52.49435 65.62426,-49.226788 66.33991,-45.77401 66.98025,-42.144085 67.539154,-38.350243 68.01038,-34.412395 68.38799,-30.357458 68.6672,-26.217752 68.8441,-22.030813 68.91587,-17.836552 68.8819,-13.6756315 68.742294,-9.586509 68.49942,-5.603649 68.15676,-1.7559316 67.718414,1.934281 67.19035,5.4509826 66.57846,8.784791 65.889206,11.932169 65.12896,14.893129 64.30395,17.672142 63.42021,20.276167 62.483616,22.71335 61.49903,24.99322 60.471416,27.126003 59.40504,29.121912 58.303806,30.990723 57.17122,32.742348 56.010483,34.38572 54.82427,35.929245 53.614998,37.381115 52.385014,38.74848 51.13616,40.038086 49.87021,41.2564 48.588875,42.408646 47.29331,43.50011 45.984905,44.53561 44.664715,45.519287 43.33378,46.45504 41.992867,47.34642 40.642883,48.19673 39.28461,49.009087 37.918705,49.785583 36.54548,50.52945 35.165966,51.242172 33.78022,51.92613 32.388783,52.583397 30.992294,53.2156 29.59096,53.82385 28.185022,54.41016 26.774982,54.975742 25.361166,55.521595 23.94362,56.04901 22.522831,56.55896 21.098852,57.05255 19.67204,57.53044 18.242558,57.99349 16.81052,58.442574 15.37621,58.87832 13.93985,59.301342 12.501442,59.71238 11.061218,60.111626 9.619316,60.49999 8.175928,60.877697 6.73111,61.245132 5.2849145,61.602943 3.8376682,61.951347 2.389306,62.290802 0.94004935,62.621483 -0.5100581,62.943485 -1.9609542,63.257633 -3.4124117,63.56371 -4.864393,63.862152 -6.3168607,64.152855 -7.769776,64.43625 -9.222885,64.71242 -10.676306,64.98151 -12.129779,65.24371 -13.583297,65.49888 -15.03685,65.74733 -16.490305,65.98908 -17.943619,66.22412 -19.396677,66.452415 -20.849508,66.67385 -22.30196,66.88854 -23.754084,67.09655 -25.205677,67.29756 -26.656858,67.49158 -28.107447,67.678406 -29.557396,67.85814 -31.00667,68.03004 -32.455353,68.194115 -33.903202,68.35037 -35.35026,68.49814 -36.796497,68.63738 -38.24182,68.767105 -39.686253,68.88734 -41.129734,68.9972 -42.572174,69.09591 -44.013626,69.18316 -45.45391,69.25758 -46.89306,69.318726 -48.331036,69.36471 -49.7678,69.39473 -51.20328,69.406654 -52.63739,69.39916 -54.07006,69.37006 -55.50129,69.31665 -56.930893,69.23563 -58.358818,69.12403 -59.78498,68.97722 -61.209175,68.79014 -62.631226,68.55626 -64.05097,68.267815 -65.4682,67.915886 -66.88245,67.48721 -68.29336,66.967415 -69.70044,66.335236 -71.10298,65.567276 -72.49994,64.62553 -73.89032,63.46522 -75.27221,62.01908 -76.643265,60.19403 -78.00001,57.84991 -79.33705,54.78079 -80.646324,50.66256 -81.914505,44.980587 -83.11911,36.928417 -84.22039,25.378433 -85.14787,9.35564 -85.78545,-10.2184515 -85.99255,-29.411459 -85.70648,-44.676796 -85.01157,-55.563465 -84.04941,-63.150974 -82.92792,-68.528595 -81.71188,-72.44569 -80.43713,-75.37618 -79.12412,-77.621735 -77.785255,-79.37681 -76.428024,-79.480515 -76.33719,-80.86422 -76.48319,-91.431496 -77.27569,-101.7943 -77.57298,-107.726006 -77.54416,-113.99655 -77.346924,-117.822334 -77.13246,-122.096596 -76.79486,-124.841774 -76.515045,-128.05339 -76.11438,-130.2073 -75.79454,-132.82909 -75.34039,-134.65475 -74.975525,-136.95628 -74.44845,-138.61398 -74.014626,-140.77313 -73.36819,-142.38022 -72.81631,-144.54692 -71.956635,-146.2224 -71.18322,-148.58853 -69.89409,-150.5313 -68.62814,-153.53857 -66.209785,-154.7239 -65.07411,-154.7239 -65.07411,-157.83339 -65.84426,-161.12952 -66.54517,-164.60936 -67.17054,-168.26505 -67.71368,-172.08148 -68.1691,-176.03842 -68.53064,179.89188 -68.7937,175.74292 -68.954704,171.55215 -69.01105,167.35968 -68.96223,163.20586 -68.808685,159.12863 -68.552765,155.162 -68.19813,151.33348 -67.74937,147.66504 -67.21177,144.17108 -66.59176,140.86026 -65.89568,137.73622 -65.129776,134.79759 -64.3003,132.03981 -63.413177,129.45593 -62.47395,127.0373 -61.487713,124.77447 -60.459103,122.657104 -59.392384,120.67543 -58.291344,118.818886 -57.159584,117.07853 -55.99999,115.4452 -54.815247,113.91031 -53.607895,112.46618 -52.380005,111.1055 -51.13349,109.82136 -49.870213,108.60816 -48.591473,107.460236 -47.298733,106.372086 -45.99336,105.33939 -44.676216,104.35794 -43.3484,103.42392 -42.0107,102.53355 -40.664043,101.68405 -39.30893,100.87219 -37.946266,100.09553 -36.576447,99.35148 -35.200085,98.638 -33.817646,97.95286 -32.429543,97.294365 -31.036293,96.660736 -29.638071,96.05033 -28.235464,95.46186 -26.828655,94.89395 -25.417864,94.34555 -24.003477,93.81535 -22.585709,93.30235 -21.16472,92.8056 -19.740908,92.32423 -18.314322,91.857414 -16.885212,91.404366 -15.453773,90.964584 -14.020142,90.53714 -12.584447,90.12174 -11.146844,89.717545 -9.70761,89.324265 -8.266684,88.94141 -6.824298,88.56842 -5.3805995,88.20501 -3.9356372,87.85058 -2.4895506,87.50503 -1.042484,87.16803 0.40551472,86.83907 1.8543425,86.518234 3.3038845,86.20496 4.754132,85.89907 6.2048597,85.600365 7.656096,85.30887 9.107757,85.02421 10.559721,84.7461 12.01192,84.47472 13.464302,84.20976 14.916802,83.951126 16.369347,83.69918 17.821884,83.452866 19.274439,83.213264 20.72679,82.97971 22.179018,82.75233 23.630959,82.53126 25.08266,82.31627 26.534082,82.107864 27.985056,81.90554 29.435764,81.709854 30.885946,81.52106 32.335625,81.33907 33.78481,81.16413 35.233395,80.9965 36.681496,80.83647 38.128933,80.68453 39.575695,80.54092 41.021812,80.406136 42.467155,80.28113 43.911777,80.16586 45.35571,80.06125 46.79885,79.96808 48.241085,79.88768 49.682503,79.82121 51.123,79.76935 52.562557,79.73419 54.001194,79.71741 55.43881,79.72108 56.875282,79.74749 58.310696,79.80013 59.74481,79.88211 61.17768,79.9983 62.60908,80.15366 64.038925,80.354774 65.46704,80.61017 66.893166,80.929245 68.31707,81.32706 69.73832,81.81892 71.15646,82.42814 72.570885,83.185394 73.98062,84.13169 75.38453,85.32766 76.78074,86.85711 78.16683,88.84936 79.538666,91.504166 80.890045,95.149445 82.21038,100.33563 83.48069,108.022415 84.66584,119.82847 85.694214,137.73811 86.428116,161.22223 86.66686,-176.07457 86.313034,-159.5104 85.5042,-148.70052 84.4353,-141.62256 83.22833,-136.809 81.94481,-133.39983 80.61615,-130.89905 79.25892,-129.01366 77.882545,-127.561424 76.492775,-127.47602 76.39985,-126.109314 76.406044,-116.33517 76.2375,-107.71246 75.77328,-103.07143 75.39489,-98.285126 74.90654,-95.375854 74.56022,-92.08704 74.123375,-89.92891 73.810425,-87.33143 73.405716,-85.53016 73.106674,-83.25405 72.706566,-81.60229 72.40017,-79.42323 71.974625,-77.773285 71.63569,-75.50118 71.1442,-73.7029 70.73355,-71.10656 70.1032,-68.943886 69.53968,-65.6316 68.59517,-62.67254 67.64942,-57.673183 65.76551,-55.574783 64.83969,-55.574783 64.83969,))', 'url': \"https://s5phub.copernicus.eu/dhus/odata/v1/Products('8d2ac8d7-9734-400d-b92f-caf37286d468')/$value\", 'Online': True, 'Creation Date': datetime.datetime(2020, 3, 19, 13, 15, 9, 492000), 'Ingestion Date': datetime.datetime(2020, 3, 19, 13, 10, 51, 185000), 'quicklook_url': \"https://s5phub.copernicus.eu/dhus/odata/v1/Products('8d2ac8d7-9734-400d-b92f-caf37286d468')/Products('Quicklook')/$value\", 'path': 'data\\\\L2\\\\S5P_OFFL_L2__CO_____20200316T073856_20200316T092026_12555_01_010302_20200319T092845.nc', 'downloaded_bytes': 169659389}, '35f2df60-49b3-4761-a9f2-756e2dfc098d': {'id': '35f2df60-49b3-4761-a9f2-756e2dfc098d', 'title': 'S5P_OFFL_L2__CO_____20200309T062819_20200309T080949_12455_01_010302_20200312T132340', 'size': 172657944, 'md5': 'DE121C82BB4C66E08DAC6F6A829928AC', 'date': datetime.datetime(2020, 3, 9, 6, 49, 53), 'footprint': 'POLYGON((-31.745464 66.347786,-28.290945 66.987434,-24.659084 67.54544,-20.863522 68.01567,-16.924168 68.392334,-12.867798 68.67035,-8.727372 68.84614,-4.539762 68.91687,-0.34545526 68.88169,3.8149526 68.740974,7.903225 68.49711,11.885004 68.153046,15.731292 67.71382,19.419617 67.18476,22.934456 66.57191,26.266472 65.881744,29.411728 65.12079,32.370785 64.2951,35.147804 63.410675,37.750084 62.473515,40.18535 61.488388,42.463562 60.460213,44.594727 59.39329,46.58921 58.291786,48.456707 57.15878,50.20701 55.99763,51.849148 54.811066,53.391525 53.60149,54.842503 52.37125,56.208893 51.12219,57.4978 49.85609,58.715168 48.57445,59.866745 47.278816,60.957687 45.97026,61.992424 44.64982,62.97548 43.318726,63.910755 41.97767,64.80178 40.627674,65.651596 39.26925,66.46324 37.903126,67.23958 36.529934,67.98279 35.150158,68.69514 33.764305,69.378975 32.372864,70.03595 30.976322,70.6676 29.574785,71.275764 28.168837,71.86168 26.758657,72.42701 25.344774,72.97278 23.927227,73.49995 22.506325,74.00971 21.08232,74.50298 19.655436,74.98066 18.225817,75.44358 16.793802,75.89252 15.359466,76.32805 13.923,76.750946 12.484524,77.161705 11.044257,77.5609 9.602332,77.949104 8.158836,78.32666 6.713945,78.6942 5.267829,79.051735 3.820493,79.40027 2.3722162,79.73947 0.92285395,80.069885 -0.5273586,80.392105 -1.9781693,80.70612 -3.429645,81.012054 -4.8817396,81.31005 -6.3343472,81.60095 -7.787148,81.88437 -9.240289,82.160385 -10.69374,82.42939 -12.147263,82.69157 -13.600776,82.94674 -15.054356,83.19523 -16.507803,83.436745 -17.961132,83.671745 -19.414217,83.899925 -20.867054,84.12135 -22.319525,84.336044 -23.771627,84.54382 -25.2233,84.744835 -26.674404,84.93883 -28.124964,85.12574 -29.5749,85.305176 -31.024231,85.47706 -32.47287,85.641464 -33.92068,85.79746 -35.367775,85.94524 -36.814003,86.08419 -38.259315,86.21409 -39.703693,86.33411 -41.14722,86.44382 -42.589626,86.54257 -44.031013,86.62974 -45.47129,86.70412 -46.910465,86.764656 -48.34846,86.81065 -49.785187,86.84057 -51.220543,86.85273 -52.654675,86.84501 -54.08733,86.815636 -55.51852,86.76219 -56.948105,86.68085 -58.376045,86.56916 -59.802135,86.4219 -61.226326,86.234406 -62.64836,85.999855 -64.06807,85.71131 -65.4852,85.35822 -66.89942,84.92876 -68.31028,84.407616 -69.717316,83.77493 -71.11979,83.00438 -72.5168,82.06149 -73.90698,80.897865 -75.28881,79.44802 -76.65973,77.618225 -78.01624,75.26779 -79.35308,72.1878 -80.66193,68.054504 -81.92948,62.35055 -83.133286,54.263783 -84.23298,42.666313 -85.15802,26.587116 -85.79127,6.9890594 -85.99277,-12.175488 -85.701,-27.388035 -85.00211,-38.227955 -84.037346,-45.78446 -82.91457,-51.139343 -81.69747,-55.042805 -80.422226,-57.963688 -79.10892,-60.202538 -77.76981,-61.95281 -76.412384,-63.342293 -75.04155,-64.46092 -73.66067,-64.527306 -73.568344,-65.70834 -73.69498,-74.53275 -74.38698,-82.98931 -74.66556,-87.8188 -74.66106,-92.96946 -74.51729,-96.15556 -74.34959,-99.77214 -74.07708,-102.134674 -73.84634,-104.94612 -73.5104,-106.864426 -73.23847,-109.2395 -72.84759,-110.92203 -72.53003,-113.080055 -72.06647,-114.66216 -71.681114,-116.76099 -71.101295,-118.35341 -70.60161,-120.54453 -69.815895,-122.275894 -69.10255,-124.778656 -67.90262,-126.8851 -66.713776,-130.23521 -64.421715,-131.58377 -63.33818,-131.58377 -63.33818,-134.32542 -64.229065,-137.24742 -65.06288,-140.35481 -65.83357,-143.64832 -66.53541,-147.12608 -67.16134,-150.77908 -67.7057,-154.59349 -68.16197,-158.54851 -68.52453,-162.6166 -68.788895,-166.76439 -68.951096,-170.95445 -69.008835,-175.14664 -68.96113,-179.30077 -68.808945,176.62154 -68.554245,172.65366 -68.20071,168.82368 -67.75299,165.15335 -67.21664,161.65724 -66.59787,158.3444 -65.90278,155.21834 -65.13759,152.27785 -64.30891,149.51767 -63.422607,146.93204 -62.4839,144.51129 -61.4984,142.24669 -60.470226,140.12775 -59.40409,138.14427 -58.303566,136.28653 -57.172073,134.54463 -56.012882,132.91005 -54.82851,131.37395 -53.62141,129.9286 -52.393887,128.56705 -51.147568,127.28196 -49.884537,126.06791 -48.606064,124.91891 -47.313595,123.83018 -46.008297,122.79699 -44.691383,121.81489 -43.36363,120.880264 -42.0261,119.98943 -40.679543,119.13928 -39.32465,118.32691 -37.96208,117.54983 -36.592365,116.80547 -35.21602,116.09149 -33.833702,115.405945 -32.44573,114.747116 -31.0525,114.11306 -29.654463,113.502014 -28.25191,112.9138 -26.845083,112.34566 -25.434364,111.79694 -24.020063,111.26629 -22.602316,110.75303 -21.181517,110.25606 -19.757668,109.774445 -18.331146,109.30745 -16.902105,108.85428 -15.470676,108.41416 -14.037069,107.98673 -12.60138,107.571 -11.163872,107.166695 -9.724613,106.77344 -8.283754,106.39035 -6.841372,106.0172 -5.3977113,105.65348 -3.952775,105.29911 -2.5066922,104.95356 -1.0595576,104.6162 0.3883898,104.28721 1.8372029,103.966156 3.286756,103.65279 4.736956,103.34678 6.187726,103.04798 7.6389484,102.75634 9.090574,102.471405 10.542531,102.193375 11.994768,101.92185 13.447141,101.65675 14.899658,101.39815 16.35221,101.145836 17.80477,100.899734 19.257233,100.6599 20.7097,100.42615 22.161901,100.19885 23.613909,99.97755 25.065615,99.76255 26.517014,99.55378 27.96806,99.35154 29.418709,99.156044 30.868906,98.96696 32.318634,98.78471 33.76785,98.60949 35.216488,98.44197 36.664513,98.28176 38.112045,98.12971 39.5588,97.98599 41.004963,97.85109 42.45037,97.72559 43.89506,97.610245 45.339005,97.50551 46.782104,97.41251 48.224396,97.33192 49.66582,97.26504 51.106358,97.21317 52.545967,97.17773 53.984653,97.160446 55.422287,97.16359 56.858864,97.1902 58.29419,97.24231 59.728424,97.32393 61.16131,97.43955 62.592766,97.59409 64.02267,97.794975 65.4508,98.04909 66.87701,98.368256 68.30095,98.764275 69.72229,99.25489 71.14054,99.86272 72.554985,100.61793 73.96482,101.562035 75.36882,102.753525 76.76522,104.27921 78.15145,106.2649 79.52349,108.912 80.87514,112.542046 82.195915,117.705055 83.46722,125.35843 84.653435,137.10674 85.68436,154.94302 86.42259,178.39365 86.66798,-158.85153 86.320206,-142.21336 85.515175,-131.34991 84.44832,-124.23994 83.24236,-119.40856 81.95947,-115.98721 80.631165,-113.47876 79.274155,-113.33546 79.18305,-111.6269 79.21212,-99.27201 79.148155,-88.40842 78.68739,-82.67375 78.276794,-76.8851 77.731445,-73.43817 77.33927,-69.6109 76.840935,-67.14011 76.48231,-64.20902 76.0173,-62.203537 75.67317,-59.700626 75.21241,-57.905663 74.859535,-55.56451 74.36961,-53.81155 73.97971,-51.424515 73.41507,-49.55677 72.94416,-46.892815 72.22334,-44.702873 71.58152,-41.399685 70.512276,-38.500732 69.45058,-33.71381 67.36226,-31.745464 66.347786,-31.745464 66.347786,))', 'url': \"https://s5phub.copernicus.eu/dhus/odata/v1/Products('35f2df60-49b3-4761-a9f2-756e2dfc098d')/$value\", 'Online': True, 'Creation Date': datetime.datetime(2020, 3, 12, 17, 40, 2, 67000), 'Ingestion Date': datetime.datetime(2020, 3, 12, 17, 35, 35, 374000), 'quicklook_url': \"https://s5phub.copernicus.eu/dhus/odata/v1/Products('35f2df60-49b3-4761-a9f2-756e2dfc098d')/Products('Quicklook')/$value\", 'path': 'data\\\\L2\\\\S5P_OFFL_L2__CO_____20200309T062819_20200309T080949_12455_01_010302_20200312T132340.nc', 'downloaded_bytes': 172657944}, '1659e399-d446-418f-9e57-809f267c0d20': {'id': '1659e399-d446-418f-9e57-809f267c0d20', 'title': 'S5P_OFFL_L2__CO_____20200315T061620_20200315T075751_12540_01_010302_20200318T080318', 'size': 170365013, 'md5': '345114B3EDC86BBD0227E843012FB4E3', 'date': datetime.datetime(2020, 3, 15, 6, 37, 55), 'footprint': 'POLYGON((-34.068714 65.079346,-30.932652 65.84413,-27.60998 66.53836,-24.1038 67.155426,-20.423548 67.68903,-16.584658 68.13314,-12.608937 68.48237,-8.524831 68.73162,-4.3668294 68.877754,-0.17322125 68.91845,4.0157437 68.853065,8.159651 68.6828,12.22117 68.40975,16.167164 68.03821,19.97046 67.57285,23.6109 67.01918,27.074602 66.383804,30.353748 65.67278,33.445824 64.89269,36.352615 64.0497,39.07942 63.1499,41.63297 62.198414,44.022575 61.200455,46.25807 60.160976,48.349316 59.083847,50.306683 57.972965,52.139812 56.83163,53.85841 55.66293,55.47142 54.469666,56.98709 53.25401,58.41314 52.018173,59.756767 50.764023,61.024742 49.493332,62.22274 48.20752,63.356457 46.908016,64.43071 45.59582,65.45051 44.27237,66.41972 42.938427,67.342064 41.59477,68.22098 40.242252,69.05967 38.881554,69.86089 37.51331,70.62747 36.138157,71.36181 34.756676,72.06581 33.369114,72.74177 31.976217,73.39129 30.578115,74.01601 29.17524,74.617935 27.768236,75.19778 26.356945,75.75746 24.941996,76.29767 23.523428,76.81985 22.101654,77.324684 20.676706,77.813484 19.24906,78.286865 17.818764,78.745766 16.386074,79.19065 14.951032,79.62257 13.513997,80.041916 12.075007,80.449295 10.634259,80.84529 9.191881,81.230354 7.7479005,81.60514 6.302776,81.96964 4.8562007,82.324615 3.4085732,82.67025 1.9599369,83.00705 0.51039636,83.33516 -0.93998873,83.654945 -2.391037,83.966606 -3.8426783,84.27023 -5.2949667,84.56641 -6.747534,84.854996 -8.2005,85.13626 -9.653741,85.41036 -11.107151,85.677315 -12.56074,85.93755 -14.014204,86.190796 -15.467718,86.43731 -16.921154,86.676796 -18.374481,86.90981 -19.827515,87.136116 -21.280218,87.355804 -22.73259,87.568474 -24.184532,87.77419 -25.63606,87.97313 -27.087059,88.165215 -28.537432,88.34999 -29.987185,88.527466 -31.436249,88.697205 -32.884655,88.85899 -34.332306,89.01277 -35.779156,89.1581 -37.22511,89.29438 -38.670185,89.4215 -40.114292,89.53873 -41.557487,89.6454 -42.999596,89.74097 -44.440647,89.82439 -45.880676,89.894844 -47.319473,89.951836 -48.757072,89.99316 -50.19344,90.01811 -51.62847,90.024704 -53.062164,90.01114 -54.494423,89.97511 -55.9251,89.91372 -57.354233,89.82466 -58.781628,89.70296 -60.20717,89.54487 -61.630737,89.34492 -63.05212,89.09578 -64.47114,88.78977 -65.88749,88.41605 -67.300766,87.96243 -68.71059,87.41228 -70.116425,86.742966 -71.51738,85.92754 -72.9126,84.9269 -74.30062,83.689835 -75.679596,82.14327 -77.0468,80.181595 -78.39836,77.648834 -79.728226,74.310356 -81.02703,69.79109 -82.27921,63.50816 -83.45845,54.55131 -84.51762,41.737118 -85.37344,24.42136 -85.89749,4.466114 -85.958275,-13.796812 -85.53739,-27.698881 -84.74898,-37.480545 -83.73066,-44.315765 -82.576164,-49.19813 -81.33989,-52.781967 -80.05208,-55.485256 -78.73054,-57.568623 -77.38558,-59.20548 -76.023964,-59.301735 -75.93278,-60.651974 -76.07558,-70.92266 -76.85137,-80.952576 -77.14585,-86.69184 -77.12148,-92.76948 -76.93372,-96.48729 -76.72742,-100.65323 -76.40102,-103.33718 -76.12954,-106.48684 -75.73974,-108.60572 -75.42785,-111.19258 -74.98408,-112.99932 -74.626884,-115.283775 -74.10999,-116.934135 -73.68385,-119.090416 -73.04785,-120.70052 -72.50405,-122.87865 -71.65568,-124.56897 -70.891304,-126.96516 -69.6154,-128.94046 -68.360695,-132.01118 -65.96038,-133.22548 -64.83203,-133.22548 -64.83203,-136.27983 -65.621346,-139.52063 -66.34335,-142.94646 -66.99164,-146.5508 -67.55979,-150.3214 -68.04158,-154.23868 -68.431526,-158.27797 -68.72398,-162.40668 -68.91554,-166.58888 -69.00311,-170.78456 -68.98556,-174.9534 -68.86289,-179.05653 -68.63693,176.94127 -68.31102,173.0697 -67.88947,169.35222 -67.377754,165.80562 -66.78162,162.44035 -66.10748,159.26086 -65.3618,156.26785 -64.55054,153.45718 -63.680058,150.82307 -62.755623,148.3564 -61.782875,146.04836 -60.766468,143.88885 -59.710728,141.86813 -58.619522,139.97545 -57.496605,138.20146 -56.345047,136.53728 -55.167603,134.97427 -53.96665,133.50381 -52.744713,132.11928 -51.503582,130.8133 -50.245102,129.57953 -48.970936,128.41264 -47.682358,127.30742 -46.38053,126.25865 -45.066833,125.26235 -43.742123,124.314575 -42.4073,123.41163 -41.063255,122.55014 -39.710636,121.7274 -38.350212,120.940704 -36.982414,120.186966 -35.608055,119.46466 -34.22735,118.77146 -32.840916,118.10512 -31.44914,117.46412 -30.052414,116.84704 -28.651075,116.252304 -27.245466,115.67831 -25.835901,115.12422 -24.422575,114.5887 -23.005804,114.070465 -21.585844,113.56899 -20.162836,113.083046 -18.73708,112.61207 -17.308739,112.15504 -15.87798,111.7113 -14.444971,111.280266 -13.009878,110.861305 -11.572867,110.45394 -10.1341305,110.05737 -8.693728,109.67147 -7.2517533,109.29553 -5.808438,108.92934 -4.3638587,108.57221 -2.918122,108.224236 -1.471307,107.88463 -0.023573186,107.55326 1.4250185,107.23003 2.874385,106.91444 4.324399,106.606346 5.774982,106.30565 7.2260737,106.01186 8.677622,105.725136 10.129475,105.444954 11.581631,105.17179 13.033976,104.90492 14.486434,104.64433 15.938991,104.39024 17.391546,104.14231 18.844069,103.900856 20.296507,103.66525 21.748749,103.436005 23.200825,103.21291 24.652605,102.99618 26.10411,102.78557 27.555271,102.58152 29.00598,102.383865 30.456373,102.19313 31.906239,102.00887 33.355545,101.831665 34.80439,101.66198 36.25265,101.49972 37.70023,101.345116 39.147263,101.19913 40.59359,101.06179 42.039257,100.93341 43.48411,100.815 44.928238,100.70721 46.37157,100.61075 47.81413,100.52654 49.25583,100.45577 50.696568,100.39929 52.136543,100.358795 53.57549,100.33652 55.013344,100.33361 56.450222,100.353195 57.886024,100.39751 59.320553,100.4704 60.753815,100.57591 62.185703,100.71888 63.616066,100.905624 65.04481,101.14355 66.47155,101.44304 67.89616,101.81543 69.31829,102.277054 70.73744,102.84934 72.15307,103.55889 73.56431,104.443535 74.970245,105.558304 76.36898,106.97745 77.75842,108.81573 79.13506,111.24813 80.493355,114.55574 81.824295,119.20716 83.1124,126.021835 84.32795,136.39804 85.413506,152.34929 86.25387,174.60779 86.65872,-161.63628 86.474945,-143.09888 85.77823,-130.7988 84.769875,-122.80441 83.5951,-117.4345 82.32993,-113.67495 81.012344,-110.94395 79.66228,-108.90046 78.290794,-107.33429 76.90449,-107.243546 76.81174,-105.83507 76.82076,-95.7514 76.66524,-86.8605 76.201866,-82.08574 75.8198,-77.17351 75.32468,-74.1947 74.97278,-70.83427 74.52832,-68.63335 74.20964,-65.988914 73.79728,-64.15804 73.49245,-61.848022 73.08449,-60.17408 72.77202,-57.968914 72.33798,-56.30155 71.99227,-54.00876 71.49097,-52.1968 71.07217,-49.584896 70.429474,-47.413082 69.85516,-44.09368 68.89327,-41.135498 67.93117,-36.15366 66.018005,-34.068714 65.079346,-34.068714 65.079346,))', 'url': \"https://s5phub.copernicus.eu/dhus/odata/v1/Products('1659e399-d446-418f-9e57-809f267c0d20')/$value\", 'Online': True, 'Creation Date': datetime.datetime(2020, 3, 18, 11, 10, 2, 873000), 'Ingestion Date': datetime.datetime(2020, 3, 18, 11, 5, 7, 124000), 'quicklook_url': \"https://s5phub.copernicus.eu/dhus/odata/v1/Products('1659e399-d446-418f-9e57-809f267c0d20')/Products('Quicklook')/$value\", 'path': 'data\\\\L2\\\\S5P_OFFL_L2__CO_____20200315T061620_20200315T075751_12540_01_010302_20200318T080318.nc', 'downloaded_bytes': 170365013}, 'f04b10b3-4fd1-4e9a-8834-39e76fa071da': {'id': 'f04b10b3-4fd1-4e9a-8834-39e76fa071da', 'title': 'S5P_OFFL_L2__CO_____20200320T062317_20200320T080447_12611_01_010302_20200321T201157', 'size': 174864562, 'md5': '81703CF8B42B5E1BB60252086C3DAA7E', 'date': datetime.datetime(2020, 3, 20, 6, 44, 51), 'footprint': 'POLYGON((-39.843624 63.866077,-36.97428 64.72157,-33.920574 65.51542,-30.680143 66.241554,-27.253704 66.89321,-23.648705 67.46444,-19.877464 67.948715,-15.958843 68.340294,-11.918455 68.633934,-7.788815 68.82595,-3.605806 68.913,0.5900174 68.8943,4.758612 68.77003,8.860469 68.54168,12.860801 68.21316,16.72993 67.78842,20.444038 67.27292,23.986788 66.67286,27.34755 65.99409,30.521996 65.24374,33.50994 64.42775,36.314995 63.552143,38.94365 62.622654,41.40443 61.64467,43.706474 60.62295,45.86004 59.561924,47.875015 58.465466,49.761505 57.337116,51.529484 56.180172,53.18786 54.99734,54.745335 53.79126,56.210117 52.564163,57.58909 51.317818,58.88976 50.054333,60.117657 48.774925,61.279274 47.481422,62.37905 46.174652,63.42234 44.85609,64.41304 43.526432,65.355545 42.18695,66.25321 40.83827,67.109215 39.481106,67.92669 38.11611,68.7086 36.744125,69.45668 35.365326,70.17371 33.98034,70.86171 32.58975,71.52267 31.193876,72.15813 29.793142,72.76995 28.387892,73.3594 26.978415,73.92774 25.565042,74.47636 24.148016,75.00641 22.72767,75.51859 21.304035,76.01448 19.877619,76.494644 18.44852,76.95987 17.01684,77.41084 15.582823,77.84831 14.146613,78.2732 12.708524,78.68576 11.268517,79.08673 9.826856,79.476654 8.383625,79.85572 6.9389577,80.22482 5.493034,80.58391 4.0458245,80.93375 2.597661,81.274315 1.1484503,81.60627 -0.30154,81.92964 -1.7522756,82.24478 -3.203694,82.55212 -4.655604,82.8515 -6.108134,83.14338 -7.560947,83.427864 -9.014084,83.70507 -10.467408,83.97523 -11.920912,84.23841 -13.374482,84.49464 -14.8279705,84.74407 -16.281473,84.98677 -17.734808,85.22256 -19.187986,85.451965 -20.640781,85.67447 -22.093327,85.89025 -23.54546,86.09913 -24.997177,86.301186 -26.448372,86.49624 -27.89902,86.68406 -29.349121,86.864746 -30.798538,87.03807 -32.24716,87.20357 -33.695137,87.36097 -35.142353,87.50983 -36.588684,87.65035 -38.034153,87.78165 -39.478676,87.90313 -40.922276,88.01444 -42.3649,88.114944 -43.806454,88.20398 -45.246876,88.28031 -46.686203,88.343445 -48.12435,88.39168 -49.561287,88.42417 -50.99688,88.43882 -52.43118,88.434364 -53.864082,88.40845 -55.295483,88.35889 -56.725338,88.28216 -58.153492,88.1752 -59.579906,88.03355 -61.00437,87.85328 -62.426662,87.626144 -63.846832,87.34659 -65.26438,87.00426 -66.67902,86.58745 -68.09046,86.081566 -69.49809,85.4682 -70.901344,84.721146 -72.299194,83.80758 -73.690605,82.682434 -75.07383,81.282486 -76.44663,79.51897 -77.80563,77.2613 -79.14597,74.313995 -80.45988,70.372406 -81.7351,64.95761 -82.950806,57.312386 -84.070496,46.341232 -85.029015,30.978931 -85.7174,11.728482 -85.99366,-7.803731 -85.776764,-23.730742 -85.13187,-35.193764 -84.20027,-43.185123 -83.09723,-48.82635 -81.89195,-52.918793 -80.62412,-55.970592 -79.31584,-58.300926 -77.980194,-58.436348 -77.89049,-59.965424 -78.05057,-71.866554 -78.91667,-83.77018 -79.22462,-90.589676 -79.1738,-97.73274 -78.931656,-102.03311 -78.679344,-106.76787 -78.29065,-109.76325 -77.9734,-113.21682 -77.52462,-115.5 -77.170074,-118.24113 -76.67117,-120.12416 -76.27361,-122.46661 -75.70365,-124.13131 -75.23785,-126.27033 -74.54847,-127.84029 -73.96375,-129.9262 -73.05868,-131.51471 -72.24934,-133.72205 -70.90831,-135.50423 -69.598785,-138.21483 -67.11124,-139.26935 -65.94767,-139.26935 -65.94767,-142.59192 -66.63808,-146.09766 -67.25169,-149.77705 -67.78254,-153.61476 -68.22453,-157.58943 -68.57217,-161.67218 -68.82077,-165.82916 -68.96675,-170.02214 -69.00799,-174.21083 -68.94391,-178.35544 -68.77562,177.58195 -68.505066,173.63405 -68.13654,169.82785 -67.674614,166.1841 -67.124954,162.71622 -66.49384,159.43263 -65.787346,156.33556 -65.012024,153.42361 -64.17391,150.69154 -63.278973,148.13206 -62.332787,145.73662 -61.340202,143.49536 -60.30593,141.39815 -59.234127,139.4349 -58.12865,137.59569 -56.99274,135.87143 -55.82936,134.25255 -54.641426,132.7311 -53.43095,131.29912 -52.200405,129.95 -50.951477,128.67654 -49.68591,127.47286 -48.405167,126.3337 -47.110607,125.25381 -45.80345,124.2286 -44.484776,123.25428 -43.15554,122.32658 -41.81657,121.44228 -40.468643,120.5983 -39.112507,119.79167 -37.748734,119.01985 -36.377968,118.28025 -35.00074,117.57065 -33.617558,116.88972 -32.22867,116.234764 -30.834713,115.60444 -29.435955,114.99727 -28.032711,114.4118 -26.625315,113.84675 -25.214079,113.3009 -23.799212,112.7732 -22.380966,112.262474 -20.95965,111.76793 -19.535423,111.28872 -18.108547,110.82391 -16.679056,110.372696 -15.247281,109.93481 -13.81335,109.50913 -12.377424,109.09532 -10.93964,108.69268 -9.500118,108.300934 -8.059017,107.91949 -6.6164536,107.547745 -5.1726007,107.18563 -3.7274687,106.83265 -2.281249,106.48827 -0.8340124,106.15233 0.6140842,105.824615 2.0630379,105.504776 3.5126717,105.19236 4.9629207,104.88778 6.4137907,104.58992 7.865092,104.29939 9.3167515,104.01551 10.768721,103.73865 12.220975,103.46802 13.6733885,103.20385 15.125888,102.94624 16.57846,102.694916 18.03102,102.44967 19.48351,102.210785 20.935844,101.97811 22.387995,101.7516 23.839985,101.53134 25.291641,101.31744 26.742983,101.10957 28.19394,100.90842 29.644543,100.7136 31.09466,100.525665 32.54426,100.34481 33.993404,100.17052 35.441967,100.00407 36.889957,99.84508 38.337353,99.69442 39.78397,99.551636 41.229946,99.41834 42.67532,99.294525 44.119873,99.18073 45.563683,99.077705 47.006683,98.98655 48.44883,98.90806 49.890137,98.84321 51.33053,98.79379 52.770023,98.760826 54.208523,98.74702 55.645992,98.75341 57.082394,98.78349 58.51757,98.83988 59.951633,98.92674 61.384308,99.04799 62.8155,99.20924 64.24515,99.4175 65.67301,99.6811 67.098915,100.01081 68.52247,100.42045 69.94333,100.92793 71.36102,101.556015 72.774895,102.337135 74.18394,103.3154 75.58691,104.55343 76.981865,106.14025 78.3662,108.21286 79.73562,110.98634 81.0834,114.811134 82.398056,120.28558 83.658966,128.45164 84.82694,141.02484 85.823555,159.90434 86.49868,-176.2204 86.652214,-154.22316 86.21983,-138.60077 85.362595,-128.45 84.267815,-121.77497 83.0468,-117.2073 81.7552,-113.95406 80.42151,-111.55812 79.06098,-109.74544 77.68233,-108.34472 76.29087,-107.244095 74.8902,-107.17964 74.79661,-105.95498 74.79308,-97.223274 74.57943,-89.50309 74.1113,-85.31724 73.74489,-80.96601 73.27926,-78.300865 72.951904,-75.26743 72.54119,-73.264305 72.24808,-70.83963 71.87007,-69.149124 71.59135,-67.00214 71.219,-65.43637 70.93421,-63.360764 70.53901,-61.78152 70.22444,-59.595966 69.768456,-57.857227 69.38747,-55.33264 68.80236,-53.216595 68.27866,-49.951584 67.39884,-47.00884 66.51458,-41.978146 64.742256,-39.843624 63.866077,-39.843624 63.866077,))', 'url': \"https://s5phub.copernicus.eu/dhus/odata/v1/Products('f04b10b3-4fd1-4e9a-8834-39e76fa071da')/$value\", 'Online': True, 'Creation Date': datetime.datetime(2020, 3, 21, 23, 40, 2, 889000), 'Ingestion Date': datetime.datetime(2020, 3, 21, 23, 35, 9, 368000), 'quicklook_url': \"https://s5phub.copernicus.eu/dhus/odata/v1/Products('f04b10b3-4fd1-4e9a-8834-39e76fa071da')/Products('Quicklook')/$value\", 'path': 'data\\\\L2\\\\S5P_OFFL_L2__CO_____20200320T062317_20200320T080447_12611_01_010302_20200321T201157.nc', 'downloaded_bytes': 174864562}, 'bf56502a-1c1e-44c1-b3eb-85f59ec0956a': {'id': 'bf56502a-1c1e-44c1-b3eb-85f59ec0956a', 'title': 'S5P_OFFL_L2__CO_____20200318T070106_20200318T084237_12583_01_010302_20200320T070414', 'size': 170264528, 'md5': 'D800933A87246B90F99496E727A54CD1', 'date': datetime.datetime(2020, 3, 18, 7, 22, 41), 'footprint': 'POLYGON((10.48262 67.5306,12.596381 67.07654,14.946307 66.581894,18.281605 65.89323,21.429617 65.13317,24.391851 64.308685,27.171804 63.42532,29.77664 62.488842,32.214783 61.504642,34.495426 60.477135,36.62903 59.411045,38.62568 58.310055,40.495255 57.17768,42.24746 56.01705,43.891438 54.83103,45.435516 53.621857,46.887905 52.39197,48.255875 51.14333,49.545845 49.87748,50.76442 48.596172,51.917187 47.30082,53.00904 45.99248,54.044666 44.6723,55.02876 43.341473,55.96478 42.00066,56.856426 40.65072,57.70711 39.29254,58.51952 37.926662,59.2962 36.55354,60.040104 35.17399,60.753086 33.78831,61.43721 32.396908,62.094765 31.000538,62.72684 29.59914,63.33557 28.19336,63.921738 26.783285,64.487434 25.36947,65.03365 23.95209,65.56121 22.5313,66.07115 21.107306,66.56492 19.680588,67.04289 18.2511,67.50609 16.819147,67.955185 15.384875,68.39099 13.948432,68.814026 12.510065,69.225075 11.069846,69.624466 9.627985,70.01293 8.184577,70.390686 6.7398195,70.758354 5.2936726,71.11611 3.8463984,71.46459 2.3980494,71.804054 0.94883007,72.13485 -0.50121075,72.457115 -1.9520699,72.77121 -3.4035165,73.07729 -4.855552,73.37574 -6.3079987,73.66653 -7.760886,73.95017 -9.213973,74.22643 -10.667327,74.495804 -12.120711,74.757904 -13.574302,75.01323 -15.027838,75.261604 -16.481308,75.5034 -17.934597,75.73843 -19.387714,75.96686 -20.840487,76.18844 -22.292953,76.40321 -23.745033,76.61119 -25.196707,76.81231 -26.647804,77.00639 -28.098436,77.19323 -29.548374,77.37284 -30.997713,77.54499 -32.44633,77.70938 -33.89415,77.86558 -35.341255,78.01367 -36.787434,78.15263 -38.232803,78.28269 -39.677258,78.40278 -41.120758,78.51276 -42.563198,78.61184 -44.004585,78.69912 -45.444923,78.77375 -46.884083,78.83473 -48.32209,78.88077 -49.758858,78.91098 -51.194286,78.92325 -52.62845,78.91599 -54.061157,78.88703 -55.49231,78.83378 -56.921947,78.75336 -58.349884,78.64154 -59.77611,78.49533 -61.200253,78.308304 -62.622383,78.07516 -64.042175,77.78706 -65.459335,77.43571 -66.873634,77.00783 -68.28456,76.488525 -69.69167,75.858185 -71.09424,75.090515 -72.49132,74.15077 -73.88168,72.99157 -75.26371,71.548164 -76.63493,69.726105 -77.99173,67.38672 -79.32897,64.32377 -80.63846,60.2123 -81.907005,54.54311 -83.11218,46.50964 -84.214386,34.985176 -85.1434,18.988579 -85.78328,-0.5751343 -85.99351,-19.787537 -85.710396,-35.083282 -85.01745,-45.99505 -84.05649,-53.600834 -82.93589,-58.9893 -81.72022,-62.91228 -80.445595,-65.84773 -79.132805,-68.097046 -77.794106,-69.02806 -77.11756,-70.48141 -77.27025,-81.67743 -78.09756,-92.756744 -78.4001,-99.10177 -78.361206,-105.78208 -78.143166,-109.83358 -77.91103,-114.33012 -77.54942,-117.19819 -77.25191,-120.531075 -76.82835,-122.75148 -76.4919,-125.43685 -76.01623,-127.29491 -75.63555,-129.62257 -75.08764,-131.28847 -74.6382,-133.44432 -73.970695,-135.03824 -73.402626,-137.1722 -72.52046,-138.81029 -71.72915,-141.10565 -70.41405,-142.97507 -69.126175,-145.84407 -66.67283,-146.96764 -65.523,-146.96764 -65.523,-150.18414 -66.25433,-153.58614 -66.912674,-157.16815 -67.4916,-160.91794 -67.9852,-164.81784 -68.38731,-168.84283 -68.69309,-172.96245 -68.89804,-177.14003 -68.99938,178.66318 -68.99544,174.48819 -68.886375,170.37407 -68.67372,166.35652 -68.360855,162.46599 -67.951485,158.72702 -67.45115,155.15698 -66.86575,151.76756 -66.2014,148.56346 -65.46457,145.54611 -64.66157,142.71178 -63.79832,140.05501 -62.8806,137.56693 -61.91388,135.23875 -60.902786,133.06055 -59.85189,131.02196 -58.76515,129.11325 -57.646088,127.32443 -56.498005,125.64618 -55.323845,124.070404 -54.12572,122.58844 -52.906437,121.19294 -51.667664,119.87702 -50.411304,118.63441 -49.139072,117.45905 -47.852146,116.34578 -46.552063,115.29012 -45.239746,114.28748 -43.916298,113.33331 -42.582844,112.424835 -41.239906,111.55828 -39.88832,110.73085 -38.52877,109.93932 -37.161915,109.18159 -35.78834,108.45525 -34.408443,107.75823 -33.02276,107.08853 -31.631666,106.44444 -30.235544,105.82443 -28.83475,105.22676 -27.429642,104.65021 -26.020576,104.0936 -24.607712,103.55584 -23.191395,103.035324 -21.771822,102.53176 -20.349157,102.04394 -18.92372,101.57091 -17.495684,101.112206 -16.06522,100.66689 -14.632451,100.23429 -13.19761,99.81378 -11.760876,99.404854 -10.322332,99.006966 -8.88213,98.6198 -7.440311,98.24263 -5.9972324,97.875145 -4.552787,97.51709 -3.1072426,97.167725 -1.6605648,96.82717 -0.21292159,96.49488 1.2355379,96.17054 2.6847994,95.85398 4.1346807,95.54499 5.5851836,95.24329 7.0361905,94.94878 8.487705,94.66126 9.939532,94.38032 11.391595,94.10615 12.84395,93.83831 14.296336,93.577065 15.748895,93.32223 17.201433,93.07367 18.653954,92.83119 20.106384,92.59506 21.558634,92.36506 23.010754,92.14113 24.462505,91.92371 25.914003,91.712326 27.365234,91.50742 28.816013,91.30915 30.26634,91.11756 31.716276,90.932365 33.16567,90.75441 34.614532,90.58356 36.0628,90.42032 37.510456,90.26492 38.957508,90.1177 40.40384,89.97921 41.84957,89.84989 43.294476,89.72996 44.73877,89.62097 46.182163,89.52306 47.62474,89.43717 49.06655,89.36414 50.507397,89.306435 51.947342,89.26398 53.386395,89.23911 54.824364,89.233734 56.26137,89.25033 57.69717,89.29119 59.1319,89.36028 60.56526,89.46128 61.997314,89.59908 63.42782,89.78009 64.85665,90.01083 66.28367,90.3019 67.70845,90.66403 69.13098,91.11302 70.550514,91.66912 71.966606,92.35952 73.378426,93.218864 74.78498,94.299355 76.18468,95.67423 77.575424,97.44908 78.95396,99.820595 80.324936,106.40472 82.49957,109.27595 83.17968,106.97005 83.35434,86.95755 84.22138,65.5841 84.23904,54.293552 83.88932,43.896736 83.25859,38.406757 82.7473,33.00802 82.06022,29.920305 81.54992,26.652752 80.87659,24.65407 80.37326,22.414593 79.6961,20.97318 79.1766,19.28688 78.45582,18.159357 77.883514,16.796734 77.05812,15.858607 76.374016,14.693776 75.33688,13.868689 74.426094,12.807417 72.94011,12.015923 71.505974,10.89872 68.798645,10.48262 67.5306,10.48262 67.5306,))', 'url': \"https://s5phub.copernicus.eu/dhus/odata/v1/Products('bf56502a-1c1e-44c1-b3eb-85f59ec0956a')/$value\", 'Online': True, 'Creation Date': datetime.datetime(2020, 3, 20, 10, 40, 15, 969000), 'Ingestion Date': datetime.datetime(2020, 3, 20, 10, 35, 47, 799000), 'quicklook_url': \"https://s5phub.copernicus.eu/dhus/odata/v1/Products('bf56502a-1c1e-44c1-b3eb-85f59ec0956a')/Products('Quicklook')/$value\", 'path': 'data\\\\L2\\\\S5P_OFFL_L2__CO_____20200318T070106_20200318T084237_12583_01_010302_20200320T070414.nc', 'downloaded_bytes': 170264528}, '05a5da9a-5793-4247-b3b8-c16ca17fa12e': {'id': '05a5da9a-5793-4247-b3b8-c16ca17fa12e', 'title': 'S5P_OFFL_L2__CO_____20200311T073200_20200311T091330_12484_01_010302_20200314T092027', 'size': 178339712, 'md5': 'C8733DE06990F80C282DAF0ED2860A04', 'date': datetime.datetime(2020, 3, 11, 7, 53, 34), 'footprint': 'POLYGON((-49.644936 65.91309,-46.30418 66.59992,-42.780937 67.209114,-39.084538 67.734085,-35.23152 68.16912,-31.244238 68.50847,-27.152029 68.74785,-22.989332 68.88361,-18.79486 68.91384,-14.609293 68.83822,-10.472337 68.657745,-6.421327 68.37521,-2.4888587 67.99402,1.2990918 67.51998,4.922341 66.95826,8.3678 66.31514,11.628431 65.59722,14.702069 64.81083,17.591034 63.962223,20.300135 63.057037,22.837376 62.101055,25.211449 61.09895,27.432379 60.05568,29.510088 58.97511,31.454887 57.861267,33.27658 56.7173,34.984615 55.546234,36.587654 54.35063,38.094353 53.13301,39.51205 51.895363,40.84822 50.639683,42.10904 49.367508,43.300777 48.080467,44.428593 46.779774,45.49771 45.466675,46.512383 44.142223,47.476696 42.807194,48.394806 41.462723,49.269714 40.109444,50.104836 38.74806,50.902603 37.379177,51.666115 36.003513,52.397556 34.62146,53.098793 33.23348,53.77212 31.840029,54.419098 30.441519,55.041683 29.03834,55.64144 27.630878,56.219463 26.21929,56.777122 24.80393,57.315517 23.385075,57.836212 21.963114,58.339554 20.53797,58.826794 19.11006,59.298893 17.679623,59.756454 16.24671,60.200138 14.811561,60.63079 13.374298,61.04895 11.935171,61.455357 10.494317,61.85044 9.051829,62.23474 7.607956,62.608177 6.162477,62.971928 4.7159133,63.32614 3.268248,63.670933 1.8195283,64.00687 0.36994344,64.33421 -1.0804635,64.65325 -2.53154,64.96402 -3.9832733,65.26716 -5.4354634,65.562614 -6.8880963,65.85046 -8.341092,66.131004 -9.794345,66.4045 -11.247764,66.670784 -12.701296,66.93043 -14.154809,67.18289 -15.608346,67.42877 -17.061714,67.66779 -18.514957,67.9002 -19.967945,68.12595 -21.420626,68.34487 -22.872908,68.556885 -24.324898,68.76218 -25.776335,68.96045 -27.22724,69.15181 -28.677567,69.335785 -30.127308,69.51246 -31.57638,69.681496 -33.024662,69.84261 -34.47225,69.995766 -35.91896,70.1402 -37.364883,70.275505 -38.809902,70.40164 -40.25398,70.517914 -41.697,70.623604 -43.13907,70.717926 -44.580105,70.80024 -46.019947,70.86977 -47.458675,70.92487 -48.89619,70.965004 -50.33242,70.988075 -51.767384,70.99279 -53.200943,70.977234 -54.633057,70.939156 -56.063675,70.8752 -57.49266,70.78268 -58.919888,70.658134 -60.345314,70.49621 -61.768677,70.29175 -63.18989,70.03791 -64.608665,69.72534 -66.024765,69.34482 -67.437775,68.88286 -68.84726,68.32173 -70.25267,67.64093 -71.65317,66.80924 -73.04777,65.7884 -74.435036,64.52527 -75.81308,62.942554 -77.178955,60.934486 -78.528824,58.336452 -79.85622,54.902664 -81.1514,50.243958 -82.39803,43.74566 -83.56814,34.468273 -84.612,21.220587 -85.44204,3.5060902 -85.92603,-16.48709 -85.93831,-34.389812 -85.47506,-47.852024 -84.6588,-57.294876 -83.623726,-63.90243 -82.45931,-68.634094 -81.21692,-72.11621 -79.92512,-74.74851 -78.60074,-76.78156 -77.25386,-78.3821 -75.890884,-79.65952 -74.515854,-79.77237 -74.37784,-81.00635 -74.50952,-90.27503 -75.22766,-99.207054 -75.51155,-104.3116 -75.50131,-109.745026 -75.344475,-113.095505 -75.16516,-116.88458 -74.87629,-119.34987 -74.633064,-122.27158 -74.28048,-124.25678 -73.99612,-126.70438 -73.588646,-128.43086 -73.25856,-130.63565 -72.77802,-132.2448 -72.3796,-134.36945 -71.78164,-135.97351 -71.26759,-138.16895 -70.461334,-139.89389 -69.73112,-142.37196 -68.50585,-144.44382 -67.29485,-147.7146 -64.96604,-149.02351 -63.8672,-149.02351 -63.8672,-151.87033 -64.72526,-154.90039 -65.52302,-158.11713 -66.25414,-161.51918 -66.9125,-165.10075 -67.4917,-168.8508 -67.98505,-172.75067 -68.38712,-176.7758 -68.69278,179.10466 -68.89762,174.92703 -68.998924,170.73041 -68.99503,166.5555 -68.88601,162.44142 -68.67333,158.42397 -68.36017,154.53363 -67.95093,150.79477 -67.45048,147.2251 -66.86499,143.83554 -66.20067,140.6318 -65.46382,137.61473 -64.660645,134.78038 -63.79757,132.12335 -62.879856,129.63545 -61.91301,127.30762 -60.90186,125.129196 -59.851006,123.09072 -58.76428,121.18217 -57.645203,119.39342 -56.49714,117.71551 -55.3228,116.13951 -54.124763,114.65758 -52.90545,113.26215 -51.666714,111.946075 -50.410378,110.703125 -49.138176,109.528244 -47.851204,108.41506 -46.551117,107.35926 -45.238815,106.35633 -43.915524,105.402725 -42.58191,104.493935 -41.238976,103.62756 -39.887344,102.79995 -38.52785,102.00847 -37.160965,101.2507 -35.78742,100.524445 -34.407497,99.82737 -33.02181,99.157684 -31.630651,98.51362 -30.234533,97.89344 -28.833815,97.29588 -27.42865,96.71927 -26.019594,96.16265 -24.6067,95.62473 -23.190386,95.104515 -21.770773,94.60083 -20.348133,94.11293 -18.922739,93.63996 -17.494663,93.18113 -16.064165,92.73586 -14.6314535,92.30324 -13.196596,91.8828 -11.759794,91.47382 -10.3212595,91.07599 -8.881027,90.68876 -7.439294,90.31166 -5.9961324,89.944 -4.551686,89.58591 -3.106096,89.23658 -1.659424,88.89596 -0.21180409,88.56359 1.2367111,88.239204 2.6859736,87.9228 4.135902,87.613716 5.5864177,87.31208 7.037461,87.01742 8.488922,86.72973 9.940737,86.44897 11.39283,86.174644 12.845178,85.90693 14.297611,85.64585 15.750173,85.39081 17.202738,85.14209 18.655216,84.89964 20.107643,84.66342 21.559935,84.433395 23.011997,84.20959 24.463852,83.99203 25.91535,83.7808 27.366552,83.57591 28.817345,83.37736 30.267725,83.18581 31.717615,83.00053 33.167007,82.82256 34.61591,82.65183 36.06418,82.48853 37.5119,82.33295 38.958893,82.18577 40.405296,82.04712 41.851,81.91773 43.295944,81.7979 44.740173,81.68874 46.183605,81.59074 47.626205,81.504906 49.067955,81.432236 50.50885,81.3739 51.948875,81.33154 53.387867,81.30663 54.825897,81.30123 56.26285,81.31769 57.698715,81.3586 59.133377,81.42751 60.56682,81.52838 61.998844,81.66622 63.42939,81.84709 64.85822,82.07784 66.285255,82.36843 67.71017,82.73044 69.13261,83.179825 70.55212,83.73552 71.96825,84.42526 73.38012,85.28459 74.78665,86.36565 76.186424,87.73929 77.57722,89.514786 78.955734,91.85619 80.31682,95.02602 81.65214,99.46597 82.94693,105.93128 84.17454,115.736336 85.281876,130.84593 86.163795,152.40376 86.63778,176.41805 86.53228,-164.17264 85.89157,-151.15335 84.91392,-142.7078 83.755455,-137.06233 82.499565,-133.13121 81.18753,-130.2893 79.84091,-128.16907 78.471855,-127.98771 78.334076,-126.39965 78.355095,-114.96831 78.25442,-104.90875 77.79305,-99.56039 77.39422,-94.118515 76.8692,-90.85337 76.49315,-87.20404 76.01618,-84.83411 75.67328,-82.00802 75.22886,-80.065094 74.899994,-77.62961 74.459625,-75.87575 74.12227,-73.579155 73.6537,-71.85294 73.280594,-69.493355 72.7399,-67.63996 72.28858,-64.98573 71.59697,-62.794304 70.98023,-59.4724 69.950584,-56.540295 68.92532,-51.66332 66.90039,-49.644936 65.91309,-49.644936 65.91309,))', 'url': \"https://s5phub.copernicus.eu/dhus/odata/v1/Products('05a5da9a-5793-4247-b3b8-c16ca17fa12e')/$value\", 'Online': True, 'Creation Date': datetime.datetime(2020, 3, 14, 12, 40, 2, 306000), 'Ingestion Date': datetime.datetime(2020, 3, 14, 12, 35, 7, 261000), 'quicklook_url': \"https://s5phub.copernicus.eu/dhus/odata/v1/Products('05a5da9a-5793-4247-b3b8-c16ca17fa12e')/Products('Quicklook')/$value\", 'path': 'data\\\\L2\\\\S5P_OFFL_L2__CO_____20200311T073200_20200311T091330_12484_01_010302_20200314T092027.nc', 'downloaded_bytes': 178339712}, '223ac163-a352-49b1-93f7-f7dc024fa93a': {'id': '223ac163-a352-49b1-93f7-f7dc024fa93a', 'title': 'S5P_OFFL_L2__CO_____20200308T064714_20200308T082844_12441_01_010302_20200312T072722', 'size': 170952598, 'md5': 'F00120C55F422D01474155D508EEE147', 'date': datetime.datetime(2020, 3, 8, 7, 8, 48), 'footprint': 'POLYGON((-35.666634 66.512764,-32.16734 67.13276,-28.493608 67.66961,-24.660322 68.117096,-20.689497 68.46979,-16.609213 68.722855,-12.453615 68.87291,-8.2609625 68.91754,-4.07131 68.85611,0.0745775 68.68974,4.1394973 68.42063,8.090026 68.05267,11.898816 67.5907,15.545445 67.04036,19.0159 66.407974,22.302017 65.69985,25.40082 64.92218,28.314484 64.08156,31.047586 63.183704,33.60742 62.23404,36.003098 61.23785,38.244186 60.199986,40.340626 59.12425,42.30274 58.014576,44.140358 56.874374,45.86333 55.70684,47.480053 54.514366,48.999226 53.29959,50.428596 52.06452,51.775356 50.81123,53.046 49.541157,54.246677 48.25596,55.382587 46.956932,56.459282 45.645363,57.48102 44.32234,58.45186 42.98863,59.376034 41.64545,60.25655 40.29325,61.096764 38.932926,61.899513 37.565002,62.66753 36.190224,63.40293 34.80891,64.10802 33.42165,64.78506 32.02897,65.43562 30.631155,66.0614 29.228518,66.66398 27.821552,67.24482 26.410534,67.80509 24.995619,68.34601 23.57722,68.86891 22.155592,69.37464 20.73086,69.86394 19.303347,70.33793 17.87314,70.79727 16.4405,71.24287 15.005659,71.67544 13.568773,72.09509 12.129839,72.50291 10.689124,72.89942 9.246857,73.28512 7.803099,73.66011 6.3578978,74.02514 4.911508,74.380554 3.4639113,74.726555 2.015266,75.06365 0.5657561,75.391884 -0.88463324,75.7121 -2.3356194,76.024086 -3.7872603,76.32818 -5.2394342,76.624535 -6.6920033,76.913376 -8.14498,77.19487 -9.598267,77.46936 -11.051605,77.736664 -12.505137,77.9971 -13.95867,78.25059 -15.412167,78.497345 -16.865627,78.737274 -18.318937,78.97045 -19.771996,79.19703 -21.22471,79.41686 -22.677094,79.62983 -24.129107,79.836136 -25.58059,80.035164 -27.031654,80.22758 -28.482046,80.41241 -29.931873,80.5901 -31.381052,80.76029 -32.829422,80.92235 -34.277126,81.0766 -35.723934,81.2222 -37.170013,81.35885 -38.6151,81.48645 -40.059277,81.60377 -41.502495,81.71121 -42.944656,81.80697 -44.385845,81.89115 -45.82582,81.96231 -47.264706,82.01955 -48.702385,82.06165 -50.138786,82.086754 -51.573967,82.09439 -53.007694,82.08185 -54.439983,82.04676 -55.870796,81.98627 -57.299976,81.8982 -58.72748,81.77782 -60.15318,81.621315 -61.576843,81.42303 -62.99832,81.17576 -64.41747,80.87216 -65.83389,80.50166 -67.247406,80.051186 -68.65737,79.5046 -70.06335,78.840256 -71.46458,78.03157 -72.86002,77.03912 -74.2484,75.81186 -75.627785,74.27806 -76.99552,72.33457 -78.34776,69.82872 -79.67865,66.525604 -80.97888,62.06112 -82.23331,55.858124 -83.41602,47.020782 -84.48088,34.37389 -85.346695,17.213417 -85.885826,-2.7174404 -85.9656,-21.11563 -85.56104,-35.191284 -84.783905,-45.107162 -83.77205,-52.033356 -82.621506,-56.974586 -81.38754,-60.597942 -80.10124,-63.328632 -78.780685,-65.43184 -77.436455,-67.08315 -76.075356,-68.39864 -74.70173,-69.460464 -73.318695,-69.555435 -73.18007,-70.71247 -73.30439,-79.338 -73.98445,-87.58407 -74.26047,-92.29188 -74.258415,-97.31682 -74.12036,-100.4293 -73.95779,-103.96791 -73.69256,-106.28351 -73.46739,-109.04401 -73.13893,-110.93099 -72.87262,-113.27159 -72.48927,-114.932816 -72.17742,-117.06764 -71.72165,-118.635864 -71.34232,-120.72065 -70.77092,-122.30595 -70.27792,-124.49248 -69.501854,-126.22465 -68.79647,-128.73566 -67.6086,-130.85547 -66.43039,-134.23837 -64.156166,-135.60387 -63.08014,-135.60387 -63.08014,-138.29622 -63.98609,-141.16736 -64.83648,-144.22232 -65.62567,-147.46446 -66.34714,-150.89095 -66.99535,-154.49611 -67.56315,-158.2676 -68.04462,-162.18593 -68.43397,-166.22566 -68.72632,-170.3551 -68.91761,-174.53764 -69.004715,-178.73363 -68.98644,177.0974 -68.86321,172.99452 -68.636826,168.9924 -68.31067,165.12148 -67.888626,161.4043 -67.376495,157.8581 -66.78013,154.49373 -66.10539,151.31526 -65.35937,148.32277 -64.547806,145.5128 -63.676945,142.8791 -62.752377,140.41338 -61.779297,138.10605 -60.7627,135.94745 -59.70664,133.92685 -58.615414,132.03506 -57.492218,130.26146 -56.340557,128.59795 -55.16281,127.03501 -53.961834,125.56521 -52.73978,124.180725 -51.49859,122.8753 -50.239975,121.641685 -48.965664,120.47515 -47.67694,119.37006 -46.375088,118.32185 -45.061188,117.32587 -43.736443,116.37815 -42.401608,115.475555 -41.05743,114.61432 -39.704773,113.79181 -38.344227,113.00507 -36.97645,112.25188 -35.60194,111.52954 -34.22123,110.83636 -32.83473,110.17005 -31.443003,109.52951 -30.046143,108.91242 -28.644821,108.31767 -27.239195,107.74411 -25.829527,107.19006 -24.416174,106.65464 -22.99934,106.13653 -21.579344,105.63507 -20.15634,105.14939 -18.73053,104.67834 -17.302164,104.22155 -15.871356,103.77778 -14.438283,103.346855 -13.00321,102.92788 -11.566201,102.52062 -10.127382,102.124306 -8.686916,101.738365 -7.244983,101.36245 -5.8016443,100.99628 -4.357054,100.63928 -2.911315,100.29113 -1.4645066,99.95179 -0.016713602,99.620544 1.431869,99.29729 2.8811982,98.98177 4.331278,98.67374 5.781848,98.37296 7.232928,98.07922 8.684456,97.79273 10.136373,97.51278 11.588537,97.23938 13.040853,96.97264 14.493291,96.71232 15.945875,96.458244 17.398445,96.210236 18.850912,95.96885 20.303375,95.73358 21.755634,95.504196 23.207644,95.28125 24.659464,95.06463 26.110928,94.85426 27.5621,94.65008 29.0128,94.452614 30.463121,94.26173 31.912992,94.077705 33.362343,93.900635 34.811153,93.73085 36.25937,93.56855 37.706944,93.41436 39.15398,93.26828 40.60026,93.13093 42.04584,93.00281 43.490746,92.884476 44.934887,92.776825 46.37817,92.680534 47.820667,92.59635 49.262356,92.52551 50.70316,92.46941 52.142982,92.42934 53.581932,92.4069 55.01978,92.404366 56.456642,92.42416 57.89234,92.46861 59.326893,92.54185 60.760075,92.64746 62.191917,92.790726 63.622253,92.978195 65.05086,93.216644 66.47752,93.51638 67.90216,93.8892 69.32426,94.352036 70.743355,94.92442 72.15893,95.635 73.57015,96.5214 74.97592,97.636894 76.37456,99.05878 77.76387,100.8996 79.14034,103.33539 80.49856,106.64773 81.82932,111.30786 83.11697,118.13338 84.33208,128.52946 85.41669,144.5047 86.25548,166.7764 86.658264,-169.48723 86.47194,-150.97792 85.773865,-138.70064 84.764725,-130.71944 83.58971,-125.35644 82.32442,-121.600815 81.00676,-118.87268 79.65668,-118.64172 79.52045,-116.88004 79.553085,-104.112465 79.5054,-92.88866 79.04474,-86.983246 78.62881,-81.044 78.07441,-77.519646 77.67513,-73.61804 77.167465,-71.10597 76.80203,-68.13281 76.32817,-66.10285 75.97751,-63.574245 75.50807,-61.764133 75.14862,-59.407238 74.649704,-57.645397 74.25276,-55.250153 73.678116,-53.379032 73.199066,-50.714775 72.46618,-48.52853 71.81403,-45.23765 70.728584,-42.356243 69.65208,-37.612263 67.538155,-35.666634 66.512764,-35.666634 66.512764,))', 'url': \"https://s5phub.copernicus.eu/dhus/odata/v1/Products('223ac163-a352-49b1-93f7-f7dc024fa93a')/$value\", 'Online': True, 'Creation Date': datetime.datetime(2020, 3, 12, 11, 11, 42, 845000), 'Ingestion Date': datetime.datetime(2020, 3, 12, 11, 10, 45, 201000), 'quicklook_url': \"https://s5phub.copernicus.eu/dhus/odata/v1/Products('223ac163-a352-49b1-93f7-f7dc024fa93a')/Products('Quicklook')/$value\", 'path': 'data\\\\L2\\\\S5P_OFFL_L2__CO_____20200308T064714_20200308T082844_12441_01_010302_20200312T072722.nc', 'downloaded_bytes': 170952598}, '47c62467-7558-463a-9f9c-ffc29b34f8a4': {'id': '47c62467-7558-463a-9f9c-ffc29b34f8a4', 'title': 'S5P_OFFL_L2__CO_____20200317T072001_20200317T090132_12569_01_010302_20200319T121215', 'size': 175247943, 'md5': '1F064F848C5E0D799C4CDF765156AD96', 'date': datetime.datetime(2020, 3, 17, 7, 41, 35), 'footprint': 'POLYGON((-51.68267 64.597786,-48.656456 65.40103,-45.44378 66.137474,-42.044968 66.80064,-38.465916 67.38409,-34.718227 67.88144,-30.820364 68.28712,-26.796494 68.59545,-22.67799 68.80256,-18.500925 68.90526,-14.304909 68.90234,-10.130195 68.79362,-6.016252 68.58071,-1.9992111 68.266624,1.8905399 67.85573,5.6284623 67.3533,9.197327 66.76545,12.585388 66.0982,15.7871895 65.35801,18.802608 64.551445,21.634085 63.68423,24.288342 62.762516,26.77332 61.791504,29.098217 60.776066,31.2731 59.72065,33.30791 58.629257,35.212887 57.50555,36.997913 56.352745,38.672012 55.17371,40.243885 53.970985,41.7219 52.74689,43.113365 51.503468,44.425007 50.242336,45.663593 48.965405,46.834644 47.67388,47.9433 46.36906,48.9948 45.0523,49.99319 43.724415,50.942722 42.386406,51.84676 41.03905,52.708874 39.683216,53.53202 38.319458,54.318825 36.948353,55.07182 35.570553,55.793526 34.186615,56.48578 32.796894,57.150635 31.401825,57.78976 30.001802,58.405167 28.59733,58.997868 27.188515,59.569443 25.775812,60.120754 24.359272,60.653614 22.93943,61.168503 21.516356,61.66675 20.090416,62.149055 18.661654,62.61642 17.23039,63.069546 15.796757,63.50907 14.360934,63.93587 12.923221,64.35025 11.483502,64.75298 10.042087,65.14458 8.599207,65.5253 7.1547203,65.89585 5.708992,66.256195 4.261944,66.607574 2.8140123,66.94953 1.3650303,67.28281 -0.08484675,67.60738 -1.5354811,67.92375 -2.9867861,68.23209 -4.438641,68.53269 -5.890977,68.82579 -7.343706,69.11149 -8.796725,69.389854 -10.249992,69.66086 -11.703537,69.92516 -13.1570425,70.18239 -14.610572,70.43275 -16.064058,70.67644 -17.517427,70.91343 -18.970581,71.14354 -20.423506,71.367226 -21.87603,71.58375 -23.328264,71.79388 -24.780014,71.997 -26.231298,72.19294 -27.68205,72.382 -29.132153,72.56392 -30.581669,72.73811 -32.030476,72.904594 -33.47856,73.06325 -34.92584,73.21348 -36.372353,73.355125 -37.817986,73.487785 -39.26265,73.610886 -40.7064,73.72389 -42.14913,73.82599 -43.59088,73.916756 -45.031494,73.995224 -46.470985,74.06004 -47.90938,74.11066 -49.346478,74.14544 -50.782295,74.16312 -52.21675,74.16162 -53.64993,74.13904 -55.081562,74.09308 -56.511658,74.02083 -57.940083,73.91862 -59.366764,73.782265 -60.791546,73.6079 -62.214317,73.38864 -63.634743,73.11695 -65.0527,72.78513 -66.46789,72.380745 -67.8798,71.88894 -69.28812,71.29231 -70.69207,70.567116 -72.09079,69.68137 -73.48326,68.59106 -74.86788,67.23686 -76.242424,65.53513 -77.60381,63.361378 -78.94736,60.53305 -80.265884,56.764534 -81.54797,51.610413 -82.7744,44.357952 -83.91165,33.96317 -84.9001,19.28656 -85.63749,0.457402 -85.98333,-19.331371 -85.839264,-35.927197 -85.2496,-48.011322 -84.35223,-56.441994 -83.26924,-62.37531 -82.07615,-66.66089 -80.81597,-69.84237 -79.51254,-72.26602 -78.18042,-74.148674 -76.827866,-74.25902 -76.73724,-75.67761 -76.88659,-86.55768 -77.69646,-97.27488 -77.99644,-103.41112 -77.962685,-109.88519 -77.75519,-113.82369 -77.53198,-118.20967 -77.182465,-121.017075 -76.893845,-124.29063 -76.48174,-126.47888 -76.1536,-129.13397 -75.68865,-130.97699 -75.315834,-133.29312 -74.77826,-134.95604 -74.33655,-137.11504 -73.67945,-138.71663 -73.119354,-140.86835 -72.248245,-142.52614 -71.465706,-144.85812 -70.163315,-146.76505 -68.88614,-149.70403 -66.44982,-150.85866 -65.306885,-150.85866 -65.306885,-154.02284 -66.05752,-157.37346 -66.73684,-160.90604 -67.33865,-164.61072 -67.85672,-168.47093 -68.28505,-172.46405 -68.61823,-176.5607 -68.85163,179.27383 -68.982124,175.07838 -69.00772,170.8932 -68.927986,166.75804 -68.744156,162.70984 -68.45885,158.78127 -68.07589,154.99788 -67.60029,151.3792 -67.03805,147.9382 -66.395226,144.68222 -65.67783,141.61264 -64.89275,138.72783 -64.04575,136.0221 -63.142723,133.48746 -62.189228,131.1159 -61.189823,128.8965 -60.14984,126.82007 -59.072674,124.87593 -57.9624,123.054756 -56.82194,121.34679 -55.654724,119.742905 -54.46321,118.23541 -53.249596,116.81665 -52.01603,115.47894 -50.76451,114.21639 -49.496468,113.02297 -48.213455,111.89289 -46.916996,110.821724 -45.607998,109.80433 -44.287624,108.83707 -42.956852,107.91628 -41.61645,107.038284 -40.267193,106.20005 -38.909855,105.398895 -37.54499,104.63195 -36.173237,103.89722 -34.79495,103.19221 -33.410816,102.515015 -32.02123,101.86395 -30.626478,101.23738 -29.22695,100.63364 -27.823025,100.05129 -26.415043,99.48926 -25.00316,98.94639 -23.58778,98.42113 -22.169065,97.9131 -20.74726,97.42086 -19.322584,96.943855 -17.89529,96.48117 -16.465477,96.03221 -15.033307,95.59597 -13.599133,95.1723 -12.162846,94.76028 -10.724791,94.35937 -9.284968,93.96906 -7.843694,93.589226 -6.4009132,93.218994 -4.9568152,92.85832 -3.5115283,92.50665 -2.065155,92.16378 -0.61777693,91.82907 0.8304697,91.50259 2.279506,91.183876 3.7292573,90.87281 5.179585,90.5693 6.630494,90.272675 8.081887,89.983116 9.533603,89.70031 10.985592,89.42418 12.437823,89.154724 13.8902645,88.89184 15.342781,88.63503 16.795353,88.384796 18.247862,88.1406 19.700287,87.90264 21.152655,87.67095 22.604725,87.44556 24.056648,87.22617 25.508213,87.01313 26.959482,86.8065 28.41042,86.60621 29.86086,86.41266 31.310926,86.22558 32.760445,86.045555 34.209442,85.873 35.657948,85.70757 37.10574,85.549934 38.55296,85.40038 39.99952,85.25938 41.445374,85.12749 42.89055,85.004906 44.334972,84.89287 45.77859,84.79171 47.22144,84.70221 48.663464,84.625984 50.1046,84.563644 51.544796,84.5165 52.98407,84.48661 54.422318,84.47559 55.859623,84.48586 57.295826,84.51965 58.730816,84.58049 60.16454,84.67224 61.59696,84.79929 63.0279,84.967354 64.45717,85.18365 65.884796,85.45659 67.31025,85.797386 68.73341,86.22074 70.15377,86.7449 71.570854,87.39369 72.98402,88.201546 74.392166,89.21393 75.79402,90.49737 77.18758,92.14683 78.56992,94.30886 79.93645,97.21387 81.27999,101.23865 82.5881,107.03266 83.83831,115.72673 84.98699,129.13344 85.94719,148.97725 86.55704,173.06136 86.621414,-165.77768 86.11307,-151.09377 85.21073,-141.57048 84.092415,-135.27618 82.85843,-130.9408 81.559425,-127.83711 80.22113,-125.540344 78.85762,-123.79673 77.47687,-122.444496 76.084015,-122.36597 75.99087,-121.038376 75.99443,-111.55278 75.81371,-103.17994 75.34866,-98.66409 74.9737,-93.99645 74.491714,-91.15317 74.15064,-87.93278 73.72099,-85.815796 73.41347,-83.263794 73.01603,-81.4914 72.7225,-79.248634 72.329895,-77.61884 72.02933,-75.465904 71.61192,-73.833565 71.2795,-71.582664 70.79748,-69.79865 70.3947,-67.21897 69.77632,-65.06656 69.22329,-61.76344 68.29573,-58.805603 67.36599,-53.792736 65.51089,-51.68267 64.597786,-51.68267 64.597786,))', 'url': \"https://s5phub.copernicus.eu/dhus/odata/v1/Products('47c62467-7558-463a-9f9c-ffc29b34f8a4')/$value\", 'Online': True, 'Creation Date': datetime.datetime(2020, 3, 19, 16, 40, 14, 492000), 'Ingestion Date': datetime.datetime(2020, 3, 19, 16, 35, 6, 344000), 'quicklook_url': \"https://s5phub.copernicus.eu/dhus/odata/v1/Products('47c62467-7558-463a-9f9c-ffc29b34f8a4')/Products('Quicklook')/$value\", 'path': 'data\\\\L2\\\\S5P_OFFL_L2__CO_____20200317T072001_20200317T090132_12569_01_010302_20200319T121215.nc', 'downloaded_bytes': 175247943}, '0a02959d-ad30-4925-a32b-15af8eb1bc7f': {'id': '0a02959d-ad30-4925-a32b-15af8eb1bc7f', 'title': 'S5P_OFFL_L2__CO_____20200330T063709_20200330T081839_12753_01_010302_20200331T201936', 'size': 165806769, 'md5': '68F20630D4FFF2E7BE13BFBFD8736941', 'date': datetime.datetime(2020, 3, 30, 6, 58, 43), 'footprint': 'POLYGON((-50.261093 61.125042,-47.88268 62.126354,-45.34049 63.08147,-42.62611 63.98548,-39.73203 64.83289,-36.65283 65.61789,-33.386673 66.33406,-29.935566 66.97506,-26.307034 67.53466,-22.514225 68.00634,-18.5776 68.38492,-14.5232935 68.66475,-10.384227 68.842384,-6.1974773 68.915054,-2.0033088 68.88178,2.157995 68.74305,6.247771 68.501,10.231442 68.158745,14.080248 67.721306,17.771519 67.19377,21.289755 66.58266,24.624943 65.89391,27.773495 65.13412,30.736021 64.30971,33.516296 63.426342,36.121315 62.489956,38.55977 61.5058,40.840862 60.478443,42.974854 59.41247,44.971405 58.311295,46.84122 57.17896,48.593773 56.01839,50.237854 54.8323,51.782135 53.6232,53.23456 52.393288,54.60275 51.144676,55.892994 49.878876,57.111614 48.59757,58.2644 47.30216,59.356415 45.9938,60.39221 44.67363,61.376377 43.34279,62.312473 42.00197,63.204155 40.652016,64.05489 39.293835,64.86721 37.927807,65.64428 36.55486,66.388176 35.175232,67.1012 33.789528,67.78545 32.398197,68.442825 31.001642,69.075005 29.600286,69.68365 28.194468,70.27014 26.784466,70.83584 25.370573,71.381905 23.95314,71.90943 22.532305,72.41958 21.108377,72.913155 19.681566,73.391075 18.252075,73.85452 16.820137,74.303696 15.385893,74.73951 13.949444,75.162674 12.511082,75.57362 11.070849,75.97309 9.628956,76.36154 8.185531,76.73926 6.74071,77.10689 5.2945747,77.464935 3.8474267,77.813385 2.3989925,78.152824 0.9497611,78.4837 -0.50031763,78.8058 -1.9512334,79.119995 -3.4026651,79.42616 -4.854696,79.72461 -6.307138,80.01548 -7.760054,80.29904 -9.21317,80.57528 -10.666493,80.8446 -12.1199465,81.106705 -13.573551,81.36215 -15.027053,81.6108 -16.480453,81.85245 -17.933762,82.08759 -19.386837,82.31593 -20.839642,82.537544 -22.292114,82.75248 -23.74418,82.96054 -25.19578,83.161606 -26.646904,83.35575 -28.097485,83.54309 -29.547373,83.72242 -30.996752,83.89459 -32.445328,84.059044 -33.89316,84.215515 -35.340225,84.363144 -36.786465,84.50262 -38.231743,84.63259 -39.676212,84.75271 -41.11963,84.862724 -42.562122,84.96197 -44.003433,85.049286 -45.44375,85.12383 -46.882927,85.184975 -48.32094,85.23144 -49.757614,85.2613 -51.19306,85.27386 -52.62719,85.266655 -54.059906,85.23761 -55.491123,85.184685 -56.920677,85.10432 -58.348587,84.99309 -59.77473,84.84678 -61.19894,84.660065 -62.62098,84.426956 -64.04074,84.139435 -65.45794,83.78765 -66.87222,83.3602 -68.283165,82.840996 -69.69026,82.211586 -71.09283,81.44433 -72.48986,80.504585 -73.880264,79.34652 -75.26224,77.90382 -76.63343,76.08215 -77.9903,73.745445 -79.3276,70.68353 -80.63722,66.57642 -81.90586,60.908813 -83.11113,52.88099 -84.21367,41.362186 -85.14309,25.370293 -85.78376,5.804036 -85.994705,-13.417115 -85.71234,-28.721746 -85.01973,-39.6393 -84.05893,-47.248825 -82.93849,-52.63807 -81.722694,-52.940178 -81.63948,-54.939415 -81.851654,-72.10223 -83.00482,-91.122284 -83.33979,-101.944275 -83.17681,-112.58191 -82.728195,-118.49107 -82.315285,-124.50819 -81.72495,-128.04314 -81.2694,-131.85965 -80.65311,-134.23366 -80.18402,-136.93126 -79.544525,-138.69012 -79.04887,-140.77296 -78.35562,-142.18294 -77.801636,-143.90918 -76.9986,-145.1148 -76.33041,-146.63608 -75.31464,-147.73347 -74.42131,-149.17375 -72.9642,-150.27043 -71.561455,-151.84438 -68.93258,-152.43306 -67.71396,-152.43306 -67.71396,-156.25012 -68.16856,-160.20732 -68.52929,-164.27716 -68.79144,-168.42587 -68.95156,-172.61609 -69.007256,-176.80756 -68.95749,179.03987 -68.803246,174.96423 -68.54663,170.99911 -68.19112,167.17258 -67.74166,163.50578 -67.20363,160.01347 -66.58321,156.70445 -65.88674,153.58238 -65.12036,150.64511 -64.29067,147.88908 -63.403076,145.30667 -62.463688,142.88919 -61.477165,140.6277 -60.4483,138.51135 -59.38149,136.53046 -58.2804,134.67491 -57.14852,132.9352 -55.988842,131.30266 -54.803932,129.76845 -53.596546,128.32486 -52.368587,126.96461 -51.122124,125.68103 -49.85871,124.46825 -48.580025,123.3203 -47.287346,122.232666 -45.98188,121.20023 -44.66471,120.21915 -43.33684,119.28534 -41.999146,118.39521 -40.652504,117.5459 -39.29742,116.73416 -37.93475,115.957664 -36.56496,115.21381 -35.188496,114.500206 -33.806194,113.815285 -32.418118,113.15687 -31.024837,112.52337 -29.626757,111.913185 -28.224062,111.324776 -26.817217,110.75691 -25.40651,110.20835 -23.992142,109.6782 -22.574398,109.16518 -21.15351,108.66858 -19.729658,108.18721 -18.303108,107.72045 -16.874023,107.26761 -15.442556,106.82766 -14.008955,106.40051 -12.573276,105.98492 -11.135746,105.58081 -9.696484,105.187485 -8.255671,104.80461 -6.81331,104.431755 -5.369593,104.06817 -3.924667,103.71385 -2.4786344,103.36825 -1.0315377,103.03126 0.41640264,102.702324 1.8652424,102.38143 3.314785,102.06813 4.7649612,101.76228 6.215661,101.46359 7.666934,101.171974 9.118476,100.88723 10.570478,100.60919 12.022644,100.33766 13.47499,100.072784 14.927519,99.81423 16.380062,99.56197 17.832571,99.31588 19.285063,99.07616 20.737406,98.84243 22.189613,98.615105 23.641562,98.39394 25.093288,98.17889 26.544619,97.97048 27.995659,97.768234 29.446274,97.57268 30.896446,97.383644 32.34614,97.2016 33.79534,97.0266 35.243946,96.85884 36.69201,96.69888 38.139423,96.54671 39.58622,96.40315 41.03228,96.268394 42.477703,96.143105 43.92238,96.027626 45.366257,95.92309 46.809334,95.83006 48.25161,95.74986 49.693012,95.6831 51.133575,95.63138 52.573154,95.59606 54.01177,95.57906 55.44939,95.58263 56.88587,95.60897 58.32129,95.66158 59.755486,95.74375 61.188297,95.86008 62.619713,96.015144 64.04961,96.21636 65.47774,96.47163 66.9039,96.79132 68.32782,97.18859 69.74912,97.68122 71.167244,98.29082 72.58168,99.04851 73.99149,99.99598 75.39539,101.19246 76.79169,102.723785 78.177666,104.71895 79.5495,107.379005 80.90081,111.030716 82.220985,116.228165 83.49125,123.9387 84.675674,135.78297 85.70283,153.74919 86.434074,177.27396 86.6688,-160.04367 86.31053,-143.52525 85.49864,-132.74954 84.42803,-125.69678 83.21996,-120.89916 81.93588,-117.49955 80.606766,-115.00638 79.2492,-113.126236 77.87259,-111.6774 76.48266,-110.541115 75.08298,-109.639366 73.67599,-108.91764 72.263245,-108.33627 70.845955,-108.30164 70.7514,-107.3311 70.7296,-100.43399 70.42891,-94.30359 69.9475,-90.93859 69.59924,-87.395164 69.17172,-85.197586 68.87751,-82.66826 68.51369,-80.98056 68.25693,-78.91816 67.9287,-77.467125 67.688446,-75.608215 67.36944,-74.24093 67.1267,-72.41297 66.791374,-71.01012 66.52551,-69.05115 66.14141,-67.47779 65.821335,-65.169 65.33054,-63.2106 64.89124,-60.144447 64.15122,-57.331215 63.402924,-52.40188 61.884926,-50.261093 61.125042,-50.261093 61.125042,))', 'url': \"https://s5phub.copernicus.eu/dhus/odata/v1/Products('0a02959d-ad30-4925-a32b-15af8eb1bc7f')/$value\", 'Online': True, 'Creation Date': datetime.datetime(2020, 4, 1, 0, 10, 4, 556000), 'Ingestion Date': datetime.datetime(2020, 4, 1, 0, 5, 11, 804000), 'quicklook_url': \"https://s5phub.copernicus.eu/dhus/odata/v1/Products('0a02959d-ad30-4925-a32b-15af8eb1bc7f')/Products('Quicklook')/$value\", 'path': 'data\\\\L2\\\\S5P_OFFL_L2__CO_____20200330T063709_20200330T081839_12753_01_010302_20200331T201936.nc', 'downloaded_bytes': 165806769}, 'baef23a2-4ae0-4fc7-90a5-a671257a2b46': {'id': 'baef23a2-4ae0-4fc7-90a5-a671257a2b46', 'title': 'S5P_OFFL_L2__CO_____20200307T070609_20200307T084739_12427_01_010302_20200310T085721', 'size': 160560919, 'md5': '09F59CCA6B3E747AA4A9830EEEFF05A7', 'date': datetime.datetime(2020, 3, 7, 7, 27, 44), 'footprint': 'POLYGON((-39.44686 66.697266,-35.896843 67.29424,-32.175858 67.80624,-28.301058 68.22735,-24.29596 68.55219,-20.190601 68.77602,-16.02038 68.89631,-11.824492 68.910774,-7.6433654 68.81935,-3.516863 68.62331,0.51853037 68.3257,4.431233 67.93041,8.195678 67.44273,11.793369 66.868484,15.211675 66.21376,18.444323 65.48507,21.49047 64.68921,24.3519 63.83152,27.034916 62.9184,29.547232 61.9552,31.897732 60.946693,34.09667 59.89757,36.153797 58.8118,38.07961 57.693188,39.883553 56.544872,41.575527 55.370033,43.163555 54.170967,44.656376 52.950157,46.061623 51.70987,47.38587 50.45146,48.63613 49.177074,49.817806 47.8878,50.936474 46.58512,51.99707 45.27024,53.00386 43.94402,53.96111 42.607613,54.87241 41.261753,55.74135 39.907322,56.57026 38.544598,57.363014 37.174774,58.12161 35.79819,58.848286 34.41511,59.545208 33.02629,60.214413 31.632044,60.857788 30.232847,61.476864 28.829048,62.073143 27.420956,62.64799 26.008787,63.202682 24.592957,63.738506 23.173605,64.256256 21.750998,64.75715 20.3255,65.24209 18.897223,65.71192 17.466356,66.16731 16.033098,66.60905 14.597648,67.03776 13.160078,67.45424 11.720742,67.85873 10.279552,68.25203 8.836808,68.63457 7.392655,69.00675 5.9470778,69.36891 4.500316,69.7216 3.0524359,70.065094 1.6035914,70.39964 0.15383272,70.72582 -1.2965933,71.0436 -2.7478383,71.35323 -4.1996737,71.65502 -5.6519775,71.94922 -7.1047354,72.23613 -8.557686,72.51552 -10.010991,72.78793 -11.464406,73.053154 -12.917965,73.31159 -14.371511,73.56318 -15.825027,73.80797 -17.278385,74.046 -18.731632,74.27731 -20.184597,74.50177 -21.637249,74.71976 -23.089523,74.930824 -24.54139,75.135124 -25.992714,75.33237 -27.4436,75.522545 -28.893826,75.70546 -30.343456,75.88095 -31.792427,76.0487 -33.240635,76.20872 -34.688076,76.36021 -36.134727,76.503555 -37.580456,76.6377 -39.025303,76.76216 -40.469276,76.87678 -41.912178,76.98107 -43.35408,77.07358 -44.79492,77.15385 -46.234623,77.22131 -47.673138,77.27443 -49.110435,77.31165 -50.54654,77.33229 -51.981262,77.33416 -53.41462,77.31517 -54.846535,77.273094 -56.276924,77.2052 -57.70563,77.10816 -59.13262,76.978065 -60.557724,76.81006 -61.980804,76.59875 -63.40164,76.33667 -64.82005,76.014534 -66.23571,75.62298 -67.64824,75.14684 -69.057106,74.56925 -70.46179,73.86661 -71.86149,73.00953 -73.25511,71.95689 -74.64114,70.651115 -76.01752,69.01271 -77.38135,66.92852 -78.728226,64.2225 -80.05153,60.635086 -81.34067,55.746704 -82.57795,48.901604 -83.73302,39.106163 -84.75152,25.185385 -85.53916,6.9078035 -85.95885,-13.044165 -85.89626,-30.344559 -85.37117,-43.138573 -84.514626,-52.084305 -83.45582,-58.360104 -82.277336,-62.871746 -81.02609,-66.20746 -79.72871,-68.73703 -78.400475,-70.69671 -77.050835,-72.24339 -75.68585,-73.480484 -74.309364,-74.480736 -72.923965,-74.54019 -72.83143,-75.67656 -72.95376,-84.13175 -73.6236,-92.198494 -73.89741,-96.80261 -73.897415,-101.72014 -73.76423,-104.76945 -73.606026,-108.240814 -73.347015,-110.5157 -73.12663,-113.23173 -72.8046,-115.09118 -72.543144,-117.40122 -72.166306,-119.04338 -71.85941,-121.15717 -71.41041,-122.7126 -71.03635,-124.7841 -70.47229,-126.3623 -69.98517,-128.54355 -69.21758,-130.27534 -68.51925,-132.79196 -67.34207,-134.92213 -66.173355,-138.33174 -63.915142,-139.71129 -62.845898,-139.71129 -62.845898,-142.36044 -63.764862,-145.18582 -64.62978,-148.19476 -65.43477,-151.38983 -66.17399,-154.77065 -66.84111,-158.33221 -67.429695,-162.0636 -67.93341,-165.94762 -68.346466,-169.95978 -68.66347,-174.07022 -68.88035,-178.24333 -68.99371,177.56009 -69.00202,173.38039 -68.905075,169.25723 -68.7042,165.22661 -68.40255,161.31984 -68.004196,157.56232 -67.5141,153.97208 -66.93818,150.56116 -66.282555,147.33568 -65.55381,144.29684 -64.75806,141.4414 -63.901512,138.76431 -62.989815,136.25749 -62.028324,133.91096 -61.022316,131.71628 -59.97566,129.66188 -58.892895,127.73886 -57.777317,125.93671 -56.632458,124.246284 -55.46107,122.65911 -54.265602,121.166756 -53.04858,119.76135 -51.81207,118.43674 -50.557587,117.185814 -49.287094,116.00314 -48.001816,114.88315 -46.7031,113.820984 -45.392178,112.81217 -44.070038,111.852875 -42.73758,110.939316 -41.39564,110.06796 -40.045017,109.23603 -38.686405,108.44062 -37.320404,107.679436 -35.94744,106.94954 -34.568245,106.2491 -33.183193,105.576515 -31.792673,104.929474 -30.397102,104.306755 -28.99686,103.70667 -27.5922,103.12781 -26.183533,102.56899 -24.771055,102.02907 -23.35513,101.50679 -21.93584,101.00117 -20.51361,100.511696 -19.08842,100.037 -17.660696,99.57668 -16.230469,99.129715 -14.797975,98.69579 -13.363398,98.274086 -11.926854,97.863846 -10.488434,97.46471 -9.048388,97.076164 -7.606839,96.69787 -6.163859,96.329346 -4.7195163,95.970245 -3.2740324,95.61987 -1.8274902,95.27838 -0.37996003,94.94498 1.0684376,94.61992 2.5176156,94.30245 3.96748,93.992744 5.418003,93.69007 6.86892,93.39482 8.320399,93.10636 9.772177,92.82462 11.224214,92.54976 12.676463,92.28136 14.129013,92.01935 15.581498,91.763756 17.034096,91.51455 18.486647,91.27139 19.939062,91.03444 21.391361,90.80382 22.84349,90.57938 24.295338,90.36105 25.746866,90.14898 27.19808,89.94347 28.648945,89.74435 30.099329,89.551865 31.549334,89.36605 32.998714,89.18731 34.44769,89.01584 35.896023,88.85161 37.34379,88.69525 38.790936,88.547165 40.237373,88.40758 41.683147,88.27729 43.12817,88.15662 44.57248,88.04617 46.016,87.94687 47.458725,87.859634 48.900578,87.78557 50.341564,87.72552 51.781635,87.68129 53.220768,87.65415 54.658905,87.646706 56.09598,87.66056 57.531948,87.69866 58.966785,87.76445 60.400295,87.86179 61.83245,87.99515 63.263203,88.17074 64.692215,88.39553 66.11947,88.67889 67.54464,89.03254 68.967255,89.47096 70.38721,90.01378 71.80368,90.68693 73.21607,91.52475 74.62329,92.57724 76.02384,93.91329 77.41577,95.63524 78.79593,97.90145 80.15928,100.95908 81.497986,105.22135 82.798546,111.39937 84.03571,120.72633 85.16092,135.11317 86.07653,155.9834 86.608635,-179.90376 86.57328,-159.753 85.98542,-146.06384 85.03762,-137.18979 83.89506,-131.28604 82.64795,-127.1938 81.34115,-124.24421 79.998024,-124.078766 79.907616,-122.252235 79.94461,-108.97573 79.91682,-97.30664 79.4561,-91.19217 79.03355,-85.07087 78.46801,-81.45425 78.06007,-77.46529 77.54108,-74.905426 77.16743,-71.88433 76.68293,-69.82698 76.32445,-67.27023 75.844666,-65.44398 75.47741,-63.07094 74.96784,-61.300526 74.56259,-58.898266 73.97617,-57.025272 73.48758,-54.363674 72.74057,-52.18422 72.0764,-48.911373 70.972145,-46.053524 69.87851,-41.36429 67.735146,-39.44686 66.697266,-39.44686 66.697266,))', 'url': \"https://s5phub.copernicus.eu/dhus/odata/v1/Products('baef23a2-4ae0-4fc7-90a5-a671257a2b46')/$value\", 'Online': True, 'Creation Date': datetime.datetime(2020, 3, 10, 12, 10, 5, 868000), 'Ingestion Date': datetime.datetime(2020, 3, 10, 12, 5, 7, 633000), 'quicklook_url': \"https://s5phub.copernicus.eu/dhus/odata/v1/Products('baef23a2-4ae0-4fc7-90a5-a671257a2b46')/Products('Quicklook')/$value\", 'path': 'data\\\\L2\\\\S5P_OFFL_L2__CO_____20200307T070609_20200307T084739_12427_01_010302_20200310T085721.nc', 'downloaded_bytes': 160560919}, 'e570ea60-b810-4df7-985d-b737b1e7812f': {'id': 'e570ea60-b810-4df7-985d-b737b1e7812f', 'title': 'S5P_OFFL_L2__CO_____20200304T062123_20200304T080254_12384_01_010302_20200307T080503', 'size': 174600751, 'md5': 'E8DC5618CBEF334CCF00F1DD25EEB0A9', 'date': datetime.datetime(2020, 3, 4, 6, 42, 58), 'footprint': 'POLYGON((-25.315489 67.21676,-21.617495 67.741425,-17.76295 68.17591,-13.7740345 68.51478,-9.680509 68.75358,-5.516771 68.88872,-1.3211237 68.918434,2.8652933 68.84193,7.0025635 68.66072,11.053724 68.37723,14.986258 67.99565,18.77355 67.5206,22.396418 66.95826,25.841362 66.31468,29.101194 65.596176,32.17381 64.8092,35.061665 63.95984,37.76975 63.05415,40.306004 62.097736,42.679043 61.095135,44.89896 60.05142,46.975986 58.970726,48.9197 57.85641,50.740574 56.71213,52.447636 55.54069,54.05011 54.344913,55.555847 53.12691,56.97295 51.889053,58.308273 50.63303,59.568672 49.360775,60.759846 48.0735,61.887085 46.77255,62.955383 45.45914,63.969696 44.134502,64.93356 42.799355,65.85119 41.45475,66.72558 40.101204,67.56024 38.73969,68.357864 37.37075,69.12093 35.994957,69.85176 34.612698,70.55305 33.224724,71.2259 31.831118,71.87262 30.432453,72.494896 29.029154,73.094444 27.621632,73.67203 26.209927,74.22964 24.794592,74.76791 23.375648,75.28806 21.953459,75.79121 20.528254,76.27833 19.100315,76.750206 17.669788,77.20757 16.236797,77.65108 14.801521,78.08148 13.364191,78.49959 11.925049,78.90582 10.484138,79.30048 9.041479,79.68457 7.59749,80.05815 6.1521206,80.42164 4.70541,80.775536 3.2576401,81.12007 1.8088337,81.45606 0.35922852,81.78316 -1.0912716,82.10198 -2.5424294,82.41277 -3.9941218,82.71576 -5.446397,83.010895 -6.899132,83.29876 -8.352104,83.579216 -9.805382,83.852486 -11.258869,84.11874 -12.712453,84.378044 -14.166009,84.630554 -15.619553,84.8761 -17.07299,85.11523 -18.526188,85.34742 -19.979254,85.57308 -21.431927,85.79174 -22.884315,86.00375 -24.336218,86.2091 -25.787655,86.407135 -27.238615,86.59821 -28.689,86.78208 -30.13872,86.95873 -31.587717,87.12751 -33.036125,87.288574 -34.483654,87.4414 -35.930405,87.5856 -37.376293,87.72101 -38.821312,87.84707 -40.265324,87.96321 -41.708374,88.06853 -43.15043,88.162674 -44.591427,88.24492 -46.031296,88.313835 -47.470024,88.36906 -48.907505,88.408775 -50.343693,88.43173 -51.778645,88.43608 -53.212185,88.420074 -54.64431,88.381454 -56.074852,88.31716 -57.503796,88.22449 -58.931,88.099144 -60.356373,87.93695 -61.77972,87.73148 -63.20092,87.476685 -64.61962,87.163475 -66.03566,86.78236 -67.4486,86.31901 -68.85798,85.75681 -70.26336,85.0737 -71.66376,84.240234 -73.05825,83.21709 -74.44538,81.95071 -75.8232,80.36504 -77.18897,78.351074 -78.53852,75.74638 -79.86555,72.30324 -81.16028,67.63156 -82.40622,61.113663 -83.5753,51.80864 -84.61759,38.530693 -85.44519,20.79461 -85.92571,0.8127733 -85.93382,-17.051 -85.467575,-30.47457 -84.64959,-39.890366 -83.6134,-46.48183 -82.44859,-51.20276 -81.205925,-54.679276 -79.91397,-57.306274 -78.58952,-59.337627 -77.24266,-60.935314 -75.87963,-62.21176 -74.50463,-63.242867 -73.12044,-64.08294 -71.72922,-64.132935 -71.636246,-65.20396 -71.75225,-73.12665 -72.389336,-80.63826 -72.65552,-84.92136 -72.66149,-89.50459 -72.54292,-92.355774 -72.39805,-95.614296 -72.158165,-97.75896 -71.9526,-100.33103 -71.65059,-102.10017 -71.4043,-104.30848 -71.04796,-105.88605 -70.756744,-107.926994 -70.32927,-109.4368 -69.972,-111.458855 -69.431595,-113.00863 -68.96345,-115.16455 -68.22344,-116.88833 -67.54813,-119.41289 -66.40616,-121.56804 -65.26884,-125.05147 -63.063908,-126.47211 -62.017273,-126.47211 -62.017273,-128.97557 -62.978374,-131.64897 -63.890144,-134.50035 -64.74676,-137.53517 -65.54289,-140.75653 -66.27219,-144.16322 -66.928535,-147.74948 -67.505394,-151.5034 -67.99668,-155.40678 -68.39648,-159.43486 -68.69931,-163.55615 -68.90177,-167.73483 -69.00051,-171.93115 -68.99389,-176.10495 -68.88209,179.78285 -68.66703,175.76842 -68.35134,171.88158 -67.93964,168.14668 -67.43718,164.58119 -66.84967,161.19681 -66.18316,157.99768 -65.44461,154.98512 -64.640045,152.1553 -63.775433,149.50272 -62.856407,147.01903 -61.88843,144.69498 -60.87621,142.52048 -59.824425,140.48547 -58.736816,138.57973 -57.617077,136.79405 -56.468227,135.11893 -55.29329,133.54523 -54.09485,132.06566 -52.87493,130.67244 -51.635677,129.3582 -50.37898,128.11737 -49.10629,126.943825 -47.819057,125.832275 -46.518566,124.77777 -45.206112,123.776375 -43.882427,122.82343 -42.548653,121.91611 -41.20545,121.05062 -39.8537,120.22392 -38.494007,119.43355 -37.12694,118.67655 -35.75323,117.95114 -34.37312,117.254776 -32.987263,116.58578 -31.596048,115.94237 -30.199823,115.322784 -28.798946,114.72583 -27.393679,114.14994 -25.984518,113.593735 -24.571507,113.05631 -23.155062,112.53638 -21.73541,112.033394 -20.31269,111.5458 -18.88718,111.07324 -17.4591,110.61484 -16.028515,110.169754 -14.595741,109.73747 -13.160859,109.31741 -11.723997,108.908844 -10.285392,108.51139 -8.845114,108.12425 -7.4033136,107.747215 -5.960134,107.380104 -4.5156612,107.02205 -3.0700305,106.673134 -1.6232892,106.33262 -0.17566088,106.000824 1.2729102,105.67653 2.722221,105.360275 4.1721716,105.05129 5.6226897,104.749794 7.073799,104.45552 8.525295,104.16799 9.977148,103.887375 11.429277,103.61329 12.881614,103.34576 14.334068,103.08466 15.786614,102.829926 17.239296,102.58157 18.691807,102.33936 20.144255,102.10329 21.596539,101.87345 23.04861,101.64974 24.500517,101.43237 25.952032,101.221275 27.403214,101.0165 28.854086,100.81834 30.304451,100.62679 31.754383,100.44191 33.203835,100.26418 34.6527,100.09371 36.10103,99.93067 37.548714,99.77539 38.99576,99.62851 40.4422,99.49017 41.887886,99.361046 43.33287,99.24184 44.77709,99.13277 46.220543,99.03518 47.66318,98.94977 49.104958,98.8773 50.545864,98.819695 51.985813,98.77778 53.42493,98.75334 54.86293,98.74863 56.29998,98.76581 57.735817,98.807526 59.170486,98.87744 60.60391,98.979355 62.03596,99.11865 63.466415,99.30049 64.895325,99.5331 66.322334,99.82558 67.74718,100.19026 69.16959,100.64239 70.58906,101.201805 72.00512,101.89603 73.416824,102.761284 74.82326,103.848785 76.22284,105.23248 77.61337,107.02165 78.99147,109.38136 80.35195,112.58144 81.6863,117.06373 82.97977,123.59937 84.20488,133.51917 85.30771,148.79622 86.181175,170.49393 86.6413,-165.54558 86.51967,-146.31648 85.86758,-133.44803 84.8835,-125.09555 83.72197,-119.50608 82.464195,-115.60925 81.151054,-115.393265 81.062256,-113.34441 81.11433,-98.27353 81.15529,-85.02379 80.693016,-78.18586 80.246605,-71.45558 79.64212,-67.54169 79.20447,-63.281765 78.647255,-60.579697 78.24621,-57.42221 77.72664,-55.291027 77.34264,-52.663376 76.8294,-50.80014 76.437096,-48.395355 75.89361,-46.61275 75.46208,-44.208874 74.83875,-42.346016 74.32041,-39.715305 73.52975,-37.57516 72.82869,-34.384712 71.66726,-31.621662 70.52209,-27.13407 68.2913,-25.315489 67.21676,-25.315489 67.21676,))', 'url': \"https://s5phub.copernicus.eu/dhus/odata/v1/Products('e570ea60-b810-4df7-985d-b737b1e7812f')/$value\", 'Online': True, 'Creation Date': datetime.datetime(2020, 3, 7, 11, 40, 20, 907000), 'Ingestion Date': datetime.datetime(2020, 3, 7, 11, 35, 7, 355000), 'quicklook_url': \"https://s5phub.copernicus.eu/dhus/odata/v1/Products('e570ea60-b810-4df7-985d-b737b1e7812f')/Products('Quicklook')/$value\", 'path': 'data\\\\L2\\\\S5P_OFFL_L2__CO_____20200304T062123_20200304T080254_12384_01_010302_20200307T080503.nc', 'downloaded_bytes': 174600751}, '8547fa5f-7baa-4ae2-9d87-8126273db118': {'id': '8547fa5f-7baa-4ae2-9d87-8126273db118', 'title': 'S5P_OFFL_L2__CO_____20200305T074359_20200305T092529_12399_01_010302_20200308T092548', 'size': 163105088, 'md5': '715FFFCC0FCA4D25F251635AFA3ED93C', 'date': datetime.datetime(2020, 3, 5, 8, 5, 33), 'footprint': 'POLYGON((-47.041557 67.03571,-43.395565 67.58679,-39.587875 68.04986,-35.63789 68.41872,-31.573662 68.688995,-27.427568 68.85632,-23.23821 68.918785,-19.04503 68.87515,-14.888656 68.726234,-10.807471 68.47419,-6.835496 68.122475,-3.0009627 67.675804,0.674259 67.140015,4.174976 66.52075,7.4924407 65.82479,10.622768 65.05826,13.567289 64.227776,16.330294 63.33906,18.918802 62.39779,21.341335 61.409004,23.60742 60.377617,25.727806 59.30809,27.711588 58.20375,29.569515 57.068577,31.311083 55.90537,32.944843 54.716812,34.480007 53.505657,35.923653 52.27372,37.283703 51.0232,38.566704 49.755856,39.77864 48.473072,40.92515 47.176285,42.01132 45.866722,43.04196 44.54555,44.02108 43.213528,44.95259 41.87177,45.84024 40.521023,46.686954 39.161983,47.495743 37.79528,48.269287 36.421516,49.009956 35.04127,49.720154 33.65502,50.401604 32.26314,51.05652 30.866148,51.68631 29.464306,52.29261 28.057987,52.876923 26.647602,53.440525 25.233334,53.98473 23.815485,54.51045 22.394283,55.018753 20.970036,55.510887 19.54298,55.987373 18.113216,56.449104 16.680973,56.89686 15.246433,57.331303 13.80977,57.753147 12.371164,58.163197 10.93083,58.56128 9.488726,58.948734 8.045181,59.325405 6.600158,59.691975 5.153871,60.04897 3.7064998,60.396484 2.2581127,60.735157 0.8087453,61.06484 -0.64149845,61.386364 -2.0923975,61.699596 -3.5439208,62.004883 -4.9960723,62.30236 -6.4486485,62.592464 -7.9015656,62.87526 -9.354727,63.150696 -10.80815,63.419304 -12.261619,63.6807 -13.715215,63.93529 -15.168781,64.18327 -16.622179,64.42415 -18.07552,64.6585 -19.528599,64.88608 -20.981373,65.10702 -22.433834,65.32108 -23.885948,65.5284 -25.33751,65.72873 -26.788652,65.92197 -28.239191,66.10806 -29.68917,66.28701 -31.138363,66.45827 -32.58693,66.62169 -34.03477,66.77706 -35.481785,66.92405 -36.92799,67.06218 -38.37325,67.19119 -39.81759,67.31035 -41.261017,67.41926 -42.703384,67.51694 -44.144676,67.60281 -45.584904,67.676155 -47.023975,67.73569 -48.461887,67.78038 -49.89851,67.808586 -51.33389,67.81907 -52.76785,67.80953 -54.200466,67.778015 -55.631504,67.721985 -57.061005,67.638695 -58.488758,67.523796 -59.914772,67.37333 -61.338726,67.18181 -62.760662,66.94325 -64.18015,66.64983 -65.59713,66.290886 -67.01107,65.85444 -68.42166,65.32501 -69.828316,64.682 -71.23038,63.8986 -72.62687,62.93914 -74.01645,61.754597 -75.39744,60.27822 -76.76735,58.41145 -78.12248,56.011383 -79.45737,52.861637 -80.76351,48.62248 -82.0268,42.762016 -83.22386,34.43993 -84.31256,22.511307 -85.21898,6.0836887 -85.82285,-13.643571 -85.98513,-32.57464 -85.65655,-47.415936 -84.93156,-57.94911 -83.951195,-65.29674 -82.81943,-70.51621 -81.5969,-74.32569 -80.317894,-77.18505 -79.00237,-79.379654 -77.66147,-81.09793 -76.30292,-82.46471 -74.93132,-83.564644 -73.549706,-84.45911 -72.16042,-84.53904 -72.021255,-85.630165 -72.13922,-93.7159 -72.7865,-101.39677 -73.05519,-105.7778 -73.05945,-110.46332 -72.93652,-113.375374 -72.787636,-116.69962 -72.54198,-118.88472 -72.3319,-121.50177 -72.02379,-123.29932 -71.77286,-125.53988 -71.410225,-127.1381 -71.11419,-129.20259 -70.68006,-130.72736 -70.3176,-132.76595 -69.769844,-134.32552 -69.295784,-136.49074 -68.547165,-138.2182 -67.86463,-140.74205 -66.71158,-142.8909 -65.56434,-146.35352 -63.34251,-147.76213 -62.28868,-147.76213 -62.28868,-150.31177 -63.236782,-153.03377 -64.13383,-155.93524 -64.97444,-159.02168 -65.75272,-162.29471 -66.462524,-165.75208 -67.097694,-169.38632 -67.651794,-173.18404 -68.11814,-177.12498 -68.49172,178.81776 -68.76723,174.67627 -68.94141,170.48836 -69.010735,166.29366 -68.97525,162.1329 -68.834435,158.04417 -68.59111,154.06157 -68.24865,150.21472 -67.811,146.52467 -67.28451,143.00804 -66.674576,139.67458 -65.98731,136.52686 -65.229904,133.56555 -64.40789,130.78526 -63.527706,128.18024 -62.59456,125.74139 -61.61393,123.4597 -60.59041,121.32477 -59.528164,119.3265 -58.431255,117.45505 -57.303097,115.700874 -56.14667,114.05459 -54.965004,112.507835 -53.76028,111.05271 -52.534897,109.682106 -51.29056,108.38893 -50.029224,107.16722 -48.752346,106.0112 -47.461308,104.91612 -46.15729,103.87685 -44.841564,102.88921 -43.514984,101.949455 -42.178505,101.053925 -40.83279,100.199585 -39.47875,99.38323 -38.11697,98.60224 -36.747936,97.854454 -35.372307,97.137146 -33.990612,96.44864 -32.60322,95.78693 -31.210514,95.15028 -29.81294,94.53717 -28.410784,93.94604 -27.00442,93.375854 -25.594105,92.82511 -24.18013,92.29258 -22.762766,91.777466 -21.342218,91.27886 -19.918674,90.79539 -18.492414,90.32689 -17.063593,89.87224 -15.632387,89.43095 -14.198973,89.001976 -12.763542,88.58523 -11.326205,88.179794 -9.8870535,87.7852 -8.446315,87.400894 -7.004161,87.02702 -5.5605254,86.66233 -4.1157317,86.306915 -2.6697953,85.96033 -1.2227671,85.62224 0.22511442,85.29254 1.6738427,84.97055 3.1233978,84.6562 4.5735035,84.34955 6.0242443,84.04991 7.4754496,83.757545 8.92704,83.47204 10.378977,83.19336 11.831224,82.92096 13.283587,82.65537 14.736091,82.39595 16.18867,82.14309 17.641289,81.89637 19.093807,81.655876 20.546215,81.42153 21.998425,81.19342 23.450468,80.97141 24.90222,80.755875 26.353691,80.54654 27.804796,80.3437 29.255507,80.147224 30.705778,79.95751 32.15558,79.774574 33.60481,79.59882 35.053574,79.43024 36.50167,79.26943 37.949184,79.11652 39.396027,78.97187 40.842297,78.835976 42.287838,78.709465 43.73258,78.59307 45.176556,78.48719 46.61979,78.392914 48.062157,78.3108 49.50367,78.24256 50.94427,78.18889 52.384113,78.15168 53.822823,78.13263 55.260506,78.13368 56.697197,78.1575 58.13273,78.206314 59.567066,78.285095 61.00004,78.39657 62.431667,78.54657 63.861744,78.74201 65.29007,78.99018 66.71649,79.30132 68.14069,79.68848 69.56229,80.16756 70.98088,80.761185 72.39578,81.49831 73.80619,82.41941 75.21088,83.58043 76.60821,85.06241 77.99566,86.99006 79.36949,89.54883 80.723885,93.047966 82.04877,98.002335 83.32679,105.31003 84.525085,116.49394 85.5786,133.57498 86.35898,156.60468 86.66888,179.81332 86.384865,-162.80252 85.62091,-151.39172 84.57618,-143.94785 83.382,-138.90941 82.106064,-135.357 80.78193,-135.06238 80.6477,-133.09885 80.69393,-118.72667 80.7082,-106.09492 80.24665,-99.53643 79.80956,-93.0375 79.22012,-89.23441 78.79386,-85.07352 78.2512,-82.422264 77.86052,-79.31229 77.35416,-77.20599 76.97972,-74.601204 76.478966,-72.749054 76.09598,-70.3525 75.56505,-68.571724 75.14323,-66.16479 74.533485,-64.29536 74.02605,-61.64932 73.25134,-59.491577 72.56373,-56.266376 71.423035,-53.46491 70.296486,-48.89818 68.09713,-47.041557 67.03571,-47.041557 67.03571,))', 'url': \"https://s5phub.copernicus.eu/dhus/odata/v1/Products('8547fa5f-7baa-4ae2-9d87-8126273db118')/$value\", 'Online': True, 'Creation Date': datetime.datetime(2020, 3, 8, 12, 40, 3, 847000), 'Ingestion Date': datetime.datetime(2020, 3, 8, 12, 35, 5, 722000), 'quicklook_url': \"https://s5phub.copernicus.eu/dhus/odata/v1/Products('8547fa5f-7baa-4ae2-9d87-8126273db118')/Products('Quicklook')/$value\", 'path': 'data\\\\L2\\\\S5P_OFFL_L2__CO_____20200305T074359_20200305T092529_12399_01_010302_20200308T092548.nc', 'downloaded_bytes': 163105088}, '5585b3fa-41bb-477f-a028-419ba76e8b48': {'id': '5585b3fa-41bb-477f-a028-419ba76e8b48', 'title': 'S5P_OFFL_L2__CO_____20200313T065410_20200313T083540_12512_01_010302_20200316T084156', 'size': 173611277, 'md5': '77009EA51BE766A77F368D28EF8108A4', 'date': datetime.datetime(2020, 3, 13, 7, 15, 44), 'footprint': 'POLYGON((-41.87483 65.50794,-38.63587 66.23449,-35.211285 66.8868,-31.60796 67.4587,-27.837994 67.94348,-23.920843 68.335785,-19.881765 68.63018,-15.753009 68.8229,-11.570873 68.91096,-7.3753314 68.89309,-3.2069845 68.76968,0.8956095 68.542435,4.8964415 68.21459,8.76622 67.79049,12.48146 67.27582,16.025482 66.676346,19.387564 65.99851,22.563461 65.248825,25.552605 64.43329,28.359077 63.558258,30.989302 62.62943,33.45115 61.651745,35.754547 60.63049,37.909042 59.569695,39.925423 58.473774,41.813046 57.345795,43.581955 56.1891,45.241253 55.006615,46.799587 53.800728,48.264893 52.573704,49.644802 51.327686,50.945923 50.06433,52.17469 48.785225,53.336906 47.49192,54.437416 46.185387,55.48114 44.867012,56.47252 43.537575,57.415432 42.19818,58.313385 40.849556,59.169987 39.49266,59.987637 38.127697,60.769745 36.755737,61.518208 35.377037,62.235664 33.9922,62.92408 32.60172,63.58525 31.205946,64.22095 29.805206,64.83303 28.400085,65.42269 26.9907,65.99123 25.577394,66.54007 24.16042,67.07037 22.740162,67.58275 21.316605,68.07888 19.890251,68.55924 18.461218,69.02444 17.02951,69.47576 15.59561,69.91335 14.1594715,70.33839 12.721407,70.751175 11.281465,71.15226 9.839797,71.54226 8.396618,71.92141 6.951903,72.29062 5.5060425,72.65001 4.058996,72.99993 2.610831,73.34067 1.161719,73.67262 -0.28830922,73.99609 -1.7390538,74.31132 -3.190496,74.61864 -4.642435,74.9183 -6.0947585,75.21005 -7.5476837,75.49478 -9.000759,75.77215 -10.454079,76.04234 -11.907574,76.30555 -13.361121,76.56199 -14.814611,76.811424 -16.268143,77.05424 -17.72144,77.29024 -19.1746,77.51962 -20.627432,77.74204 -22.080023,77.95797 -23.532143,78.166954 -24.983862,78.369125 -26.43504,78.5642 -27.885736,78.752235 -29.335798,78.932755 -30.785252,79.10633 -32.233913,79.27183 -33.681858,79.4294 -35.129063,79.5784 -36.57545,79.71897 -38.020943,79.85039 -39.46551,79.972084 -40.909107,80.083626 -42.351715,80.184265 -43.793285,80.27317 -45.233814,80.349915 -46.67315,80.41298 -48.11129,80.461426 -49.54827,80.49413 -50.98389,80.5092 -52.418232,80.505035 -53.851147,80.47942 -55.28256,80.429886 -56.71245,80.35376 -58.140644,80.24683 -59.567097,80.106125 -60.991554,79.925514 -62.414005,79.699936 -63.834103,79.420555 -65.25171,79.078926 -66.666466,78.663376 -68.077934,78.158615 -69.48568,77.54619 -70.88893,76.80051 -72.286896,75.88893 -73.6784,74.766396 -75.06177,73.3693 -76.43469,71.60965 -77.79392,69.35832 -79.13454,66.41848 -80.448845,62.488224 -81.724525,57.089382 -82.940994,49.46778 -84.061844,38.532787 -85.02237,23.206284 -85.71381,3.9746282 -85.99431,-15.580278 -85.78145,-31.549582 -85.13973,-43.04896 -84.20986,-51.063858 -83.10775,-56.72229 -81.90323,-60.825977 -80.63576,-63.882732 -79.327614,-66.218704 -77.99205,-68.03878 -76.63722,-69.48077 -75.26829,-69.60803 -75.13087,-70.89577 -75.26767,-80.62286 -76.01232,-90.05252 -76.301216,-95.44481 -76.28468,-101.17176 -76.11391,-104.69087 -75.92235,-108.654495 -75.61638,-111.22209 -75.36022,-114.25168 -74.99053,-116.30098 -74.69346,-118.81641 -74.269165,-120.58279 -73.92647,-122.82833 -73.42895,-124.45959 -73.017525,-126.60306 -72.40165,-128.21313 -71.873535,-130.40495 -71.04728,-132.11722 -70.300766,-134.56186 -69.05124,-136.5923 -67.81918,-139.77455 -65.45575,-141.04085 -64.34256,-141.04085 -64.34256,-143.98715 -65.16847,-147.11877 -65.93066,-150.43724 -66.62267,-153.93852 -67.23839,-157.61386 -67.77145,-161.44821 -68.21575,-165.4201 -68.56566,-169.50075 -68.81682,-173.6566 -68.96532,-177.84953 -69.009186,177.96094 -68.947754,173.81464 -68.7819,169.74942 -68.5139,165.79807 -68.14768,161.98824 -67.687904,158.33969 -67.14039,154.86746 -66.510994,151.5791 -65.80634,148.47765 -65.032455,145.56064 -64.19598,142.82437 -63.30227,140.2609 -62.35712,137.86154 -61.365566,135.61656 -60.33223,133.51616 -59.26131,131.54947 -58.156483,129.70764 -57.021275,127.98019 -55.85859,126.35925 -54.67097,124.8356 -53.461056,123.40167 -52.230976,122.050285 -50.982418,120.77532 -49.71713,119.56993 -48.436806,118.42935 -47.142517,117.348175 -45.83558,116.32165 -44.517223,115.34627 -43.188107,114.41733 -41.84941,113.532 -40.501648,112.68739 -39.145607,111.87967 -37.782116,111.10702 -36.41148,110.366684 -35.03439,109.65651 -33.651287,108.97477 -32.26256,108.31914 -30.868727,107.688446 -29.470013,107.08074 -28.066835,106.49475 -26.659512,105.92937 -25.248281,105.382996 -23.833519,104.85483 -22.415375,104.343765 -20.994108,103.848885 -19.569914,103.36937 -18.14304,102.90419 -16.713697,102.45272 -15.281956,102.0144 -13.848066,101.588486 -12.412162,101.17429 -10.974424,100.771454 -9.534904,100.3794 -8.093852,99.997795 -6.6513157,99.62603 -5.2074428,99.26355 -3.7624009,98.910324 -2.3162198,98.565796 -0.8690218,98.2297 0.57912153,97.90173 2.028047,97.581566 3.4776633,97.269394 4.927937,96.96435 6.378801,96.666534 7.8300486,96.37563 9.281691,96.09182 10.73366,95.81465 12.185856,95.54397 13.638322,95.27978 15.090808,95.02189 16.5433,94.7706 17.995878,94.525185 19.448336,94.28623 20.900703,94.053215 22.352814,93.82674 23.804848,93.606384 25.25648,93.392365 26.70783,93.18436 28.158772,92.98295 29.609354,92.78793 31.059471,92.6 32.509056,92.418846 33.95823,92.244705 35.40677,92.07799 36.85473,91.91882 38.302097,91.7678 39.748714,91.625244 41.194828,91.4916 42.640068,91.36757 44.084652,91.25349 45.528374,91.15019 46.971413,91.058754 48.413567,90.979935 49.85488,90.915054 51.29524,90.865105 52.73473,90.83222 54.173153,90.81756 55.610622,90.823875 57.04703,90.853294 58.482235,90.90927 59.916203,90.995056 61.348885,91.11556 62.78013,91.27602 64.20973,91.48309 65.63762,91.745575 67.0635,92.07394 68.48709,92.48094 69.908035,92.98578 71.3258,93.610985 72.73963,94.38831 74.148766,95.36059 75.55186,96.59088 76.94704,98.16854 78.33159,100.22738 79.70143,102.9809 81.04967,106.77406 82.365265,112.19716 83.627914,120.277855 84.79885,132.71497 85.80096,151.42282 86.4866,175.23656 86.65503,-162.63857 86.23606,-146.85594 85.38714,-136.59245 84.296844,-129.84883 83.07826,-125.23914 81.7882,-121.9596 80.45538,-119.544914 79.09544,-117.719955 77.7172,-117.562706 77.57873,-116.06888 77.593475,-105.3485 77.46418,-95.90595 77.002014,-90.85863 76.61213,-85.69259 76.1029,-82.5753 75.73952,-79.073906 75.27953,-76.78977 74.94923,-74.05508 74.52143,-72.168 74.204994,-69.79441 73.78133,-68.07951 73.456764,-65.82687 73.005905,-64.12846 72.646805,-61.799683 72.126205,-59.964714 71.69143,-57.328026 71.024635,-55.14317 70.429344,-51.81729 69.43384,-48.867332 68.44027,-43.929794 66.4711,-41.87483 65.50794,-41.87483 65.50794,))', 'url': \"https://s5phub.copernicus.eu/dhus/odata/v1/Products('5585b3fa-41bb-477f-a028-419ba76e8b48')/$value\", 'Online': True, 'Creation Date': datetime.datetime(2020, 3, 16, 12, 10, 3, 894000), 'Ingestion Date': datetime.datetime(2020, 3, 16, 12, 5, 7, 624000), 'quicklook_url': \"https://s5phub.copernicus.eu/dhus/odata/v1/Products('5585b3fa-41bb-477f-a028-419ba76e8b48')/Products('Quicklook')/$value\", 'path': 'data\\\\L2\\\\S5P_OFFL_L2__CO_____20200313T065410_20200313T083540_12512_01_010302_20200316T084156.nc', 'downloaded_bytes': 173611277}, '539e4f6b-873f-4b52-826d-d5463f8d372d': {'id': '539e4f6b-873f-4b52-826d-d5463f8d372d', 'title': 'S5P_OFFL_L2__CO_____20200304T080254_20200304T094424_12385_01_010302_20200307T094505', 'size': 171151510, 'md5': 'A0E9401A0EF3DD7E46DEC8A4C77C211A', 'date': datetime.datetime(2020, 3, 4, 8, 24, 28), 'footprint': 'POLYGON((-50.853977 67.18976,-47.16383 67.718315,-43.316036 68.156975,-39.332893 68.50031,-35.243614 68.74379,-31.082222 68.8837,-26.887476 68.91809,-22.70023 68.84659,-18.559969 68.6701,-14.504371 68.39129,-10.565983 68.01416,-6.7715826 67.54331,-3.1410153 66.98472,0.31197605 66.34466,3.5801592 65.6294,6.6614323 64.84545,9.557605 63.999012,12.273504 63.095688,14.8176155 62.141525,17.197798 61.141033,19.424553 60.09919,21.507797 59.019978,23.457315 57.907173,25.283556 56.76416,26.995747 55.594,28.602829 54.399277,30.11287 53.182335,31.533957 51.945404,32.873104 50.690342,34.13642 49.41853,35.33078 48.132004,36.4611 46.83177,37.53183 45.518875,38.54854 44.19477,39.514877 42.86018,40.434475 41.515934,41.311077 40.16295,42.147335 38.8017,42.94681 37.43322,43.71126 36.057587,44.44366 34.67566,45.14605 33.28784,45.82034 31.89453,46.46846 30.496243,47.091835 29.093184,47.692257 27.685768,48.270935 26.27428,48.829357 24.859035,49.368526 23.440254,49.88963 22.018314,50.393593 20.593212,50.881413 19.165363,51.353836 17.734877,51.811974 16.30205,52.256107 14.866915,52.68723 13.429713,53.10592 11.990627,53.512627 10.549768,53.907867 9.107203,54.292316 7.663266,54.66644 6.2179265,55.030495 4.7713747,55.384872 3.3236153,55.730053 1.8749585,56.06628 0.42533052,56.39377 -1.0251298,56.71298 -2.476265,57.024113 -3.9279537,57.32737 -5.3802333,57.62287 -6.832918,57.911053 -8.285914,58.191715 -9.739204,58.46541 -11.19265,58.73202 -12.646223,58.991615 -14.099825,59.244442 -15.553368,59.490368 -17.006802,59.729687 -18.460075,59.96223 -19.913134,60.187992 -21.365862,60.407146 -22.818226,60.619293 -24.270222,60.82483 -25.721708,61.023167 -27.172724,61.214725 -28.623096,61.39901 -30.072878,61.575855 -31.521975,61.74515 -32.97034,61.906464 -34.417973,62.05967 -35.864758,62.204376 -37.3107,62.339973 -38.755836,62.466454 -40.19993,62.582813 -41.643093,62.688988 -43.085163,62.78357 -44.52621,62.866295 -45.966164,62.935978 -47.404926,62.99176 -48.8425,63.031982 -50.278828,63.055866 -51.713837,63.06076 -53.147507,63.045788 -54.57966,63.008244 -56.010326,62.945343 -57.43938,62.854145 -58.86668,62.730118 -60.29217,62.569595 -61.71563,62.366066 -63.13692,62.113834 -64.555786,61.803802 -65.971985,61.425774 -67.3851,60.966385 -68.79474,60.4089 -70.20028,59.731472 -71.60096,58.90586 -72.99575,57.891823 -74.38326,56.63856 -75.76161,55.068733 -77.12804,53.077545 -78.47845,50.503475 -79.80668,47.10449 -81.103096,42.499397 -82.351845,36.081936 -83.525246,26.926744 -84.574776,13.84751 -85.414536,-3.7106683 -85.913666,-23.685377 -85.94427,-41.719986 -85.49716,-55.34617 -84.69168,-64.915184 -83.66294,-71.60966 -82.50248,-76.39703 -81.26247,-79.920876 -79.972374,-82.57984 -78.64914,-84.633896 -77.30314,-86.248184 -75.94061,-87.53639 -74.565994,-88.577156 -73.182236,-89.42462 -71.79108,-89.50025 -71.651764,-90.57195 -71.76783,-98.50028 -72.405266,-106.0179 -72.671555,-110.30453 -72.67748,-114.89148 -72.55879,-117.744896 -72.413795,-121.00584 -72.173744,-123.15199 -71.968025,-125.725746 -71.66583,-127.49595 -71.419395,-129.70549 -71.06286,-131.28383 -70.77149,-133.32568 -70.3438,-134.83607 -69.98638,-136.85878 -69.44575,-138.40894 -68.97742,-140.56525 -68.23716,-142.28918 -67.56163,-144.81375 -66.41935,-146.96869 -65.28176,-150.45132 -63.07644,-151.87149 -62.029663,-151.87149 -62.029663,-154.37709 -62.990425,-157.05273 -63.901413,-159.90604 -64.7576,-162.94312 -65.55295,-166.1669 -66.28161,-169.5755 -66.937294,-173.16417 -67.513176,-176.92018 -68.00352,179.1744 -68.40223,175.14491 -68.704346,171.02226 -68.905594,166.8428 -69.00304,162.64592 -68.99506,158.47191 -68.8824,154.36052 -68.66592,150.34682 -68.34915,146.46144 -67.936295,142.72836 -67.43246,139.16483 -66.843956,135.78154 -66.17696,132.58482 -65.43732,129.57407 -64.63191,126.746605 -63.76638,124.09593 -62.846878,121.613754 -61.878323,119.2916 -60.86558,117.11868 -59.81326,115.08528 -58.725212,113.181175 -57.60494,111.39686 -56.455765,109.7225 -55.280605,108.15046 -54.08168,106.67188 -52.86152,105.27941 -51.622013,103.966255 -50.365074,102.72617 -49.09217,101.55356 -47.8047,100.44279 -46.50401,99.3889 -45.191414,98.38818 -43.867443,97.435936 -42.533558,96.529205 -41.190174,95.66395 -39.838345,94.838036 -38.478466,94.04769 -37.1114,93.29138 -35.737457,92.56624 -34.357292,91.87034 -32.971333,91.201706 -31.57999,90.558525 -30.183615,89.939316 -28.782694,89.34254 -27.377338,88.76683 -25.968102,88.21098 -24.555048,87.67371 -23.138529,87.15423 -21.718716,86.65121 -20.295967,86.16405 -18.870417,85.691605 -17.442244,85.233345 -16.011639,84.78857 -14.578771,84.35637 -13.143828,83.93649 -11.706916,83.52792 -10.268295,83.13056 -8.82796,82.7437 -7.3860993,82.36688 -5.942873,81.999725 -4.4983745,81.64203 -3.0526786,81.293015 -1.6059508,80.952705 -0.15824707,80.620834 1.2903703,80.29675 2.7396476,79.98045 4.189663,79.67162 5.64026,79.37047 7.0913844,79.07609 8.542892,78.78879 9.994747,78.50818 11.446944,78.234406 12.899307,77.966705 14.351797,77.70573 15.804426,77.451164 17.25702,77.20279 18.709585,76.96076 20.162104,76.72459 21.614374,76.494995 23.0665,76.271416 24.518358,76.054085 25.969906,75.84295 27.421118,75.638374 28.871908,75.44018 30.32232,75.24874 31.772253,75.06397 33.221718,74.88623 34.670597,74.71569 36.118904,74.552704 37.566612,74.39773 39.01367,74.250885 40.4601,74.11268 41.905815,73.98346 43.35078,73.86438 44.795,73.7555 46.23844,73.65799 47.68111,73.57282 49.122864,73.500786 50.563766,73.44311 52.00375,73.40112 53.44279,73.37711 54.880817,73.372765 56.31777,73.38981 57.753635,73.43204 59.188316,73.50225 60.621704,73.604576 62.053764,73.744095 63.484253,73.92661 64.91309,74.15976 66.34006,74.45283 67.7649,74.81821 69.18724,75.27137 70.60674,75.83205 72.02267,76.527695 73.434456,77.3951 74.84071,78.48564 76.2403,79.87388 77.63066,81.6673 79.00867,84.03581 80.36891,87.24744 81.702896,91.74915 82.995766,98.31696 84.21976,108.2879 85.32085,123.643814 86.19068,145.4145 86.6444,169.35995 86.5153,-171.48921 85.85781,-158.68912 84.87073,-150.37956 83.70746,-144.81819 82.44874,-140.9384 81.135056,-140.61613 81.001625,-138.58018 81.052765,-123.6163 81.08939,-110.46202 80.62704,-103.6672 80.18196,-96.972435 79.57967,-93.07546 79.1437,-88.83059 78.58864,-86.13619 78.189125,-82.98585 77.67151,-80.858376 77.288925,-78.2341 76.77753,-76.37248 76.3866,-73.968864 75.844955,-72.18648 75.41486,-69.78206 74.79353,-67.91816 74.276794,-65.28507 73.48848,-63.142242 72.7894,-59.94652 71.631004,-57.17768 70.48856,-52.67823 68.262375,-50.853977 67.18976,-50.853977 67.18976,))', 'url': \"https://s5phub.copernicus.eu/dhus/odata/v1/Products('539e4f6b-873f-4b52-826d-d5463f8d372d')/$value\", 'Online': True, 'Creation Date': datetime.datetime(2020, 3, 7, 13, 40, 5, 643000), 'Ingestion Date': datetime.datetime(2020, 3, 7, 13, 35, 15, 174000), 'quicklook_url': \"https://s5phub.copernicus.eu/dhus/odata/v1/Products('539e4f6b-873f-4b52-826d-d5463f8d372d')/Products('Quicklook')/$value\", 'path': 'data\\\\L2\\\\S5P_OFFL_L2__CO_____20200304T080254_20200304T094424_12385_01_010302_20200307T094505.nc', 'downloaded_bytes': 171151510}, 'c3dd5a04-5ef8-4a9f-95a9-7585959a85ef': {'id': 'c3dd5a04-5ef8-4a9f-95a9-7585959a85ef', 'title': 'S5P_OFFL_L2__CO_____20200326T061118_20200326T075249_12696_01_010302_20200327T195606', 'size': 169931668, 'md5': '97D1AD4322BED21CDC76022C31BB31AE', 'date': datetime.datetime(2020, 3, 26, 6, 32, 53), 'footprint': 'POLYGON((-41.221687 62.25262,-38.65791 63.201492,-35.920765 64.09863,-33.002636 64.9382,-29.899187 65.7145,-26.609095 66.42143,-23.134228 67.05219,-19.483463 67.60073,-15.6709795 68.060905,-11.717259 68.42676,-7.650272 68.693756,-3.502738 68.857834,0.6872741 68.916954,4.879612 68.86996,9.033879 68.71767,13.111722 68.46225,17.07972 68.107704,20.9092 67.65805,24.578865 67.11944,28.07371 66.49777,31.385 65.79966,34.50915 65.03092,37.447918 64.19848,40.205204 63.308056,42.788364 62.365288,45.20574 61.37517,47.467083 60.342514,49.58276 59.271763,51.56271 58.166573,53.41673 57.030315,55.154724 55.866283,56.785336 54.677048,58.317383 53.465137,59.75842 52.232647,61.11597 50.981613,62.3968 49.713768,63.606598 48.430573,64.750984 47.1333,65.835556 45.823418,66.86444 44.50179,67.84216 43.169582,68.77224 41.827454,69.65862 40.47648,70.50412 39.11718,71.31183 37.750256,72.08422 36.376266,72.82403 34.99584,73.53341 33.609486,74.21396 32.217415,74.86814 30.82029,75.497116 29.418245,76.10269 28.011797,76.68651 26.601355,77.249435 25.18691,77.793106 23.768991,78.318306 22.347755,78.82637 20.92348,79.31786 19.496277,79.79375 18.066372,80.25518 16.634079,80.702675 15.199534,81.136894 13.762873,81.55829 12.324187,81.96775 10.883724,82.36581 9.441659,82.75284 7.9980807,83.12937 6.553108,83.49557 5.1067066,83.85232 3.6593528,84.19965 2.2108762,84.5379 0.76150745,84.86759 -0.68874615,85.18884 -2.1396427,85.50188 -3.5912132,85.80713 -5.043301,86.10451 -6.4958687,86.3945 -7.9487257,86.67702 -9.401931,86.952415 -10.855331,87.22067 -12.308831,87.48207 -13.762375,87.736534 -15.215865,87.98412 -16.669346,88.22522 -18.122547,88.45941 -19.575598,88.68702 -21.02836,88.90772 -22.480782,89.121574 -23.932842,89.32866 -25.38442,89.529015 -26.83546,89.72223 -28.28591,89.90829 -29.735775,90.08703 -31.18503,90.25829 -32.633495,90.42163 -34.08124,90.57692 -35.528206,90.72373 -36.974285,90.86185 -38.41957,90.9906 -39.86378,91.10956 -41.307137,91.21823 -42.74942,91.315895 -44.19067,91.4016 -45.63084,91.47486 -47.0698,91.533745 -48.507687,91.57854 -49.9442,91.60623 -51.379494,91.61635 -52.813408,91.60657 -54.245876,91.57472 -55.676865,91.51821 -57.106297,91.43419 -58.53397,91.31867 -59.959873,91.16766 -61.383774,90.97529 -62.80557,90.73551 -64.22504,90.44055 -65.64183,90.08 -67.055695,89.64162 -68.46616,89.10934 -69.87274,88.46323 -71.27461,87.67589 -72.6709,86.71179 -74.060326,85.52057 -75.441086,84.03485 -76.810646,82.156624 -78.16535,79.73883 -79.49959,76.562584 -80.80476,72.28725 -82.06682,66.36725 -83.26156,57.955784 -84.3465,45.893486 -85.24599,29.319656 -85.83872,9.529618 -85.98613,-9.324938 -85.64301,-24.031755 -84.9079,-34.449745 -83.921165,-41.715973 -82.78535,-46.879807 -81.560326,-50.653805 -80.27999,-50.86876 -80.19331,-52.667118 -80.38114,-67.32709 -81.39632,-82.71166 -81.72027,-91.514915 -81.61579,-100.489685 -81.271164,-105.70087 -80.9365,-111.23018 -80.441315,-114.603546 -80.049095,-118.365486 -79.50747,-120.77524 -79.088165,-123.58533 -78.5084,-125.462524 -78.05352,-127.73629 -77.410484,-129.31009 -76.89169,-131.27986 -76.133125,-132.68724 -75.49693,-134.50587 -74.52273,-135.85133 -73.66024,-137.66513 -72.2448,-139.08482 -70.87471,-141.17784 -68.29414,-141.97446 -67.09401,-141.97446 -67.09401,-145.60823 -67.64776,-149.40556 -68.11387,-153.34601 -68.48697,-157.40253 -68.7623,-161.54308 -68.935844,-165.72986 -69.00503,-169.92345 -68.96913,-174.08301 -68.82823,-178.1705 -68.584785,177.84839 -68.24196,174.00255 -67.80435,170.31424 -67.277565,166.79907 -66.66743,163.46587 -65.98051,160.31944 -65.22291,157.35857 -64.40101,154.57927 -63.52071,151.97481 -62.587646,149.53662 -61.607086,147.25511 -60.583576,145.1208 -59.52142,143.12276 -58.424614,141.25133 -57.296616,139.49733 -56.1403,137.85123 -54.958645,136.30449 -53.754055,134.84969 -52.528652,133.47891 -51.284523,132.18597 -50.02322,130.96425 -48.746418,129.80814 -47.45552,128.71303 -46.15165,127.673454 -44.83605,126.686035 -43.509487,125.746155 -42.17309,124.850494 -40.82757,123.996 -39.473564,123.17963 -38.11184,122.39852 -36.742992,121.65086 -35.367313,120.93343 -33.985783,120.24463 -32.59844,119.582794 -31.20582,118.94629 -29.808289,118.33305 -28.406252,117.74179 -26.999998,117.17139 -25.589727,116.62066 -24.175817,116.08791 -22.758488,115.572784 -21.33804,115.07392 -19.914547,114.59071 -18.48836,114.12206 -17.059608,113.66735 -15.628458,113.225784 -14.195119,112.79682 -12.759706,112.37995 -11.322404,111.97436 -9.883413,111.57968 -8.442678,111.19555 -7.000549,110.82108 -5.5570607,110.4566 -4.112313,110.10095 -2.6663296,109.75433 -1.2193893,109.41612 0.2284972,109.08615 1.6771911,108.76418 3.1266193,108.449905 4.5767384,108.14308 6.027452,107.84346 7.478583,107.55076 8.930139,107.265175 10.382036,106.986275 11.834212,106.713974 13.2865715,106.4481 14.739025,106.1887 16.191593,105.93568 17.644127,105.68876 19.096636,105.448135 20.549036,105.21376 22.001255,104.98548 23.453215,104.76331 24.904978,104.54756 26.356348,104.338104 27.807467,104.13511 29.258133,103.93856 30.708405,103.74864 32.158154,103.565704 33.607395,103.38976 35.056103,103.22099 36.504227,103.05995 37.951748,102.906845 39.39864,102.76195 40.844837,102.626015 42.290318,102.49943 43.73508,102.38259 45.179058,102.276794 46.622272,102.18197 48.064697,102.09962 49.50624,102.03114 50.946865,101.97735 52.386566,101.93977 53.825367,101.92042 55.263123,101.921135 56.6998,101.94443 58.13537,101.99308 59.569714,102.07101 61.0028,102.18256 62.4344,102.332405 63.864502,102.52715 65.29284,102.7746 66.71931,103.08524 68.14356,103.47172 69.565216,103.950096 70.983864,104.54297 72.39884,105.279594 73.80931,106.19928 75.2141,107.358986 76.611496,108.84031 77.999054,110.7659 79.37311,113.324196 80.7276,116.82136 82.052734,121.77538 83.33094,129.08437 84.529594,140.27742 85.583206,157.37762 86.363884,-179.5588 86.67299,-156.33133 86.38766,-138.9494 85.62237,-127.54861 84.576546,-120.111855 83.38187,-115.08099 82.10533,-111.53533 80.78087,-108.94437 79.42632,-106.99718 78.05179,-105.500374 76.663284,-104.3294 75.264694,-103.40118 73.858475,-102.65869 72.446396,-102.61484 72.35217,-101.55766 72.336754,-94.03892 72.066826,-87.36943 71.59097,-83.7235 71.237045,-79.900505 70.796936,-77.53918 70.49156,-74.83131 70.11175,-73.03063 69.84248,-70.83706 69.49701,-69.29836 69.243324,-67.332825 68.905594,-65.89121 68.64802,-63.969376 68.29144,-62.498756 68.0082,-60.45141 67.598305,-58.8124 67.25625,-56.41604 66.73121,-54.391766 66.26106,-51.23867 65.46953,-48.363934 64.67064,-43.371494 63.05682,-41.221687 62.25262,-41.221687 62.25262,))', 'url': \"https://s5phub.copernicus.eu/dhus/odata/v1/Products('c3dd5a04-5ef8-4a9f-95a9-7585959a85ef')/$value\", 'Online': True, 'Creation Date': datetime.datetime(2020, 3, 27, 23, 10, 39, 964000), 'Ingestion Date': datetime.datetime(2020, 3, 27, 23, 5, 7, 285000), 'quicklook_url': \"https://s5phub.copernicus.eu/dhus/odata/v1/Products('c3dd5a04-5ef8-4a9f-95a9-7585959a85ef')/Products('Quicklook')/$value\", 'path': 'data\\\\L2\\\\S5P_OFFL_L2__CO_____20200326T061118_20200326T075249_12696_01_010302_20200327T195606.nc', 'downloaded_bytes': 169931668}, '5b80ef12-da1b-484c-88c4-000412f51b8b': {'id': '5b80ef12-da1b-484c-88c4-000412f51b8b', 'title': 'S5P_OFFL_L2__CO_____20200316T055726_20200316T073856_12554_01_010302_20200319T074358', 'size': 175086637, 'md5': 'D55EBAA33FAE90F10A67511EE7AD2C0B', 'date': datetime.datetime(2020, 3, 16, 6, 18, 59), 'footprint': 'POLYGON((-30.196077 64.84252,-27.115036 65.62691,-23.847004 66.34246,-20.393913 66.98288,-16.763433 67.54175,-12.9689245 68.01271,-9.030581 68.39025,-4.9750175 68.669174,-0.8347531 68.84593,3.3525267 68.91768,7.547033 68.88346,11.708298 68.74365,15.797599 68.500534,19.780539 68.15731,23.628273 67.71896,27.318344 67.1906,30.83496 66.578545,34.168682 65.88905,37.315594 65.128494,40.27651 64.30345,43.05535 63.41961,45.658905 62.482723,48.095543 61.497936,50.375122 60.470104,52.507843 59.40371,54.503353 58.302296,56.371937 57.169605,58.12336 56.008736,59.766262 54.822304,61.309704 53.612957,62.761326 52.38286,64.1284 51.133873,65.417786 49.86787,66.635826 48.586445,67.787994 47.29084,68.8793 45.982346,69.91457 44.662094,70.89807 43.330975,71.83374 41.99009,72.72501 40.640057,73.575294 39.281696,74.38714 37.915585,75.163666 36.542397,75.90748 35.16289,76.61999 33.777035,77.303894 32.385586,77.96102 30.988998,78.592995 29.587687,79.20128 28.181664,79.78744 26.771544,80.352745 25.357584,80.89867 23.94011,81.426025 22.519247,81.935844 21.09526,82.429276 19.668362,82.907074 18.238794,83.37007 16.806778,83.81902 15.372421,84.25475 13.935989,84.677605 12.497513,85.08861 11.057304,85.48781 9.615349,85.876045 8.171891,86.253685 6.727038,86.62131 5.280901,86.97901 3.8335478,87.327415 2.3852503,87.66677 0.9359783,87.99741 -0.5141741,88.319496 -1.9650594,88.6335 -3.416564,88.9395 -4.8685904,89.23775 -6.321138,89.52859 -7.773994,89.81201 -9.227124,90.08816 -10.680495,90.35734 -12.133977,90.61951 -13.587521,90.874695 -15.041139,91.12324 -16.49452,91.3648 -17.94784,91.59979 -19.400919,91.82811 -20.853765,92.04949 -22.306236,92.2644 -23.758293,92.472305 -25.209923,92.6735 -26.661022,92.86747 -28.111565,93.0543 -29.561558,93.23383 -31.010868,93.40573 -32.459515,93.57013 -33.907257,93.72624 -35.354393,93.874435 -36.80055,94.01339 -38.245888,94.14323 -39.690304,94.26346 -41.13373,94.37347 -42.57616,94.47207 -44.017544,94.5594 -45.457836,94.63397 -46.897022,94.69493 -48.334953,94.74089 -49.771736,94.77086 -51.207104,94.78306 -52.64127,94.77541 -54.07391,94.746506 -55.505108,94.69297 -56.93472,94.612274 -58.362648,94.50082 -59.788696,94.35403 -61.212936,94.16654 -62.63498,93.933 -64.05474,93.644684 -65.47191,93.29215 -66.88616,92.86383 -68.29703,92.34358 -69.7041,91.711815 -71.10665,90.942986 -72.5036,90.00142 -73.89396,88.84068 -75.27586,87.39428 -76.64687,85.568306 -78.00356,83.22438 -79.340614,80.152725 -80.6498,76.031265 -81.91789,70.34462 -83.12235,62.287884 -84.22345,50.7275 -85.15054,34.69132 -85.78726,15.1100645 -85.99352,-4.0807395 -85.706184,-19.337017 -85.010315,-30.214254 -84.04753,-37.79608 -82.92576,-43.16911 -81.70955,-47.082256 -80.43457,-50.010242 -79.12153,-52.254257 -77.78253,-54.008507 -76.42529,-54.16193 -76.288864,-55.5417 -76.43448,-66.07351 -77.22484,-76.39584 -77.52165,-82.30399 -77.49328,-88.55086 -77.297104,-92.36337 -77.083565,-96.62432 -76.74725,-99.36198 -76.46841,-102.56598 -76.06899,-104.7156 -75.750084,-107.33309 -75.297134,-109.156425 -74.93316,-111.45584 -74.40726,-113.11262 -73.97432,-115.271385 -73.329094,-116.878815 -72.778145,-119.04685 -71.91977,-120.7241 -71.147385,-123.09382 -69.859764,-125.04047 -68.595085,-128.05533 -66.17873,-129.24411 -65.04386,-129.24411 -65.04386,-132.34708 -65.816154,-135.63628 -66.51969,-139.10962 -67.14762,-142.75862 -67.69395,-146.56955 -68.15236,-150.52129 -68.51742,-154.5871 -68.784004,-158.73376 -68.94869,-162.92332 -69.009056,-167.1159 -68.96385,-171.2714 -68.81389,-175.35153 -68.5618,-179.32239 -68.210464,176.84413 -67.764854,173.1696 -67.23066,169.6694 -66.61374,166.35246 -65.92019,163.22188 -65.15667,160.27663 -64.32952,157.51263 -63.444344,154.92262 -62.50702,152.49832 -61.52237,150.23022 -60.495243,148.1076 -59.429977,146.12119 -58.33022,144.2605 -57.199482,142.51596 -56.040955,140.879 -54.857075,139.34048 -53.65062,137.89355 -52.42337,136.52971 -51.177567,135.24295 -49.91493,134.02724 -48.636833,132.87686 -47.34467,131.78665 -46.039684,130.75223 -44.722984,129.7687 -43.39558,128.83308 -42.05824,127.94129 -40.711884,127.09032 -39.357166,126.27724 -37.994663,125.49917 -36.6252,124.75408 -35.24909,124.03947 -33.866898,123.35326 -32.479065,122.6938 -31.085997,122.05935 -29.688036,121.44826 -28.285564,120.85911 -26.878798,120.290344 -25.468266,119.74116 -24.054022,119.21012 -22.636442,118.69657 -21.215633,118.19925 -19.791918,117.7173 -18.365452,117.24996 -16.93644,116.79645 -15.505118,116.35621 -14.071531,115.928314 -12.635966,115.51246 -11.198499,115.10792 -9.759286,114.71415 -8.318467,114.33098 -6.8761415,113.957535 -5.432492,113.59384 -3.987594,113.23906 -2.5415907,112.89328 -1.0945172,112.55589 0.35341784,112.22658 1.8022282,111.90548 3.2517426,111.591774 4.7018805,111.285614 6.152633,110.986755 7.6038136,110.69486 9.055486,110.40984 10.50739,110.131546 11.9595995,109.86 13.412013,109.5947 14.864448,109.33594 16.317041,109.08338 17.769613,108.83723 19.222092,108.59721 20.674482,108.36341 22.126694,108.13563 23.578672,107.914276 25.030415,107.69907 26.481794,107.49021 27.932858,107.28784 29.383465,107.09191 30.833693,106.902794 32.283417,106.720505 33.73265,106.545135 35.181313,106.37719 36.629375,106.21697 38.076862,106.064735 39.523636,105.920654 40.9698,105.78561 42.41524,105.65995 43.859932,105.543884 45.30385,105.43919 46.74701,105.345825 48.18933,105.26491 49.63076,105.19776 51.071342,105.14508 52.511,105.10973 53.949665,105.09212 55.387314,105.09494 56.823826,105.12047 58.259335,105.17184 59.6936,105.252975 61.12644,105.36758 62.557957,105.52133 63.98791,105.7207 65.4161,105.97361 66.84235,106.290596 68.266396,106.68498 69.68776,107.173035 71.10608,107.777626 72.52066,108.5287 73.93067,109.4677 75.33481,110.65294 76.7314,112.16847 78.11791,114.14108 79.490395,116.76839 80.8427,120.369675 82.16445,125.48735 83.43711,133.06332 84.626274,144.68837 85.66204,162.36247 86.40978,-174.26753 86.66911,-151.40671 86.33478,-134.60825 85.538376,-123.62968 84.47608,-116.44974 83.27252,-111.573685 81.99116,-108.124954 80.663635,-105.5995 79.3072,-103.69551 77.93126,-102.23022 76.541855,-102.10229 76.40246,-100.735466 76.40867,-90.96035 76.24021,-82.336655 75.77605,-77.69507 75.39768,-72.90823 74.90935,-69.99866 74.563034,-66.70952 74.1262,-64.55118 73.81324,-61.95347 73.40853,-60.15205 73.10948,-57.87578 72.70937,-56.223896 72.40298,-54.044704 71.97742,-52.394665 71.63848,-50.12245 71.14698,-48.3241 70.73632,-45.727673 70.105965,-43.564945 69.54244,-40.252625 68.59792,-37.293575 67.65217,-32.29436 65.768295,-30.196077 64.84252,-30.196077 64.84252,))', 'url': \"https://s5phub.copernicus.eu/dhus/odata/v1/Products('5b80ef12-da1b-484c-88c4-000412f51b8b')/$value\", 'Online': True, 'Creation Date': datetime.datetime(2020, 3, 19, 11, 10, 4, 848000), 'Ingestion Date': datetime.datetime(2020, 3, 19, 11, 5, 5, 950000), 'quicklook_url': \"https://s5phub.copernicus.eu/dhus/odata/v1/Products('5b80ef12-da1b-484c-88c4-000412f51b8b')/Products('Quicklook')/$value\", 'path': 'data\\\\L2\\\\S5P_OFFL_L2__CO_____20200316T055726_20200316T073856_12554_01_010302_20200319T074358.nc', 'downloaded_bytes': 175086637}, '69eac084-ef27-4d64-b714-242ea97a50eb': {'id': '69eac084-ef27-4d64-b714-242ea97a50eb', 'title': 'S5P_OFFL_L2__CO_____20200305T060228_20200305T074359_12398_01_010302_20200308T074546', 'size': 177004880, 'md5': '7402ADE4FBC145AA7CC177A4F1953FA5', 'date': datetime.datetime(2020, 3, 5, 6, 24, 2), 'footprint': 'POLYGON((-21.508081 67.06362,-17.854431 67.611015,-14.039418 68.070015,-10.083602 68.434746,-6.0144324 68.70028,-1.8653194 68.86296,2.3255236 68.9206,6.518286 68.872406,10.672299 68.7188,14.749639 68.461914,18.716475 68.10608,22.54449 67.65522,26.21231 67.11527,29.70522 66.49242,33.014347 65.793205,36.136303 65.02347,39.072777 64.19025,41.827755 63.298855,44.408638 62.355316,46.824062 61.364677,49.083275 60.33132,51.197193 59.259995,53.17523 58.154163,55.027657 57.017517,56.763905 55.852955,58.393196 54.663353,59.923786 53.45104,61.36366 52.21826,62.72006 50.966957,63.999405 49.69864,65.208405 48.41526,66.352066 47.117847,67.435555 45.807632,68.46373 44.48591,69.44085 43.153553,70.36995 41.811195,71.25567 40.460056,72.10049 39.100555,72.907555 37.733482,73.679474 36.359406,74.41887 34.978874,75.12762 33.592384,75.80775 32.200153,76.46133 30.80285,77.09001 29.4008,77.69525 27.994314,78.27859 26.583696,78.841286 25.169182,79.384605 23.751242,79.90942 22.329807,80.41713 20.90551,80.908356 19.478249,81.384125 18.048384,81.84519 16.615974,82.29229 15.181304,82.72626 13.744595,83.14751 12.305898,83.5566 10.865309,83.95438 9.4231615,84.34113 7.9794436,84.71743 6.5344076,85.08355 5.0880914,85.44017 3.6406646,85.78702 2.1920745,86.125336 0.7426612,86.4547 -0.7076146,86.77572 -2.1585627,87.088585 -3.6101606,87.39356 -5.0623116,87.690735 -6.514902,87.98053 -7.9678345,88.26294 -9.421014,88.538155 -10.874424,88.80625 -12.327992,89.06749 -13.781489,89.3218 -15.235076,89.56922 -16.688543,89.81001 -18.141848,90.04409 -19.594908,90.27144 -21.047672,90.491936 -22.500137,90.70574 -23.952162,90.91271 -25.403727,91.11276 -26.854847,91.305756 -28.30535,91.491745 -29.755224,91.67023 -31.204453,91.84121 -32.65293,92.004234 -34.10072,92.15928 -35.54771,92.30591 -36.993824,92.44368 -38.43904,92.57226 -39.88332,92.69098 -41.326668,92.79923 -42.76901,92.89662 -44.210205,92.98233 -45.650333,93.054825 -47.089386,93.113754 -48.527187,93.15779 -49.96381,93.185295 -51.398994,93.194664 -52.832954,93.184616 -54.26542,93.15209 -55.696426,93.0949 -57.125816,93.01022 -58.55353,92.89393 -59.979317,92.74182 -61.403244,92.54863 -62.82503,92.30812 -64.24439,92.01158 -65.6612,91.64923 -67.07501,91.209694 -68.485435,90.675095 -69.89192,90.02638 -71.29367,89.23644 -72.68991,88.267944 -74.07915,87.07287 -75.45973,85.58071 -76.828995,83.694305 -78.183365,81.26543 -79.517136,78.07558 -80.82173,73.777534 -82.08271,67.8274 -83.27601,59.3713 -84.35848,47.251316 -85.2543,30.62219 -85.84104,10.827614 -85.98147,-7.969161 -85.631935,-22.60358 -84.89261,-32.96657 -83.90332,-40.19927 -82.766495,-45.34134 -81.54085,-49.100075 -80.25986,-51.92379 -78.9429,-54.09348 -77.60121,-55.793316 -76.24192,-57.144947 -74.869675,-58.235634 -73.48781,-59.121452 -72.098206,-59.1741 -72.00539,-60.2645 -72.123276,-68.344124 -72.770096,-76.01839 -73.0386,-80.395515 -73.04286,-85.0769 -72.92004,-87.98647 -72.77127,-91.308014 -72.52578,-93.49143 -72.31585,-96.106606 -72.00793,-97.902954 -71.75715,-100.14214 -71.39472,-101.73948 -71.09885,-103.802956 -70.66494,-105.32706 -70.30265,-107.36489 -69.75514,-108.92401 -69.28127,-111.088776 -68.532936,-112.81602 -67.85064,-115.3398 -66.69794,-117.488815 -65.55101,-120.95217 -63.329678,-122.361244 -62.276043,-122.361244 -62.276043,-124.90893 -63.2246,-127.628815 -64.12203,-130.52814 -64.963486,-133.61244 -65.74233,-136.88275 -66.45317,-140.33797 -67.08901,-143.96996 -67.64384,-147.7656 -68.11132,-151.70447 -68.48607,-155.76047 -68.76278,-159.90065 -68.93801,-164.0879 -69.00878,-168.28223 -68.97412,-172.44328 -68.83474,-176.5329 -68.592766,179.48364 -68.25124,175.63512 -67.815,171.94379 -67.2893,168.42538 -66.68037,165.08957 -65.99428,161.94002 -65.237595,158.97643 -64.4164,156.19429 -63.5369,153.58713 -62.604565,151.14658 -61.624424,148.8632 -60.601337,146.72665 -59.5396,144.7269 -58.443127,142.85393 -57.31541,141.0981 -56.15948,139.45074 -54.97805,137.90283 -53.773685,136.44678 -52.548428,135.07509 -51.30449,133.781 -50.043358,132.55833 -48.76673,131.4017 -47.475876,130.3058 -46.17207,129.26573 -44.856632,128.27739 -43.530163,127.33715 -42.193787,126.441246 -40.848236,125.586 -39.494415,124.769264 -38.13271,123.98817 -36.763786,123.239624 -35.388363,122.521996 -34.00673,121.83312 -32.61945,121.17102 -31.226843,120.53414 -29.829296,119.92069 -28.427273,119.32925 -27.020975,118.75862 -25.61079,118.20767 -24.196836,117.67503 -22.779545,117.15973 -21.359024,116.660866 -19.935585,116.17722 -18.50935,115.70859 -17.080622,115.253716 -15.649488,114.812164 -14.216112,114.383255 -12.780693,113.966194 -11.343399,113.56057 -9.904286,113.16582 -8.463648,112.78146 -7.0214653,112.40716 -5.5779223,112.04231 -4.1331367,111.68703 -2.6871908,111.34023 -1.2402091,111.002106 0.20766717,110.6721 1.6564407,110.35007 3.1059306,110.035614 4.5559473,109.72889 6.006704,109.429306 7.4579134,109.13669 8.909455,108.85115 10.361403,108.572105 11.8135805,108.29993 13.265954,108.03393 14.718478,107.77468 16.171078,107.521454 17.623669,107.27468 19.076138,107.03399 20.528582,106.79958 21.980818,106.571465 23.432852,106.34939 24.884567,106.13369 26.336075,105.92434 27.787199,105.72129 29.237885,105.52479 30.688137,105.33501 32.137924,105.15198 33.58723,104.97613 35.03593,104.80741 36.484135,104.64644 37.931644,104.49331 39.378536,104.34867 40.824776,104.21265 42.270264,104.086006 43.715065,103.969345 45.159084,103.863304 46.602325,103.768875 48.044724,103.686745 49.486305,103.61802 50.92698,103.56439 52.366722,103.52679 53.80547,103.50732 55.243225,103.50843 56.67995,103.531715 58.115498,103.58086 59.549866,103.65827 60.982937,103.76975 62.41453,103.91946 63.844654,104.1139 65.27309,104.36142 66.699585,104.67172 68.12379,105.057945 69.54543,105.53573 70.9641,106.12779 72.37913,106.86301 73.78957,107.781334 75.19442,108.938934 76.59183,110.417656 77.979416,112.33773 79.35353,114.888725 80.7081,118.37418 82.03345,123.30716 83.31216,130.58067 84.5118,141.70786 85.56758,158.71101 86.352325,-178.30573 86.6686,-155.0541 86.3914,-137.59079 85.63182,-126.12392 84.58927,-118.64216 83.396515,-113.58316 82.1211,-110.01719 80.79739,-109.81867 80.70801,-107.84332 80.75505,-93.37486 80.773056,-80.657845 80.31149,-74.06045 79.87317,-67.52893 79.2817,-63.710045 78.85388,-59.53485 78.30922,-56.876156 77.91711,-53.759106 77.40891,-51.649025 77.03316,-49.04065 76.53066,-47.186684 76.14637,-44.788628 75.613686,-43.007347 75.190506,-40.600517 74.57886,-38.731773 74.069885,-36.087574 73.29294,-33.932076 72.603424,-30.71146 71.45981,-27.91519 70.330635,-23.35938 68.12687,-21.508081 67.06362,-21.508081 67.06362,))', 'url': \"https://s5phub.copernicus.eu/dhus/odata/v1/Products('69eac084-ef27-4d64-b714-242ea97a50eb')/$value\", 'Online': True, 'Creation Date': datetime.datetime(2020, 3, 8, 11, 10, 9, 468000), 'Ingestion Date': datetime.datetime(2020, 3, 8, 11, 5, 10, 140000), 'quicklook_url': \"https://s5phub.copernicus.eu/dhus/odata/v1/Products('69eac084-ef27-4d64-b714-242ea97a50eb')/Products('Quicklook')/$value\", 'path': 'data\\\\L2\\\\S5P_OFFL_L2__CO_____20200305T060228_20200305T074359_12398_01_010302_20200308T074546.nc', 'downloaded_bytes': 177004880}, 'f56f9a8f-cbec-4727-afc8-d25a86ea4a7f': {'id': 'f56f9a8f-cbec-4727-afc8-d25a86ea4a7f', 'title': 'S5P_OFFL_L2__CO_____20200315T075751_20200315T093921_12541_01_010302_20200318T094322', 'size': 166479842, 'md5': 'DDC344E847C6ACD10867C212A155BF52', 'date': datetime.datetime(2020, 3, 15, 8, 19, 26), 'footprint': 'POLYGON((-59.580215 65.04202,-56.452976 65.80991,-53.138943 66.50757,-49.64069 67.12802,-45.96856 67.665764,-42.136322 68.11393,-38.16633 68.46744,-34.0869 68.721466,-29.931652 68.87224,-25.738916 68.91778,-21.549173 68.85726,-17.402464 68.69164,-13.33676 68.423294,-9.385093 68.05601,-5.574856 67.594894,-1.9268073 67.04529,1.5450518 66.4135,4.8324895 65.70573,7.9329247 64.92867,10.847956 64.08845,13.582695 63.19099,16.143913 62.24175,18.540895 61.24599,20.783205 60.208355,22.88073 59.13288,24.843948 58.02353,26.682558 56.88346,28.40646 55.716187,30.023985 54.52389,31.54388 53.30922,32.973827 52.074253,34.321102 50.820946,35.5925 49.551086,36.79362 48.265938,37.9302 46.967052,39.00719 45.65554,40.029385 44.33257,41.00071 42.999012,41.92508 41.655766,42.80604 40.30366,43.64652 38.943367,44.4496 37.57557,45.217903 36.200787,45.95354 34.8195,46.658863 33.43229,47.336056 32.039497,47.98686 30.641817,48.6128 29.239246,49.215588 27.832254,49.79656 26.421204,50.356926 25.006296,50.898388 23.588053,51.421127 22.166302,51.927013 20.741684,52.416477 19.314123,52.89048 17.88389,53.350086 16.45135,53.795795 15.016475,54.228268 13.579533,54.648216 12.140624,55.056156 10.699995,55.45273 9.257696,55.83831 7.8138237,56.213467 6.368689,56.57855 4.9222074,56.93388 3.4745817,57.280193 2.0260875,57.61725 0.5765305,57.9458 -0.8737884,58.26595 -2.3248029,58.577866 -3.776463,58.881916 -5.2286644,59.17826 -6.681262,59.467262 -8.134195,59.748802 -9.587443,60.02324 -11.040869,60.290665 -12.4943905,60.550922 -13.947956,60.804516 -15.401491,61.05137 -16.854885,61.291363 -18.308191,61.524666 -19.76127,61.751274 -21.213976,61.970936 -22.6664,62.183994 -24.118383,62.39026 -25.569897,62.589733 -27.020887,62.781704 -28.471346,62.96675 -29.92121,63.144512 -31.370367,63.31463 -32.818794,63.476883 -34.266457,63.630978 -35.713367,63.776707 -37.159374,63.913197 -38.60459,64.04095 -40.048714,64.15844 -41.491943,64.265465 -42.934208,64.36167 -44.375294,64.445755 -45.81535,64.517 -47.254196,64.57424 -48.69191,64.616295 -50.12836,64.64213 -51.563503,64.64946 -52.997265,64.63676 -54.42959,64.60167 -55.860428,64.54155 -57.28966,64.45342 -58.717167,64.33364 -60.14276,64.17717 -61.566536,63.97886 -62.988007,63.732418 -64.40714,63.428783 -65.82367,63.058422 -67.23714,62.609104 -68.64713,62.063004 -70.05315,61.3993 -71.45438,60.591553 -72.84988,59.60044 -74.23828,58.375088 -75.61775,56.843285 -76.98558,54.903282 -78.33796,52.40203 -79.66897,49.104607 -80.96944,44.651974 -82.22437,38.46275 -83.4076,29.649132 -84.47353,17.032246 -85.34093,-0.096198745 -85.88296,-20.018393 -85.96615,-38.440483 -85.56499,-52.546967 -84.78994,-62.488075 -83.7794,-69.43261 -82.62974,-74.385155 -81.39628,-78.01745 -80.11028,-80.75274 -78.78997,-82.86057 -77.44589,-84.51479 -76.0849,-84.61203 -75.99376,-85.967094 -76.13703,-96.28055 -76.91529,-106.35856 -77.210266,-112.12574 -77.18531,-118.231514 -76.99625,-121.96517 -76.788795,-126.14712 -76.46082,-128.8402 -76.18816,-131.99916 -75.796814,-134.12337 -75.483795,-136.7156 -75.03854,-138.52533 -74.68025,-140.81256 -74.161896,-142.4642 -73.73466,-144.62117 -73.09716,-146.23103 -72.5522,-148.40776 -71.7022,-150.09612 -70.93653,-152.48816 -69.658745,-154.45888 -68.40244,-157.52052 -65.9996,-158.73062 -64.870255,-158.73062 -64.870255,-161.79318 -65.65689,-165.04262 -66.3756,-168.47691 -67.020454,-172.08931 -67.58493,-175.8669 -68.06287,-179.79082 -68.44857,176.16496 -68.736855,172.03242 -68.923775,167.84845 -69.006546,163.65263 -68.98417,159.4854 -68.85679,155.38567 -68.62632,151.38834 -68.29609,147.52304 -67.87024,143.81259 -67.35448,140.27354 -66.75477,136.91641 -66.07717,133.74532 -65.328285,130.76045 -64.5142,127.95756 -63.641132,125.331184 -62.714264,122.8719 -61.73943,120.57096 -60.72097,118.417725 -59.663567,116.40285 -58.570835,114.51586 -57.44654,112.747375 -56.293575,111.087616 -55.114967,109.52879 -53.913094,108.06257 -52.690144,106.6816 -51.44815,105.37887 -50.188972,104.148445 -48.913975,102.98456 -47.624672,101.88185 -46.32231,100.83569 -45.00801,99.8417 -43.68282,98.89593 -42.347534,97.99501 -41.003006,97.13561 -39.649967,96.31462 -38.289066,95.52917 -36.920994,94.777214 -35.54627,94.05616 -34.165306,93.364235 -32.778572,92.699066 -31.386557,92.05926 -29.989574,91.44328 -28.587982,90.84941 -27.182184,90.27648 -25.772335,89.7233 -24.358799,89.18847 -22.94188,88.67122 -21.521734,88.17047 -20.098576,87.68532 -18.672663,87.214806 -17.244148,86.758514 -15.813249,86.31535 -14.380158,85.884895 -12.944923,85.46658 -11.50777,85.059715 -10.068925,84.66372 -8.628425,84.278114 -7.1864066,83.902626 -5.742997,83.53695 -4.298314,83.180275 -2.8525114,82.832504 -1.4056686,82.49345 0.042159036,82.16246 1.4908164,81.839516 2.9402225,81.52413 4.390273,81.21654 5.8408723,80.916 7.292079,80.622765 8.743628,80.336365 10.195512,80.0566 11.647712,79.78355 13.100058,79.516914 14.55257,79.256805 16.005148,79.00301 17.457754,78.75547 18.91028,78.51408 20.362656,78.27895 21.814947,78.04995 23.267023,77.82722 24.718813,77.610565 26.170279,77.40054 27.621462,77.196754 29.072184,76.999535 30.522589,76.80889 31.972355,76.625046 33.42171,76.448235 34.870525,76.27863 36.318707,76.116776 37.766296,75.96267 39.213287,75.81687 40.659576,75.679886 42.105152,75.55226 43.55,75.43423 44.994152,75.326744 46.437454,75.23087 47.879974,75.147125 49.32164,75.07698 50.76239,75.021194 52.202267,74.9817 53.64111,74.96006 55.07902,74.95824 56.51583,74.97882 57.951527,75.02428 59.38602,75.09829 60.81923,75.20546 62.25104,75.35044 63.68131,75.539055 65.10991,75.779686 66.536575,76.08182 67.96113,76.458046 69.383156,76.92404 70.80217,77.500984 72.21763,78.21765 73.6287,79.11204 75.03422,80.23797 76.432625,81.67339 77.82156,83.53403 79.19754,85.99794 80.55492,89.35383 81.88437,94.08274 83.169945,101.02236 84.38122,111.60658 85.45875,127.85635 86.28402,150.34145 86.66437,173.97974 86.45353,-167.78276 85.738304,-155.72609 84.719734,-147.88316 83.53952,-142.60498 82.2713,-138.90332 80.951866,-136.20921 79.6007,-134.19121 78.228264,-132.64404 76.84144,-132.55328 76.748665,-131.1514 76.75722,-121.11674 76.59949,-112.26844 76.13585,-107.51493 75.7543,-102.6227 75.26018,-99.65493 74.90911,-96.30585 74.46581,-94.1117 74.147995,-91.47469 73.7368,-89.64849 73.43285,-87.34382 73.026085,-85.67338 72.71455,-83.47231 72.28181,-81.80769 71.93713,-79.51815 71.43733,-77.70833 71.019775,-75.09886 70.37897,-72.92847 69.806305,-69.610176 68.84707,-66.65185 67.88745,-61.667263 65.97874,-59.580215 65.04202,-59.580215 65.04202,))', 'url': \"https://s5phub.copernicus.eu/dhus/odata/v1/Products('f56f9a8f-cbec-4727-afc8-d25a86ea4a7f')/$value\", 'Online': True, 'Creation Date': datetime.datetime(2020, 3, 18, 13, 40, 55, 771000), 'Ingestion Date': datetime.datetime(2020, 3, 18, 13, 35, 38, 82000), 'quicklook_url': \"https://s5phub.copernicus.eu/dhus/odata/v1/Products('f56f9a8f-cbec-4727-afc8-d25a86ea4a7f')/Products('Quicklook')/$value\", 'path': 'data\\\\L2\\\\S5P_OFFL_L2__CO_____20200315T075751_20200315T093921_12541_01_010302_20200318T094322.nc', 'downloaded_bytes': 166479842}, '2d107b25-d1f2-4d01-b45e-8593cd48cdb0': {'id': '2d107b25-d1f2-4d01-b45e-8593cd48cdb0', 'title': 'S5P_OFFL_L2__CO_____20200310T075054_20200310T093225_12470_01_010302_20200313T094115', 'size': 172107545, 'md5': '30CB920BE7A1C43EAB6F3B24C24089C0', 'date': datetime.datetime(2020, 3, 10, 8, 12, 28), 'footprint': 'POLYGON((-53.36936 66.13853,-49.970074 66.8014,-46.390903 67.38479,-42.6429 67.88211,-38.744553 68.28746,-34.720634 68.59581,-30.601967 68.80285,-26.424746 68.90536,-22.228554 68.90229,-18.053793 68.79345,-13.9401245 68.580315,-9.923153 68.26601,-6.0335093 67.85496,-2.2955048 67.35248,1.2729348 66.76428,4.6607785 66.09696,7.8625407 65.3568,10.877387 64.55,13.708734 63.68271,16.36276 62.76089,18.847614 61.78976,21.172009 60.774105,23.346783 59.718697,25.381584 58.627262,27.28647 57.503525,29.071112 56.3506,30.745275 55.17157,32.316795 53.968674,33.794502 52.74444,35.186012 51.501022,36.497593 50.23988,37.736034 48.962814,38.907135 47.67141,40.015625 46.36642,41.067112 45.049683,42.06535 43.72168,43.014942 42.383728,43.918816 41.036198,44.780933 39.680347,45.603783 38.316467,46.390724 36.94546,47.143738 35.567623,47.86536 34.183613,48.557503 32.79381,49.22245 31.398754,49.861626 29.998714,50.476917 28.594156,51.069473 27.18529,51.640854 25.772411,52.192276 24.355936,52.725014 22.936033,53.240112 21.512983,53.738213 20.08689,54.22058 18.658165,54.687923 17.226856,55.141014 15.7931795,55.58061 14.357365,56.007385 12.919547,56.421547 11.479763,56.824234 10.0383,57.215878 8.595358,57.596596 7.1508603,57.96698 5.705037,58.32761 4.258098,58.678944 2.810153,59.02093 1.3611057,59.35398 -0.08882498,59.678574 -1.5394797,59.99502 -2.9908028,60.30329 -4.442716,60.603992 -5.8950596,60.89696 -7.34785,61.182537 -8.800942,61.460835 -10.2542715,61.732 -11.707718,61.996105 -13.161315,62.253365 -14.614879,62.503834 -16.068388,62.747444 -17.521751,62.9845 -18.974882,63.214672 -20.427853,63.438026 -21.88047,63.65488 -23.332653,63.864822 -24.784454,64.0678 -26.235764,64.26395 -27.686487,64.452896 -29.136663,64.63456 -30.58623,64.80881 -32.03506,64.97539 -33.483135,65.13404 -34.930454,65.28435 -36.376953,65.42586 -37.82257,65.55853 -39.267303,65.6815 -40.71105,65.79452 -42.153816,65.896614 -43.595554,65.98713 -45.036224,66.06567 -46.475677,66.130585 -47.914074,66.18104 -49.351208,66.21601 -50.787018,66.23334 -52.221577,66.2318 -53.65466,66.209274 -55.086277,66.1631 -56.516434,66.09093 -57.944878,65.98858 -59.371517,65.85267 -60.79632,65.67747 -62.21904,65.45834 -63.639496,65.18649 -65.05747,64.854095 -66.47264,64.449295 -67.88454,63.95827 -69.29285,63.360886 -70.69676,62.636307 -72.09555,61.74897 -73.48801,60.657673 -74.8725,59.303097 -76.24707,57.600784 -77.60843,55.425346 -78.95191,52.593536 -80.270325,48.823166 -81.552315,43.662243 -82.7785,36.40252 -83.91544,25.992342 -84.903015,11.301723 -85.639565,-7.538411 -85.983955,-27.324371 -85.838356,-43.90601 -85.24733,-55.975906 -84.34903,-64.3969 -83.26564,-70.32335 -82.07232,-74.60459 -80.81191,-77.78422 -79.50856,-80.20331 -78.17609,-82.085014 -76.823555,-83.57254 -75.45632,-84.765755 -74.07821,-84.87152 -73.93997,-86.07626 -74.06887,-95.09877 -74.77263,-103.766594 -75.05368,-108.71833 -75.046684,-113.994934 -74.89716,-117.254486 -74.72433,-120.948425 -74.444565,-123.35725 -74.20827,-126.21859 -73.864914,-128.16733 -73.58744,-130.5756 -73.18913,-132.27841 -72.86596,-134.45824 -72.394775,-136.05312 -72.00354,-138.16444 -71.41555,-139.76282 -70.90938,-141.9569 -70.114365,-143.68619 -69.39337,-146.17899 -68.18193,-148.27078 -66.983,-151.58643 -64.67417,-152.91756 -63.58365,-152.91756 -63.58365,-155.70737 -64.459724,-158.67883 -65.277275,-161.83626 -66.03021,-165.17984 -66.71218,-168.70598 -67.31692,-172.40413 -67.83818,-176.25873 -68.26997,179.75273 -68.60668,175.65942 -68.84371,171.49611 -68.97803,167.30107 -69.0079,163.11496 -68.931755,158.97775 -68.75153,154.92601 -68.469986,150.99254 -68.090546,147.20337 -67.618576,143.57849 -67.05938,140.13118 -66.41931,136.86816 -65.70479,133.79245 -64.921715,130.90074 -64.07706,128.18817 -63.1761,125.647575 -62.22435,123.27007 -61.22672,121.04539 -60.188107,118.96395 -59.11215,117.0151 -58.00302,115.18942 -56.863827,113.477455 -55.69752,111.86988 -54.50676,110.358955 -53.29401,108.93732 -52.0611,107.59644 -50.81026,106.33129 -49.542805,105.135254 -48.260513,104.00279 -46.96445,102.92951 -45.655823,101.91024 -44.33592,100.9413 -43.005447,100.01879 -41.665398,99.139244 -40.31648,98.29949 -38.95943,97.49692 -37.59485,96.72891 -36.223286,95.99291 -34.84529,95.28669 -33.461426,94.608604 -32.071903,93.95659 -30.677393,93.32895 -29.278013,92.7243 -27.874268,92.14139 -26.466372,91.57842 -25.054688,91.03469 -23.639387,90.50902 -22.220789,90.000244 -20.79908,89.50736 -19.37451,89.029785 -17.94725,88.56659 -16.517492,88.117004 -15.08546,87.680405 -13.651276,87.25619 -12.215013,86.843506 -10.777007,86.44241 -9.337325,86.05166 -7.8960075,85.67127 -6.4532814,85.300735 -5.009237,84.939674 -3.5639558,84.5876 -2.1175802,84.24433 -0.6702701,83.90934 0.77802,83.58235 2.2270596,83.263466 3.6768045,82.952 5.12715,82.647964 6.578062,82.351234 8.029427,82.06134 9.4811735,81.77833 10.93323,81.501755 12.385455,81.23231 13.837911,80.96911 15.290512,80.711945 16.743069,80.46122 18.195606,80.21684 19.648087,79.97873 21.100449,79.74677 22.552626,79.520775 24.004555,79.3013 25.456171,79.088005 26.907536,78.880974 28.358446,78.68045 29.80903,78.48649 31.259113,78.29942 32.70866,78.119064 34.157715,77.94603 35.606186,77.780174 37.054157,77.62221 38.501453,77.47227 39.94804,77.330666 41.393997,77.1983 42.839245,77.075424 44.2837,76.9629 45.727436,76.86104 47.17033,76.77124 48.61239,76.69417 50.05358,76.63124 51.49386,76.5835 52.933224,76.55304 54.37159,76.540924 55.808975,76.55015 57.245186,76.58294 58.680275,76.64286 60.114105,76.73288 61.54661,76.85839 62.97763,77.02475 64.40711,77.23864 65.834785,77.50909 67.260376,77.84699 68.68372,78.2669 70.10418,78.78592 71.52155,79.429726 72.93488,80.23069 74.34323,81.23409 75.745476,82.505646 77.13939,84.138954 78.52232,86.27843 79.889694,89.15013 81.23431,93.12541 82.54421,98.840355 83.797165,107.404625 84.95087,120.610756 85.92015,140.23799 86.546364,164.30232 86.631805,-174.31998 86.14077,-159.41682 85.24836,-149.75108 84.13505,-143.37073 82.90388,-138.98392 81.60644,-135.84691 80.2691,-133.5289 78.906105,-133.33159 78.7688,-131.68402 78.79376,-119.79877 78.71105,-109.344635 78.24992,-103.80591 77.84527,-98.192184 77.31019,-94.836395 76.92614,-91.09779 76.43855,-88.67694 76.087814,-85.79751 75.633125,-83.82258 75.29662,-81.352325 74.84605,-79.57708 74.50091,-77.25704 74.02161,-75.51654 73.64006,-73.141945 73.087296,-71.28036 72.6261,-68.61983 71.91973,-66.42798 71.290306,-63.11378 70.240585,-60.19694 69.19683,-55.36325 67.13966,-53.36936 66.13853,-53.36936 66.13853,))', 'url': \"https://s5phub.copernicus.eu/dhus/odata/v1/Products('2d107b25-d1f2-4d01-b45e-8593cd48cdb0')/$value\", 'Online': True, 'Creation Date': datetime.datetime(2020, 3, 13, 13, 10, 4, 528000), 'Ingestion Date': datetime.datetime(2020, 3, 13, 13, 7, 55, 163000), 'quicklook_url': \"https://s5phub.copernicus.eu/dhus/odata/v1/Products('2d107b25-d1f2-4d01-b45e-8593cd48cdb0')/Products('Quicklook')/$value\", 'path': 'data\\\\L2\\\\S5P_OFFL_L2__CO_____20200310T075054_20200310T093225_12470_01_010302_20200313T094115.nc', 'downloaded_bytes': 172107545}, 'accf8d48-3f79-4629-b4df-2d78298adb59': {'id': 'accf8d48-3f79-4629-b4df-2d78298adb59', 'title': 'S5P_OFFL_L2__CO_____20200321T060422_20200321T074552_12625_01_010302_20200322T195235', 'size': 180509328, 'md5': 'E1FEFBFD7CCA413635C3A4996D5D8A89', 'date': datetime.datetime(2020, 3, 21, 6, 25, 57), 'footprint': 'POLYGON((-35.909245 63.59885,-33.094128 64.47171,-30.096046 65.284645,-26.911474 66.03166,-23.540144 66.706276,-19.987684 67.30223,-16.264372 67.81316,-12.387249 68.23295,-8.380468 68.55644,-4.2737374 68.77925,-0.10280151 68.89798,4.093415 68.91132,8.274386 68.81805,12.400175 68.62066,16.434385 68.32164,20.345436 67.9251,24.108015 67.43611,27.70331 66.860634,31.119473 66.20487,34.349785 65.47534,37.39325 64.67828,40.25239 63.819897,42.933033 62.905926,45.44296 61.94187,47.791576 60.932804,49.988457 59.883118,52.043797 58.79683,53.967873 57.67777,55.770237 56.52899,57.460472 55.353653,59.047268 54.154285,60.539 52.933228,61.942932 51.69248,63.266224 50.433918,64.515465 49.159176,65.696106 47.869656,66.814 46.56682,67.873795 45.251656,68.879845 43.925316,69.83642 42.588688,70.747055 41.242638,71.61521 39.88787,72.44394 38.52523,73.236046 37.155193,73.99401 35.77834,74.72024 34.39521,75.41676 33.00626,76.085625 31.611935,76.728645 30.212648,77.34723 28.808678,77.94313 27.400394,78.51785 25.988201,79.07221 24.572268,79.60754 23.152767,80.125114 21.730175,80.62582 20.30456,81.11041 18.876211,81.580086 17.445349,82.035095 16.011856,82.47678 14.576442,82.90529 13.138878,83.32153 11.699429,83.7259 10.258252,84.11901 8.815429,84.50134 7.3711576,84.87332 5.9255614,85.235504 4.478814,85.58798 3.0309014,85.93134 1.5820452,86.265854 0.1322564,86.591774 -1.3182898,86.90929 -2.769523,87.21895 -4.221335,87.52064 -5.6736264,87.81481 -7.126344,88.10155 -8.579334,88.38089 -10.032613,88.65321 -11.486106,88.91846 -12.939605,89.176735 -14.393173,89.428276 -15.8466625,89.673 -17.30004,89.91107 -18.753222,90.142365 -20.206158,90.36688 -21.658785,90.584885 -23.110992,90.79562 -24.562878,90.99973 -26.01425,91.196945 -27.46505,91.38695 -28.91533,91.57004 -30.364826,91.74537 -31.813835,91.91325 -33.26195,92.07301 -34.70942,92.22461 -36.156017,92.36783 -37.601692,92.50184 -39.04656,92.626434 -40.490444,92.74104 -41.93331,92.84488 -43.375145,92.93734 -44.81596,93.01778 -46.25562,93.08483 -47.694115,93.13774 -49.1314,93.17509 -50.567444,93.19545 -52.002132,93.197235 -53.435436,93.17769 -54.867313,93.13564 -56.297604,93.067375 -57.726322,92.970024 -59.15325,92.83936 -60.57834,92.67101 -62.001385,92.458855 -63.422115,92.19588 -64.84042,91.87375 -66.25605,91.48078 -67.6685,91.00367 -69.07738,90.42472 -70.48199,89.72082 -71.88159,88.86138 -73.27505,87.80602 -74.661026,86.49617 -76.037186,84.85338 -77.40078,82.76063 -78.74739,80.046524 -80.070305,76.443115 -81.35884,71.534904 -82.595345,64.656845 -83.74903,54.81254 -84.7652,40.82589 -85.54878,22.496288 -85.96252,2.5473485 -85.892944,-14.6973915 -85.36216,-27.431011 -84.501945,-36.33277 -83.44099,-42.577595 -82.26109,-47.06898 -81.0091,-50.39056 -79.71109,-52.910645 -78.38254,-53.056164 -78.29319,-54.627426 -78.45742,-66.93239 -79.345375,-79.31865 -79.656006,-86.41523 -79.59797,-93.82438 -79.34158,-98.264694 -79.077515,-103.12986 -78.67323,-106.192696 -78.34475,-109.70766 -77.88177,-112.02101 -77.51712,-114.786606 -77.00539,-116.67862 -76.59857,-119.022865 -76.016624,-120.6822 -75.54201,-122.80581 -74.84094,-124.358055 -74.2474,-126.41167 -73.3303,-127.96868 -72.51157,-130.12218 -71.1572,-131.8526 -69.83665,-134.47154 -67.331894,-135.48676 -66.1615,-135.48676 -66.1615,-138.8649 -66.82946,-142.42357 -67.41908,-146.15228 -67.92396,-150.03346 -68.33834,-154.04367 -68.6566,-158.1523 -68.87474,-162.32411 -68.98962,-166.5201 -68.99947,-170.69954 -68.90391,-174.82326 -68.70462,-178.8547 -68.404366,177.23743 -68.00726,173.4779 -67.518486,169.88579 -66.9438,166.4725 -66.28953,163.24463 -65.5618,160.20334 -64.76699,157.34598 -63.911358,154.66638 -63.000484,152.15697 -62.039845,149.80872 -61.03438,147.61147 -59.988552,145.55553 -58.90633,143.6304 -57.79132,141.8265 -56.646935,140.13477 -55.475914,138.5459 -54.28097,137.05215 -53.06434,135.64592 -51.828075,134.3198 -50.57398,133.0676 -49.30386,131.88402 -48.01883,130.76282 -46.72043,129.69994 -45.40968,128.69054 -44.087643,127.73037 -42.755455,126.81629 -41.413723,125.94416 -40.06333,125.11165 -38.70488,124.315636 -37.338966,123.55359 -35.96623,122.82339 -34.58712,122.12258 -33.202206,121.44954 -31.811773,120.80203 -30.416368,120.178955 -29.016226,119.57828 -27.611784,118.999146 -26.203123,118.43994 -24.790718,117.899635 -23.37486,117.3771 -21.95569,116.8714 -20.533503,116.381386 -19.10848,115.90644 -17.68083,115.44589 -16.250639,114.99878 -14.818222,114.56452 -13.383667,114.1425 -11.94714,113.73207 -10.508856,113.33281 -9.068835,112.944145 -7.627329,112.56566 -6.184349,112.19689 -4.740111,111.83746 -3.294668,111.487076 -1.848164,111.14528 -0.40064555,110.81183 1.0476995,110.48643 2.49688,110.16888 3.946747,109.85881 5.3971734,109.55615 6.8481574,109.26054 8.299453,108.97198 9.751287,108.69019 11.20334,108.415085 12.655632,108.146515 14.108081,107.88437 15.560586,107.62856 17.013199,107.37905 18.465714,107.13576 19.918142,106.89868 21.370472,106.667694 22.822567,106.44309 24.27441,106.224724 25.725994,106.01243 27.17722,105.80671 28.628115,105.60729 30.07849,105.4146 31.528536,105.228615 32.977978,105.04965 34.426933,104.87778 35.875362,104.713684 37.32311,104.55684 38.770275,104.40843 40.21675,104.26865 41.66255,104.138016 43.107666,104.016685 44.55198,103.906136 45.99558,103.806694 47.438293,103.71905 48.88022,103.64471 50.321217,103.58414 51.761353,103.53936 53.20057,103.51202 54.638763,103.50395 56.07588,103.517204 57.51196,103.554825 58.94684,103.61975 60.380444,103.715965 61.812702,103.8487 63.243473,104.02323 64.67262,104.24688 66.1,104.5289 67.52515,104.881256 68.94798,105.317696 70.36796,105.85835 71.7846,106.52835 73.197174,107.36309 74.60454,108.410805 76.00539,109.741776 77.397545,111.45652 78.77798,113.711784 80.14173,116.753784 81.48114,120.99408 82.78253,127.13736 84.02109,136.40845 85.14874,150.71518 86.068756,171.51726 86.607895,-164.34259 86.580475,-144.09438 85.99859,-130.3246 85.0537,-121.40008 83.91272,-115.469055 82.66627,-111.35916 81.35991,-108.40102 80.01691,-106.20311 78.65017,-104.52829 77.26717,-103.22693 75.87272,-102.200935 74.469635,-102.140724 74.375885,-100.948616 74.37009,-92.45394 74.14577,-84.93899 73.67641,-80.85779 73.31255,-76.607956 72.852,-74.00053 72.528946,-71.02833 72.12423,-69.0629 71.83571,-66.68082 71.463936,-65.01801 71.18999,-62.90379 70.8242,-61.36019 70.54455,-59.311707 70.15661,-57.751366 69.8479,-55.589485 69.4005,-53.867504 69.026726,-51.363926 68.4527,-49.26238 67.93882,-46.013958 67.07508,-43.079872 66.206245,-38.04942 64.46227,-35.909245 63.59885,-35.909245 63.59885,))', 'url': \"https://s5phub.copernicus.eu/dhus/odata/v1/Products('accf8d48-3f79-4629-b4df-2d78298adb59')/$value\", 'Online': True, 'Creation Date': datetime.datetime(2020, 3, 22, 23, 40, 14, 643000), 'Ingestion Date': datetime.datetime(2020, 3, 22, 23, 35, 7, 502000), 'quicklook_url': \"https://s5phub.copernicus.eu/dhus/odata/v1/Products('accf8d48-3f79-4629-b4df-2d78298adb59')/Products('Quicklook')/$value\", 'path': 'data\\\\L2\\\\S5P_OFFL_L2__CO_____20200321T060422_20200321T074552_12625_01_010302_20200322T195235.nc', 'downloaded_bytes': 180509328}, 'e8ed7cdb-d054-4ece-b534-e92639bc327a': {'id': 'e8ed7cdb-d054-4ece-b534-e92639bc327a', 'title': 'S5P_OFFL_L2__CO_____20200328T071459_20200328T085629_12725_01_010302_20200330T072939', 'size': 179263782, 'md5': '1320B2939DC4B9A6D86E4AFB4676F5CA', 'date': datetime.datetime(2020, 3, 28, 7, 36, 34), 'footprint': 'POLYGON((-58.49959 61.67463,-56.033367 62.6514,-53.398445 63.579266,-50.58714 64.45308,-47.592834 65.267204,-44.41183 66.01532,-41.04434 66.69127,-37.495647 67.28871,-33.775867 67.80114,-29.902193 68.22267,-25.898067 68.54794,-21.793592 68.77247,-17.62422 68.89325,-13.428721 68.908066,-9.248002 68.817406,-5.1214304 68.62208,-1.0859337 68.32476,2.8271825 67.93032,6.592146 67.44298,10.190358 66.86926,13.609529 66.215065,16.84305 65.486885,19.88984 64.691216,22.752275 63.833958,25.436077 62.921204,27.949389 61.958393,30.300701 60.95011,32.500248 59.901237,34.558277 58.81573,36.484844 57.697388,38.289574 56.54937,39.98192 55.37467,41.57072 54.17585,43.064003 52.955147,44.46985 51.714966,45.794785 50.45679,47.045418 49.182533,48.22767 47.89349,49.34669 46.590843,50.40758 45.276028,51.414818 43.950016,52.372612 42.613728,53.28406 41.26789,54.153244 39.91348,54.982857 38.55105,55.775757 37.181236,56.534336 35.8045,57.261208 34.42156,57.9585 33.0329,58.627983 31.638762,59.271393 30.239538,59.890873 28.835873,60.487335 27.427753,61.062275 26.015633,61.617252 24.599825,62.153145 23.180544,62.67114 21.758087,63.172146 20.33253,63.657337 18.904339,64.1273 17.473558,64.58262 16.040247,65.02476 14.604916,65.4535 13.167357,65.870026 11.728021,66.27462 10.286826,66.668205 8.844241,67.05071 7.4000053,67.42303 5.954566,67.78539 4.5078216,68.138115 3.0599558,68.48169 1.6111363,68.81646 0.16145323,69.14262 -1.289041,69.460495 -2.7401974,69.770355 -4.1919084,70.07219 -5.6442337,70.36659 -7.0968575,70.653465 -8.549854,70.93313 -10.003069,71.205444 -11.456536,71.47102 -12.909996,71.729454 -14.363539,71.981285 -15.816991,72.22605 -17.270382,72.46433 -18.723475,72.69565 -20.176483,72.92035 -21.629097,73.138466 -23.081274,73.3496 -24.533138,73.553795 -25.984543,73.75113 -27.43535,73.94143 -28.88555,74.124435 -30.33519,74.30019 -31.784075,74.46823 -33.232265,74.62812 -34.679737,74.7801 -36.126305,74.92342 -37.571987,75.05763 -39.016857,75.18252 -40.46078,75.29733 -41.903694,75.40158 -43.34555,75.49455 -44.786304,75.574974 -46.226044,75.64253 -47.664597,75.69589 -49.101845,75.733536 -50.53797,75.7549 -51.97256,75.756615 -53.406,75.73804 -54.837902,75.696335 -56.26823,75.628975 -57.69694,75.5323 -59.123955,75.40272 -60.54906,75.23533 -61.972153,75.02424 -63.39306,74.76278 -64.81145,74.44184 -66.22706,74.05075 -67.63963,73.57632 -69.04861,72.99979 -70.453316,72.29865 -71.853096,71.44338 -73.24679,70.3927 -74.63286,69.08952 -76.009415,67.45511 -77.373375,65.37429 -78.72047,62.675385 -80.04403,59.096073 -81.333565,54.219856 -82.571465,47.393013 -83.72757,37.620262 -84.74744,23.725077 -85.537315,5.4620667 -85.960175,-14.506151 -85.90084,-31.841333 -85.37813,-44.668068 -84.523125,-53.63398 -83.46488,-59.922836 -82.28679,-64.44152 -81.03571,-64.69638 -80.95059,-66.59761 -81.150246,-82.468735 -82.23144,-99.54382 -82.561005,-109.294205 -82.42952,-119.07682 -82.03598,-124.64491 -81.66383,-130.44153 -81.122345,-133.91563 -80.69886,-137.73029 -80.11993,-140.13933 -79.67548,-142.91327 -79.0653,-144.74437 -78.58948,-146.93777 -77.92047,-148.43945 -77.38335,-150.29872 -76.60146,-151.61246 -75.94838,-153.29062 -74.9521,-154.51715 -74.07313,-156.1496 -72.63527,-157.4107 -71.24752,-159.24625 -68.640724,-159.93896 -67.43055,-159.93896 -67.43055,-163.67125 -67.93369,-167.55553 -68.34594,-171.568 -68.66248,-175.67848 -68.878494,-179.85135 -68.99123,175.95244 -68.99879,171.77362 -68.90137,167.65149 -68.69969,163.62206 -68.39756,159.71704 -67.998405,155.96059 -67.5079,152.3719 -66.93138,148.9626 -66.27534,145.73878 -65.54612,142.70123 -64.75006,139.84744 -63.893166,137.17143 -62.981136,134.66542 -62.019615,132.32042 -61.01318,130.12625 -59.96652,128.07315 -58.883533,126.150764 -57.76796,124.349174 -56.62294,122.659325 -55.45149,121.07266 -54.256,119.580925 -53.038868,118.17631 -51.802197,116.85165 -50.54784,115.60158 -49.277107,114.41885 -47.991882,113.2993 -46.69321,112.237274 -45.382313,111.22884 -44.06007,110.26987 -42.72759,109.35644 -41.385677,108.485306 -40.035072,107.65348 -38.676506,106.858536 -37.31039,106.09696 -35.93753,105.3673 -34.558342,104.66736 -33.173157,103.99446 -31.78275,103.34779 -30.387184,102.72501 -28.986958,102.12491 -27.582335,101.54617 -26.173698,100.987404 -24.761257,100.44737 -23.345303,99.925255 -21.926043,99.419785 -20.503826,98.930084 -19.078735,98.45552 -17.65102,97.99518 -16.220793,97.548294 -14.788353,97.11435 -13.353742,96.692444 -11.917193,96.28226 -10.478876,95.88325 -9.038884,95.494774 -7.597291,95.116486 -6.154313,94.74778 -4.7100515,94.388626 -3.2646177,94.03841 -1.8180952,93.69681 -0.3705887,93.36351 1.0777993,93.038246 2.5268996,92.72098 3.9767418,92.411026 5.42726,92.10849 6.878149,91.81302 8.32953,91.52451 9.781297,91.24308 11.2333355,90.96802 12.68571,90.69947 14.138077,90.43756 15.59059,90.18193 17.04311,89.93243 18.495623,89.68921 19.948013,89.45242 21.4003,89.22167 22.85232,88.99696 24.304235,88.77881 25.755756,88.56675 27.206934,88.36108 28.657751,88.16183 30.108156,87.96923 31.558098,87.783455 33.00755,87.60461 34.456417,87.43291 35.90474,87.26872 37.352474,87.11232 38.79959,86.96419 40.24605,86.82464 41.69177,86.693886 43.136837,86.57314 44.581085,86.46259 46.024574,86.36354 47.467358,86.27595 48.90914,86.20174 50.350155,86.14172 51.790184,86.09731 53.229317,86.07036 54.66741,86.06255 56.10449,86.07638 57.54043,86.11409 58.97529,86.18009 60.408806,86.276436 61.840992,86.409996 63.271698,86.58556 64.70077,86.81043 66.127975,87.093704 67.55311,87.447266 68.97584,87.885124 70.39571,88.4278 71.81225,89.10094 73.2246,89.93942 74.63187,90.99181 76.0325,92.32833 77.42441,94.05187 78.804535,96.3194 80.167946,99.38024 81.506714,103.64852 82.807076,109.836205 84.04423,119.18318 85.16906,133.60701 86.08361,154.52739 86.6133,178.66096 86.574715,-161.21097 85.983696,-147.55347 85.03384,-138.70381 83.89001,-132.8148 82.64223,-128.73305 81.334946,-125.79242 79.991356,-123.60617 78.624344,-121.93939 77.24119,-120.64464 75.84647,-119.62326 74.44326,-118.808754 73.03352,-118.1552 71.61861,-118.11618 71.52426,-117.10557 71.50543,-109.92141 71.219124,-103.54211 70.74041,-100.04711 70.38959,-96.37394 69.95628,-94.10014 69.65691,-91.48745 69.28569,-89.74685 69.023125,-87.62285 68.68688,-86.13052 68.44037,-84.22124 68.11262,-82.818726 67.86295,-80.94613 67.51768,-79.51093 67.24367,-77.509605 66.84745,-75.90463 66.51704,-73.55341 66.01011,-71.56285 65.556244,-68.45373 64.79183,-65.60946 64.0195,-60.64643 62.45577,-58.49959 61.67463,-58.49959 61.67463,))', 'url': \"https://s5phub.copernicus.eu/dhus/odata/v1/Products('e8ed7cdb-d054-4ece-b534-e92639bc327a')/$value\", 'Online': True, 'Creation Date': datetime.datetime(2020, 3, 30, 11, 10, 33, 618000), 'Ingestion Date': datetime.datetime(2020, 3, 30, 11, 5, 25, 786000), 'quicklook_url': \"https://s5phub.copernicus.eu/dhus/odata/v1/Products('e8ed7cdb-d054-4ece-b534-e92639bc327a')/Products('Quicklook')/$value\", 'path': 'data\\\\L2\\\\S5P_OFFL_L2__CO_____20200328T071459_20200328T085629_12725_01_010302_20200330T072939.nc', 'downloaded_bytes': 179263782}, '06219799-fffc-4ae4-8915-2e32b21253c2': {'id': '06219799-fffc-4ae4-8915-2e32b21253c2', 'title': 'S5P_OFFL_L2__CO_____20200321T074552_20200321T092723_12626_01_010302_20200322T213239', 'size': 160845090, 'md5': '35D24A32F554DC1352C0997784142F96', 'date': datetime.datetime(2020, 3, 21, 8, 7, 27), 'footprint': 'POLYGON((-61.28818 63.595837,-58.473637 64.46883,-55.476093 65.28187,-52.291824 66.02889,-48.92127 66.70373,-45.36923 67.29984,-41.646317 67.8107,-37.77001 68.230804,-33.763523 68.554405,-29.657429 68.77735,-25.486681 68.89617,-21.290794 68.9094,-17.110144 68.81687,-12.9845495 68.61979,-8.950504 68.320816,-5.039486 67.92458,-1.2766759 67.435875,2.3189232 66.86071,5.735187 66.2052,8.965779 65.47579,12.009598 64.678925,14.869143 63.820778,17.550043 62.90697,20.060305 61.943108,22.409082 60.934116,24.60635 59.884495,26.661907 58.798275,28.586517 57.679512,30.38912 56.53089,32.079655 55.355633,33.666714 54.15638,35.1586 52.935402,36.56274 51.69471,37.886383 50.436302,39.135723 49.16159,40.31675 47.872242,41.43473 46.569393,42.494713 45.25438,43.500988 43.928043,44.457703 42.591507,45.368515 41.245502,46.236774 39.890854,47.06593 38.528378,47.858047 37.158302,48.61591 35.781406,49.342278 34.398354,50.039055 33.009518,50.7081 31.61525,51.35113 30.215961,51.969917 28.81208,52.56586 27.403835,53.14058 25.991604,53.695072 24.575727,54.230595 23.15632,54.74827 21.733778,55.248985 20.308163,55.73375 18.87987,56.203472 17.449,56.65863 16.015602,57.100334 14.580192,57.528984 13.142682,57.945137 11.703213,58.349743 10.262101,58.742916 8.819311,59.125282 7.375112,59.497166 5.929491,59.859356 4.482688,60.211952 3.0348575,60.555275 1.5859071,60.889866 0.1362423,61.215782 -1.3143108,61.533516 -2.765451,61.84306 -4.217285,62.145004 -5.66956,62.43902 -7.1222663,62.725746 -8.5752945,63.005203 -10.028569,63.277287 -11.482033,63.54278 -12.9355135,63.801025 -14.3890705,64.052605 -15.842586,64.297295 -17.295916,64.53522 -18.74916,64.76646 -20.202124,64.99109 -21.654716,65.20887 -23.107012,65.419716 -24.558882,65.62382 -26.010218,65.82122 -27.461012,66.01126 -28.911257,66.19404 -30.360884,66.3694 -31.809826,66.5372 -33.258034,66.697296 -34.705414,66.84885 -36.15204,66.99176 -37.59778,67.12595 -39.04264,67.25043 -40.48651,67.364845 -41.929436,67.46888 -43.37131,67.56135 -44.81212,67.64176 -46.251774,67.70886 -47.690292,67.761986 -49.127605,67.79914 -50.563625,67.81966 -51.99831,67.820854 -53.431694,67.80212 -54.86352,67.75965 -56.293884,67.69146 -57.722607,67.5941 -59.14954,67.46357 -60.574635,67.2953 -61.997704,67.08321 -63.418518,66.82065 -64.83687,66.49824 -66.25247,66.105736 -67.66491,65.62858 -69.073814,65.04978 -70.47846,64.346 -71.878105,63.487072 -73.271614,62.431873 -74.65756,61.122524 -76.03382,59.48047 -77.3975,57.38977 -78.744156,54.67595 -80.067116,51.074776 -81.35574,46.170532 -82.59239,39.297527 -83.74628,29.459806 -84.76276,15.485419 -85.54705,-2.837495 -85.96156,-22.784319 -85.89319,-40.037563 -85.36335,-52.781437 -84.50384,-61.68803 -83.44298,-67.93899 -82.26346,-72.433876 -81.01151,-75.75764 -79.71361,-78.2794 -78.38511,-78.42517 -78.29582,-79.99652 -78.46007,-92.30284 -79.34821,-104.691444 -79.659,-111.78961 -79.60102,-119.20046 -79.344666,-123.64175 -79.080605,-128.50792 -78.676315,-131.57132 -78.347824,-135.08687 -77.88483,-137.40056 -77.520164,-140.1665 -77.008415,-142.05872 -76.60159,-144.40315 -76.01964,-146.06259 -75.545006,-148.18628 -74.84394,-149.73856 -74.25039,-151.79216 -73.3333,-153.3491 -72.51457,-155.50247 -71.160225,-157.23271 -69.83971,-159.8513 -67.33506,-160.86635 -66.164734,-160.86635 -66.164734,-164.24492 -66.83271,-167.8044 -67.42219,-171.53381 -67.926895,-175.41557 -68.34107,-179.42635 -68.65924,176.46432 -68.87707,172.292 -68.99173,168.09564 -69.001236,163.9157 -68.90557,159.79182 -68.706024,155.76033 -68.40548,151.85216 -68.0083,148.09282 -67.51915,144.50075 -66.94423,141.0878 -66.28965,137.86028 -65.56163,134.81921 -64.766716,131.9619 -63.91088,129.28288 -62.999752,126.7738 -62.038998,124.42582 -61.03337,122.22909 -59.987297,120.1732 -58.90502,118.2487 -57.78981,116.445244 -56.64525,114.75393 -55.474037,113.165184 -54.278973,111.671616 -53.062313,110.26555 -51.82589,108.93966 -50.571796,107.687965 -49.301483,106.50427 -48.016354,105.38348 -46.71794,104.32063 -45.40717,103.311386 -44.08508,102.35151 -42.752743,101.43734 -41.41101,100.56571 -40.060543,99.73323 -38.702003,98.93732 -37.336044,98.17559 -35.963215,97.4452 -34.584164,96.74456 -33.199173,96.07161 -31.808712,95.42434 -30.41321,94.80119 -29.013014,94.2008 -27.608435,93.62165 -26.19984,93.06257 -24.787426,92.52226 -23.371534,91.99967 -21.952343,91.49404 -20.530087,91.00425 -19.105,90.5294 -17.677324,90.06879 -16.247152,89.621666 -14.814692,89.18757 -13.380103,88.76558 -11.943575,88.3551 -10.5052805,87.95602 -9.065232,87.56728 -7.6236515,87.18894 -6.1806536,86.820076 -4.7364197,86.460724 -3.2909713,86.110374 -1.8444216,85.768585 -0.3968933,85.43524 1.0514753,85.10986 2.500634,84.792435 3.9505093,84.4823 5.4009547,84.17971 6.8519363,83.884254 8.303357,83.59564 9.755117,83.31396 11.207217,83.038765 12.659435,82.770226 14.111968,82.50812 15.564504,82.252396 17.01705,82.002945 18.469633,81.75976 19.922024,81.52277 21.374392,81.29192 22.826462,81.06719 24.278332,80.848785 25.729916,80.63663 27.181135,80.43104 28.631971,80.231575 30.082462,80.03902 31.532373,79.85314 32.98189,79.67407 34.430847,79.50238 35.879204,79.33791 37.327023,79.1814 38.774124,79.03304 40.220627,78.893524 41.6664,78.7629 43.111458,78.6418 44.55576,78.53112 45.999344,78.43173 47.44207,78.34396 48.883972,78.269424 50.32501,78.20927 51.765102,78.16469 53.204254,78.137344 54.64245,78.1292 56.0796,78.14259 57.515617,78.18026 58.950455,78.24532 60.384075,78.341835 61.81631,78.47465 63.247055,78.649185 64.676155,78.87304 66.10348,79.15552 67.52867,79.50764 68.951416,79.94437 70.371414,80.48493 71.788025,81.15575 73.20054,81.99027 74.60792,83.03915 76.00865,84.37042 77.400795,86.08669 78.7811,88.34305 80.14491,91.38783 81.48419,95.63158 82.78542,101.78062 84.02375,111.05964 85.15111,125.380066 86.07044,146.19609 86.60839,170.33472 86.57987,-169.43065 85.99687,-155.67583 85.05144,-146.75914 83.91018,-140.83264 82.6636,-136.72685 81.35707,-133.76974 80.01405,-131.57251 78.64735,-129.89928 77.26435,-128.59885 75.869835,-127.573555 74.46673,-127.513115 74.373085,-126.32114 74.36726,-117.827515 74.1428,-110.31362 73.67334,-106.233 73.30945,-101.98377 72.848854,-99.37669 72.525795,-96.404884 72.12106,-94.439705 71.83254,-92.057915 71.46076,-90.3953 71.18681,-88.28131 70.82104,-86.73788 70.54139,-84.68959 70.15346,-83.129395 69.84476,-80.967705 69.39736,-79.24586 69.023605,-76.742455 68.44959,-74.64104 67.93573,-71.39278 67.07202,-68.45879 66.20322,-63.428387 64.45926,-61.28818 63.595837,-61.28818 63.595837,))', 'url': \"https://s5phub.copernicus.eu/dhus/odata/v1/Products('06219799-fffc-4ae4-8915-2e32b21253c2')/$value\", 'Online': True, 'Creation Date': datetime.datetime(2020, 3, 23, 0, 40, 10, 187000), 'Ingestion Date': datetime.datetime(2020, 3, 23, 0, 35, 8, 449000), 'quicklook_url': \"https://s5phub.copernicus.eu/dhus/odata/v1/Products('06219799-fffc-4ae4-8915-2e32b21253c2')/Products('Quicklook')/$value\", 'path': 'data\\\\L2\\\\S5P_OFFL_L2__CO_____20200321T074552_20200321T092723_12626_01_010302_20200322T213239.nc', 'downloaded_bytes': 160845090}, '1523c2cc-d410-49d3-83cf-b981ce860bb6': {'id': '1523c2cc-d410-49d3-83cf-b981ce860bb6', 'title': 'S5P_OFFL_L2__CO_____20200324T064908_20200324T083038_12668_01_010302_20200325T203442', 'size': 166569248, 'md5': '0971AE938D787A8414F4FB9D1374080D', 'date': datetime.datetime(2020, 3, 24, 7, 10, 42), 'footprint': 'POLYGON((-49.262367 62.811405,-46.598537 63.730656,-43.756733 64.59492,-40.73089 65.39828,-37.518604 66.13485,-34.12031 66.798164,-30.54166 67.38169,-26.794504 67.8793,-22.896957 68.28504,-18.873606 68.593735,-14.755427 68.80103,-10.578673 68.904175,-6.3826594 68.90123,-2.2079716 68.79285,1.9057735 68.57996,5.9230943 68.266266,9.812931 67.85547,13.551392 67.35351,17.120335 66.76569,20.508589 66.098595,23.710953 65.35862,26.72639 64.552124,29.558483 63.685127,32.21306 62.763542,34.69837 61.792603,37.023857 60.77736,39.198795 59.721928,41.234146 58.63072,43.13943 57.507053,44.9248 56.354385,46.599056 55.175377,48.17137 53.972755,49.64937 52.748596,51.04111 51.505203,52.35311 50.24425,53.591686 48.967182,54.762905 47.675735,55.871983 46.371075,56.92342 45.054153,57.921955 43.726334,58.871624 42.388355,59.775757 41.040966,60.638035 39.685154,61.461323 38.32141,62.24823 36.950436,63.00142 35.57267,63.72315 34.18865,64.415474 32.7989,65.08037 31.403833,65.71979 30.003862,66.33502 28.599281,66.92764 27.190443,67.49929 25.777729,68.05088 24.36126,68.583694 22.94139,69.0987 21.51836,69.59706 20.092392,70.07949 18.663662,70.54699 17.232445,71.00014 15.798833,71.43987 14.363075,71.86654 12.925209,72.28095 11.485503,72.683716 10.044095,73.075325 8.601095,73.45603 7.156649,73.82664 5.710929,74.187325 4.263967,74.53846 2.8159413,74.880684 1.3669856,75.21386 -0.08286129,75.53857 -1.5335304,75.8551 -2.984753,76.16354 -4.4366374,76.46412 -5.8890142,76.75717 -7.341766,77.04286 -8.794766,77.32132 -10.248064,77.59254 -11.701578,77.856735 -13.155086,78.11425 -14.608556,78.364655 -16.062063,78.60831 -17.51544,78.845474 -18.968525,79.075485 -20.42148,79.29934 -21.874023,79.51606 -23.3262,79.72611 -24.777956,79.9294 -26.229225,80.125534 -27.679916,80.314644 -29.130064,80.49662 -30.579563,80.6708 -32.028397,80.837616 -33.476433,80.99624 -34.923737,81.1467 -36.3702,81.2886 -37.815784,81.42123 -39.2605,81.544266 -40.70429,81.6575 -42.146988,81.759514 -43.58872,81.85025 -45.029346,81.92898 -46.4688,81.99392 -47.90718,82.04468 -49.34432,82.07979 -50.7801,82.097755 -52.21462,82.096306 -53.647728,82.07396 -55.079407,82.02802 -56.509476,81.95596 -57.937878,81.853935 -59.364605,81.71816 -60.789368,81.543465 -62.212143,81.324715 -63.6326,81.05398 -65.0505,80.72189 -66.46572,80.31768 -67.87766,79.82694 -69.28594,79.231636 -70.68988,78.5068 -72.08872,77.62065 -73.48116,76.53193 -74.86585,75.1798 -76.240486,73.47848 -77.6019,71.3076 -78.94551,68.48206 -80.26422,64.71728 -81.5465,59.56598 -82.77309,52.32081 -83.91084,41.93228 -84.899796,27.26175 -85.63805,8.432765 -85.98517,-11.369168 -85.842094,-27.978365 -85.25278,-40.07245 -84.355675,-48.50851 -83.272804,-54.44471 -82.07974,-58.731865 -80.81955,-61.914616 -79.51613,-62.09648 -79.42817,-63.797615 -79.605576,-77.4065 -80.56391,-91.411316 -80.88241,-99.432915 -80.79963,-107.70719 -80.495514,-112.585335 -80.19278,-117.84023 -79.73813,-121.09323 -79.373955,-124.7687 -78.86651,-127.152016 -78.47069,-129.96227 -77.91986,-131.85947 -77.48522,-134.18045 -76.86767,-135.80276 -76.36714,-137.85306 -75.63213,-139.33258 -75.01326,-141.26418 -74.06204,-142.70859 -73.217,-144.67769 -71.82568,-146.23668 -70.47498,-148.56119 -67.92383,-149.45277 -66.73518,-149.45277 -66.73518,-152.98529 -67.33669,-156.68956 -67.85452,-160.54976 -68.2826,-164.54233 -68.615524,-168.63867 -68.84866,-172.80347 -68.97915,-176.99846 -69.004364,178.81715 -68.92423,174.68288 -68.740395,170.63562 -68.45492,166.70761 -68.07191,162.92491 -67.59633,159.30695 -67.0339,155.86676 -66.39104,152.61143 -65.673676,149.54247 -64.88853,146.65805 -64.04147,143.95279 -63.138363,141.41858 -62.184917,139.04706 -61.185703,136.8283 -60.145573,134.75195 -59.068462,132.80818 -57.958134,130.98672 -56.817993,129.27904 -55.650673,127.67547 -54.459145,126.167946 -53.245613,124.74908 -52.01209,123.411606 -50.760586,122.149025 -49.492554,120.95538 -48.209747,119.825554 -46.91315,118.753975 -45.604324,117.73695 -44.283855,116.76984 -42.953125,115.84886 -41.612762,114.970924 -40.263542,114.13279 -38.90616,113.33141 -37.541367,112.56471 -36.16956,111.8297 -34.79144,111.12457 -33.407383,110.44728 -32.017757,109.79617 -30.623041,109.16966 -29.223553,108.565796 -27.81965,107.983475 -26.411695,107.421364 -24.999855,106.878334 -23.584442,106.353264 -22.165737,105.84508 -20.744038,105.35284 -19.31934,104.87582 -17.892057,104.41298 -16.462269,103.96383 -15.030198,103.5278 -13.595937,103.10405 -12.159649,102.69187 -10.721681,102.290825 -9.281958,101.90083 -7.8405867,101.52074 -6.397844,101.15067 -4.9537992,100.789825 -3.508535,100.43811 -2.0621688,100.094986 -0.6148253,99.760254 0.833382,99.43371 2.2824543,99.11495 3.732172,98.80393 5.1825366,98.50017 6.633417,98.203674 8.084708,97.91388 9.536472,97.63106 10.988486,97.35511 12.440751,97.08539 13.893147,96.822334 15.345667,96.565704 16.798216,96.31521 18.25071,96.07107 19.703194,95.832924 21.155478,95.60112 22.60762,95.37559 24.059536,95.15622 25.511087,94.94318 26.962412,94.73631 28.41324,94.53607 29.863743,94.34237 31.313782,94.155556 32.763344,93.97529 34.21236,93.80244 35.66082,93.636894 37.108646,93.4791 38.555904,93.32939 40.002487,93.1882 41.44836,93.056206 42.893536,92.93367 44.338,92.82158 45.781605,92.72017 47.22446,92.63076 48.66647,92.55412 50.107616,92.4917 51.547882,92.4446 52.987137,92.41426 54.42549,92.40342 55.862755,92.41317 57.298943,92.4467 58.733982,92.507614 60.167736,92.59898 61.60016,92.72578 63.03116,92.89354 64.460526,93.10966 65.88806,93.38229 67.31366,93.72331 68.736786,94.14558 70.157234,94.66945 71.57433,95.31821 72.98753,96.12565 74.39575,97.13772 75.79762,98.420746 77.19123,100.07012 78.573586,102.23119 79.9403,105.13593 81.28399,109.16159 82.592224,114.95706 83.842575,123.659004 84.99122,137.07916 85.95125,156.94885 86.56045,-178.94478 86.62361,-157.7838 86.11377,-143.11192 85.21034,-133.60005 84.09122,-127.312164 82.85681,-122.98337 81.55753,-119.88379 80.21897,-117.59014 78.8552,-115.84895 77.47433,-114.49938 76.08132,-113.43768 74.67938,-112.59257 73.270584,-112.54246 73.1766,-111.4341 73.16488,-103.54636 72.91253,-96.557205 72.43939,-92.74595 72.081825,-88.759895 71.634056,-86.30399 71.322,-83.493935 70.932724,-81.62919 70.65611,-79.36189 70.30056,-77.77438 70.03909,-75.75001 69.69055,-74.26779 69.424446,-72.29519 69.05571,-70.78834 68.76258,-68.69436 68.338066,-67.021225 67.98362,-64.5802 67.439384,-62.52318 66.952034,-59.328518 66.13197,-56.42641 65.30531,-51.41161 63.639446,-49.262367 62.811405,-49.262367 62.811405,))', 'url': \"https://s5phub.copernicus.eu/dhus/odata/v1/Products('1523c2cc-d410-49d3-83cf-b981ce860bb6')/$value\", 'Online': True, 'Creation Date': datetime.datetime(2020, 3, 26, 0, 10, 13, 487000), 'Ingestion Date': datetime.datetime(2020, 3, 26, 0, 5, 6, 404000), 'quicklook_url': \"https://s5phub.copernicus.eu/dhus/odata/v1/Products('1523c2cc-d410-49d3-83cf-b981ce860bb6')/Products('Quicklook')/$value\", 'path': 'data\\\\L2\\\\S5P_OFFL_L2__CO_____20200324T064908_20200324T083038_12668_01_010302_20200325T203442.nc', 'downloaded_bytes': 166569248}, '6c896bc9-e35c-4829-8406-5926c14d4b56': {'id': '6c896bc9-e35c-4829-8406-5926c14d4b56', 'title': 'S5P_OFFL_L2__CO_____20200306T072504_20200306T090634_12413_01_010302_20200309T091635', 'size': 161979703, 'md5': '5C3656251F04430F0C39EB5EDCDAEF36', 'date': datetime.datetime(2020, 3, 6, 7, 46, 38), 'footprint': 'POLYGON((-43.23018 66.87294,-39.630775 67.44669,-35.86476 67.93392,-31.950752 68.32853,-27.914143 68.625626,-23.786844 68.82078,-19.605324 68.9115,-15.409416 68.89636,-11.239453 68.77533,-7.134954 68.55042,-3.1308403 68.22525,0.74272543 67.80348,4.462357 67.291046,8.010684 66.69354,11.377642 66.0176,14.558142 65.2694,17.552061 64.45549,20.363173 63.58191,22.997467 62.654167,25.463549 61.677704,27.77059 60.65736,29.928902 59.59766,31.948254 58.50232,33.838913 57.37503,35.610676 56.219055,37.27266 55.037186,38.83339 53.83187,40.30091 52.60544,41.682713 51.359722,42.985886 50.096794,44.216183 48.81807,45.379833 47.524944,46.481632 46.218685,47.52692 44.90061,48.519444 43.571484,49.46347 42.232346,50.36252 40.883915,51.219852 39.52702,52.038586 38.16238,52.82134 36.790462,53.570644 35.41193,54.288776 34.027283,54.97785 32.636925,55.639748 31.241316,56.27605 29.840757,56.88859 28.435701,57.478714 27.026325,58.047714 25.613052,58.597088 24.196259,59.127598 22.775917,59.64062 21.352564,60.13697 19.92623,60.617554 18.497156,61.08323 17.065557,61.534744 15.631732,61.972866 14.195749,62.398033 12.75761,62.810986 11.317723,63.21239 9.876136,63.602654 8.432967,63.98209 6.988293,64.35152 5.5424547,64.711044 4.0953817,65.06111 2.6472383,65.40201 1.1981277,65.73412 -0.2518792,66.057816 -1.7025791,66.37334 -3.1539426,66.68076 -4.6058946,66.98039 -6.0583086,67.27238 -7.511182,67.55729 -8.964217,67.83471 -10.417567,68.10497 -11.871088,68.36849 -13.324603,68.624756 -14.7782135,68.87447 -16.231653,69.11732 -17.685038,69.353516 -19.138142,69.58292 -20.591024,69.80546 -22.043644,70.02161 -23.49573,70.23071 -24.947458,70.43285 -26.39871,70.628136 -27.849411,70.81629 -29.299473,70.99699 -30.748915,71.17038 -32.197674,71.336 -33.6457,71.49372 -35.0929,71.64293 -36.539345,71.78357 -37.98482,71.91503 -39.42942,72.0371 -40.873016,72.148735 -42.315704,72.249565 -43.757305,72.33875 -45.197807,72.415535 -46.6372,72.478905 -48.07542,72.52763 -49.512417,72.56071 -50.948013,72.576 -52.38244,72.57208 -53.815434,72.5468 -55.2469,72.49786 -56.67678,72.42201 -58.105064,72.31631 -59.531498,72.17562 -60.956093,71.996216 -62.378536,71.771164 -63.798737,71.49297 -65.21638,71.1532 -66.631134,70.73906 -68.04274,70.236755 -69.45053,69.626785 -70.85391,68.88388 -72.252,67.97654 -73.64366,66.85892 -75.02718,65.469315 -76.40038,63.719475 -77.75995,61.481266 -79.101006,58.559746 -80.41593,54.65717 -81.692696,49.300934 -82.91079,41.74575 -84.03447,30.906303 -84.99982,15.698163 -85.699295,-3.4603453 -85.99143,-23.054726 -85.79056,-39.13047 -85.15788,-50.73005 -84.23384,-58.816135 -83.13506,-64.52194 -81.932594,-68.657936 -80.66648,-71.738495 -79.35928,-74.08939 -78.02435,-75.92132 -76.66997,-77.37198 -75.30138,-78.536575 -73.92214,-79.48139 -72.53478,-79.53745 -72.4421,-80.651596 -72.562294,-88.92476 -73.22109,-96.80091 -73.49245,-101.29485 -73.4946,-106.097946 -73.366516,-109.079704 -73.21294,-112.478836 -72.96053,-114.70977 -72.74525,-117.37749 -72.430084,-119.20683 -72.173805,-121.483215 -71.803955,-123.104195 -71.502396,-125.19436 -71.060684,-126.7352 -70.6923,-128.79121 -70.136215,-130.36082 -69.655464,-132.53499 -68.897125,-134.2653 -68.206474,-136.78639 -67.041016,-138.92645 -65.882706,-142.3631 -63.642094,-143.75726 -62.580296,-143.75726 -62.580296,-146.3581 -63.51348,-149.13376 -64.39405,-152.09067 -65.216515,-155.23347 -65.9748,-158.56268 -66.66273,-162.07465 -67.27396,-165.76027 -67.80198,-169.60349 -68.24113,-173.58258 -68.585686,-177.66916 -68.830826,178.17128 -68.97343,173.9771 -69.01129,169.78831 -68.943504,165.64523 -68.771675,161.58517 -68.49792,157.64104 -68.12596,153.83965 -67.660835,150.20087 -67.10844,146.73874 -66.47442,143.461 -65.765495,140.37016 -64.98781,137.46393 -64.14762,134.73769 -63.25079,132.18379 -62.30277,129.79364 -61.308594,127.55749 -60.272877,125.46483 -59.19988,123.50599 -58.093086,121.67087 -56.956177,119.95019 -55.791862,118.335075 -54.60287,116.81674 -53.3917,115.38799 -52.1603,114.0413 -50.910755,112.7705 -49.64455,111.56922 -48.363243,110.43221 -47.0682,109.35447 -45.76056,108.33107 -44.441525,107.358376 -43.11175,106.43233 -41.772453,105.54975 -40.424133,104.706955 -39.067688,103.90162 -37.70371,103.130936 -36.33265,102.39267 -34.955177,101.68425 -33.57163,101.0041 -32.18259,100.35006 -30.788424,99.72065 -29.389467,99.11445 -27.985962,98.52983 -26.578423,97.96546 -25.16698,97.4203 -23.751972,96.89325 -22.333588,96.38323 -20.912083,95.889175 -19.48777,95.41039 -18.060757,94.94614 -16.63114,94.49563 -15.199266,94.05799 -13.765251,93.63298 -12.329192,93.21951 -10.891334,92.8174 -9.451728,92.42616 -8.01056,92.045 -6.567947,91.67373 -5.1239934,91.31185 -3.67883,90.95926 -2.2325578,90.61515 -0.7852803,90.27971 0.6629233,89.9524 2.1119115,89.63296 3.5615287,89.320885 5.0118895,89.01632 6.4627233,88.719124 7.914061,88.42867 9.365763,88.14535 10.817782,87.868355 12.269996,87.59821 13.722402,87.33448 15.174962,87.07716 16.62751,86.826096 18.080078,86.5812 19.532515,86.34269 20.984823,86.110176 22.437056,85.88398 23.888992,85.66412 25.340658,85.45027 26.791965,85.24288 28.242893,85.04188 29.693459,84.84775 31.143541,84.659935 32.593193,84.4792 34.042294,84.30558 35.49079,84.13929 36.938705,83.98085 38.386078,83.830376 39.832703,83.68838 41.278683,83.555405 42.72392,83.4319 44.1684,83.3187 45.612137,83.216095 47.05515,83.125336 48.497227,83.04753 49.938416,82.98326 51.378777,82.934875 52.81823,82.90263 54.256626,82.8897 55.694023,82.8971 57.13031,82.92836 58.56546,82.98594 59.99939,83.074036 61.43192,83.19668 62.863075,83.35976 64.29261,83.57028 65.72039,83.836586 67.146065,84.168785 68.569534,84.58215 69.990234,85.09343 71.40776,85.72669 72.821396,86.51445 74.230194,87.500656 75.632774,88.749504 77.027374,90.35092 78.41121,92.44444 79.77994,95.24823 81.126595,99.11803 82.43965,104.66351 83.69812,112.94643 84.86162,125.70129 85.84996,144.79056 86.51071,168.71068 86.64442,-169.48102 86.19497,-154.07413 85.327705,-144.06552 84.22779,-137.47517 83.00404,-132.9598 81.71096,-129.739 80.37634,-129.5582 80.286385,-127.66383 80.32796,-113.84841 80.32099,-101.7065 79.86001,-95.37254 79.43035,-89.063 78.85306,-85.352554 78.43605,-81.27627 77.905304,-78.6695 77.52316,-75.60228 77.02774,-73.51919 76.66126,-70.93673 76.17095,-69.09628 75.795784,-66.70984 75.27545,-64.93302 74.86183,-62.526783 74.26361,-60.65433 73.76547,-57.998833 73.0044,-55.828953 72.3283,-52.578194 71.205475,-49.74724 70.09501,-45.11765 67.922935,-43.23018 66.87294,-43.23018 66.87294,))', 'url': \"https://s5phub.copernicus.eu/dhus/odata/v1/Products('6c896bc9-e35c-4829-8406-5926c14d4b56')/$value\", 'Online': True, 'Creation Date': datetime.datetime(2020, 3, 9, 12, 5, 15, 461000), 'Ingestion Date': datetime.datetime(2020, 3, 9, 12, 5, 6, 757000), 'quicklook_url': \"https://s5phub.copernicus.eu/dhus/odata/v1/Products('6c896bc9-e35c-4829-8406-5926c14d4b56')/Products('Quicklook')/$value\", 'path': 'data\\\\L2\\\\S5P_OFFL_L2__CO_____20200306T072504_20200306T090634_12413_01_010302_20200309T091635.nc', 'downloaded_bytes': 161979703}, 'f4ec123a-1954-486a-ae7e-754bec68283d': {'id': 'f4ec123a-1954-486a-ae7e-754bec68283d', 'title': 'S5P_OFFL_L2__CO_____20200325T063013_20200325T081144_12682_01_010302_20200326T201525', 'size': 169089690, 'md5': '2C2B81C1B258ECB82EA97B290B724AC3', 'date': datetime.datetime(2020, 3, 25, 6, 51, 48), 'footprint': 'POLYGON((-45.284603 62.520855,-42.673733 63.455883,-39.886627 64.33742,-36.91781 65.16016,-33.762398 65.91783,-30.420542 66.60426,-26.895805 67.21276,-23.198624 67.73748,-19.344637 68.17194,-15.356377 68.51066,-11.263369 68.74932,-7.100094 68.88452,-2.9057558 68.91433,1.2799712 68.83778,5.4167633 68.656845,9.46715 68.3734,13.398981 67.99184,17.186007 67.51709,20.808294 66.95473,24.252748 66.311104,27.512314 65.59283,30.584814 64.805786,33.4723 63.956676,36.180695 63.051254,38.716785 62.094868,41.089897 61.09246,43.309677 60.04882,45.38672 58.96811,47.330727 57.853977,49.151592 56.70979,50.85884 55.538494,52.461445 54.342846,53.96742 53.124985,55.38465 51.887177,56.720222 50.631317,57.980595 49.359055,59.171764 48.071785,60.299343 46.771038,61.367786 45.457706,62.382225 44.13314,63.34632 42.79806,64.263954 41.45349,65.13861 40.1001,65.97338 38.738647,66.77097 37.369656,67.53427 35.993908,68.26531 34.611763,68.966385 33.223682,69.63954 31.830257,70.2866 30.431765,70.909004 29.028473,71.50844 27.620914,72.08633 26.209333,72.643845 24.793964,73.182175 23.375034,73.702576 21.952984,74.20592 20.527859,74.6931 19.09995,75.165016 17.669395,75.62245 16.236446,76.06617 14.801256,76.49666 13.363993,76.91487 11.924877,77.321014 10.483938,77.71595 9.041439,78.10009 7.597423,78.47367 6.1520185,78.8374 4.7054524,79.19135 3.2577047,79.53616 1.8089787,79.87202 0.35932392,80.19932 -1.091061,80.5183 -2.542168,80.8292 -3.9938679,81.132095 -5.4461904,81.42748 -6.898747,81.71541 -8.351752,81.99586 -9.805011,82.26926 -11.258423,82.535645 -12.711968,82.79513 -14.165456,83.04772 -15.619021,83.29357 -17.072384,83.53262 -18.525599,83.76491 -19.97858,83.99066 -21.431232,84.20951 -22.883558,84.421585 -24.335451,84.62689 -25.78691,84.82518 -27.237816,85.01641 -28.688152,85.20037 -30.137842,85.37724 -31.586819,85.54609 -33.035164,85.70732 -34.482727,85.860306 -35.92944,86.004585 -37.375328,86.14028 -38.8203,86.26627 -40.264282,86.38257 -41.70737,86.488045 -43.14941,86.5826 -44.590374,86.664696 -46.03019,86.73419 -47.468903,86.78955 -48.90636,86.82925 -50.342606,86.85245 -51.777523,86.8571 -53.21104,86.84149 -54.64316,86.8031 -56.07372,86.7393 -57.50264,86.64657 -58.92988,86.52173 -60.355186,86.35952 -61.778637,86.154724 -63.1998,85.90068 -64.61851,85.58797 -66.034546,85.2072 -67.447525,84.744606 -68.85697,84.18343 -70.26231,83.50143 -71.66276,82.66862 -73.0573,81.6472 -74.444496,80.38218 -75.82242,78.7991 -77.18829,76.78716 -78.537964,74.18562 -79.86523,70.74568 -81.16017,66.077385 -82.406364,59.5661 -83.576004,50.26487 -84.61883,36.99098 -85.447365,19.246862 -85.92873,-0.7517679 -85.93775,-18.633478 -85.471794,-32.068085 -84.65361,-41.48875 -83.6174,-48.08139 -82.45224,-52.801056 -81.20938,-56.277065 -79.91736,-56.47518 -79.83001,-58.226456 -80.012726,-72.368 -80.999916,-87.06297 -81.32132,-95.47649 -81.22776,-104.10571 -80.903366,-109.15521 -80.58453,-114.55399 -80.10932,-117.871826 -79.73084,-121.59598 -79.20587,-123.995995 -78.79796,-126.81006 -78.23217,-128.69966 -77.78703,-130.99965 -77.156204,-132.59924 -76.64613,-134.61082 -75.89878,-136.05507 -75.2708,-137.93076 -74.30744,-139.32571 -73.45316,-141.21658 -72.04901,-142.70494 -70.687965,-144.91133 -68.12104,-145.75426 -66.92621,-145.75426 -66.92621,-149.34024 -67.5031,-153.09407 -67.993965,-156.99695 -68.393585,-161.02463 -68.69649,-165.14545 -68.89858,-169.32355 -68.996925,-173.51944 -68.990234,-177.6924 -68.87824,178.19624 -68.66291,174.18254 -68.347176,170.2965 -67.93538,166.56224 -67.43294,162.99777 -66.84524,159.61371 -66.178894,156.41487 -65.440445,153.40285 -64.63569,150.57385 -63.770935,147.92162 -62.852077,145.43817 -61.88417,143.11436 -60.872017,140.93979 -59.820263,138.9053 -58.732628,136.9998 -57.612938,135.21397 -56.464226,133.53883 -55.28932,131.96548 -54.090824,130.48601 -52.870995,129.09242 -51.631874,127.77832 -50.37526,126.537346 -49.10258,125.36374 -47.815422,124.25204 -46.515083,123.19773 -45.202507,122.19597 -43.878967,121.24345 -42.54518,120.335754 -41.202118,119.47024 -39.850346,118.64354 -38.49069,117.85311 -37.123672,117.09602 -35.75001,116.3706 -34.369984,115.67423 -32.984104,115.00504 -31.592945,114.36157 -30.19673,113.742035 -28.795843,113.14495 -27.390728,112.56873 -25.981567,112.01264 -24.568628,111.47507 -23.152252,110.95503 -21.732615,110.45182 -20.309925,109.96432 -18.884447,109.49172 -17.456394,109.03321 -16.025858,108.58822 -14.593098,108.15573 -13.158312,107.73572 -11.721472,107.32687 -10.282906,106.929405 -8.842652,106.54206 -7.4008756,106.16506 -5.9577637,105.797935 -4.5132976,105.43989 -3.0676687,105.090744 -1.6210263,104.75027 -0.1734398,104.4182 1.2751113,104.094 2.7243793,103.77753 4.1742783,103.46865 5.624854,103.167145 7.0758543,102.87266 8.527316,102.585075 9.979141,102.30429 11.431232,102.03015 12.883535,101.76257 14.336083,101.501366 15.788561,101.24664 17.241123,100.99801 18.693686,100.75571 20.146046,100.51961 21.598314,100.28951 23.05036,100.065926 24.502203,99.84838 25.953743,99.63718 27.404858,99.43246 28.8557,99.23399 30.3061,99.04234 31.755953,98.85748 33.205303,98.679436 34.654205,98.508736 36.10251,98.3457 37.55019,98.190254 38.997246,98.04308 40.443623,97.90464 41.889317,97.77543 43.334267,97.65586 44.778507,97.5467 46.22192,97.448875 47.66453,97.36313 49.106316,97.29082 50.547222,97.23252 51.987247,97.19071 53.426228,97.16587 54.864254,97.16084 56.301224,97.17751 57.73715,97.219284 59.171783,97.28862 60.605225,97.39017 62.03723,97.528885 63.467743,97.71037 64.896614,97.94261 66.32362,98.23469 67.74852,98.59877 69.170876,99.04976 70.59044,99.608 72.00648,100.30135 73.41826,101.16567 74.82477,102.252464 76.22439,103.63482 77.61498,105.42152 78.99322,107.779434 80.35394,110.97602 81.68847,115.4565 82.98216,121.99005 84.2075,131.90746 85.310844,147.19296 86.18482,168.91309 86.64513,-167.10045 86.52325,-147.8627 85.87027,-134.99367 84.88572,-126.64538 83.72362,-121.06041 82.46544,-117.16757 81.15208,-114.34909 79.80465,-112.246994 78.43493,-110.63936 77.04987,-109.38731 75.653854,-108.39811 74.249565,-107.60843 72.838974,-107.56238 72.74485,-106.48143 72.73116,-98.79147 72.46946,-91.97365 71.99493,-88.25089 71.63934,-84.35197 71.1957,-81.94652 70.88724,-79.19089 70.50304,-77.360214 70.230354,-75.13205 69.880196,-73.57041 69.62289,-71.57716 69.28012,-70.116394 69.01856,-68.170555 68.65631,-66.68277 68.36844,-64.61326 67.951706,-62.957985 67.60385,-60.54025 67.06981,-58.50022 66.59159,-55.32696 65.786644,-52.438736 64.97469,-47.434635 63.33632,-45.284603 62.520855,-45.284603 62.520855,))', 'url': \"https://s5phub.copernicus.eu/dhus/odata/v1/Products('f4ec123a-1954-486a-ae7e-754bec68283d')/$value\", 'Online': True, 'Creation Date': datetime.datetime(2020, 3, 26, 23, 40, 26, 771000), 'Ingestion Date': datetime.datetime(2020, 3, 26, 23, 35, 8, 900000), 'quicklook_url': \"https://s5phub.copernicus.eu/dhus/odata/v1/Products('f4ec123a-1954-486a-ae7e-754bec68283d')/Products('Quicklook')/$value\", 'path': 'data\\\\L2\\\\S5P_OFFL_L2__CO_____20200325T063013_20200325T081144_12682_01_010302_20200326T201525.nc', 'downloaded_bytes': 169089690}, 'd250d920-e8d3-4e7e-abf9-58f29150e9ec': {'id': 'd250d920-e8d3-4e7e-abf9-58f29150e9ec', 'title': 'S5P_OFFL_L2__CO_____20200303T064018_20200303T082149_12370_01_010302_20200306T082418', 'size': 172111603, 'md5': 'D4BC658E8BC54D4F2AD0FE5CB8F8F9F7', 'date': datetime.datetime(2020, 3, 3, 7, 1, 53), 'footprint': 'POLYGON((-29.070518 67.368996,-25.327732 67.86924,-21.433811 68.278,-17.413157 68.58971,-13.296962 68.80019,-9.12037 68.90644,-4.923615 68.90668,-0.74711406 68.80149,3.3697593 68.59175,7.390942 68.280876,11.285822 67.87295,15.029398 67.373436,18.604143 66.78819,21.998331 66.123215,25.206558 65.38531,28.227787 64.5805,31.065718 63.71533,33.725487 62.795067,36.21587 61.825428,38.54578 60.81123,40.725323 59.756916,42.764435 58.666576,44.673504 57.543785,46.462128 56.39181,48.1396 55.213432,49.714546 54.0114,51.19526 52.787716,52.58943 51.544807,53.903496 50.284214,55.14418 49.00769,56.317284 47.716534,57.428013 46.412216,58.48092 45.095562,59.48095 43.76796,60.43184 42.43016,61.337364 41.083153,62.200634 39.727425,63.024773 38.36381,63.81267 36.992958,64.566475 35.615192,65.28917 34.231422,65.9822 32.84176,66.647865 31.446804,67.28794 30.046993,67.90383 28.642492,68.49697 27.233688,69.068924 25.820974,69.62123 24.40462,70.154396 22.98481,70.66983 21.56181,71.16874 20.135952,71.651375 18.707165,72.1193 17.276043,72.57272 15.842366,73.01258 14.406556,73.43949 12.9687195,73.85441 11.5291395,74.25741 10.087692,74.649216 8.644743,75.03021 7.2002926,75.401146 5.7545924,75.76198 4.3076797,76.1133 2.8595498,76.45547 1.410512,76.78887 -0.039362222,77.11382 -1.4899814,77.43029 -2.9413693,77.738976 -4.393173,78.03983 -5.8455734,78.33313 -7.2983136,78.61873 -8.7514305,78.89715 -10.204794,79.16856 -11.65827,79.43296 -13.111827,79.69038 -14.565413,79.94112 -16.018877,80.18483 -17.472301,80.42205 -18.925457,80.65248 -20.378376,80.876114 -21.830997,81.09304 -23.283264,81.30316 -24.735065,81.50649 -26.186344,81.702835 -27.637142,81.89183 -29.087315,82.073654 -30.536907,82.24828 -31.985723,82.41495 -33.43387,82.57391 -34.881203,82.72443 -36.327717,82.86629 -37.773373,82.99913 -39.218086,83.12235 -40.66193,83.23566 -42.104717,83.33803 -43.54647,83.42908 -44.987152,83.507904 -46.426693,83.57319 -47.86507,83.62413 -49.302242,83.65949 -50.738117,83.67749 -52.17267,83.67637 -53.605858,83.65465 -55.037537,83.60902 -56.467712,83.53755 -57.896168,83.43616 -59.322887,83.30112 -60.747787,83.12822 -62.17046,82.90986 -63.591026,82.640205 -65.00907,82.30985 -66.424286,81.906815 -67.83635,81.41869 -69.24472,80.82546 -70.6488,80.10459 -72.04775,79.22335 -73.44038,78.14017 -74.82523,76.79451 -76.2001,75.10356 -77.56188,72.94783 -78.90605,70.14146 -80.22537,66.40886 -81.508804,61.301876 -82.73708,54.12792 -83.877655,43.84739 -84.87171,29.315107 -85.6186,10.589795 -85.978676,-9.233749 -85.84965,-25.960417 -85.2719,-38.1744 -84.382095,-46.69785 -83.3035,-52.694656 -82.113266,-57.022785 -80.85488,-60.23328 -79.55262,-62.676445 -78.22123,-64.57447 -76.8693,-66.0748 -75.50262,-67.277084 -74.12491,-68.25001 -72.73851,-69.0448 -71.34544,-69.09275 -71.25251,-70.14426 -71.366585,-77.90974 -71.99362,-85.25918 -72.25724,-89.44855 -72.26479,-93.93373 -72.15035,-96.72638 -72.00931,-99.92147 -71.77498,-102.02694 -71.57373,-104.55522 -71.27761,-106.29655 -71.03581,-108.47311 -70.68557,-110.03018 -70.39905,-112.04758 -69.97805,-113.54226 -69.62588,-115.54736 -69.092674,-117.08684 -68.63034,-119.23257 -67.898865,-120.95178 -67.23071,-123.47554 -66.09979,-125.635544 -64.97243,-129.1372 -62.78461,-130.56876 -61.745323,-130.56876 -61.745323,-133.02716 -62.71937,-135.65288 -63.645218,-138.45468 -64.51755,-141.43869 -65.33091,-144.60875 -66.07929,-147.96487 -66.75631,-151.50269 -67.35585,-155.2124 -67.87106,-159.07701 -68.2967,-163.0737 -68.626816,-167.17296 -68.85718,-171.3397 -68.98454,-175.5355 -69.00693,-179.71992 -68.92403,176.14725 -68.73707,172.1027 -68.44843,168.17778 -68.06279,164.39891 -67.584724,160.78555 -67.01987,157.35023 -66.37459,154.10007 -65.65504,151.03612 -64.868065,148.15675 -64.01926,145.45615 -63.114643,142.92708 -62.15952,140.56009 -61.158993,138.3452 -60.11769,136.27296 -59.03949,134.33243 -57.92834,132.5149 -56.7871,130.81017 -55.619072,129.20972 -54.42684,127.70489 -53.21251,126.288574 -51.978386,124.953606 -50.726265,123.69316 -49.457764,122.50144 -48.17449,121.373566 -46.877495,120.30382 -45.568153,119.28836 -44.247414,118.32263 -42.916264,117.403076 -41.57561,116.526405 -40.22612,115.68938 -38.86851,114.88938 -37.50342,114.123436 -36.131443,113.3894 -34.753067,112.68545 -33.368694,112.00909 -31.97892,111.35867 -30.584007,110.732895 -29.18437,110.12985 -27.780256,109.5482 -26.37212,108.98676 -24.960163,108.44431 -23.544655,107.919754 -22.125828,107.41208 -20.703976,106.920395 -19.279184,106.44402 -17.851706,105.98161 -16.421858,105.53306 -14.989639,105.09739 -13.555301,104.673935 -12.118993,104.262245 -10.680825,103.86157 -9.240998,103.47185 -7.7996087,103.0922 -6.356745,102.722336 -4.9126496,102.361946 -3.4673233,102.010666 -2.0208795,101.66784 -0.57346714,101.333466 0.8747942,101.007256 2.3239536,100.68876 3.7737129,100.37788 5.2240953,100.0747 6.67506,99.77803 8.126421,99.48881 9.578162,99.206345 11.030286,98.93065 12.482574,98.66121 13.934982,98.398384 15.387557,98.14205 16.840158,97.891846 18.292686,97.647865 19.745176,97.41023 21.197512,97.178505 22.649683,96.953415 24.101562,96.73424 25.553179,96.521576 27.004482,96.31511 28.455475,96.11507 29.905865,95.921715 31.355965,95.73492 32.80554,95.55521 34.254498,95.38276 35.702984,95.21756 37.150864,95.06021 38.59809,94.910866 40.04471,94.77019 41.49058,94.638466 42.935764,94.516396 44.380135,94.40462 45.823814,94.30397 47.26664,94.21503 48.708614,94.139145 50.14981,94.07722 51.590046,94.0307 53.029312,94.00153 54.467583,93.99115 55.90487,94.0023 57.341026,94.03672 58.776028,94.09893 60.209743,94.1915 61.64214,94.32009 63.07314,94.48982 64.5024,94.70772 65.92988,94.98267 67.35536,95.32625 68.778435,95.75237 70.19876,96.27998 71.61579,96.93416 73.02876,97.748 74.43678,98.768875 75.838356,100.06181 77.23162,101.72601 78.61351,103.90856 79.97952,106.841835 81.32214,110.91313 82.62876,116.78085 83.87645,125.59361 85.02079,139.18747 85.972336,159.23354 86.56738,-176.66531 86.612366,-155.69955 86.08813,-141.21237 85.17687,-131.82112 84.053535,-125.60326 82.817085,-121.3166 81.51655,-121.08013 81.42833,-118.94973 81.48604,-103.1983 81.552864,-89.343765 81.089615,-82.23687 80.63401,-75.28884 80.01491,-71.27329 79.56632,-66.92491 78.99528,-64.17883 78.58445,-60.981678 78.0525,-58.830723 77.659584,-56.186207 77.13476,-54.315872 76.73385,-51.907608 76.1788,-50.12637 75.73839,-47.72936 75.10266,-45.87561 74.57439,-43.263138 73.769264,-41.14234 73.056076,-37.988136 71.87598,-35.263638 70.71411,-30.852915 68.455246,-29.070518 67.368996,-29.070518 67.368996,))', 'url': \"https://s5phub.copernicus.eu/dhus/odata/v1/Products('d250d920-e8d3-4e7e-abf9-58f29150e9ec')/$value\", 'Online': True, 'Creation Date': datetime.datetime(2020, 3, 6, 12, 10, 5, 134000), 'Ingestion Date': datetime.datetime(2020, 3, 6, 12, 5, 9, 246000), 'quicklook_url': \"https://s5phub.copernicus.eu/dhus/odata/v1/Products('d250d920-e8d3-4e7e-abf9-58f29150e9ec')/Products('Quicklook')/$value\", 'path': 'data\\\\L2\\\\S5P_OFFL_L2__CO_____20200303T064018_20200303T082149_12370_01_010302_20200306T082418.nc', 'downloaded_bytes': 172111603}, 'f338981a-f969-40cd-a271-2ae72105f44b': {'id': 'f338981a-f969-40cd-a271-2ae72105f44b', 'title': 'S5P_OFFL_L2__CO_____20200302T065913_20200302T084044_12356_01_010302_20200305T084338', 'size': 177906093, 'md5': '079F32B0D1DFCD4265BB55850D7FE736', 'date': datetime.datetime(2020, 3, 2, 7, 20, 48), 'footprint': 'POLYGON((-32.81337 67.51454,-29.027206 67.99034,-25.095818 68.37279,-21.045588 68.65698,-16.90909 68.83897,-12.723464 68.916176,-8.528433 68.88738,-4.3646564 68.75316,-0.2708635 68.51524,3.7181087 68.177086,7.5731916 67.74337,11.271822 67.21974,14.797691 66.61195,18.140926 65.92637,21.297411 65.16942,24.267628 64.34737,27.055672 63.466415,29.66801 62.532215,32.113125 61.549854,34.40065 60.524235,36.54057 59.459743,38.54286 58.360016,40.418053 57.229103,42.175125 56.069572,43.82349 54.884453,45.371773 53.676228,46.82798 52.447254,48.199287 51.19929,49.492874 49.934258,50.714397 48.653564,51.869747 47.358677,52.96393 46.050716,54.0023 44.731186,54.98845 43.40081,55.926468 42.060356,56.819885 40.71078,57.67208 39.352833,58.486237 37.98729,59.264362 36.61443,60.00971 35.235172,60.723923 33.8497,61.40947 32.458687,62.067764 31.062302,62.700985 29.661127,63.310505 28.255442,63.897854 26.845592,64.46433 25.431965,65.01111 24.014538,65.539406 22.593884,66.050255 21.170082,66.54454 19.743412,67.023125 18.314028,67.48702 16.882187,67.93662 15.447931,68.37294 14.011581,68.79667 12.573291,69.208084 11.133118,69.60797 9.691329,69.99684 8.247958,70.375 6.8031745,70.743004 5.3570485,71.10139 3.9098737,71.45029 2.4616303,71.79004 1.012356,72.12106 -0.4377623,72.44357 -1.8885925,72.758064 -3.3400242,73.06442 -4.7921047,73.3633 -6.244505,73.65437 -7.697393,73.93801 -9.150584,74.21473 -10.603928,74.484116 -12.057379,74.74652 -13.511037,75.002106 -14.964552,75.25093 -16.418001,75.49304 -17.871277,75.72825 -19.324463,75.95678 -20.777292,76.17855 -22.22983,76.393585 -23.681889,76.6019 -25.133625,76.80327 -26.58479,76.99756 -28.035416,77.184845 -29.485418,77.36464 -30.934795,77.53706 -32.383427,77.70186 -33.83134,77.85822 -35.278465,78.00656 -36.724724,78.14605 -38.170135,78.27625 -39.614643,78.39699 -41.058144,78.50733 -42.50063,78.60681 -43.942097,78.6945 -45.382458,78.76972 -46.821655,78.83118 -48.259743,78.87804 -49.696533,78.90865 -51.132122,78.922035 -52.566277,78.915405 -53.99907,78.88747 -55.430332,78.83514 -56.860065,78.75565 -58.288113,78.64559 -59.714367,78.50096 -61.13861,78.315796 -62.560818,78.0843 -63.980705,77.79868 -65.397995,77.44989 -66.81246,77.025856 -68.22356,76.51033 -69.63086,75.88485 -71.03363,75.12294 -72.43095,74.19147 -73.82167,73.04245 -75.20403,71.61229 -76.5757,69.80847 -77.93323,67.49379 -79.27139,64.466255 -80.58227,60.409744 -81.85288,54.819427 -83.06127,46.908535 -84.1689,35.560204 -85.10722,19.762812 -85.762375,0.29392678 -85.993355,-19.020874 -85.73088,-34.51114 -85.05264,-45.591747 -84.10069,-53.315037 -82.985435,-58.782124 -81.77312,-62.758484 -80.50074,-65.72995 -79.189415,-68.00468 -77.851585,-69.7805 -76.495094,-71.19049 -75.12499,-72.32347 -73.74464,-73.24312 -72.35625,-73.99618 -70.96165,-74.04128 -70.86853,-75.07399 -70.98073,-82.688774 -71.59806,-89.88339 -71.85915,-93.983284 -71.86818,-98.37468 -71.757645,-101.111176 -71.62023,-104.24521 -71.39119,-106.31278 -71.19408,-108.79854 -70.9036,-110.51272 -70.66612,-112.65812 -70.32176,-114.19495 -70.03977,-116.1889 -69.62505,-117.668396 -69.27782,-119.65623 -68.75162,-121.18502 -68.29496,-123.31979 -67.57182,-125.03367 -66.9107,-127.55528 -65.790665,-129.71881 -64.67315,-133.23637 -62.502342,-134.67784 -61.47039,-134.67784 -61.47039,-137.09184 -62.45673,-139.67094 -63.39624,-142.4236 -64.283966,-145.35703 -65.11411,-148.47588 -65.88099,-151.78122 -66.5783,-155.2699 -67.19962,-158.93384 -67.738914,-162.75797 -68.18962,-166.72125 -68.54644,-170.79573 -68.80453,-174.94783 -68.96054,-179.13971 -69.011696,176.66867 -68.95769,172.51752 -68.79912,168.44495 -68.53839,164.48453 -68.178665,160.66321 -67.725426,157.00294 -67.183716,153.51758 -66.55997,150.2162 -65.86014,147.10095 -65.09111,144.17125 -64.25857,141.42229 -63.368633,138.8468 -62.426994,136.43602 -61.43862,134.1806 -60.40788,132.07018 -59.33942,130.09467 -58.236862,128.24432 -57.10353,126.509415 -55.942585,124.88125 -54.75665,123.35077 -53.54829,121.91097 -52.319374,120.55435 -51.071995,119.27408 -49.807835,118.0642 -48.5284,116.919174 -47.23506,115.83384 -45.928978,114.80378 -44.611332,113.82482 -43.282944,112.89309 -41.944733,112.00488 -40.597622,111.157326 -39.24214,110.34741 -37.879047,109.572495 -36.508877,108.83032 -35.13217,108.11806 -33.749413,107.43437 -32.361084,106.77697 -30.96757,106.14466 -29.569162,105.53535 -28.166307,104.94816 -26.759169,104.381386 -25.348215,103.83367 -23.93368,103.304474 -22.515697,102.79221 -21.09461,102.29628 -19.670668,101.81577 -18.243938,101.34955 -16.814684,100.89724 -15.383098,100.4581 -13.949307,100.03143 -12.513603,99.61646 -11.075868,99.21305 -9.636466,98.82033 -8.1954775,98.43796 -6.753069,98.065315 -5.3093214,97.70246 -3.864308,97.348495 -2.4181843,97.00338 -0.97100586,96.66688 0.47708237,96.338455 1.9259584,96.01787 3.3755672,95.70506 4.82581,95.39955 6.276614,95.10128 7.727872,94.81007 9.179546,94.52577 10.631529,94.24815 12.083758,93.97694 13.5361,93.71253 14.988624,93.454414 16.441217,93.20242 17.893772,92.95695 19.34623,92.71748 20.798622,92.48426 22.250824,92.257286 23.702799,92.03646 25.154516,91.82191 26.605875,91.61373 28.056877,91.411835 29.507494,91.21681 30.957632,91.02832 32.40735,90.84666 33.856464,90.67204 35.305115,90.505035 36.75312,90.34547 38.200493,90.19392 39.647213,90.05106 41.093292,89.916794 42.538677,89.792046 43.983276,89.67727 45.427143,89.57346 46.87017,89.481125 48.31238,89.401726 49.75372,89.335754 51.194237,89.284996 52.633812,89.25089 54.07229,89.23534 55.50983,89.239815 56.946316,89.26805 58.381596,89.32203 59.81569,89.406105 61.248398,89.52392 62.679745,89.68159 64.10948,89.885544 65.53749,90.144035 66.96354,90.46743 68.38726,90.86976 69.808334,91.36713 71.22635,91.98333 72.64052,92.7495 74.04991,93.70762 75.45342,94.918 76.84924,96.467766 78.2346,98.489265 79.60553,101.18612 80.9555,104.893234 82.273766,110.17807 83.54078,118.02769 84.71988,130.08986 85.73736,148.32564 86.451256,171.94527 86.66081,-165.59514 86.28004,-149.3594 85.454575,-138.77985 84.37684,-131.84181 83.16513,-127.11128 81.87913,-126.851326 81.79167,-124.634125 81.85545,-108.14253 81.95018,-93.62634 81.48558,-86.23037 81.01987,-79.05389 80.384964,-74.93462 79.924706,-70.498634 79.33902,-67.710526 78.91791,-64.47716 78.37304,-62.30933 77.97089,-59.652008 77.43409,-57.777687 77.02434,-55.37017 76.457466,-53.59352 76.00799,-51.207783 75.359665,-49.36654 74.82136,-46.77701 74.00165,-44.679287 73.276276,-41.566616 72.0775,-38.88495 70.89901,-34.55734 68.612335,-32.81337 67.51454,-32.81337 67.51454,))', 'url': \"https://s5phub.copernicus.eu/dhus/odata/v1/Products('f338981a-f969-40cd-a271-2ae72105f44b')/$value\", 'Online': True, 'Creation Date': datetime.datetime(2020, 3, 5, 12, 10, 3, 949000), 'Ingestion Date': datetime.datetime(2020, 3, 5, 12, 5, 9, 203000), 'quicklook_url': \"https://s5phub.copernicus.eu/dhus/odata/v1/Products('f338981a-f969-40cd-a271-2ae72105f44b')/Products('Quicklook')/$value\", 'path': 'data\\\\L2\\\\S5P_OFFL_L2__CO_____20200302T065913_20200302T084044_12356_01_010302_20200305T084338.nc', 'downloaded_bytes': 177906093}, '2ea7438c-15ee-4be2-a617-8232bba81ab0': {'id': '2ea7438c-15ee-4be2-a617-8232bba81ab0', 'title': 'S5P_OFFL_L2__CO_____20200301T071808_20200301T085939_12342_01_010302_20200304T090256', 'size': 174284076, 'md5': '864491D5EE7C4699A1BA9A972732281A', 'date': datetime.datetime(2020, 3, 1, 7, 39, 43), 'footprint': 'POLYGON((-36.53291 67.65561,-32.7042 68.10588,-28.736908 68.461426,-24.659327 68.71754,-20.50531 68.87056,-16.313042 68.91819,-12.122819 68.86007,-7.974832 68.69663,-3.9070513 68.430595,0.04736224 68.06547,3.8608916 67.606186,7.512587 67.05837,10.988184 66.42825,14.279625 65.722115,17.384115 64.946465,20.303097 64.10754,23.04171 63.211433,25.606524 62.263268,28.00686 61.26844,30.252234 60.23157,32.352966 59.156963,34.31889 58.048294,36.159973 56.908882,37.885967 55.74202,39.505768 54.55028,41.027843 53.336197,42.459663 52.10168,43.808582 50.84872,45.08152 49.579277,46.284176 48.294502,47.422104 46.996002,48.500416 45.68472,49.523464 44.361946,50.495945 43.02869,51.421272 41.68565,52.303146 40.333767,53.14438 38.973648,53.948154 37.605976,54.717026 36.231304,55.45347 34.85023,56.159435 33.463207,56.837307 32.070652,57.488533 30.672962,58.114964 29.270483,58.718197 27.86356,59.299675 26.452772,59.860664 25.038012,60.402046 23.619677,60.925385 22.198088,61.43145 20.77344,61.92143 19.346048,62.395912 17.915981,62.855614 16.483397,63.301647 15.0486145,63.734333 13.6117115,64.15469 12.172982,64.56273 10.732245,64.95961 9.290056,65.34537 7.8462453,65.72075 6.4011645,66.08603 4.954744,66.44136 3.507047,66.78789 2.05859,67.12516 0.6091301,67.453995 -0.8411152,67.77419 -2.2922025,68.08623 -3.7438245,68.39067 -5.1959395,68.68728 -6.6485476,68.97624 -8.101548,69.257904 -9.554781,69.53257 -11.008128,69.79999 -12.4616995,70.060715 -13.915198,70.31426 -15.36878,70.56127 -16.822168,70.80138 -18.27545,71.034676 -19.728548,71.26132 -21.181295,71.48138 -22.633701,71.69463 -24.085667,71.90089 -25.537228,72.10037 -26.988207,72.292694 -28.438719,72.47788 -29.888542,72.65575 -31.337688,72.82604 -32.78614,72.98827 -34.23387,73.14269 -35.68074,73.288475 -37.126804,73.425545 -38.57194,73.5532 -40.01611,73.67108 -41.459362,73.7783 -42.901623,73.87449 -44.342785,73.958855 -45.782875,74.03052 -47.221745,74.08782 -48.6595,74.130394 -50.09596,74.156525 -51.531105,74.16415 -52.96494,74.15175 -54.39732,74.11744 -55.828136,74.0578 -57.25742,73.970116 -58.684937,73.85094 -60.110638,73.69518 -61.53437,73.497955 -62.955948,73.25262 -64.375175,72.950386 -65.79171,72.58186 -67.20524,72.134056 -68.6154,71.59003 -70.02144,70.92945 -71.42279,70.12482 -72.81844,69.138535 -74.20706,67.91807 -75.58665,66.39527 -76.95487,64.464874 -78.30756,61.97686 -79.63913,58.7008 -80.94041,54.27826 -82.196465,48.136024 -83.38166,39.393154 -84.45081,26.87474 -85.323845,9.843718 -85.87448,-10.056179 -85.96916,-28.550564 -85.57774,-42.760418 -84.809715,-52.782158 -83.803314,-59.78102 -82.656,-64.77105 -81.42416,-68.427895 -80.1392,-71.17957 -78.81941,-73.30008 -77.475845,-74.963165 -76.11518,-76.28836 -74.742,-77.35643 -73.35915,-78.22606 -71.96888,-78.93814 -70.57264,-78.98045 -70.47948,-79.99486 -70.58986,-87.463425 -71.1977,-94.50839 -71.45629,-98.52181 -71.4667,-102.8224 -71.35989,-105.50437 -71.22598,-108.57892 -71.00204,-110.609436 -70.80893,-113.05343 -70.52393,-114.74082 -70.29064,-116.85531 -69.95201,-118.37195 -69.674446,-120.34235 -69.26586,-121.80643 -68.92347,-123.77656 -68.40416,-125.294205 -67.953094,-127.41724 -67.23819,-129.12502 -66.58403,-131.64322 -65.47482,-133.8091 -64.36713,-137.34053 -62.213352,-138.79112 -61.18877,-138.79112 -61.18877,-141.16092 -62.187187,-143.69368 -63.14013,-146.39706 -64.04282,-149.27963 -64.88972,-152.34645 -65.67477,-155.60031 -66.391914,-159.03865 -67.03519,-162.65515 -67.59779,-166.43675 -68.07359,-170.3638 -68.4572,-174.41043 -68.74325,-178.54465 -68.92794,177.27032 -69.008484,173.07448 -68.98369,168.90823 -68.85397,164.81007 -68.621346,160.81511 -68.288704,156.95276 -67.86093,153.2459 -67.343216,149.71088 -66.74155,146.35797 -66.062164,143.19061 -65.311874,140.20982 -64.49637,137.41127 -63.621845,134.78842 -62.693924,132.33263 -61.718044,130.03525 -60.69861,127.88535 -59.640285,125.87325 -58.546886,123.98907 -57.421833,122.22305 -56.268257,120.566124 -55.08894,119.009094 -53.88666,117.54532 -52.66313,116.1659 -51.420803,114.86502 -50.161144,113.6362 -48.885815,112.47361 -47.596207,111.37228 -46.293568,110.327576 -44.978947,109.33458 -43.653496,108.39006 -42.317944,107.4901 -40.97323,106.63157 -39.620003,105.81141 -38.25893,105.02708 -36.89069,104.27566 -35.51577,103.55538 -34.134716,102.86401 -32.74779,102.19949 -31.355688,101.56037 -29.958586,100.945045 -28.556839,100.35168 -27.15096,99.77917 -25.741064,99.2264 -24.327435,98.69199 -22.910465,98.1752 -21.490177,97.67486 -20.066975,97.19017 -18.640974,96.72013 -17.212425,96.26409 -15.781441,95.82134 -14.348284,95.39114 -12.913039,94.973114 -11.475893,94.56641 -10.037023,94.17083 -8.596379,93.78551 -7.1543846,93.41048 -5.7109585,93.04493 -4.266277,92.68848 -2.820433,92.341064 -1.3735015,92.001976 0.07426536,91.67142 1.5229771,91.34867 2.9723802,91.03374 4.4224668,90.726204 5.8730574,90.42597 7.32422,90.13282 8.775788,89.84651 10.22769,89.56713 11.679853,89.29431 13.132209,89.027885 14.584677,88.76782 16.037283,88.51428 17.48986,88.267044 18.942287,88.02565 20.394749,87.79096 21.84707,87.56226 23.299055,87.339714 24.750809,87.12352 26.20231,86.91353 27.653406,86.709915 29.104109,86.51285 30.554407,86.322624 32.00416,86.13877 33.45352,85.96247 34.902313,85.79321 36.35044,85.631386 37.798035,85.47773 39.244946,85.3321 40.691223,85.19547 42.13677,85.06804 43.581604,84.95055 45.025642,84.84351 46.46893,84.74797 47.91137,84.66479 49.352947,84.595085 50.79371,84.54 52.233456,84.50094 53.672295,84.47998 55.110104,84.4789 56.54687,84.50002 57.98251,84.546646 59.41692,84.62166 60.850056,84.72986 62.281727,84.87603 63.711964,85.06632 65.14051,85.30874 66.56705,85.61255 67.991455,85.99117 69.41333,86.46025 70.832214,87.04089 72.24751,87.761406 73.65839,88.66118 75.06371,89.7937 76.46186,91.2386 77.850464,93.11202 79.22591,95.594376 80.58251,98.975075 81.91114,103.74458 83.19513,110.74505 84.40411,121.43262 85.47701,137.81442 86.29458,160.3805 86.66289,-176.06583 86.43979,-157.98004 85.716606,-146.03561 84.69384,-138.25829 83.51166,-133.01866 82.24238,-132.73384 82.155754,-130.4232 82.22619,-113.11434 82.351654,-97.86208 81.885345,-90.15086 81.40841,-82.73201 80.75625,-78.50622 80.28339,-73.983376 79.682045,-71.15544 79.250046,-67.889786 78.69158,-65.70839 78.27975,-63.04289 77.7305,-61.16814 77.31159,-58.766186 76.73252,-56.99779 76.27374,-54.628304 75.61254,-52.803417 75.063995,-50.2422 74.22949,-48.17178 73.4918,-45.106712 72.27424,-42.47283 71.07912,-38.235714 68.76479,-36.53291 67.65561,-36.53291 67.65561,))', 'url': \"https://s5phub.copernicus.eu/dhus/odata/v1/Products('2ea7438c-15ee-4be2-a617-8232bba81ab0')/$value\", 'Online': True, 'Creation Date': datetime.datetime(2020, 3, 4, 12, 40, 5, 94000), 'Ingestion Date': datetime.datetime(2020, 3, 4, 12, 35, 5, 940000), 'quicklook_url': \"https://s5phub.copernicus.eu/dhus/odata/v1/Products('2ea7438c-15ee-4be2-a617-8232bba81ab0')/Products('Quicklook')/$value\", 'path': 'data\\\\L2\\\\S5P_OFFL_L2__CO_____20200301T071808_20200301T085939_12342_01_010302_20200304T090256.nc', 'downloaded_bytes': 174284076}, 'f40e42ee-ef11-4074-8fd4-28f8d369f3b3': {'id': 'f40e42ee-ef11-4074-8fd4-28f8d369f3b3', 'title': 'S5P_OFFL_L2__CO_____20200329T065604_20200329T083734_12739_01_010302_20200330T203852', 'size': 166982029, 'md5': '33F870A0EEFE2CD0171C1597B7ACC85C', 'date': datetime.datetime(2020, 3, 29, 7, 17, 38), 'footprint': 'POLYGON((-3.2250988 68.76948,0.87749404 68.54268,4.8789215 68.215355,8.749363 67.791855,12.465485 67.27776,16.010168 66.678825,19.373352 66.001396,22.550219 65.25212,25.540241 64.43681,28.347576 63.56211,30.978636 62.633537,33.44156 61.656315,35.745728 60.6352,37.900997 59.57468,39.917973 58.478836,41.806484 57.35119,43.575893 56.19463,45.235943 55.01232,46.794685 53.806538,48.26054 52.57968,49.640923 51.33374,50.94272 50.070606,52.17179 48.791534,53.333942 47.498074,54.435047 46.19175,55.479134 44.8734,56.47089 43.544147,57.414146 42.204838,58.312283 40.85626,59.1691 39.49931,59.98714 38.134518,60.76936 36.76256,61.51807 35.383904,62.235695 33.999157,62.924137 32.60865,63.585682 31.21299,64.221596 29.812386,64.8337 28.407217,65.423645 26.99792,65.99223 25.584597,66.541275 24.16772,67.07155 22.74739,67.58424 21.323917,68.080475 19.897638,68.56077 18.468554,69.02626 17.036943,69.47756 15.603063,69.91539 14.16699,70.340454 12.728894,70.75327 11.28893,71.15443 9.8473,71.544525 8.404212,71.92398 6.9596,72.29309 5.5136795,72.65256 4.066616,73.00267 2.6185694,73.34326 1.1693244,73.67544 -0.28063965,73.99906 -1.7313246,74.31429 -3.182697,74.6217 -4.6346602,74.92131 -6.086986,75.21342 -7.539824,75.49793 -8.992915,75.77544 -10.446249,76.04566 -11.8996935,76.30908 -13.353188,76.56544 -14.806736,76.814926 -16.26025,77.05778 -17.713531,77.29389 -19.166655,77.52344 -20.61941,77.74605 -22.071945,77.96209 -23.524002,78.17091 -24.975765,78.37325 -26.426962,78.56856 -27.877615,78.75655 -29.327644,78.93748 -30.777048,79.110794 -32.225708,79.276474 -33.673683,79.43387 -35.12091,79.58334 -36.5672,79.72385 -38.01273,79.855385 -39.457226,79.97719 -40.900864,80.08882 -42.343437,80.18958 -43.78502,80.27865 -45.225506,80.355484 -46.66478,80.4186 -48.103027,80.46727 -49.539944,80.500175 -50.975597,80.51541 -52.409885,80.511765 -53.842762,80.486176 -55.27425,80.43671 -56.70412,80.36087 -58.132305,80.25474 -59.55871,80.114204 -60.983215,79.93378 -62.405655,79.70822 -63.825798,79.42964 -65.24342,79.08857 -66.65812,78.67368 -68.06964,78.16989 -69.47739,77.557976 -70.880714,76.814964 -72.27872,75.90356 -73.67022,74.78224 -75.05366,73.38789 -76.4267,71.63234 -77.786064,69.38451 -79.12682,66.450935 -80.441315,62.52867 -81.71742,57.141613 -82.934395,49.536263 -84.05609,38.626217 -85.01812,23.326336 -85.71182,4.105502 -85.99535,-15.4669695 -85.78543,-31.467323 -85.14566,-42.993286 -84.217155,-51.025932 -83.11575,-56.69462 -81.91154,-58.90812 -81.284325,-60.85653 -81.4898,-77.32839 -82.60416,-95.28753 -82.93624,-105.52749 -82.79045,-115.70869 -82.371666,-121.44079 -81.98065,-127.34844 -81.41635,-130.8568 -80.977776,-134.67908 -80.38115,-137.07599 -79.92497,-139.81891 -79.30076,-141.6191 -78.8154,-143.7639 -78.1347,-145.22456 -77.5894,-147.02359 -76.79723,-148.28787 -76.13677,-149.89372 -75.13095,-151.06033 -74.24491,-152.6031 -72.797554,-153.78706 -71.402374,-155.49928 -68.7846,-156.14279 -67.57022,-156.14279 -67.57022,-159.9165 -68.050186,-163.83693 -68.43789,-167.87802 -68.72846,-172.0085 -68.91758,-176.19106 -69.00283,179.6135 -68.98277,175.44586 -68.857864,171.34459 -68.62984,167.34528 -68.301605,163.47694 -67.878204,159.76321 -67.36447,156.22073 -66.766556,152.8591 -66.09095,149.68434 -65.343544,146.69525 -64.53106,143.88872 -63.659176,141.25821 -62.733795,138.79541 -61.75995,136.49074 -60.742676,134.33443 -59.686142,132.31653 -58.594246,130.42653 -57.470734,128.65515 -56.318573,126.99349 -55.140484,125.432274 -53.93913,123.96378 -52.71678,122.58088 -51.475277,121.27649 -50.216484,120.04421 -48.94196,118.87869 -47.65304,117.77457 -46.351048,116.72711 -45.037064,115.73172 -43.712193,114.78513 -42.377125,113.88321 -41.03284,113.022545 -39.680126,112.200775 -38.319496,111.41441 -36.95161,110.66159 -35.577053,109.939766 -34.196243,109.246956 -32.80976,108.58122 -31.41787,107.94082 -30.02106,107.3243 -28.61963,106.72988 -27.213953,106.15634 -25.804321,105.60273 -24.390944,105.06744 -22.974098,104.54978 -21.554043,104.0485 -20.131044,103.56282 -18.705269,103.092186 -17.2768,102.63536 -15.846018,102.19199 -14.413012,101.761154 -12.977943,101.342384 -11.540898,100.93527 -10.102098,100.53901 -8.661693,100.15313 -7.2197394,99.777435 -5.7764153,99.4114 -4.3318133,99.05446 -2.886079,98.70645 -1.4393044,98.367065 0.008490817,98.03584 1.4570483,97.71274 2.9063847,97.39722 4.356348,97.08948 5.8070073,96.788574 7.2579956,96.49518 8.709583,96.20848 10.161395,95.9286 11.613541,95.65531 13.065835,95.388466 14.518313,95.128235 15.970824,94.87428 17.423399,94.62645 18.875862,94.38491 20.328241,94.149635 21.780445,93.92053 23.232504,93.697525 24.684242,93.4809 26.13569,93.27046 27.58677,93.06645 29.03751,92.869064 30.487864,92.67819 31.937647,92.49418 33.386917,92.317154 34.835693,92.14753 36.283855,91.98524 37.73143,91.83098 39.178394,91.684845 40.62473,91.547485 42.07027,91.41952 43.515125,91.30125 44.959225,91.19366 46.40248,91.09728 47.844967,91.013245 49.28664,90.942535 50.727386,90.88641 52.167168,90.84653 53.606068,90.82426 55.043953,90.82191 56.48077,90.84169 57.91648,90.88683 59.350903,90.95974 60.784176,91.06593 62.21598,91.20965 63.646255,91.39716 65.07486,91.6367 66.501564,91.93708 67.926125,92.310555 69.34821,92.77419 70.767235,93.34738 72.1828,94.06024 73.59401,94.94967 74.99966,96.06891 76.398285,97.49503 77.78746,99.34269 79.1638,101.78878 80.52169,105.11663 81.852066,109.80221 83.13901,116.671646 84.352715,127.14145 85.43491,134.359 85.893105,132.22769 86.17935,100.44235 87.903625,39.875805 87.85904,19.586807 87.02762,8.525486 85.89092,4.431297 85.11271,1.2127142 84.16902,-0.32670134 83.515724,-1.734897 82.694916,-2.4837308 82.10371,-3.2144096 81.330666,-3.6174064 80.751205,-4.010411 79.96244,-4.2167144 79.34631,-4.3902435 78.47022,-4.4494658 77.753044,-4.4352603 76.677574,-4.352293 75.7419,-4.13729 74.22733,-3.8890827 72.77468,-3.4219892 70.045044,-3.2250988 68.76948,-3.2250988 68.76948,))', 'url': \"https://s5phub.copernicus.eu/dhus/odata/v1/Products('f40e42ee-ef11-4074-8fd4-28f8d369f3b3')/$value\", 'Online': True, 'Creation Date': datetime.datetime(2020, 3, 31, 0, 10, 29, 257000), 'Ingestion Date': datetime.datetime(2020, 3, 31, 0, 5, 15, 758000), 'quicklook_url': \"https://s5phub.copernicus.eu/dhus/odata/v1/Products('f40e42ee-ef11-4074-8fd4-28f8d369f3b3')/Products('Quicklook')/$value\", 'path': 'data\\\\L2\\\\S5P_OFFL_L2__CO_____20200329T065604_20200329T083734_12739_01_010302_20200330T203852.nc', 'downloaded_bytes': 166982029}, '78086704-d34b-4445-9a8b-1f3734e3cc85': {'id': '78086704-d34b-4445-9a8b-1f3734e3cc85', 'title': 'S5P_OFFL_L2__CO_____20200327T073354_20200327T091524_12711_01_010302_20200328T211656', 'size': 171487558, 'md5': 'FCB1DF669988D968E1D37092F89097F0', 'date': datetime.datetime(2020, 3, 27, 7, 55, 28), 'footprint': 'POLYGON((-62.60873 61.94285,-60.097443 62.90683,-57.415817 63.820686,-54.555588 64.67902,-51.51094 65.47577,-48.279743 66.20524,-44.862362 66.860535,-41.266205 67.43565,-37.503105 67.92422,-33.591465 68.32019,-29.557106 68.61872,-25.43126 68.81556,-21.250927 68.90785,-17.055485 68.8942,-12.885426 68.774994,-8.780079 68.55182,-4.774641 68.22778,-0.8992146 67.80767,2.8224356 67.29657,6.373325 66.70044,9.742696 66.02557,12.925949 65.27866,15.92246 64.46582,18.736126 63.592968,21.373014 62.666134,23.841553 61.690502,26.150991 60.670845,28.31149 59.611774,30.333014 58.517082,32.22566 57.39033,33.999367 56.23493,35.66272 55.05336,37.225235 53.84851,38.694126 52.622334,40.077427 51.37709,41.38163 50.114414,42.613102 48.835857,43.77793 47.543148,44.880848 46.23708,45.926754 44.91911,46.92025 43.590218,47.865005 42.25122,48.76482 40.902996,49.623096 39.546352,50.44256 38.181957,51.225925 36.81014,51.97563 35.431644,52.69449 34.047245,53.383976 32.656906,54.046436 31.261425,54.68319 29.860928,55.2962 28.455986,55.8866 27.04668,56.456135 25.633612,57.005753 24.216797,57.536766 22.796646,58.04993 21.373226,58.546654 19.946987,59.027615 18.51805,59.49367 17.086573,59.945297 15.652696,60.38359 14.216669,60.809204 12.778687,61.22235 11.338825,61.624023 9.897286,62.01443 8.454151,62.394127 7.009587,62.763786 5.563791,63.123543 4.1167455,63.4738 2.668624,63.814953 1.2195456,64.14733 -0.23038255,64.471085 -1.6812065,64.786804 -3.1323953,65.09439 -4.584377,65.3944 -6.0366964,65.686554 -7.4895353,65.97147 -8.942589,66.24904 -10.39593,66.51967 -11.849313,66.78317 -13.302845,67.03985 -14.756363,67.2896 -16.209866,67.53275 -17.66316,67.76903 -19.11628,67.998665 -20.569096,68.22151 -22.02164,68.4377 -23.473757,68.647026 -24.925497,68.849495 -26.376719,69.04504 -27.827341,69.233154 -29.277468,69.41434 -30.726845,69.587776 -32.175617,69.753845 -33.623558,69.91174 -35.070766,70.061104 -36.517197,70.20208 -37.962654,70.33398 -39.40723,70.45598 -40.850918,70.56804 -42.293526,70.66913 -43.735104,70.7586 -45.17567,70.83601 -46.615,70.899864 -48.05318,70.948906 -49.490204,70.98217 -50.9259,70.99824 -52.360214,70.994865 -53.793213,70.970276 -55.22472,70.92196 -56.65461,70.84706 -58.082874,70.741875 -59.509373,70.60247 -60.933914,70.42394 -62.356476,70.19975 -63.776695,69.92314 -65.19438,69.584206 -66.609245,69.17239 -68.02091,68.6719 -69.428795,68.06437 -70.83225,67.32507 -72.23046,66.4209 -73.622246,65.30825 -75.006004,63.924625 -76.379486,62.183052 -77.73939,59.953598 -79.080826,57.04866 -80.39647,53.166588 -81.67413,47.83998 -82.893555,40.329308 -84.01953,29.551947 -84.98851,14.412056 -85.69371,-4.715727 -85.99349,-24.35346 -85.80048,-40.508778 -85.173195,-52.177242 -84.25248,-60.308083 -83.15537,-66.04504 -81.954124,-70.19897 -80.688614,-70.549034 -80.559555,-72.396255 -80.75289,-87.61722 -81.79866,-103.771164 -82.12543,-113.00735 -82.0088,-122.35739 -81.641884,-127.73835 -81.28998,-133.39883 -80.77332,-136.82431 -80.36649,-140.61716 -79.807335,-143.03079 -79.37615,-145.82884 -78.781944,-147.68765 -78.31708,-149.92744 -77.661606,-151.46982 -77.134,-153.3905 -76.3642,-154.75569 -75.71983,-156.51036 -74.73492,-157.8012 -73.8644,-159.53104 -72.43802,-160.87685 -71.059296,-162.84914 -68.4659,-163.59682 -67.26087,-163.59682 -67.26087,-167.27895 -67.79037,-171.11937 -68.23091,-175.09601 -68.57686,-179.18025 -68.82372,176.66183 -68.96818,172.46857 -69.00776,168.28018 -68.94198,164.13672 -68.77186,160.07556 -68.4998,156.12979 -68.12963,152.32607 -67.6663,148.68463 -67.1154,145.22014 -66.48272,141.93939 -65.77516,138.84529 -64.998764,135.93642 -64.15954,133.20714 -63.26388,130.65018 -62.31683,128.25752 -61.32348,126.01889 -60.288456,123.923615 -59.21627,121.96255 -58.110188,120.125435 -56.97371,118.40276 -55.80992,116.785484 -54.62154,115.26573 -53.410793,113.835236 -52.179867,112.48717 -50.930676,111.215126 -49.664665,110.01255 -48.38375,108.87427 -47.08902,107.79532 -45.78167,106.77104 -44.46284,105.7974 -43.13334,104.87053 -41.79424,103.98713 -40.446194,103.14376 -39.089855,102.337585 -37.726055,101.56622 -36.35518,100.827225 -34.97783,100.11828 -33.59455,99.43745 -32.205654,98.78299 -30.811567,98.153145 -29.412727,97.54617 -28.009405,96.961136 -26.601923,96.39635 -25.190628,95.85083 -23.7757,95.3233 -22.357477,94.81287 -20.93607,94.3187 -19.511814,93.83947 -18.084873,93.374954 -16.655384,92.92409 -15.223577,92.486176 -13.789665,92.0608 -12.35368,91.64706 -10.915866,91.244644 -9.47633,90.85307 -8.035221,90.47173 -6.5926366,90.10035 -5.1487765,89.73814 -3.703643,89.3852 -2.2574484,89.04091 -0.8102294,88.7052 0.6379268,88.37753 2.086885,88.05775 3.5364506,87.74562 4.9867635,87.440765 6.437545,87.14332 7.888836,86.85273 9.340517,86.569145 10.792489,86.29199 12.24474,86.021576 13.697129,85.75767 15.149617,85.49999 16.602177,85.248795 18.054693,85.00367 19.507122,84.765 20.959509,84.53238 22.411644,84.305786 23.863518,84.085686 25.315199,83.871765 26.76649,83.66399 28.217472,83.46271 29.667967,83.26815 31.118063,83.08021 32.567677,82.899254 34.01679,82.7253 35.4653,82.55888 36.913242,82.40002 38.360554,82.24931 39.80718,82.10699 41.253136,81.97354 42.6984,81.84977 44.14293,81.73595 45.586674,81.633255 47.029675,81.54221 48.471813,81.463554 49.913063,81.39913 51.353367,81.349785 52.79275,81.31728 54.23123,81.30349 55.668674,81.310486 57.104916,81.34085 58.54021,81.397705 59.974106,81.4844 61.40674,81.60609 62.83792,81.768 64.26749,81.97703 65.69528,82.24124 67.12109,82.57189 68.54464,82.98245 69.96547,83.49145 71.38308,84.12107 72.79687,84.90455 74.20583,85.886024 75.608635,87.12638 77.00351,88.71978 78.38763,90.80085 79.756805,93.586105 81.10417,97.42879 82.418304,102.93421 83.678276,111.150475 84.84456,123.80613 85.837845,142.79097 86.50677,166.70677 86.65142,-171.36826 86.21085,-155.84184 85.34851,-145.7564 84.25115,-139.12369 83.02855,-134.58176 81.73612,-131.34648 80.40189,-128.96078 79.040955,-127.15627 77.66205,-125.76104 76.2705,-124.6652 74.86957,-123.79394 73.46163,-123.09589 72.048225,-123.03395 71.90672,-122.0023 71.88944,-114.66714 71.610535,-108.15694 71.13312,-104.59379 70.78088,-100.85287 70.344505,-98.53943 70.04242,-95.88357 69.6673,-94.11568 69.401695,-91.96002 69.06126,-90.44656 68.81149,-88.51161 68.4792,-87.091225 68.22594,-85.196075 67.87552,-83.74463 67.597305,-81.72214 67.19486,-80.10148 66.85914,-77.72938 66.34394,-75.72315 65.88264,-72.59347 65.10582,-69.73479 64.32133,-64.75736 62.734596,-62.60873 61.94285,-62.60873 61.94285,))', 'url': \"https://s5phub.copernicus.eu/dhus/odata/v1/Products('78086704-d34b-4445-9a8b-1f3734e3cc85')/$value\", 'Online': True, 'Creation Date': datetime.datetime(2020, 3, 29, 1, 10, 14, 394000), 'Ingestion Date': datetime.datetime(2020, 3, 29, 1, 5, 9, 769000), 'quicklook_url': \"https://s5phub.copernicus.eu/dhus/odata/v1/Products('78086704-d34b-4445-9a8b-1f3734e3cc85')/Products('Quicklook')/$value\", 'path': 'data\\\\L2\\\\S5P_OFFL_L2__CO_____20200327T073354_20200327T091524_12711_01_010302_20200328T211656.nc', 'downloaded_bytes': 171487558}, '315b2da8-f832-434c-92ef-565c4d6e2c1d': {'id': '315b2da8-f832-434c-92ef-565c4d6e2c1d', 'title': 'S5P_OFFL_L2__CO_____20200323T070803_20200323T084933_12654_01_010302_20200324T205359', 'size': 169291935, 'md5': '96EF4E12823164A61A90DD54A026C5D0', 'date': datetime.datetime(2020, 3, 23, 7, 29, 37), 'footprint': 'POLYGON((-53.288963 63.075035,-50.575855 63.979404,-47.682472 64.82696,-44.60456 65.61222,-41.339725 66.32881,-37.889896 66.970314,-34.262615 67.53038,-30.471003 68.00263,-26.535362 68.38151,-22.48206 68.66204,-18.34352 68.840324,-14.157371 68.91365,-9.963415 68.88116,-5.8021502 68.74311,-1.712171 68.501564,2.271923 68.160034,6.121502 67.72314,9.813537 67.196266,13.332578 66.58569,16.668919 65.8974,19.818396 65.13805,22.78182 64.31395,25.563402 63.431274,28.169783 62.49542,30.608906 61.51138,32.89093 60.484394,35.025757 59.41866,37.023445 58.317924,38.894093 57.18585,40.647255 56.025494,42.29201 54.839565,43.83703 53.630726,45.29001 52.40101,46.658623 51.152454,47.94944 49.886883,49.16848 48.605606,50.32168 47.31035,51.413963 46.002113,52.450546 44.682236,53.43487 43.35141,54.3712 42.010635,55.263374 40.66088,56.11434 39.30279,56.927166 37.936966,57.704266 36.563965,58.448498 35.18444,59.161476 33.798733,59.846157 32.40758,60.503788 31.011116,61.136154 29.609823,61.745007 28.204067,62.331573 26.794073,62.897408 25.380297,63.443684 23.96289,63.97146 22.542131,64.48164 21.11825,64.975365 19.69147,65.45358 18.262043,65.91691 16.830145,66.366325 15.395933,66.802246 13.959557,67.22549 12.521199,67.6366 11.081033,68.03614 9.639188,68.4247 8.195808,68.80256 6.7510166,69.17033 5.3049498,69.52837 3.8577406,69.876915 2.4094338,70.2165 0.9602139,70.547386 -0.48986307,70.8697 -1.940709,71.183914 -3.3921335,71.490166 -4.844127,71.78865 -6.2966075,72.07961 -7.7494564,72.36313 -9.20259,72.63947 -10.65595,72.90883 -12.109417,73.17112 -13.562908,73.426384 -15.016477,73.67522 -16.469828,73.91704 -17.923143,74.15205 -19.376247,74.3806 -20.828999,74.60222 -22.281496,74.81701 -23.7336,75.02536 -25.185173,75.22654 -26.6363,75.42054 -28.086926,75.607704 -29.536867,75.78737 -30.98614,75.95966 -32.43474,76.124146 -33.88261,76.28055 -35.329647,76.428566 -36.775936,76.56764 -38.221294,76.69797 -39.66571,76.818504 -41.109116,76.92836 -42.551594,77.02755 -43.99305,77.11478 -45.433395,77.18982 -46.87253,77.25093 -48.31055,77.297356 -49.747337,77.32766 -51.18277,77.34011 -52.616917,77.332985 -54.049614,77.30446 -55.480854,77.25139 -56.910458,77.17162 -58.338413,77.06033 -59.764576,76.9145 -61.188793,76.72798 -62.610947,76.49524 -64.0307,76.208435 -65.44792,75.85754 -66.86219,75.43053 -68.27323,74.91244 -69.680405,74.28327 -71.08297,73.51675 -72.48014,72.5793 -73.8706,71.42324 -75.252716,69.982506 -76.62401,68.16496 -77.981026,65.8317 -79.31851,62.7767 -80.62842,58.67697 -81.89749,53.02412 -83.103386,45.01655 -84.20689,33.526127 -85.13807,17.562883 -85.7811,-1.9921389 -85.99541,-21.233618 -85.71621,-36.570198 -85.02576,-47.51484 -84.06628,-55.14312 -82.94662,-60.54513 -81.73141,-64.47762 -80.45714,-67.41896 -79.14449,-67.58875 -79.05618,-69.24529 -79.22896,-82.39543 -80.16242,-95.82008 -80.47824,-103.51103 -80.40441,-111.480385 -80.11739,-116.20737 -79.82838,-121.33109 -79.39145,-124.522224 -79.03973,-128.14795 -78.54767,-130.51143 -78.16257,-133.31183 -77.62509,-135.21121 -77.1999,-137.54515 -76.59436,-139.18367 -76.10252,-141.26347 -75.378845,-142.77098 -74.76837,-144.74815 -73.828415,-146.23372 -72.992004,-148.26906 -71.61273,-149.88872 -70.27181,-152.31606 -67.735634,-153.25043 -66.552864,-153.25043 -66.552864,-156.73277 -67.17702,-160.39014 -67.71912,-164.20882 -68.17289,-168.16727 -68.53306,-172.23793 -68.79461,-176.38756 -68.95413,179.42169 -69.00897,175.22986 -68.95861,171.07748 -68.803604,167.0021 -68.54609,163.03767 -68.18991,159.2116 -67.73986,155.54585 -67.20117,152.05453 -66.58023,148.74686 -65.8831,145.62566 -65.116135,142.68967 -64.28595,139.93474 -63.398033,137.35353 -62.45811,134.93756 -61.47117,132.67659 -60.4421,130.56122 -59.374954,128.58173 -58.273483,126.72648 -57.141388,124.98794 -55.981388,123.3559 -54.79643,121.82253 -53.58874,120.37965 -52.36061,119.01975 -51.114014,117.73716 -49.850346,116.524796 -48.57146,115.37743 -47.27876,114.29021 -45.973118,113.25823 -44.655815,112.277565 -43.32787,111.34394 -41.990128,110.454254 -40.64332,109.605194 -39.288174,108.79382 -37.9254,108.01752 -36.555546,107.27388 -35.179146,106.560585 -33.796642,105.87604 -32.40847,105.21783 -31.015162,104.5845 -29.616934,103.97443 -28.214226,103.38617 -26.807392,102.818535 -25.396599,102.27035 -23.982182,101.74033 -22.564362,101.22739 -21.143446,100.73076 -19.71964,100.24975 -18.29299,99.7829 -16.86392,99.330185 -15.432439,98.89049 -13.998766,98.463196 -12.563091,98.04789 -11.125537,97.64396 -9.686216,97.25088 -8.245315,96.86792 -6.803002,96.49518 -5.3592606,96.13175 -3.914324,95.7775 -2.46832,95.43202 -1.0211728,95.095116 0.42681992,94.766335 1.8756537,94.44543 3.3251915,94.132225 4.775357,93.82651 6.226092,93.52792 7.6773386,93.23629 9.128943,92.95173 10.580878,92.67371 12.033075,92.40241 13.485425,92.13748 14.937919,91.87904 16.390469,91.626854 17.842997,91.38094 19.29543,91.14117 20.74779,90.90777 22.199974,90.68042 23.651903,90.45934 25.103613,90.24455 26.554958,90.03607 28.005947,89.833824 29.456533,89.63843 30.906734,89.44955 32.356365,89.26753 33.80542,89.09236 35.25413,88.92496 36.70212,88.764984 38.149563,88.613266 39.596264,88.46949 41.04236,88.335045 42.48771,88.209625 43.932323,88.09449 45.376225,87.99012 46.81924,87.89722 48.261497,87.81683 49.702858,87.75028 51.143368,87.69895 52.5829,87.66377 54.021496,87.64722 55.4591,87.65085 56.895554,87.677826 58.330833,87.730576 59.764977,87.8129 61.197834,87.92924 62.629192,88.08528 64.059,88.28691 65.4871,88.54265 66.91316,88.86308 68.33704,89.26127 69.758255,89.75456 71.17637,90.365135 72.59075,91.12445 74.00043,92.073364 75.40422,93.27284 76.80035,94.80757 78.186195,96.8065 79.55782,99.472496 80.908905,103.13156 82.22879,108.34291 83.49847,116.07322 84.68206,127.95034 85.707695,145.95557 86.43628,169.49113 86.66716,-167.86133 86.30563,-151.38557 85.491844,-140.64017 84.42022,-133.60292 83.2117,-128.81477 81.9274,-125.42181 80.59814,-122.93233 79.24058,-121.054695 77.86391,-119.60722 76.47396,-118.47223 75.07433,-117.57173 73.66728,-117.51907 73.573395,-116.38423 73.56356,-108.30509 73.32017,-101.15021 72.848305,-97.25361 72.48879,-93.18384 72.037,-90.67964 71.72148,-87.817696 71.32731,-85.92061 71.04692,-83.61628 70.6862,-82.00438 70.42075,-79.95078 70.0667,-78.44851 69.796265,-76.451 69.42137,-74.9265 69.12323,-72.80997 68.69135,-71.1205 68.33067,-68.658356 67.77681,-66.58609 67.28086,-63.37262 66.44661,-60.45877 65.6062,-55.43637 63.91473,-53.288963 63.075035,-53.288963 63.075035,))', 'url': \"https://s5phub.copernicus.eu/dhus/odata/v1/Products('315b2da8-f832-434c-92ef-565c4d6e2c1d')/$value\", 'Online': True, 'Creation Date': datetime.datetime(2020, 3, 25, 0, 40, 3, 149000), 'Ingestion Date': datetime.datetime(2020, 3, 25, 0, 35, 15, 612000), 'quicklook_url': \"https://s5phub.copernicus.eu/dhus/odata/v1/Products('315b2da8-f832-434c-92ef-565c4d6e2c1d')/Products('Quicklook')/$value\", 'path': 'data\\\\L2\\\\S5P_OFFL_L2__CO_____20200323T070803_20200323T084933_12654_01_010302_20200324T205359.nc', 'downloaded_bytes': 169291935}, '4b712a0f-4a50-47d9-bc7c-3801dc455826': {'id': '4b712a0f-4a50-47d9-bc7c-3801dc455826', 'title': 'S5P_OFFL_L2__CO_____20200312T071305_20200312T085435_12498_01_010302_20200315T090114', 'size': 170568074, 'md5': 'E5A0EF2A0B3923EE369B61CBBAE53924', 'date': datetime.datetime(2020, 3, 12, 7, 34, 39), 'footprint': 'POLYGON((-45.689754 65.73043,-42.39527 66.43556,-38.916992 67.06473,-35.262695 67.611374,-31.446852 68.06922,-27.490664 68.43294,-23.421616 68.69765,-19.273058 68.85935,-15.082785 68.915985,-10.891266 68.86673,-6.7385907 68.71226,-2.663104 68.45476,1.3016846 68.09776,5.127404 67.646194,8.793363 67.10573,12.283991 66.48239,15.59107 65.78254,18.711277 65.012695,21.645489 64.17885,24.39895 63.287346,26.978151 62.34344,29.392052 61.352467,31.650204 60.319096,33.762817 59.247616,35.73969 58.14163,37.59101 57.00482,39.32652 55.840256,40.95506 54.650715,42.48489 53.438225,43.924133 52.20545,45.28005 50.954197,46.559097 49.685974,47.76743 48.402515,48.910683 47.105087,49.994038 45.79504,51.021854 44.47326,51.998363 43.140812,52.927673 41.79865,53.813103 40.447525,54.657734 39.088043,55.464565 37.720985,56.236534 36.347046,56.975677 34.96654,57.684155 33.579937,58.36435 32.187847,59.018005 30.79071,59.646523 29.388653,60.25163 27.982117,60.835007 26.571663,61.39764 25.157219,61.94075 23.739183,62.465614 22.317934,62.97339 20.893654,63.464565 19.46647,63.940334 18.036558,64.401405 16.604235,64.84841 15.169598,65.28237 13.73294,65.703606 12.294292,66.11294 10.853869,66.51052 9.411722,66.897484 7.968128,67.27362 6.5230613,67.64 5.0769258,67.99636 3.629421,68.343445 2.1809766,68.68165 0.7315756,69.01116 -0.7186213,69.33213 -2.16959,69.64522 -3.6210506,69.95006 -5.0731864,70.24739 -6.525734,70.53714 -7.978603,70.81956 -9.431749,71.09477 -10.885136,71.36291 -12.338674,71.624115 -13.792193,71.87846 -15.245684,72.125946 -16.699106,72.36662 -18.15244,72.60074 -19.605463,72.82813 -21.058195,73.048706 -22.510647,73.26253 -23.962675,73.46948 -25.41421,73.66964 -26.865253,73.86272 -28.315762,74.04865 -29.765602,74.22709 -31.214848,74.39828 -32.663364,74.56131 -34.111095,74.71631 -35.558064,74.86303 -37.004135,75.000885 -38.449398,75.12935 -39.893707,75.24818 -41.336983,75.356514 -42.779316,75.45374 -44.220573,75.5393 -45.660732,75.61193 -47.09969,75.67096 -48.53752,75.71475 -49.974125,75.742676 -51.40936,75.75177 -52.843327,75.74166 -54.275814,75.709366 -55.706783,75.65205 -57.136196,75.56721 -58.56385,75.45113 -59.98978,75.29892 -61.413654,75.10551 -62.835426,74.86474 -64.254845,74.568474 -65.671616,74.20598 -67.08547,73.765785 -68.4959,73.23169 -69.90235,72.58278 -71.30416,71.79196 -72.700386,70.822914 -74.089676,69.62593 -75.47021,68.13321 -76.83954,66.24337 -78.19386,63.81169 -79.527596,60.615963 -80.83206,56.310535 -82.09286,50.34549 -83.285675,41.870155 -84.3676,29.717377 -85.26193,13.047394 -85.846245,-6.7679944 -85.982834,-25.551802 -85.63002,-40.15676 -84.88794,-50.4944 -83.89732,-57.705383 -82.759,-62.833973 -81.532646,-66.58377 -80.25124,-69.39999 -78.93388,-71.56433 -77.591896,-73.25892 -76.23228,-74.60918 -74.86002,-74.68885 -74.76822,-75.95014 -74.9025,-85.450645 -75.63407,-94.63335 -75.92052,-99.882835 -75.90713,-105.46441 -75.743286,-108.900246 -75.5578,-112.77799 -75.2603,-115.29546 -75.01054,-118.27244 -74.64929,-120.29065 -74.35848,-122.77339 -73.94246,-124.520706 -73.60596,-126.74701 -73.11676,-128.36801 -72.7117,-130.50313 -72.10458,-132.11093 -71.583336,-134.30547 -70.766815,-136.02469 -70.02823,-138.48676 -68.790474,-140.5383 -67.56863,-143.76498 -65.22195,-145.0525 -64.1157,-145.0525 -64.1157,-147.95078 -64.95727,-151.03346 -65.73681,-154.30293 -66.44796,-157.75659 -67.08463,-161.3875 -67.63993,-165.18199 -68.10799,-169.12013 -68.48348,-173.1754 -68.7609,-177.31502 -68.93687,178.49783 -69.00836,174.30339 -68.97463,170.14178 -68.83598,166.052 -68.59453,162.06723 -68.253944,158.21776 -67.81808,154.52525 -67.29306,151.00566 -66.68459,147.66837 -65.99913,144.51726 -65.24297,141.55234 -64.42232,138.76915 -63.543015,136.16086 -62.610966,133.71924 -61.631104,131.43434 -60.608444,129.29695 -59.546913,127.296135 -58.450706,125.42241 -57.323147,123.66591 -56.167328,122.01773 -54.986095,120.46913 -53.781868,119.01236 -52.556816,117.64004 -51.3129,116.34545 -50.051895,115.12241 -48.775356,113.96528 -47.4846,112.868866 -46.180897,111.82853 -44.865402,110.8398 -43.539093,109.89907 -42.202797,109.00295 -40.85734,108.1476 -39.503418,107.330376 -38.141838,106.54895 -36.772964,105.80022 -35.397575,105.08246 -34.015934,104.39327 -32.628693,103.731125 -31.23609,103.093834 -29.838665,102.48035 -28.43661,101.88882 -27.03033,101.31815 -25.620123,100.766884 -24.206276,100.234024 -22.78898,99.718575 -21.368494,99.21952 -19.945076,98.73591 -18.518946,98.267136 -17.090126,97.8121 -15.658998,97.370415 -14.225667,96.94138 -12.790285,96.524055 -11.3529825,96.1184 -9.913963,95.723724 -8.473281,95.33925 -7.0311694,94.96487 -5.5876245,94.600075 -4.1428676,94.24446 -2.696936,93.897644 -1.2500081,93.55947 0.1979301,93.22936 1.6465393,92.90726 3.0960238,92.59287 4.5461245,92.28597 5.996834,91.98625 7.4479675,91.69381 8.899534,91.40799 10.351377,91.12899 11.8036175,90.8566 13.255929,90.59103 14.708423,90.33125 16.160967,90.07824 17.61349,89.83132 19.06601,89.590706 20.518362,89.356186 21.970592,89.1278 23.42256,88.905975 24.874332,88.68989 26.325733,88.48057 27.776825,88.27752 29.22751,88.08094 30.677696,87.89101 32.12749,87.70804 33.57667,87.53203 35.02541,87.363365 36.473503,87.20221 37.920994,87.04903 39.367847,86.90419 40.81404,86.76811 42.25957,86.641594 43.70431,86.52457 45.148273,86.41835 46.591496,86.32382 48.03383,86.24172 49.475346,86.17279 50.91598,86.11897 52.355587,86.08144 53.794415,86.061676 55.232132,86.06224 56.668755,86.08537 58.104267,86.13397 59.538605,86.21175 60.97159,86.32239 62.403225,86.47177 63.833282,86.666046 65.261635,86.91272 66.68804,87.22225 68.11226,87.60723 69.533936,88.084435 70.952515,88.67502 72.36749,89.40844 73.777985,90.32524 75.1828,91.4802 76.58027,92.95462 77.967995,94.86977 79.3422,97.413704 80.69698,100.88861 82.02264,105.80466 83.301956,113.05029 84.502525,124.135475 85.560074,141.08133 86.34808,164.03456 86.66947,-172.67732 86.39714,-155.15335 85.640816,-143.64122 84.59997,-136.13374 83.40805,-131.0577 82.13326,-127.48312 80.80986,-124.873634 79.456,-122.912445 78.08202,-122.79976 77.98993,-121.256 78.008,-110.159935 77.89392,-100.39148 77.43225,-95.18462 77.03766,-89.871796 76.52009,-86.67547 76.14999,-83.09464 75.680984,-80.76423 75.34397,-77.98001 74.9073,-76.06252 74.58423,-73.65505 74.15162,-71.91869 73.820206,-69.64167 73.35984,-67.9277 72.99322,-65.58145 72.46181,-63.73584 72.01812,-61.088627 71.33794,-58.89931 70.73106,-55.574165 69.717064,-52.6326 68.70629,-47.72575 66.70677,-45.689754 65.73043,-45.689754 65.73043,))', 'url': \"https://s5phub.copernicus.eu/dhus/odata/v1/Products('4b712a0f-4a50-47d9-bc7c-3801dc455826')/$value\", 'Online': True, 'Creation Date': datetime.datetime(2020, 3, 15, 12, 10, 2, 320000), 'Ingestion Date': datetime.datetime(2020, 3, 15, 12, 5, 8, 75000), 'quicklook_url': \"https://s5phub.copernicus.eu/dhus/odata/v1/Products('4b712a0f-4a50-47d9-bc7c-3801dc455826')/Products('Quicklook')/$value\", 'path': 'data\\\\L2\\\\S5P_OFFL_L2__CO_____20200312T071305_20200312T085435_12498_01_010302_20200315T090114.nc', 'downloaded_bytes': 170568074}, 'f3278670-a7ad-4d94-805a-aa56f588e1a3': {'id': 'f3278670-a7ad-4d94-805a-aa56f588e1a3', 'title': 'S5P_OFFL_L2__CO_____20200319T064212_20200319T082342_12597_01_010302_20200321T085210', 'size': 173263513, 'md5': '047E724B061B419E7E3B564AE24B6A2E', 'date': datetime.datetime(2020, 3, 19, 7, 3, 45), 'footprint': 'POLYGON((-43.90619 64.083305,-40.99167 64.92407,-37.891644 65.70164,-34.60476 66.409836,-31.13342 67.04223,-27.485891 67.59237,-23.67601 68.054115,-19.724623 68.42174,-15.659227 68.69055,-11.512759 68.85669,-7.323095 68.917625,-3.130373 68.87273,1.0250062 68.722534,5.1047077 68.46896,9.074906 68.11601,12.907358 67.66822,16.580128 67.13108,20.078419 66.51099,23.393188 65.81405,26.521217 65.04691,29.463219 64.21553,32.22389 63.32617,34.80986 62.384064,37.230442 61.394917,39.494606 60.363052,41.612873 59.292953,43.595158 58.188324,45.451366 57.052605,47.191277 55.889015,48.82402 54.70028,50.357853 53.488884,51.80044 52.256744,53.15952 51.006058,54.44168 49.738537,55.65274 48.45557,56.798416 47.158657,57.88402 45.848995,58.91386 44.52759,59.892403 43.195538,60.82328 41.853657,61.71053 40.502846,62.556763 39.14376,63.36501 37.77694,64.13811 36.40309,64.87835 35.022747,65.58821 33.63645,66.269325 32.244503,66.92384 30.847464,67.55333 29.44556,68.15945 28.039251,68.74358 26.628849,69.30688 25.2145,69.85076 23.796606,70.376495 22.375553,70.88463 20.95124,71.37641 19.524094,71.85277 18.094294,72.31439 16.662062,72.76203 15.227572,73.19633 13.790847,73.61811 12.352303,74.02786 10.911933,74.42604 9.46985,74.81314 8.026214,75.189835 6.5812507,75.55637 5.135029,75.91317 3.6876032,76.26073 2.2391987,76.59929 0.78987086,76.92893 -0.66036755,77.250275 -2.1112804,77.563446 -3.5628457,77.86869 -5.0149035,78.166275 -6.4674625,78.45632 -7.920354,78.73908 -9.373486,79.01456 -10.826884,79.282875 -12.280476,79.5444 -13.733989,79.798996 -15.187454,80.04672 -16.640911,80.2877 -18.094225,80.52199 -19.547281,80.749565 -21.000053,80.9704 -22.452505,81.18446 -23.904535,81.391785 -25.356112,81.59203 -26.807196,81.78541 -28.25771,81.97162 -29.707602,82.15037 -31.156853,82.32189 -32.60533,82.48508 -34.053127,82.640526 -35.50011,82.78734 -36.946285,82.92562 -38.39152,83.05465 -39.835842,83.17353 -41.279186,83.282295 -42.72156,83.38017 -44.162823,83.46597 -45.603024,83.53933 -47.04204,83.59875 -48.47988,83.64313 -49.91655,83.671364 -51.351868,83.68163 -52.78579,83.67214 -54.218376,83.64069 -55.649364,83.58444 -57.078857,83.50082 -58.506584,83.385735 -59.932503,83.23496 -61.3565,83.0435 -62.778362,82.804276 -64.19786,82.50993 -65.61475,82.15081 -67.02869,81.713806 -68.4392,81.183 -69.84586,80.5393 -71.247856,79.754486 -72.64426,78.79325 -74.033745,77.60695 -75.41475,76.126366 -76.7845,74.255035 -78.13945,71.84826 -79.47414,68.68886 -80.7799,64.4368 -82.0428,58.5535 -83.23901,50.197067 -84.32632,38.216984 -85.23024,21.72815 -85.82962,1.9731272 -85.98609,-16.930304 -85.65168,-31.72012 -84.922745,-42.208157 -83.93981,-49.523212 -82.8063,-54.72086 -81.58285,-58.516666 -80.30336,-61.36453 -78.98719,-63.5516 -77.64611,-63.803864 -77.465904,-65.29052 -77.62183,-76.79367 -78.466125,-88.229164 -78.77111,-94.77936 -78.72712,-101.660805 -78.49869,-105.8213 -78.25782,-110.42309 -77.88444,-113.34803 -77.57831,-116.7355 -77.14371,-118.984795 -76.79931,-121.696465 -76.3134,-123.56685 -75.925255,-125.9028 -75.36757,-127.56948 -74.91085,-129.71964 -74.2336,-131.30424 -73.65808,-133.41864 -72.76564,-135.03606 -71.96622,-137.2941 -70.63942,-139.12608 -69.341736,-141.92644 -66.87284,-143.01988 -65.71676,-143.01988 -65.71676,-146.2844 -66.42984,-149.73338 -67.06828,-153.35953 -67.62599,-157.1498 -68.09667,-161.08446 -68.474335,-165.13672 -68.7546,-169.27458 -68.93307,-173.46078 -69.00741,-177.65543 -68.97643,178.18172 -68.84055,174.08931 -68.60199,170.10188 -68.26376,166.24841 -67.83051,162.55171 -67.30773,159.02737 -66.70144,155.68524 -66.01794,152.52942 -65.26359,149.55966 -64.444466,146.77168 -63.5668,144.15875 -62.636066,141.7129 -61.657436,139.42406 -60.635876,137.28273 -59.575382,135.27858 -58.47998,133.40146 -57.3532,131.64226 -56.19821,129.99094 -55.017693,128.43983 -53.81401,126.98057 -52.58955,125.60621 -51.346176,124.30966 -50.08556,123.084854 -48.809418,121.925964 -47.519054,120.82808 -46.215687,119.78617 -44.90054,118.79619 -43.574493,117.85435 -42.23844,116.957 -40.893227,116.100624 -39.539562,115.28261 -38.17812,114.50008 -36.80951,113.75039 -35.434288,113.031815 -34.05288,112.342 -32.665737,111.67898 -31.27333,111.041214 -29.875998,110.42695 -28.474113,109.83484 -27.067966,109.26346 -25.657894,108.71195 -24.244053,108.17866 -22.82686,107.66265 -21.406502,107.163185 -19.983103,106.67919 -18.557056,106.20998 -17.128376,105.75466 -15.697315,105.31263 -14.264039,104.8833 -12.828711,104.46579 -11.391497,104.05968 -9.952448,103.66457 -8.51189,103.280014 -7.0697055,102.90531 -5.6262355,102.540215 -4.181503,102.18429 -2.7356308,101.83734 -1.2886808,101.49887 0.15913138,101.168686 1.607841,100.8464 3.057313,100.53182 4.5073495,100.22454 5.9580407,99.92465 7.4091234,99.631874 8.860712,99.34607 10.312608,99.06684 11.764767,98.79439 13.217129,98.52833 14.669584,98.26869 16.122179,98.015434 17.574734,97.7683 19.027203,97.52753 20.479618,97.292915 21.931826,97.06437 23.383856,96.84214 24.835606,96.626205 26.28706,96.41664 27.738176,96.213295 29.188847,96.01662 30.639116,95.826416 32.088875,95.643135 33.538166,95.466934 34.986847,95.298256 36.435043,95.13691 37.8826,94.9836 39.329456,94.83845 40.775703,94.70213 42.221172,94.57519 43.665955,94.45797 45.110058,94.35164 46.553276,94.25661 47.9957,94.17396 49.437244,94.10499 50.877895,94.05064 52.31766,94.01263 53.756416,93.99261 55.194164,93.992325 56.630882,94.01481 58.066463,94.062775 59.50088,94.13975 60.933907,94.24953 62.3656,94.39762 63.79574,94.59045 65.22416,94.835884 66.65066,95.14349 68.07498,95.52669 69.496666,96.00134 70.91541,96.58854 72.330574,97.31802 73.74116,98.22889 75.14616,99.37677 76.54389,100.84179 77.93197,102.74376 79.30656,105.26765 80.66197,108.712975 81.988594,113.58261 83.26949,120.75268 84.47263,131.71326 85.53516,148.48743 86.332504,171.32983 86.66854,-165.28821 86.4113,-147.59392 85.66464,-135.94916 84.629265,-128.36272 83.44009,-123.23775 82.16688,-119.632195 80.84447,-117.001785 79.491196,-115.027306 78.1176,-113.510445 76.72982,-112.3243 75.33173,-112.18641 75.1448,-110.933365 75.14325,-101.994545 74.9388,-94.09507 74.47164,-89.81814 74.10294,-85.37908 73.63286,-82.66418 73.301735,-79.57821 72.885796,-77.54289 72.58869,-75.08201 72.205284,-73.36807 71.92243,-71.19351 71.544426,-69.609184 71.25522,-67.510994 70.85378,-65.91612 70.53419,-63.71113 70.070854,-61.95876 69.6837,-59.4173 69.08916,-57.289825 68.55711,-54.012184 67.663666,-51.063465 66.766365,-46.034943 64.97018,-43.90619 64.083305,-43.90619 64.083305,))', 'url': \"https://s5phub.copernicus.eu/dhus/odata/v1/Products('f3278670-a7ad-4d94-805a-aa56f588e1a3')/$value\", 'Online': True, 'Creation Date': datetime.datetime(2020, 3, 21, 12, 10, 2, 895000), 'Ingestion Date': datetime.datetime(2020, 3, 21, 12, 5, 8, 20000), 'quicklook_url': \"https://s5phub.copernicus.eu/dhus/odata/v1/Products('f3278670-a7ad-4d94-805a-aa56f588e1a3')/Products('Quicklook')/$value\", 'path': 'data\\\\L2\\\\S5P_OFFL_L2__CO_____20200319T064212_20200319T082342_12597_01_010302_20200321T085210.nc', 'downloaded_bytes': 173263513}, 'a519a952-f52a-4fd6-85a4-74a1345edc22': {'id': 'a519a952-f52a-4fd6-85a4-74a1345edc22', 'title': 'S5P_OFFL_L2__CO_____20200314T063515_20200314T081646_12526_01_010302_20200317T082238', 'size': 172937978, 'md5': 'A74EAF07F7A4054E4DF6A5EE12E589FF', 'date': datetime.datetime(2020, 3, 14, 6, 56, 50), 'footprint': 'POLYGON((-37.99433 65.292366,-34.8078 66.0387,-31.4349 66.71264,-27.880442 67.307594,-24.155542 67.817566,-20.277323 68.236534,-16.269142 68.55894,-12.161988 68.78071,-7.990452 68.89825,-3.7943137 68.91025,0.3860834 68.81625,4.51099 68.61787,8.543981 68.31781,12.453653 67.92033,16.214476 67.43041,19.807894 66.85406,23.222141 66.19771,26.45047 65.46732,29.491924 64.66961,32.349392 63.81074,35.028305 62.89634,37.53656 61.931885,39.883446 60.922268,42.078957 59.87227,44.132904 58.785637,46.05554 57.666203,47.856915 56.517254,49.546124 55.34173,51.13191 54.142178,52.622612 52.92089,54.025726 51.679996,55.34829 50.421192,56.59681 49.146393,57.776947 47.85677,58.89422 46.553814,59.953495 45.238586,60.958942 43.912037,61.915108 42.57541,62.82519 41.229214,63.693184 39.874535,64.521416 38.511692,65.3132 37.141613,66.07081 35.76472,66.79674 34.38158,67.49292 32.992496,68.1614 31.598045,68.804344 30.198835,69.42273 28.794838,70.01847 27.386545,70.59279 25.974207,71.146935 24.558268,71.68233 23.138865,72.19987 21.716257,72.700226 20.29057,73.184814 18.862204,73.65398 17.431116,74.10931 15.997916,74.55063 14.562329,74.97908 13.124736,75.3952 11.685324,75.79944 10.244095,76.19249 8.801298,76.574745 7.3570337,76.94671 5.9114985,77.30858 4.4646115,77.661 3.016725,78.00438 1.567882,78.33881 0.1181428,78.66458 -1.3324635,78.98207 -2.7837107,79.29153 -4.2355037,79.593216 -5.687861,79.88722 -7.140542,80.17393 -8.593605,80.453186 -10.046914,80.72539 -11.500324,80.99053 -12.953922,81.24888 -14.407434,81.500305 -15.860942,81.74493 -17.314314,81.98294 -18.767471,82.21398 -20.220491,82.43837 -21.673138,82.65624 -23.125332,82.86712 -24.577202,83.071236 -26.028595,83.2683 -27.4794,83.45831 -28.929626,83.641174 -30.379217,83.81637 -31.8282,83.98418 -33.27631,84.14406 -34.723625,84.29534 -36.170364,84.43839 -37.6161,84.57224 -39.06093,84.696686 -40.504833,84.81129 -41.94768,84.915016 -43.38954,85.00718 -44.830353,85.08729 -46.270023,85.15435 -47.708508,85.20716 -49.145775,85.24426 -50.58183,85.26443 -52.01654,85.26558 -53.44986,85.2462 -54.881714,85.20348 -56.312054,85.13537 -57.740658,85.03761 -59.167606,84.90648 -60.592636,84.737976 -62.015644,84.524925 -63.436462,84.26151 -64.85477,83.938065 -66.270325,83.5448 -67.68273,83.06667 -69.09154,82.48693 -70.49612,81.781006 -71.89572,80.91959 -73.28911,79.86125 -74.67492,78.54884 -76.05105,76.90068 -77.41446,74.80438 -78.76088,72.08127 -80.08351,68.46718 -81.37156,63.541355 -82.60732,56.638023 -83.75986,46.756847 -84.7742,32.72457 -85.55469,14.3594265 -85.96373,-5.5786085 -85.88931,-22.779137 -85.35425,-35.467815 -84.491486,-44.333866 -83.428825,-50.55831 -82.248146,-55.036064 -80.99567,-58.348167 -79.69725,-60.85995 -78.36833,-62.810337 -77.0185,-64.34718 -75.6531,-64.437584 -75.561745,-65.758224 -75.70171,-75.77 -76.462776,-85.51259 -76.754684,-91.0858 -76.73412,-96.99608 -76.554535,-100.61945 -76.35529,-104.68973 -76.03866,-107.31898 -75.77448,-110.41257 -75.39424,-112.49921 -75.08938,-115.0533 -74.65482,-116.84178 -74.30447,-119.10899 -73.7967,-120.75122 -73.37748,-122.90268 -72.750916,-124.513725 -72.214455,-126.699615 -71.3764,-128.4013 -70.620346,-130.82172 -69.35668,-132.82407 -68.11246,-135.94875 -65.72916,-137.188 -64.60778,-137.188 -64.60778,-140.19218 -65.41419,-143.38274 -66.15486,-146.75867 -66.82386,-150.31561 -67.414314,-154.04285 -67.9202,-157.92279 -68.33546,-161.9319 -68.65489,-166.03992 -68.8741,-170.21162 -68.99008,-174.40771 -69.00081,-178.58778 -68.90655,177.2877 -68.70825,173.25479 -68.40903,169.34526 -68.01289,165.58409 -67.52499,161.98965 -66.95125,158.57506 -66.29744,155.34497 -65.57044,152.30153 -64.77637,149.44212 -63.92133,146.7608 -63.010933,144.24985 -62.050755,141.89983 -61.045685,139.70132 -60.000145,137.64381 -58.91821,135.71747 -57.803524,133.91241 -56.659416,132.21954 -55.4886,130.62968 -54.293922,129.135 -53.077427,127.727776 -51.841335,126.40094 -50.587383,125.14824 -49.317295,123.96389 -48.03237,122.842445 -46.734108,121.77879 -45.423492,120.76881 -44.101612,119.80829 -42.769424,118.893524 -41.4278,118.021255 -40.077404,117.18852 -38.71899,116.39178 -37.353275,115.62964 -35.980537,114.89911 -34.601433,114.19795 -33.216602,113.524536 -31.82627,112.876976 -30.430792,112.25366 -29.030693,111.65295 -27.626179,111.07332 -26.217642,110.51397 -24.805353,109.97358 -23.389418,109.45089 -21.970295,108.944984 -20.548048,108.45498 -19.12304,107.9799 -17.695377,107.51916 -16.265211,107.07178 -14.832837,106.63752 -13.3982725,106.21546 -11.96177,105.80493 -10.523483,105.40557 -9.083455,105.01675 -7.641908,104.63821 -6.198965,104.269485 -4.754709,103.90993 -3.3092318,103.559326 -1.8626773,103.2175 -0.41526532,102.88407 1.0331373,102.5586 2.4822977,102.241066 3.9321556,101.93093 5.382571,101.62805 6.8335285,101.33262 8.284942,101.04388 9.736712,100.76203 11.18879,100.48693 12.641046,100.21838 14.093546,99.95624 15.546111,99.70029 16.99864,99.45087 18.451208,99.207375 19.903646,98.97024 21.35591,98.73937 22.808048,98.51485 24.259933,98.29634 25.711458,98.08403 27.162724,97.8782 28.61363,97.67893 30.064066,97.48617 31.51405,97.30038 32.963543,97.121155 34.41248,96.94942 35.860855,96.784874 37.308674,96.6284 38.755817,96.480034 40.20235,96.34015 41.648174,96.209274 43.09324,96.08824 44.537598,95.97751 45.98115,95.87801 47.4239,95.79004 48.86581,95.7157 50.30685,95.65513 51.74698,95.61027 53.186188,95.58311 54.624367,95.57465 56.06154,95.58775 57.497524,95.62523 58.93241,95.69002 60.36606,95.78636 61.79823,95.91858 63.229027,96.09273 64.658226,96.316284 66.085526,96.59791 67.51074,96.949234 68.93356,97.38509 70.353584,97.924576 71.77023,98.5935 73.18278,99.42688 74.59016,100.472885 75.99106,101.80076 77.38321,103.51152 78.76371,105.76154 80.12768,108.794395 81.46731,113.02023 82.7691,119.13996 84.00836,128.37177 85.1373,142.61487 86.06002,163.35092 86.60383,-172.51501 86.58279,-152.20676 86.00578,-138.37833 85.06384,-129.41487 83.92438,-123.45785 82.67896,-119.33275 81.37308,-116.36334 80.030556,-114.158394 78.66407,-112.47971 77.281334,-112.382065 77.18878,-110.93286 77.20054,-100.54618 77.05756,-91.39281 76.59483,-86.48797 76.209076,-81.45413 75.70724,-78.4087 75.34986,-74.98017 74.89799,-72.73888 74.57373,-70.050476 74.15396,-68.19211 73.84355,-65.85084 73.42803,-64.15666 73.10973,-61.927902 72.66757,-60.245 72.31539,-57.934036 71.80475,-56.110306 71.378204,-53.48546 70.723816,-51.306526 70.139305,-47.982754 69.16105,-45.02747 68.183586,-40.065388 66.243034,-37.99433 65.292366,-37.99433 65.292366,))', 'url': \"https://s5phub.copernicus.eu/dhus/odata/v1/Products('a519a952-f52a-4fd6-85a4-74a1345edc22')/$value\", 'Online': True, 'Creation Date': datetime.datetime(2020, 3, 17, 11, 40, 5, 611000), 'Ingestion Date': datetime.datetime(2020, 3, 17, 11, 35, 6, 291000), 'quicklook_url': \"https://s5phub.copernicus.eu/dhus/odata/v1/Products('a519a952-f52a-4fd6-85a4-74a1345edc22')/Products('Quicklook')/$value\", 'path': 'data\\\\L2\\\\S5P_OFFL_L2__CO_____20200314T063515_20200314T081646_12526_01_010302_20200317T082238.nc', 'downloaded_bytes': 172937978}, '87b1c157-631c-4138-ba20-42f7db967587': {'id': '87b1c157-631c-4138-ba20-42f7db967587', 'title': 'S5P_OFFL_L2__CO_____20200310T060924_20200310T075054_12469_01_010302_20200313T075943', 'size': 178579640, 'md5': '79528F54C89292D738C097A219D7EB51', 'date': datetime.datetime(2020, 3, 10, 6, 30, 59), 'footprint': 'POLYGON((-27.98816 66.141045,-24.588665 66.80398,-21.008753 67.387245,-17.26059 67.88454,-13.361458 68.289566,-9.336818 68.59763,-5.217952 68.80455,-1.0402672 68.90685,3.1562579 68.90345,7.331047 68.79433,11.445003 68.58104,15.462065 68.26656,19.351486 67.855316,23.089314 67.35246,26.657444 66.76418,30.045137 66.096535,33.24637 65.356125,36.2609 64.54905,39.091988 63.68173,41.745834 62.759735,44.23015 61.78848,46.55447 60.77272,48.728664 59.717052,50.76306 58.62549,52.66764 57.50163,54.452118 56.34863,56.12577 55.16941,57.6972 53.96643,59.174915 52.742302,60.56591 51.498642,61.87719 50.237328,63.115482 48.9603,64.28616 47.66867,65.39471 46.363773,66.44592 45.046844,67.44414 43.71891,68.393295 42.3807,69.29717 41.033283,70.158844 39.677204,70.981834 38.313354,71.76841 36.94221,72.52127 35.564335,73.24288 34.18036,73.93502 32.79055,74.59976 31.395412,75.23881 29.995321,75.85387 28.590673,76.44639 27.181747,77.017876 25.769009,77.56926 24.352482,78.10179 22.932524,78.61663 21.509377,79.11487 20.08336,79.59711 18.65456,80.06434 17.223228,80.51746 15.789593,80.95692 14.3537445,81.3835 12.915791,81.79792 11.4761505,82.20046 10.034642,82.591606 8.5914955,82.97267 7.1471515,83.34291 5.7012963,83.7036 4.25434,84.05476 2.8063014,84.39664 1.3572265,84.72972 -0.092660464,85.054306 -1.5433685,85.3707 -2.994694,85.67895 -4.4466424,85.97956 -5.899011,86.27263 -7.351756,86.55809 -8.8048725,86.836334 -10.258208,87.10753 -11.711699,87.37165 -13.165221,87.62901 -14.618798,87.879326 -16.072266,88.12311 -17.525616,88.36004 -18.978792,88.59024 -20.431711,88.81379 -21.884254,89.03045 -23.336538,89.2405 -24.78821,89.443535 -26.239494,89.63979 -27.690205,89.828575 -29.140398,90.0104 -30.589909,90.18458 -32.03874,90.3512 -33.486794,90.50977 -34.93412,90.66001 -36.380615,90.80183 -37.826183,90.934265 -39.27088,91.0573 -40.71463,91.17026 -42.157383,91.27247 -43.599136,91.36324 -45.039707,91.4416 -46.479187,91.50663 -47.91751,91.55719 -49.354603,91.59182 -50.7905,91.60951 -52.22497,91.60804 -53.658043,91.585205 -55.089706,91.539154 -56.519802,91.46671 -57.948223,91.36453 -59.374866,91.228745 -60.799595,91.053474 -62.222294,90.83397 -63.642776,90.56246 -65.060715,90.2303 -66.475815,89.825165 -67.88775,89.33379 -69.29601,88.736946 -70.69994,88.01076 -72.09869,87.123474 -73.49106,86.03271 -74.87564,84.6779 -76.25014,82.97361 -77.61143,80.79793 -78.95492,77.96511 -80.27325,74.19152 -81.55511,69.028404 -82.7812,61.763824 -83.91791,51.34788 -84.905304,36.645596 -85.641106,17.79902 -85.98483,-1.9867592 -85.838135,-18.561687 -85.246376,-30.623093 -84.34742,-39.03767 -83.26369,-44.959774 -82.07023,-49.237885 -80.80966,-52.41565 -79.506226,-54.834064 -78.1738,-56.714752 -76.82131,-58.20184 -75.454056,-59.393967 -74.07589,-59.46427 -73.98375,-60.67201 -74.11292,-69.7194 -74.81807,-78.41353 -75.09932,-83.38038 -75.09194,-88.672455 -74.94163,-91.94097 -74.7681,-95.64429 -74.48737,-98.05867 -74.25036,-100.92597 -73.90604,-102.87831 -73.62783,-105.29047 -73.22857,-106.995605 -72.90467,-109.177895 -72.4325,-110.774185 -72.04051,-112.88684 -71.45147,-114.48577 -70.944466,-116.679985 -70.148254,-118.40884 -69.42628,-120.900185 -68.21334,-122.98999 -67.013084,-126.301186 -64.70203,-127.63012 -63.61055,-127.63012 -63.61055,-130.42554 -64.48481,-133.40285 -65.30024,-136.56555 -66.05115,-139.91498 -66.73074,-143.44629 -67.33288,-147.14961 -67.851364,-151.00851 -68.280205,-155.00044 -68.613686,-159.09601 -68.84775,-163.26053 -68.97874,-167.45544 -69.00508,-171.64021 -68.92592,-175.77513 -68.742485,-179.82314 -68.4579,176.24799 -68.07551,172.46411 -67.600494,168.8448 -67.0387,165.40321 -66.39639,162.1462 -65.67977,159.07605 -64.89503,156.19025 -64.0483,153.48334 -63.145737,150.94814 -62.19259,148.57555 -61.193726,146.35547 -60.153934,144.27809 -59.077034,142.33345 -57.966946,140.51134 -56.826866,138.80269 -55.659805,137.19838 -54.468422,135.69049 -53.254917,134.27063 -52.021713,132.93275 -50.770245,131.66971 -49.50236,130.4757 -48.2196,129.34518 -46.923233,128.2735 -45.614304,127.255974 -44.29405,126.28847 -42.963345,125.367294 -41.623013,124.4889 -40.273937,123.65046 -38.916637,122.848976 -37.55183,122.08191 -36.18016,121.346886 -34.801926,120.641525 -33.417942,119.96404 -32.028416,119.312996 -30.633707,118.68601 -29.234182,118.08206 -27.83034,117.499695 -26.422369,116.937515 -25.010525,116.394226 -23.595215,115.869 -22.176495,115.360725 -20.754774,114.86841 -19.330233,114.391304 -17.902868,113.928474 -16.473104,113.47938 -15.0409775,113.04315 -13.606744,112.61914 -12.170524,112.20708 -10.732454,111.80601 -9.29272,111.41563 -7.8514485,111.03571 -6.4086347,110.66552 -4.9645486,110.30455 -3.519321,109.95272 -2.0729368,109.60973 -0.6255691,109.27502 0.82266784,108.94842 2.271751,108.62954 3.72149,108.31838 5.171879,108.01456 6.6227612,107.71788 8.07412,107.42827 9.525871,107.14546 10.977863,106.86925 12.430127,106.59983 13.882612,106.33657 15.335165,106.07985 16.787695,105.82921 18.240242,105.58521 19.692722,105.34703 21.145048,105.11524 22.597206,104.889656 24.049107,104.670074 25.500713,104.457085 26.952019,104.25017 28.402985,104.049866 29.8535,103.85599 31.303534,103.66902 32.75314,103.48912 34.202168,103.316185 35.650673,103.15061 37.098553,102.9926 38.54589,102.843056 39.992413,102.70204 41.438347,102.56976 42.883545,102.44726 44.32803,102.33496 45.771725,102.23365 47.214584,102.14402 48.656643,102.06736 50.097824,102.00487 51.538086,101.95778 52.97742,101.92769 54.415745,101.91622 55.853092,101.92601 57.2893,101.959625 58.72438,102.0202 60.15814,102.11141 61.5907,102.23818 63.02173,102.405815 64.45113,102.621376 65.878716,102.8938 67.3043,103.233765 68.7275,103.65633 70.148,104.17906 71.56521,104.82744 72.97842,105.634315 74.38664,106.64455 75.78861,107.92621 77.18228,109.57287 78.5648,111.73127 79.93154,114.63091 81.275406,118.64847 82.58389,124.43132 83.834625,133.10962 84.98415,146.49522 85.94559,166.32234 86.557594,-169.58209 86.62435,-148.38654 86.117714,-133.67719 85.21618,-124.13982 84.098,-117.83579 82.86423,-113.498436 81.56519,-110.392456 80.22686,-108.093956 78.86327,-107.96234 78.771805,-106.31448 78.79681,-94.426735 78.7143,-83.9701 78.253296,-78.43007 77.84866,-72.815094 77.31359,-69.45861 76.929535,-65.7193 76.441925,-63.298023 76.09117,-60.418125 75.636444,-58.4429 75.29993,-55.972317 74.84931,-54.196854 74.50414,-51.87656 74.0248,-50.135883 73.64322,-47.76108 73.09041,-45.89936 72.629166,-43.238663 71.92274,-41.046722 71.29324,-37.73243 70.24343,-34.815567 69.199585,-29.981964 67.14225,-27.98816 66.141045,-27.98816 66.141045,))', 'url': \"https://s5phub.copernicus.eu/dhus/odata/v1/Products('87b1c157-631c-4138-ba20-42f7db967587')/$value\", 'Online': True, 'Creation Date': datetime.datetime(2020, 3, 13, 11, 40, 4, 88000), 'Ingestion Date': datetime.datetime(2020, 3, 13, 11, 38, 31, 542000), 'quicklook_url': \"https://s5phub.copernicus.eu/dhus/odata/v1/Products('87b1c157-631c-4138-ba20-42f7db967587')/Products('Quicklook')/$value\", 'path': 'data\\\\L2\\\\S5P_OFFL_L2__CO_____20200310T060924_20200310T075054_12469_01_010302_20200313T075943.nc', 'downloaded_bytes': 178579640}, 'b540f6cd-4566-421d-9b4b-28478229100d': {'id': 'b540f6cd-4566-421d-9b4b-28478229100d', 'title': 'S5P_OFFL_L2__CO_____20200331T075944_20200331T094115_12768_01_010302_20200401T215027', 'size': 161207668, 'md5': '3D4974640A2223D872F8E49CD2816A85', 'date': datetime.datetime(2020, 3, 31, 8, 21, 19), 'footprint': 'POLYGON((-71.54826 60.822147,-69.21624 61.836205,-66.72316 62.805443,-64.06033 63.72503,-61.21956 64.58963,-58.195164 65.3936,-54.98383 66.13066,-51.586864 66.79462,-48.009197 67.378685,-44.26311 67.87703,-40.366196 68.28335,-36.343487 68.592766,-32.225487 68.800766,-28.048681 68.9045,-23.85257 68.902435,-19.677486 68.79461,-15.562822 68.58261,-11.544605 68.269424,-7.653555 67.85943,-3.9140606 67.357704,-0.3436538 66.770515,3.0460837 66.10409,6.249757 65.364555,9.266442 64.55827,12.10015 63.691895,14.755888 62.770473,17.242281 61.79984,19.568605 60.78469,21.745016 59.729782,23.780945 58.63854,25.687134 57.515053,27.473228 56.362576,29.14815 55.183628,30.720985 53.98102,32.199802 52.757107,33.59194 51.513737,34.90443 50.252785,36.143726 48.975975,37.31527 47.684566,38.424465 46.379765,39.476467 45.06304,40.475334 43.73517,41.425407 42.397335,42.32989 41.050026,43.192215 39.694122,44.01567 38.33039,44.80289 36.95943,45.556164 35.581635,46.278084 34.19766,46.970764 32.807995,47.635857 31.412956,48.27543 30.012972,48.89069 28.608395,49.483505 27.199587,50.055195 25.786863,50.606926 24.370382,51.13999 22.95054,51.654964 21.527418,52.153427 20.101507,52.635998 18.672825,53.10357 17.241556,53.556683 15.807867,53.996387 14.372095,54.423126 12.934193,54.837784 11.494562,55.240356 10.053088,55.632053 8.61016,56.012936 7.1657057,56.383545 5.7199554,56.744255 4.2729707,57.09553 2.8250017,57.43756 1.3759605,57.77085 -0.07393393,58.095715 -1.5244685,58.41206 -2.975852,58.72059 -4.427716,59.0213 -5.8800554,59.314262 -7.3328223,59.599957 -8.785881,59.878395 -10.239161,60.14963 -11.692573,60.413757 -13.146163,60.6713 -14.599729,60.921722 -16.053204,61.165455 -17.506561,61.40254 -18.959682,61.632984 -20.412577,61.856285 -21.865213,62.073257 -23.317371,62.283386 -24.769125,62.486397 -26.220407,62.682575 -27.671185,62.87163 -29.121317,63.053364 -30.570843,63.22777 -32.01965,63.39465 -33.46771,63.553402 -34.91499,63.70361 -36.3615,63.845356 -37.807137,63.97823 -39.251797,64.101295 -40.695534,64.21431 -42.138313,64.316795 -43.579987,64.40753 -45.02066,64.486115 -46.46015,64.55128 -47.898502,64.60217 -49.335636,64.637184 -50.771454,64.65499 -52.20595,64.653755 -53.639057,64.63159 -55.0707,64.58558 -56.500786,64.51381 -57.92921,64.41178 -59.35596,64.27644 -60.780735,64.102066 -62.203453,63.883163 -63.62395,63.61275 -65.04191,63.281265 -66.45706,62.877354 -67.869026,62.386482 -69.277374,61.791748 -70.68136,61.067547 -72.08019,60.183792 -73.47272,59.094658 -74.85741,57.74365 -76.23207,56.046093 -77.59358,53.877174 -78.937325,51.054916 -80.25614,47.29656 -81.5386,42.15495 -82.76565,34.92505 -83.90392,24.558226 -84.89392,9.917528 -85.633965,-8.8913965 -85.98354,-28.696438 -85.84333,-45.329453 -85.25656,-57.448994 -84.36107,-65.90214 -83.27897,-71.851295 -82.086555,-72.18094 -82.00439,-74.23208 -82.22396,-92.16331 -83.42091,-112.426285 -83.75894,-123.921684 -83.57577,-135.06268 -83.09291,-141.15244 -82.65542,-147.26692 -82.036446,-150.81502 -81.56254,-154.60704 -80.92528,-156.94472 -80.442604,-159.58052 -79.7872,-161.28674 -79.28093,-163.29378 -78.57489,-164.6435 -78.01211,-166.28502 -77.19817,-167.4235 -76.5223,-168.84938 -75.49677,-169.86963 -74.59636,-171.19695 -73.12992,-172.19827 -71.72005,-173.62257 -69.08095,-174.15228 -67.85851,-174.15228 -67.85851,-178.01328 -68.28594,177.99289 -68.61836,173.8959 -68.851006,169.73068 -68.9807,165.5354 -69.0054,161.35095 -68.92474,157.21667 -68.74027,153.17003 -68.454094,149.2425 -68.070564,145.46059 -67.5944,141.84354 -67.03141,138.40414 -66.38813,135.15002 -65.67029,132.08214 -64.88459,129.19872 -64.03724,126.49411 -63.133972,123.96107 -62.18003,121.590576 -61.18054,119.37252 -60.140125,117.29705 -59.0628,115.35379 -57.952282,113.53336 -56.811855,111.82606 -55.64443,110.22344 -54.452644,108.71662 -53.238895,107.298225 -52.005287,105.96112 -50.75369,104.69925 -49.485523,103.50609 -48.202587,102.376465 -46.905994,101.30561 -45.59691,100.28875 -44.27649,99.32202 -42.945576,98.40134 -41.60518,97.52355 -40.25596,96.6857 -38.898533,95.8846 -37.5337,95.118034 -36.161892,94.38324 -34.7837,93.678444 -33.399506,93.00142 -32.009846,92.350555 -30.615063,91.723946 -29.215609,91.12026 -27.811655,90.53819 -26.403622,89.976234 -24.991743,89.43336 -23.576313,88.90823 -22.157606,88.40017 -20.735834,87.908005 -19.311167,87.43103 -17.883865,86.968346 -16.454063,86.51942 -15.02187,86.0834 -13.587622,85.659584 -12.151365,85.24756 -10.713321,84.846725 -9.273563,84.456635 -7.83219,84.076645 -6.3894563,83.70639 -4.945333,83.34579 -3.5000274,82.99409 -2.053645,82.651054 -0.60628134,82.3165 0.8419996,81.98981 2.291015,81.67103 3.7407677,81.36007 5.19116,81.05634 6.642083,80.759766 8.093442,80.4701 9.545143,80.18736 10.997177,79.91141 12.449531,79.64191 13.901896,79.37872 15.354459,79.121925 16.806993,78.87163 18.259516,78.62734 19.712025,78.38939 21.164328,78.15758 22.61648,77.931915 24.06842,77.71254 25.52005,77.49959 26.971317,77.29279 28.422247,77.09259 29.872742,76.89878 31.322813,76.712006 32.77234,76.531784 34.22138,76.35875 35.669884,76.19336 37.117737,76.03567 38.564972,75.88605 40.011593,75.74499 41.457504,75.612785 42.902695,75.490326 44.347153,75.378075 45.790836,75.27674 47.233673,75.18727 48.67574,75.11097 50.116856,75.04832 51.557167,75.00106 52.996487,74.97105 54.434864,74.95988 55.872135,74.96998 57.308334,75.003784 58.743385,75.064476 60.177197,75.156075 61.60966,75.28264 63.040653,75.45091 64.470055,75.666756 65.89765,75.939835 67.32318,76.28095 68.746315,76.70397 70.16684,77.22792 71.58401,77.877174 72.99723,78.68542 74.40544,79.69931 75.80728,80.98364 77.2009,82.63459 78.58332,84.79988 79.94996,87.70954 81.29354,91.7437 82.60156,97.55406 83.8515,106.27817 84.99955,119.74053 85.958015,139.66002 86.56447,163.78209 86.62339,-175.09021 86.10976,-160.45776 85.20425,-150.9759 84.083755,-144.70569 82.84866,-140.39006 81.54882,-137.2977 80.20999,-135.01009 78.84599,-133.27245 77.46498,-131.92622 76.071754,-130.86679 74.66971,-130.02278 73.26085,-129.34607 71.846664,-128.80074 70.42816,-128.76833 70.33356,-127.81814 70.310196,-121.0666 70.00192,-115.06256 69.518906,-111.763794 69.17183,-108.28675 68.747116,-106.128334 68.45546,-103.642006 68.09534,-101.98171 67.8415,-99.95134 67.517334,-98.521866 67.28025,-96.68936 66.96568,-95.340614 66.72649,-93.53625 66.39625,-92.15058 66.13457,-90.21423 65.75669,-88.65787 65.44195,-86.37206 64.9595,-84.431274 64.52776,-81.389 63.80045,-78.59345 63.064713,-73.68458 61.570786,-71.54826 60.822147,-71.54826 60.822147,))', 'url': \"https://s5phub.copernicus.eu/dhus/odata/v1/Products('b540f6cd-4566-421d-9b4b-28478229100d')/$value\", 'Online': True, 'Creation Date': datetime.datetime(2020, 4, 2, 1, 10, 3, 236000), 'Ingestion Date': datetime.datetime(2020, 4, 2, 1, 5, 9, 42000), 'quicklook_url': \"https://s5phub.copernicus.eu/dhus/odata/v1/Products('b540f6cd-4566-421d-9b4b-28478229100d')/Products('Quicklook')/$value\", 'path': 'data\\\\L2\\\\S5P_OFFL_L2__CO_____20200331T075944_20200331T094115_12768_01_010302_20200401T215027.nc', 'downloaded_bytes': 161207668}}, retrieval_triggered={}, failed={})"
      ]
     },
     "execution_count": 5,
     "metadata": {},
     "output_type": "execute_result"
    }
   ],
   "source": [
    "#api.download_all(products_2019, directory_path='data\\L2')\n",
    "api.download_all(products_2020, directory_path='data\\L2')"
   ]
  },
  {
   "cell_type": "code",
   "execution_count": null,
   "metadata": {},
   "outputs": [],
   "source": []
  }
 ],
 "metadata": {
  "kernelspec": {
   "display_name": "Python 3",
   "language": "python",
   "name": "python3"
  },
  "language_info": {
   "codemirror_mode": {
    "name": "ipython",
    "version": 3
   },
   "file_extension": ".py",
   "mimetype": "text/x-python",
   "name": "python",
   "nbconvert_exporter": "python",
   "pygments_lexer": "ipython3",
   "version": "3.8.3"
  }
 },
 "nbformat": 4,
 "nbformat_minor": 4
}
