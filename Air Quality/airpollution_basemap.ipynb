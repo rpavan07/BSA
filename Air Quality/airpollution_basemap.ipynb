{
 "cells": [
  {
   "cell_type": "code",
   "execution_count": 1,
   "metadata": {},
   "outputs": [
    {
     "name": "stdout",
     "output_type": "stream",
     "text": [
      "Collecting package metadata (current_repodata.json): ...working... done\n",
      "Note: you may need to restart the kernel to use updated packages.\n",
      "Solving environment: ...working... done\n",
      "\n",
      "## Package Plan ##\n",
      "\n",
      "  environment location: C:\\Users\\hp\\anaconda3\n",
      "\n",
      "  added / updated specs:\n",
      "    - netcdf4\n",
      "\n",
      "\n",
      "The following packages will be downloaded:\n",
      "\n",
      "    package                    |            build\n",
      "    ---------------------------|-----------------\n",
      "    ca-certificates-2020.6.24  |                0         165 KB  anaconda\n",
      "    certifi-2020.6.20          |           py38_0         160 KB  anaconda\n",
      "    cftime-1.2.1               |   py38h2a96729_0         226 KB  anaconda\n",
      "    conda-4.11.0               |   py38haa95532_0        14.4 MB\n",
      "    hdf4-4.2.13                |       h712560f_2         2.7 MB  anaconda\n",
      "    libnetcdf-4.7.3            |       h1302dcc_0         612 KB  anaconda\n",
      "    netcdf4-1.5.3              |   py38h012c1a0_0         436 KB  anaconda\n",
      "    openssl-1.1.1g             |       he774522_0         5.8 MB  anaconda\n",
      "    ------------------------------------------------------------\n",
      "                                           Total:        24.5 MB\n",
      "\n",
      "The following NEW packages will be INSTALLED:\n",
      "\n",
      "  cftime             anaconda/win-64::cftime-1.2.1-py38h2a96729_0\n",
      "\n",
      "  hdf4               anaconda/win-64::hdf4-4.2.13-h712560f_2\n",
      "  libnetcdf          anaconda/win-64::libnetcdf-4.7.3-h1302dcc_0\n",
      "  netcdf4            anaconda/win-64::netcdf4-1.5.3-py38h012c1a0_0\n",
      "\n",
      "The following packages will be UPDATED:\n",
      "\n",
      "  conda                               4.10.3-py38haa95532_0 --> 4.11.0-py38haa95532_0\n",
      "\n",
      "The following packages will be SUPERSEDED by a higher-priority channel:\n",
      "\n",
      "  ca-certificates                                 pkgs/main --> anaconda\n",
      "  certifi                                         pkgs/main --> anaconda\n",
      "  openssl                                         pkgs/main --> anaconda\n",
      "\n",
      "\n",
      "\n",
      "Downloading and Extracting Packages\n",
      "\n",
      "libnetcdf-4.7.3      | 612 KB    |            |   0% \n",
      "libnetcdf-4.7.3      | 612 KB    | 2          |   3% \n",
      "libnetcdf-4.7.3      | 612 KB    | ##         |  21% \n",
      "libnetcdf-4.7.3      | 612 KB    | #####2     |  52% \n",
      "libnetcdf-4.7.3      | 612 KB    | ########6  |  86% \n",
      "libnetcdf-4.7.3      | 612 KB    | ########## | 100% \n",
      "\n",
      "netcdf4-1.5.3        | 436 KB    |            |   0% \n",
      "netcdf4-1.5.3        | 436 KB    | 3          |   4% \n",
      "netcdf4-1.5.3        | 436 KB    | ########## | 100% \n",
      "netcdf4-1.5.3        | 436 KB    | ########## | 100% \n",
      "\n",
      "conda-4.11.0         | 14.4 MB   |            |   0% \n",
      "conda-4.11.0         | 14.4 MB   |            |   0% \n",
      "conda-4.11.0         | 14.4 MB   | 3          |   3% \n",
      "conda-4.11.0         | 14.4 MB   | 6          |   6% \n",
      "conda-4.11.0         | 14.4 MB   | #1         |  11% \n",
      "conda-4.11.0         | 14.4 MB   | #3         |  14% \n",
      "conda-4.11.0         | 14.4 MB   | #6         |  16% \n",
      "conda-4.11.0         | 14.4 MB   | ##7        |  27% \n",
      "conda-4.11.0         | 14.4 MB   | ###3       |  33% \n",
      "conda-4.11.0         | 14.4 MB   | ###9       |  39% \n",
      "conda-4.11.0         | 14.4 MB   | ####4      |  45% \n",
      "conda-4.11.0         | 14.4 MB   | ####9      |  49% \n",
      "conda-4.11.0         | 14.4 MB   | #####4     |  54% \n",
      "conda-4.11.0         | 14.4 MB   | #####9     |  60% \n",
      "conda-4.11.0         | 14.4 MB   | ######4    |  64% \n",
      "conda-4.11.0         | 14.4 MB   | #######    |  71% \n",
      "conda-4.11.0         | 14.4 MB   | #######6   |  76% \n",
      "conda-4.11.0         | 14.4 MB   | ########1  |  81% \n",
      "conda-4.11.0         | 14.4 MB   | ########6  |  87% \n",
      "conda-4.11.0         | 14.4 MB   | #########1 |  91% \n",
      "conda-4.11.0         | 14.4 MB   | #########8 |  99% \n",
      "conda-4.11.0         | 14.4 MB   | ########## | 100% \n",
      "\n",
      "certifi-2020.6.20    | 160 KB    |            |   0% \n",
      "certifi-2020.6.20    | 160 KB    | ###        |  30% \n",
      "certifi-2020.6.20    | 160 KB    | ########## | 100% \n",
      "certifi-2020.6.20    | 160 KB    | ########## | 100% \n",
      "\n",
      "hdf4-4.2.13          | 2.7 MB    |            |   0% \n",
      "hdf4-4.2.13          | 2.7 MB    |            |   1% \n",
      "hdf4-4.2.13          | 2.7 MB    | 5          |   6% \n",
      "hdf4-4.2.13          | 2.7 MB    | ##6        |  27% \n",
      "hdf4-4.2.13          | 2.7 MB    | #######    |  70% \n",
      "hdf4-4.2.13          | 2.7 MB    | ########## | 100% \n",
      "hdf4-4.2.13          | 2.7 MB    | ########## | 100% \n",
      "\n",
      "openssl-1.1.1g       | 5.8 MB    |            |   0% \n",
      "openssl-1.1.1g       | 5.8 MB    |            |   0% \n",
      "openssl-1.1.1g       | 5.8 MB    | 2          |   2% \n",
      "openssl-1.1.1g       | 5.8 MB    | ####3      |  44% \n",
      "openssl-1.1.1g       | 5.8 MB    | ######1    |  61% \n",
      "openssl-1.1.1g       | 5.8 MB    | #########  |  90% \n",
      "openssl-1.1.1g       | 5.8 MB    | ########## | 100% \n",
      "\n",
      "ca-certificates-2020 | 165 KB    |            |   0% \n",
      "ca-certificates-2020 | 165 KB    | ########## | 100% \n",
      "ca-certificates-2020 | 165 KB    | ########## | 100% \n",
      "\n",
      "cftime-1.2.1         | 226 KB    |            |   0% \n",
      "cftime-1.2.1         | 226 KB    | 7          |   7% \n",
      "cftime-1.2.1         | 226 KB    | ########## | 100% \n",
      "cftime-1.2.1         | 226 KB    | ########## | 100% \n",
      "Preparing transaction: ...working... done\n",
      "Verifying transaction: ...working... done\n",
      "Executing transaction: ...working... done\n"
     ]
    }
   ],
   "source": [
    "conda install -c anaconda netcdf4"
   ]
  },
  {
   "cell_type": "code",
   "execution_count": 1,
   "metadata": {},
   "outputs": [],
   "source": [
    "import netCDF4 as nc4"
   ]
  },
  {
   "cell_type": "code",
   "execution_count": 2,
   "metadata": {},
   "outputs": [],
   "source": [
    "from netCDF4 import Dataset\n",
    "import numpy as np"
   ]
  },
  {
   "cell_type": "code",
   "execution_count": 3,
   "metadata": {},
   "outputs": [],
   "source": [
    "pre_covid = 'F:/BSA/data/L2/S5P_OFFL_L2__CO_____20190301T064005_20190301T082135_07149_01_010202_20190307T060022.nc'\n",
    "fh = Dataset(pre_covid, mode='r')"
   ]
  },
  {
   "cell_type": "code",
   "execution_count": 4,
   "metadata": {},
   "outputs": [
    {
     "name": "stdout",
     "output_type": "stream",
     "text": [
      "<class 'netCDF4._netCDF4.Dataset'>\n",
      "root group (NETCDF4 data model, file format HDF5):\n",
      "    Conventions: CF-1.7\n",
      "    institution: KNMI/SRON\n",
      "    source: Sentinel 5 precursor, TROPOMI, space-borne remote sensing, L2\n",
      "    history: 2019-03-07 08:38:38 f_s5pops tropnll2dp /mnt/data1/storage_offl_l2/cache_offl_l2/WORKING-565809176/JobOrder.565809164.xml\n",
      "    summary: TROPOMI/S5P CO Column 1-Orbit L2 Swath 7x7km\n",
      "    tracking_id: 2f710982-45e6-4ecc-84ca-e87eb46f13ad\n",
      "    id: S5P_OFFL_L2__CO_____20190301T064005_20190301T082135_07149_01_010202_20190307T060022\n",
      "    time_reference: 2019-03-01T00:00:00Z\n",
      "    time_reference_days_since_1950: 25261\n",
      "    time_reference_julian_day: 2458543.5\n",
      "    time_reference_seconds_since_1970: 1551398400\n",
      "    time_coverage_start: 2019-03-01T07:01:39Z\n",
      "    time_coverage_end: 2019-03-01T08:00:02Z\n",
      "    time_coverage_duration: PT3503.000S\n",
      "    time_coverage_resolution: PT0.540S\n",
      "    orbit: 7149\n",
      "    references: http://www.tropomi.eu/data-products/carbon-monoxide\n",
      "    processor_version: 1.2.2\n",
      "    keywords_vocabulary: AGU index terms, http://publications.agu.org/author-resource-center/index-terms/\n",
      "    keywords: 0300 Atmospheric Composition and Structure; 0365 Troposphere, Composition and Chemistry; 1600 Global Change; 1610 Atmosphere\n",
      "    standard_name_vocabulary: NetCDF Climate and Forecast Metadata Conventions Standard Name Table (v29, 08 July 2015), http://cfconventions.org/standard-names.html\n",
      "    naming_authority: nl.knmi\n",
      "    cdm_data_type: Swath\n",
      "    date_created: 2019-03-07T06:00:25Z\n",
      "    creator_name: The Sentinel 5 Precursor TROPOMI Level 2 products are developed with funding from the European Space Agency (ESA), the Netherlands Space Office (NSO), the Belgian Science Policy Office, the German Aerospace Center (DLR) and the Bayerisches Staatsministerium für Wirtschaft und Medien, Energie und Technologie (StMWi).\n",
      "    creator_url: http://www.tropomi.eu\n",
      "    creator_email: EOSupport@Copernicus.esa.int\n",
      "    project: Sentinel 5 precursor/TROPOMI\n",
      "    geospatial_lat_min: -89.93633\n",
      "    geospatial_lat_max: 89.94108\n",
      "    geospatial_lon_min: 179.99983\n",
      "    geospatial_lon_max: -179.99246\n",
      "    license: No conditions apply\n",
      "    platform: S5P\n",
      "    sensor: TROPOMI\n",
      "    spatial_resolution: 7x7km2\n",
      "    cpp_compiler_version: g++ (GCC) 4.8.5 20150623 (Red Hat 4.8.5-11)\n",
      "    cpp_compiler_flags: -g -O2 -fPIC -std=c++11 -W -Wall -Wno-ignored-qualifiers -Wno-write-strings -Wno-unused-variable -DTROPNLL2DP\n",
      "    f90_compiler_version: GNU Fortran (GCC) 4.8.5 20150623 (Red Hat 4.8.5-11)\n",
      "    f90_compiler_flags: -gdwarf-3 -O2 -fPIC -cpp -ffpe-trap=invalid -fno-range-check -frecursive -fimplicit-none -ffree-line-length-none -DTROPNLL2DP -Wuninitialized -Wtabs\n",
      "    build_date: 2018-11-15T14:05:00Z\n",
      "    revision_control_identifier: 780c4fda8438\n",
      "    geolocation_grid_from_band: 7\n",
      "    identifier_product_doi: 10.5270/S5P-1hkp7rp\n",
      "    identifier_product_doi_authority: http://dx.doi.org/\n",
      "    algorithm_version: 1.0.0\n",
      "    title: TROPOMI/S5P CO Column 1-Orbit L2 Swath 7x7km\n",
      "    product_version: 1.0.0\n",
      "    processing_status: Nominal\n",
      "    Status_MET_2D: Nominal\n",
      "    Status_CTM_CO: Nominal\n",
      "    Status_CTMCH4: Nominal\n",
      "    dimensions(sizes): \n",
      "    variables(dimensions): \n",
      "    groups: PRODUCT, METADATA\n"
     ]
    },
    {
     "name": "stderr",
     "output_type": "stream",
     "text": [
      "<ipython-input-4-c54e6c4b0fbc>:1: DeprecationWarning: tostring() is deprecated. Use tobytes() instead.\n",
      "  print (fh)\n"
     ]
    }
   ],
   "source": [
    "print (fh)"
   ]
  },
  {
   "cell_type": "code",
   "execution_count": 5,
   "metadata": {},
   "outputs": [
    {
     "name": "stdout",
     "output_type": "stream",
     "text": [
      "NETCDF4\n"
     ]
    }
   ],
   "source": [
    "print (fh.file_format)"
   ]
  },
  {
   "cell_type": "code",
   "execution_count": 6,
   "metadata": {},
   "outputs": [
    {
     "name": "stdout",
     "output_type": "stream",
     "text": [
      "{'PRODUCT': <class 'netCDF4._netCDF4.Group'>\n",
      "group /PRODUCT:\n",
      "    dimensions(sizes): scanline(3245), ground_pixel(215), corner(4), time(1), layer(50)\n",
      "    variables(dimensions): int32 scanline(scanline), int32 ground_pixel(ground_pixel), int32 time(time), int32 corner(corner), float32 layer(layer), int32 delta_time(time,scanline), <class 'str'> time_utc(time,scanline), uint8 qa_value(time,scanline,ground_pixel), float32 latitude(time,scanline,ground_pixel), float32 longitude(time,scanline,ground_pixel), float32 carbonmonoxide_total_column(time,scanline,ground_pixel), float32 carbonmonoxide_total_column_precision(time,scanline,ground_pixel)\n",
      "    groups: SUPPORT_DATA, 'METADATA': <class 'netCDF4._netCDF4.Group'>\n",
      "group /METADATA:\n",
      "    dimensions(sizes): \n",
      "    variables(dimensions): \n",
      "    groups: QA_STATISTICS, ALGORITHM_SETTINGS, GRANULE_DESCRIPTION, ISO_METADATA, EOP_METADATA, ESA_METADATA}\n"
     ]
    }
   ],
   "source": [
    "print (fh.groups)"
   ]
  },
  {
   "cell_type": "code",
   "execution_count": 7,
   "metadata": {},
   "outputs": [
    {
     "name": "stdout",
     "output_type": "stream",
     "text": [
      "<class 'netCDF4._netCDF4.Group'>\n",
      "group /PRODUCT:\n",
      "    dimensions(sizes): scanline(3245), ground_pixel(215), corner(4), time(1), layer(50)\n",
      "    variables(dimensions): int32 scanline(scanline), int32 ground_pixel(ground_pixel), int32 time(time), int32 corner(corner), float32 layer(layer), int32 delta_time(time,scanline), <class 'str'> time_utc(time,scanline), uint8 qa_value(time,scanline,ground_pixel), float32 latitude(time,scanline,ground_pixel), float32 longitude(time,scanline,ground_pixel), float32 carbonmonoxide_total_column(time,scanline,ground_pixel), float32 carbonmonoxide_total_column_precision(time,scanline,ground_pixel)\n",
      "    groups: SUPPORT_DATA\n"
     ]
    }
   ],
   "source": [
    "print (fh.groups['PRODUCT'])"
   ]
  },
  {
   "cell_type": "code",
   "execution_count": 8,
   "metadata": {},
   "outputs": [
    {
     "name": "stdout",
     "output_type": "stream",
     "text": [
      "{'scanline': <class 'netCDF4._netCDF4.Dimension'>: name = 'scanline', size = 3245, 'ground_pixel': <class 'netCDF4._netCDF4.Dimension'>: name = 'ground_pixel', size = 215, 'corner': <class 'netCDF4._netCDF4.Dimension'>: name = 'corner', size = 4, 'time': <class 'netCDF4._netCDF4.Dimension'>: name = 'time', size = 1, 'layer': <class 'netCDF4._netCDF4.Dimension'>: name = 'layer', size = 50}\n"
     ]
    }
   ],
   "source": [
    "print (fh.groups['PRODUCT'].dimensions)"
   ]
  },
  {
   "cell_type": "code",
   "execution_count": 9,
   "metadata": {},
   "outputs": [
    {
     "name": "stdout",
     "output_type": "stream",
     "text": [
      "dict_keys(['scanline', 'ground_pixel', 'corner', 'time', 'layer'])\n"
     ]
    }
   ],
   "source": [
    "print (fh.groups['PRODUCT'].dimensions.keys())"
   ]
  },
  {
   "cell_type": "code",
   "execution_count": 10,
   "metadata": {},
   "outputs": [
    {
     "name": "stdout",
     "output_type": "stream",
     "text": [
      "<class 'netCDF4._netCDF4.Dimension'>: name = 'time', size = 1\n"
     ]
    }
   ],
   "source": [
    "print (fh.groups['PRODUCT'].dimensions['time']) "
   ]
  },
  {
   "cell_type": "code",
   "execution_count": 11,
   "metadata": {},
   "outputs": [
    {
     "name": "stdout",
     "output_type": "stream",
     "text": [
      "<class 'netCDF4._netCDF4.Group'>\n",
      "group /METADATA:\n",
      "    dimensions(sizes): \n",
      "    variables(dimensions): \n",
      "    groups: QA_STATISTICS, ALGORITHM_SETTINGS, GRANULE_DESCRIPTION, ISO_METADATA, EOP_METADATA, ESA_METADATA\n"
     ]
    }
   ],
   "source": [
    "print (fh.groups['METADATA'])"
   ]
  },
  {
   "cell_type": "code",
   "execution_count": 12,
   "metadata": {},
   "outputs": [
    {
     "name": "stdout",
     "output_type": "stream",
     "text": [
      "{'scanline': <class 'netCDF4._netCDF4.Variable'>\n",
      "int32 scanline(scanline)\n",
      "    units: 1\n",
      "    axis: Y\n",
      "    long_name: along-track dimension index\n",
      "    comment: This coordinate variable defines the indices along track; index starts at 0\n",
      "    _FillValue: -2147483647\n",
      "path = /PRODUCT\n",
      "unlimited dimensions: \n",
      "current shape = (3245,)\n",
      "filling on, 'ground_pixel': <class 'netCDF4._netCDF4.Variable'>\n",
      "int32 ground_pixel(ground_pixel)\n",
      "    units: 1\n",
      "    axis: X\n",
      "    long_name: across-track dimension index\n",
      "    comment: This coordinate variable defines the indices across track, from west to east; index starts at 0\n",
      "    _FillValue: -2147483647\n",
      "path = /PRODUCT\n",
      "unlimited dimensions: \n",
      "current shape = (215,)\n",
      "filling on, 'time': <class 'netCDF4._netCDF4.Variable'>\n",
      "int32 time(time)\n",
      "    units: seconds since 2010-01-01 00:00:00\n",
      "    standard_name: time\n",
      "    axis: T\n",
      "    long_name: reference time for the measurements\n",
      "    comment: The time in this variable corresponds to the time in the time_reference global attribute\n",
      "    _FillValue: -2147483647\n",
      "path = /PRODUCT\n",
      "unlimited dimensions: \n",
      "current shape = (1,)\n",
      "filling on, 'corner': <class 'netCDF4._netCDF4.Variable'>\n",
      "int32 corner(corner)\n",
      "    units: 1\n",
      "    long_name: pixel corner index\n",
      "    comment: This coordinate variable defines the indices for the pixel corners; index starts at 0 (counter-clockwise, starting from south-western corner of the pixel in ascending part of the orbit)\n",
      "    _FillValue: -2147483647\n",
      "path = /PRODUCT\n",
      "unlimited dimensions: \n",
      "current shape = (4,)\n",
      "filling on, 'layer': <class 'netCDF4._netCDF4.Variable'>\n",
      "float32 layer(layer)\n",
      "    units: m\n",
      "    standard_name: height\n",
      "    long_name: Height above topographic surface\n",
      "    axis: Z\n",
      "    _FillValue: 9.96921e+36\n",
      "path = /PRODUCT\n",
      "unlimited dimensions: \n",
      "current shape = (50,)\n",
      "filling on, 'delta_time': <class 'netCDF4._netCDF4.Variable'>\n",
      "int32 delta_time(time, scanline)\n",
      "    long_name: offset from reference start time of measurement\n",
      "    units: milliseconds\n",
      "    _FillValue: -2147483647\n",
      "path = /PRODUCT\n",
      "unlimited dimensions: \n",
      "current shape = (1, 3245)\n",
      "filling on, 'time_utc': <class 'netCDF4._netCDF4.Variable'>\n",
      "vlen time_utc(time, scanline)\n",
      "    long_name: Time of observation as ISO 8601 date-time string\n",
      "    _FillValue: \n",
      "vlen data type: <class 'str'>\n",
      "path = /PRODUCT\n",
      "unlimited dimensions: \n",
      "current shape = (1, 3245), 'qa_value': <class 'netCDF4._netCDF4.Variable'>\n",
      "uint8 qa_value(time, scanline, ground_pixel)\n",
      "    units: 1\n",
      "    scale_factor: 0.01\n",
      "    add_offset: 0.0\n",
      "    valid_min: 0\n",
      "    valid_max: 100\n",
      "    long_name: data quality value\n",
      "    comment: A continuous quality descriptor, varying between 0 (no data) and 1 (full quality data). Recommend to ignore data with qa_value < 0.5\n",
      "    coordinates: longitude latitude\n",
      "    _FillValue: 255\n",
      "path = /PRODUCT\n",
      "unlimited dimensions: \n",
      "current shape = (1, 3245, 215)\n",
      "filling on, 'latitude': <class 'netCDF4._netCDF4.Variable'>\n",
      "float32 latitude(time, scanline, ground_pixel)\n",
      "    long_name: pixel center latitude\n",
      "    units: degrees_north\n",
      "    standard_name: latitude\n",
      "    valid_min: -90.0\n",
      "    valid_max: 90.0\n",
      "    bounds: /PRODUCT/SUPPORT_DATA/GEOLOCATIONS/latitude_bounds\n",
      "    _FillValue: 9.96921e+36\n",
      "path = /PRODUCT\n",
      "unlimited dimensions: \n",
      "current shape = (1, 3245, 215)\n",
      "filling on, 'longitude': <class 'netCDF4._netCDF4.Variable'>\n",
      "float32 longitude(time, scanline, ground_pixel)\n",
      "    long_name: pixel center longitude\n",
      "    units: degrees_east\n",
      "    standard_name: longitude\n",
      "    valid_min: -180.0\n",
      "    valid_max: 180.0\n",
      "    bounds: /PRODUCT/SUPPORT_DATA/GEOLOCATIONS/longitude_bounds\n",
      "    _FillValue: 9.96921e+36\n",
      "path = /PRODUCT\n",
      "unlimited dimensions: \n",
      "current shape = (1, 3245, 215)\n",
      "filling on, 'carbonmonoxide_total_column': <class 'netCDF4._netCDF4.Variable'>\n",
      "float32 carbonmonoxide_total_column(time, scanline, ground_pixel)\n",
      "    units: mol m-2\n",
      "    standard_name: atmosphere_mole_content_of_carbon_monoxide\n",
      "    long_name: Vertically integrated CO column\n",
      "    coordinates: longitude latitude\n",
      "    ancillary_variables: carbonmonoxide_total_column_precision\n",
      "    multiplication_factor_to_convert_to_molecules_percm2: 6.022141e+19\n",
      "    _FillValue: 9.96921e+36\n",
      "path = /PRODUCT\n",
      "unlimited dimensions: \n",
      "current shape = (1, 3245, 215)\n",
      "filling on, 'carbonmonoxide_total_column_precision': <class 'netCDF4._netCDF4.Variable'>\n",
      "float32 carbonmonoxide_total_column_precision(time, scanline, ground_pixel)\n",
      "    units: mol m-2\n",
      "    standard_name: atmosphere_mole_content_of_carbon_monoxide standard_error\n",
      "    long_name: Standard error of the vertically integrated CO column\n",
      "    coordinates: longitude latitude\n",
      "    multiplication_factor_to_convert_to_molecules_percm2: 6.022141e+19\n",
      "    _FillValue: 9.96921e+36\n",
      "path = /PRODUCT\n",
      "unlimited dimensions: \n",
      "current shape = (1, 3245, 215)\n",
      "filling on}\n"
     ]
    },
    {
     "name": "stderr",
     "output_type": "stream",
     "text": [
      "<ipython-input-12-3a0a539b6317>:1: DeprecationWarning: tostring() is deprecated. Use tobytes() instead.\n",
      "  print (fh.groups['PRODUCT'].variables)\n"
     ]
    }
   ],
   "source": [
    "print (fh.groups['PRODUCT'].variables)"
   ]
  },
  {
   "cell_type": "code",
   "execution_count": 13,
   "metadata": {},
   "outputs": [
    {
     "name": "stdout",
     "output_type": "stream",
     "text": [
      "dict_keys(['scanline', 'ground_pixel', 'time', 'corner', 'layer', 'delta_time', 'time_utc', 'qa_value', 'latitude', 'longitude', 'carbonmonoxide_total_column', 'carbonmonoxide_total_column_precision'])\n"
     ]
    }
   ],
   "source": [
    "print (fh.groups['PRODUCT'].variables.keys())"
   ]
  },
  {
   "cell_type": "code",
   "execution_count": 14,
   "metadata": {},
   "outputs": [
    {
     "name": "stdout",
     "output_type": "stream",
     "text": [
      "<class 'netCDF4._netCDF4.Variable'>\n",
      "float32 carbonmonoxide_total_column_precision(time, scanline, ground_pixel)\n",
      "    units: mol m-2\n",
      "    standard_name: atmosphere_mole_content_of_carbon_monoxide standard_error\n",
      "    long_name: Standard error of the vertically integrated CO column\n",
      "    coordinates: longitude latitude\n",
      "    multiplication_factor_to_convert_to_molecules_percm2: 6.022141e+19\n",
      "    _FillValue: 9.96921e+36\n",
      "path = /PRODUCT\n",
      "unlimited dimensions: \n",
      "current shape = (1, 3245, 215)\n",
      "filling on\n"
     ]
    },
    {
     "name": "stderr",
     "output_type": "stream",
     "text": [
      "<ipython-input-14-da83add2a542>:1: DeprecationWarning: tostring() is deprecated. Use tobytes() instead.\n",
      "  print (fh.groups['PRODUCT'].variables['carbonmonoxide_total_column_precision'])\n"
     ]
    }
   ],
   "source": [
    "print (fh.groups['PRODUCT'].variables['carbonmonoxide_total_column_precision'])"
   ]
  },
  {
   "cell_type": "code",
   "execution_count": 15,
   "metadata": {},
   "outputs": [
    {
     "name": "stderr",
     "output_type": "stream",
     "text": [
      "<ipython-input-15-be6497656f7e>:1: DeprecationWarning: `np.bool` is a deprecated alias for the builtin `bool`. To silence this warning, use `bool` by itself. Doing this will not modify any behavior and is safe. If you specifically wanted the numpy scalar type, use `np.bool_` here.\n",
      "Deprecated in NumPy 1.20; for more details and guidance: https://numpy.org/devdocs/release/1.20.0-notes.html#deprecations\n",
      "  lons = fh.groups['PRODUCT'].variables['longitude'][:][0,:,:]\n",
      "<ipython-input-15-be6497656f7e>:2: DeprecationWarning: `np.bool` is a deprecated alias for the builtin `bool`. To silence this warning, use `bool` by itself. Doing this will not modify any behavior and is safe. If you specifically wanted the numpy scalar type, use `np.bool_` here.\n",
      "Deprecated in NumPy 1.20; for more details and guidance: https://numpy.org/devdocs/release/1.20.0-notes.html#deprecations\n",
      "  lats = fh.groups['PRODUCT'].variables['latitude'][:][0,:,:]\n"
     ]
    },
    {
     "name": "stdout",
     "output_type": "stream",
     "text": [
      "(3245, 215)\n",
      "(3245, 215)\n",
      "(3245, 215)\n"
     ]
    },
    {
     "name": "stderr",
     "output_type": "stream",
     "text": [
      "<ipython-input-15-be6497656f7e>:3: DeprecationWarning: `np.bool` is a deprecated alias for the builtin `bool`. To silence this warning, use `bool` by itself. Doing this will not modify any behavior and is safe. If you specifically wanted the numpy scalar type, use `np.bool_` here.\n",
      "Deprecated in NumPy 1.20; for more details and guidance: https://numpy.org/devdocs/release/1.20.0-notes.html#deprecations\n",
      "  no2 = fh.groups['PRODUCT'].variables['carbonmonoxide_total_column_precision'][0,:,:]\n",
      "<ipython-input-15-be6497656f7e>:8: DeprecationWarning: tostring() is deprecated. Use tobytes() instead.\n",
      "  no2_units = fh.groups['PRODUCT'].variables['carbonmonoxide_total_column_precision'].units\n"
     ]
    }
   ],
   "source": [
    "lons = fh.groups['PRODUCT'].variables['longitude'][:][0,:,:]\n",
    "lats = fh.groups['PRODUCT'].variables['latitude'][:][0,:,:]\n",
    "no2 = fh.groups['PRODUCT'].variables['carbonmonoxide_total_column_precision'][0,:,:]\n",
    "print (lons.shape)\n",
    "print (lats.shape)\n",
    "print (no2.shape)\n",
    "\n",
    "no2_units = fh.groups['PRODUCT'].variables['carbonmonoxide_total_column_precision'].units"
   ]
  },
  {
   "cell_type": "code",
   "execution_count": 16,
   "metadata": {},
   "outputs": [
    {
     "data": {
      "image/png": "[encoded data removed]",
      "text/plain": [
       "<Figure size 432x288 with 1 Axes>"
      ]
     },
     "metadata": {
      "needs_background": "light"
     },
     "output_type": "display_data"
    }
   ],
   "source": [
    "%matplotlib inline\n",
    "import matplotlib.pyplot as plt\n",
    "#plt.scatter(lons, lats, tmax, c= 'red')\n",
    "#plt.show()\n",
    "\n",
    "plt.figure()\n",
    "plt.pcolor(lons, lats, no2, cmap='hot')\n",
    "plt.show()"
   ]
  },
  {
   "cell_type": "code",
   "execution_count": 17,
   "metadata": {},
   "outputs": [
    {
     "name": "stderr",
     "output_type": "stream",
     "text": [
      "C:\\Users\\hp\\anaconda3\\lib\\site-packages\\matplotlib\\image.py:475: RuntimeWarning: overflow encountered in true_divide\n",
      "  A_scaled /= ((a_max - a_min) / 0.8)\n"
     ]
    },
    {
     "data": {
      "image/png": "[encoded data removed]",
      "text/plain": [
       "<Figure size 432x288 with 2 Axes>"
      ]
     },
     "metadata": {
      "needs_background": "light"
     },
     "output_type": "display_data"
    }
   ],
   "source": [
    "import matplotlib.cm as cm\n",
    "from matplotlib.colors import LogNorm\n",
    "\n",
    "plt.imshow(no2+10, extent=(np.amin(lons), np.amax(lons), np.amin(lats), np.amax(lats)),\n",
    "        cmap=cm.hot, norm=LogNorm())\n",
    "plt.colorbar()\n",
    "plt.show()"
   ]
  },
  {
   "cell_type": "code",
   "execution_count": 22,
   "metadata": {},
   "outputs": [
    {
     "name": "stdout",
     "output_type": "stream",
     "text": [
      "Collecting geos\n",
      "  Downloading geos-0.2.3-py3-none-any.whl (400 kB)\n",
      "Requirement already satisfied: flask in c:\\users\\hp\\anaconda3\\lib\\site-packages (from geos) (1.1.2)\n",
      "Requirement already satisfied: pillow in c:\\users\\hp\\anaconda3\\lib\\site-packages (from geos) (7.2.0)\n",
      "Requirement already satisfied: lxml in c:\\users\\hp\\anaconda3\\lib\\site-packages (from geos) (4.5.2)\n",
      "Requirement already satisfied: Jinja2>=2.10.1 in c:\\users\\hp\\anaconda3\\lib\\site-packages (from flask->geos) (2.11.2)\n",
      "Requirement already satisfied: Werkzeug>=0.15 in c:\\users\\hp\\anaconda3\\lib\\site-packages (from flask->geos) (1.0.1)\n",
      "Requirement already satisfied: click>=5.1 in c:\\users\\hp\\anaconda3\\lib\\site-packages (from flask->geos) (7.1.2)\n",
      "Requirement already satisfied: itsdangerous>=0.24 in c:\\users\\hp\\anaconda3\\lib\\site-packages (from flask->geos) (1.1.0)\n",
      "Requirement already satisfied: MarkupSafe>=0.23 in c:\\users\\hp\\anaconda3\\lib\\site-packages (from Jinja2>=2.10.1->flask->geos) (1.1.1)\n",
      "Installing collected packages: geosNote: you may need to restart the kernel to use updated packages.\n",
      "\n",
      "Successfully installed geos-0.2.3\n"
     ]
    }
   ],
   "source": [
    "pip install geos"
   ]
  },
  {
   "cell_type": "code",
   "execution_count": 23,
   "metadata": {},
   "outputs": [
    {
     "name": "stdout",
     "output_type": "stream",
     "text": [
      "Collecting https://github.com/matplotlib/basemap/archive/v1.0.7rel.tar.gz\n",
      "  Using cached https://github.com/matplotlib/basemap/archive/v1.0.7rel.tar.gz (131.5 MB)\n",
      "Note: you may need to restart the kernel to use updated packages.\n"
     ]
    },
    {
     "name": "stderr",
     "output_type": "stream",
     "text": [
      "    ERROR: Command errored out with exit status 1:\n",
      "     command: 'C:\\Users\\hp\\anaconda3\\python.exe' -c 'import sys, setuptools, tokenize; sys.argv[0] = '\"'\"'C:\\\\Users\\\\hp\\\\AppData\\\\Local\\\\Temp\\\\pip-req-build-bp8z8bx0\\\\setup.py'\"'\"'; __file__='\"'\"'C:\\\\Users\\\\hp\\\\AppData\\\\Local\\\\Temp\\\\pip-req-build-bp8z8bx0\\\\setup.py'\"'\"';f=getattr(tokenize, '\"'\"'open'\"'\"', open)(__file__);code=f.read().replace('\"'\"'\\r\\n'\"'\"', '\"'\"'\\n'\"'\"');f.close();exec(compile(code, __file__, '\"'\"'exec'\"'\"'))' egg_info --egg-base 'C:\\Users\\hp\\AppData\\Local\\Temp\\pip-pip-egg-info-aus0y2r_'\n",
      "         cwd: C:\\Users\\hp\\AppData\\Local\\Temp\\pip-req-build-bp8z8bx0\\\n",
      "    Complete output (14 lines):\n",
      "    checking for GEOS lib in C:\\Users\\hp ....\n",
      "    checking for GEOS lib in /usr ....\n",
      "    checking for GEOS lib in /usr/local ....\n",
      "    checking for GEOS lib in /sw ....\n",
      "    checking for GEOS lib in /opt ....\n",
      "    checking for GEOS lib in /opt/local ....\n",
      "    \n",
      "    Can't find geos library . Please set the\n",
      "    environment variable GEOS_DIR to point to the location\n",
      "    where geos is installed (for example, if geos_c.h\n",
      "    is in /usr/local/include, and libgeos_c is in /usr/local/lib,\n",
      "    set GEOS_DIR to /usr/local), or edit the setup.py script\n",
      "    manually and set the variable GEOS_dir (right after the line\n",
      "    that says \"set GEOS_dir manually here\".\n",
      "    ----------------------------------------\n",
      "ERROR: Command errored out with exit status 1: python setup.py egg_info Check the logs for full command output.\n"
     ]
    }
   ],
   "source": [
    "pip install https://github.com/matplotlib/basemap/archive/v1.0.7rel.tar.gz"
   ]
  },
  {
   "cell_type": "code",
   "execution_count": 21,
   "metadata": {},
   "outputs": [
    {
     "ename": "ModuleNotFoundError",
     "evalue": "No module named 'mpl_toolkits.basemap'",
     "output_type": "error",
     "traceback": [
      "\u001b[1;31m---------------------------------------------------------------------------\u001b[0m",
      "\u001b[1;31mModuleNotFoundError\u001b[0m                       Traceback (most recent call last)",
      "\u001b[1;32m<ipython-input-21-919ec6e048a0>\u001b[0m in \u001b[0;36m<module>\u001b[1;34m\u001b[0m\n\u001b[0;32m      1\u001b[0m \u001b[1;32mimport\u001b[0m \u001b[0mmatplotlib\u001b[0m\u001b[1;33m.\u001b[0m\u001b[0mpyplot\u001b[0m \u001b[1;32mas\u001b[0m \u001b[0mplt\u001b[0m\u001b[1;33m\u001b[0m\u001b[1;33m\u001b[0m\u001b[0m\n\u001b[1;32m----> 2\u001b[1;33m \u001b[1;32mfrom\u001b[0m \u001b[0mmpl_toolkits\u001b[0m\u001b[1;33m.\u001b[0m\u001b[0mbasemap\u001b[0m \u001b[1;32mimport\u001b[0m \u001b[0mBasemap\u001b[0m\u001b[1;33m\u001b[0m\u001b[1;33m\u001b[0m\u001b[0m\n\u001b[0m\u001b[0;32m      3\u001b[0m \u001b[1;33m\u001b[0m\u001b[0m\n\u001b[0;32m      4\u001b[0m \u001b[0mlon_0\u001b[0m \u001b[1;33m=\u001b[0m \u001b[0mlons\u001b[0m\u001b[1;33m.\u001b[0m\u001b[0mmean\u001b[0m\u001b[1;33m(\u001b[0m\u001b[1;33m)\u001b[0m\u001b[1;33m\u001b[0m\u001b[1;33m\u001b[0m\u001b[0m\n\u001b[0;32m      5\u001b[0m \u001b[0mlat_0\u001b[0m \u001b[1;33m=\u001b[0m \u001b[0mlats\u001b[0m\u001b[1;33m.\u001b[0m\u001b[0mmean\u001b[0m\u001b[1;33m(\u001b[0m\u001b[1;33m)\u001b[0m\u001b[1;33m\u001b[0m\u001b[1;33m\u001b[0m\u001b[0m\n",
      "\u001b[1;31mModuleNotFoundError\u001b[0m: No module named 'mpl_toolkits.basemap'"
     ]
    }
   ],
   "source": [
    "import matplotlib.pyplot as plt\n",
    "from mpl_toolkits.basemap import Basemap\n",
    "\n",
    "lon_0 = lons.mean()\n",
    "lat_0 = lats.mean()\n",
    "\n",
    "m = Basemap(width=5000000,height=3500000,\n",
    "            resolution='l',projection='stere',\\\n",
    "            lat_ts=40,lat_0=lat_0,lon_0=lon_0)\n",
    "\n",
    "xi, yi = m(lons, lats)\n",
    "\n",
    "# Plot Data\n",
    "cs = m.pcolor(xi,yi,np.squeeze(co),norm=LogNorm(), cmap='jet')\n",
    "\n",
    "# Add Grid Lines\n",
    "m.drawparallels(np.arange(-80., 81., 10.), labels=[1,0,0,0], fontsize=10)\n",
    "m.drawmeridians(np.arange(-180., 181., 10.), labels=[0,0,0,1], fontsize=10)\n",
    "\n",
    "# Add Coastlines, States, and Country Boundaries\n",
    "m.drawcoastlines()\n",
    "m.drawstates()\n",
    "m.drawcountries()\n",
    "\n",
    "# Add Colorbar\n",
    "cbar = m.colorbar(cs, location='bottom', pad=\"10%\")\n",
    "cbar.set_label(no2_units)\n",
    "\n",
    "# Add Title\n",
    "plt.title('NO2 in atmosphere')\n",
    "\n",
    "plt.show()"
   ]
  },
  {
   "cell_type": "code",
   "execution_count": null,
   "metadata": {},
   "outputs": [],
   "source": []
  },
  {
   "cell_type": "code",
   "execution_count": null,
   "metadata": {},
   "outputs": [],
   "source": []
  },
  {
   "cell_type": "code",
   "execution_count": null,
   "metadata": {},
   "outputs": [],
   "source": []
  }
 ],
 "metadata": {
  "kernelspec": {
   "display_name": "Python 3",
   "language": "python",
   "name": "python3"
  },
  "language_info": {
   "codemirror_mode": {
    "name": "ipython",
    "version": 3
   },
   "file_extension": ".py",
   "mimetype": "text/x-python",
   "name": "python",
   "nbconvert_exporter": "python",
   "pygments_lexer": "ipython3",
   "version": "3.8.3"
  }
 },
 "nbformat": 4,
 "nbformat_minor": 4
}
